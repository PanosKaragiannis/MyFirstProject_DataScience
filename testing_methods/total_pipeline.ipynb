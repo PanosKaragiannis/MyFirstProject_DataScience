{
 "cells": [
  {
   "cell_type": "code",
   "execution_count": 68,
   "metadata": {
    "colab": {},
    "colab_type": "code",
    "id": "bJDNQ2hhgwKk"
   },
   "outputs": [],
   "source": [
    "import pandas as pd\n",
    "import matplotlib.pyplot as plt\n",
    "import numpy as np\n",
    "from imblearn.over_sampling import SMOTE\n",
    "from sklearn.preprocessing import StandardScaler\n",
    "from sklearn.neural_network import MLPClassifier\n",
    "from sklearn.model_selection import GridSearchCV\n",
    "from sklearn.metrics import accuracy_score \n",
    "from sklearn.metrics import classification_report\n",
    "from sklearn.feature_selection import VarianceThreshold\n",
    "from sklearn.ensemble import RandomForestClassifier\n",
    "from imblearn.pipeline import Pipeline\n",
    "from sklearn.model_selection import train_test_split\n",
    "from sklearn.linear_model import LogisticRegression\n",
    "from sklearn import svm\n",
    "from sklearn.svm import SVC"
   ]
  },
  {
   "cell_type": "code",
   "execution_count": 69,
   "metadata": {
    "colab": {
     "base_uri": "https://localhost:8080/",
     "height": 177
    },
    "colab_type": "code",
    "id": "VazvCs5sg4gu",
    "outputId": "2f2760f3-7e0d-4943-d270-7e3f6fbc1e5a"
   },
   "outputs": [
    {
     "data": {
      "text/html": [
       "<div>\n",
       "<style scoped>\n",
       "    .dataframe tbody tr th:only-of-type {\n",
       "        vertical-align: middle;\n",
       "    }\n",
       "\n",
       "    .dataframe tbody tr th {\n",
       "        vertical-align: top;\n",
       "    }\n",
       "\n",
       "    .dataframe thead th {\n",
       "        text-align: right;\n",
       "    }\n",
       "</style>\n",
       "<table border=\"1\" class=\"dataframe\">\n",
       "  <thead>\n",
       "    <tr style=\"text-align: right;\">\n",
       "      <th></th>\n",
       "      <th>Unnamed: 0</th>\n",
       "      <th>Australia</th>\n",
       "      <th>Central_Rich_Europe</th>\n",
       "      <th>East_Europe_Balkans</th>\n",
       "      <th>Mediteranian_Europe</th>\n",
       "      <th>North_Europe_Scand</th>\n",
       "      <th>user_id</th>\n",
       "      <th>birth_year</th>\n",
       "      <th>country</th>\n",
       "      <th>city</th>\n",
       "      <th>...</th>\n",
       "      <th>LOST_CARD_ORDER</th>\n",
       "      <th>MADE_MONEY_REQUEST_NOT_SPLIT_BILL</th>\n",
       "      <th>METAL_RESERVE_PLAN</th>\n",
       "      <th>NO_INITIAL_CARD_ORDER</th>\n",
       "      <th>NO_INITIAL_CARD_USE</th>\n",
       "      <th>ONBOARDING_TIPS_ACTIVATED_USERS</th>\n",
       "      <th>PROMO</th>\n",
       "      <th>PROMO_CARD_ORDER</th>\n",
       "      <th>REENGAGEMENT_ACTIVE_FUNDS</th>\n",
       "      <th>WELCOME_BACK</th>\n",
       "    </tr>\n",
       "  </thead>\n",
       "  <tbody>\n",
       "    <tr>\n",
       "      <th>0</th>\n",
       "      <td>0</td>\n",
       "      <td>0</td>\n",
       "      <td>0</td>\n",
       "      <td>0</td>\n",
       "      <td>1</td>\n",
       "      <td>0</td>\n",
       "      <td>user_0</td>\n",
       "      <td>1992</td>\n",
       "      <td>Mediteranian_Europe</td>\n",
       "      <td>Madrid</td>\n",
       "      <td>...</td>\n",
       "      <td>0.0</td>\n",
       "      <td>0.0</td>\n",
       "      <td>0.0</td>\n",
       "      <td>0.0</td>\n",
       "      <td>1.0</td>\n",
       "      <td>4.0</td>\n",
       "      <td>0.0</td>\n",
       "      <td>0.0</td>\n",
       "      <td>1.0</td>\n",
       "      <td>0.0</td>\n",
       "    </tr>\n",
       "    <tr>\n",
       "      <th>1</th>\n",
       "      <td>1</td>\n",
       "      <td>0</td>\n",
       "      <td>0</td>\n",
       "      <td>1</td>\n",
       "      <td>0</td>\n",
       "      <td>0</td>\n",
       "      <td>user_1</td>\n",
       "      <td>1985</td>\n",
       "      <td>East_Europe_Balkans</td>\n",
       "      <td>Klaipeda</td>\n",
       "      <td>...</td>\n",
       "      <td>0.0</td>\n",
       "      <td>0.0</td>\n",
       "      <td>0.0</td>\n",
       "      <td>1.0</td>\n",
       "      <td>3.0</td>\n",
       "      <td>0.0</td>\n",
       "      <td>1.0</td>\n",
       "      <td>0.0</td>\n",
       "      <td>3.0</td>\n",
       "      <td>0.0</td>\n",
       "    </tr>\n",
       "  </tbody>\n",
       "</table>\n",
       "<p>2 rows × 56 columns</p>\n",
       "</div>"
      ],
      "text/plain": [
       "   Unnamed: 0  Australia  Central_Rich_Europe  East_Europe_Balkans  \\\n",
       "0           0          0                    0                    0   \n",
       "1           1          0                    0                    1   \n",
       "\n",
       "   Mediteranian_Europe  North_Europe_Scand user_id  birth_year  \\\n",
       "0                    1                   0  user_0        1992   \n",
       "1                    0                   0  user_1        1985   \n",
       "\n",
       "               country      city  ... LOST_CARD_ORDER  \\\n",
       "0  Mediteranian_Europe    Madrid  ...             0.0   \n",
       "1  East_Europe_Balkans  Klaipeda  ...             0.0   \n",
       "\n",
       "   MADE_MONEY_REQUEST_NOT_SPLIT_BILL  METAL_RESERVE_PLAN  \\\n",
       "0                                0.0                 0.0   \n",
       "1                                0.0                 0.0   \n",
       "\n",
       "   NO_INITIAL_CARD_ORDER  NO_INITIAL_CARD_USE  \\\n",
       "0                    0.0                  1.0   \n",
       "1                    1.0                  3.0   \n",
       "\n",
       "   ONBOARDING_TIPS_ACTIVATED_USERS  PROMO  PROMO_CARD_ORDER  \\\n",
       "0                              4.0    0.0               0.0   \n",
       "1                              0.0    1.0               0.0   \n",
       "\n",
       "   REENGAGEMENT_ACTIVE_FUNDS  WELCOME_BACK  \n",
       "0                        1.0           0.0  \n",
       "1                        3.0           0.0  \n",
       "\n",
       "[2 rows x 56 columns]"
      ]
     },
     "execution_count": 69,
     "metadata": {},
     "output_type": "execute_result"
    }
   ],
   "source": [
    "df=pd.read_csv('../processed_data/training_data.csv')\n",
    "df.head(2)"
   ]
  },
  {
   "cell_type": "code",
   "execution_count": 70,
   "metadata": {
    "colab": {},
    "colab_type": "code",
    "id": "H0r-k_bfR61R"
   },
   "outputs": [],
   "source": [
    "features = ['total_amount', 'number_transactions' ,'transaction_period', 'age', 'user_settings_crypto_unlocked', \n",
    "            'brand', 'num_contacts', 'user_active_time' ,'user_trans_time', 'user_trans_periodicity','BLACK_FRIDAY',\t\n",
    "            'BLUE_TUESDAY',\t'ENGAGEMENT_SPLIT_BILL_RESTAURANT',\t'INVEST_IN_GOLD',\t'JOINING_ANNIVERSARY',\n",
    "            'LOST_CARD_ORDER',\t'MADE_MONEY_REQUEST_NOT_SPLIT_BILL',\t'METAL_RESERVE_PLAN',\t'NO_INITIAL_CARD_ORDER',\n",
    "            'NO_INITIAL_CARD_USE',\t'ONBOARDING_TIPS_ACTIVATED_USERS',\t'PROMO',\t'PROMO_CARD_ORDER',\t'REENGAGEMENT_ACTIVE_FUNDS',\n",
    "            'WELCOME_BACK','ATM',\t'CARD_PAYMENT',\t'CARD_REFUND',\t'EXCHANGE',\t'REFUND',\t'TAX',\t'TOPUP',\t'TRANSFER',\n",
    "            'CHF',\t'EUR',\t'GBP',\t'OTHER',\t'Central_Rich_Europe',  'Australia',\t'East_Europe_Balkans',\n",
    "            'Mediteranian_Europe',\t'North_Europe_Scand']\n",
    "\n",
    "countries = ['Australia',\t'Central_Rich_Europe',\t'East_Europe_Balkans',\t'Mediteranian_Europe',\t'North_Europe_Scand']\n",
    "\n",
    "\n",
    "currency = [\t'CHF',\t'EUR',\t'GBP',\t'OTHER']\n",
    "\n",
    "\n",
    "transactions = ['BLACK_FRIDAY',\t'BLUE_TUESDAY',\t'ENGAGEMENT_SPLIT_BILL_RESTAURANT',\t'INVEST_IN_GOLD',\t'JOINING_ANNIVERSARY',\n",
    "                'LOST_CARD_ORDER',\t'MADE_MONEY_REQUEST_NOT_SPLIT_BILL',\t'METAL_RESERVE_PLAN',\t'NO_INITIAL_CARD_ORDER',\n",
    "                'NO_INITIAL_CARD_USE',\t'ONBOARDING_TIPS_ACTIVATED_USERS',\t'PROMO',\t'PROMO_CARD_ORDER',\t'REENGAGEMENT_ACTIVE_FUNDS',\n",
    "                'WELCOME_BACK']\n",
    "\n",
    "notifications = ['ATM',\t'CARD_PAYMENT',\t'CARD_REFUND',\t'EXCHANGE',\t'REFUND',\t'TAX',\t'TOPUP',\t'TRANSFER']\n",
    "\n",
    "user_attributes = ['total_amount', 'number_transactions' ,'transaction_period', 'age', 'user_settings_crypto_unlocked', \n",
    "                   'brand', 'num_contacts', 'user_active_time' ,'user_trans_time', 'user_trans_periodicity']\n",
    "\n",
    "x=df[features].copy()\n",
    "y=df['plan']"
   ]
  },
  {
   "cell_type": "markdown",
   "metadata": {
    "colab_type": "text",
    "id": "-MaI2BtNM30b"
   },
   "source": [
    "## Split train test set"
   ]
  },
  {
   "cell_type": "code",
   "execution_count": 71,
   "metadata": {
    "colab": {
     "base_uri": "https://localhost:8080/",
     "height": 34
    },
    "colab_type": "code",
    "id": "G2aJ3F2SgV0u",
    "outputId": "ae2ed58f-1f79-4eda-cbc1-8e87289d0c93"
   },
   "outputs": [
    {
     "name": "stdout",
     "output_type": "stream",
     "text": [
      "(12435, 42) (12435,)\n"
     ]
    }
   ],
   "source": [
    "x_train,x_test,y_train,y_test=train_test_split(x,y,test_size=0.2)\n",
    "print(x_train.shape,y_train.shape)"
   ]
  },
  {
   "cell_type": "markdown",
   "metadata": {
    "colab_type": "text",
    "id": "drrcMPE8M7vI"
   },
   "source": [
    "## Class imbalance"
   ]
  },
  {
   "cell_type": "code",
   "execution_count": 72,
   "metadata": {
    "colab": {
     "base_uri": "https://localhost:8080/",
     "height": 295
    },
    "colab_type": "code",
    "id": "mp74dIk2iGAH",
    "outputId": "c881124a-f5dc-4fca-a188-a257d4b0d5e5"
   },
   "outputs": [
    {
     "data": {
      "image/png": "[encoded data removed]",
      "text/plain": [
       "<Figure size 432x288 with 1 Axes>"
      ]
     },
     "metadata": {
      "needs_background": "light"
     },
     "output_type": "display_data"
    }
   ],
   "source": [
    "labels=['standard','paid']\n",
    "count_classes=pd.value_counts(df['plan'],sort=True)\n",
    "count_classes.plot(kind='bar',rot=0)\n",
    "plt.title('Plan Class Distribution')\n",
    "plt.xticks(range(2),labels)\n",
    "plt.xlabel('Plan')\n",
    "plt.ylabel('Frequency')\n",
    "plt.show()"
   ]
  },
  {
   "cell_type": "code",
   "execution_count": 73,
   "metadata": {
    "colab": {
     "base_uri": "https://localhost:8080/",
     "height": 34
    },
    "colab_type": "code",
    "id": "gLKWklZ0mKKl",
    "outputId": "8ca25b91-0a2a-4170-a565-28da24f6b2c7"
   },
   "outputs": [
    {
     "name": "stdout",
     "output_type": "stream",
     "text": [
      "(14394, 56) (1150, 56)\n"
     ]
    }
   ],
   "source": [
    "Standard=df[df['plan']==0]\n",
    "Paid=df[df['plan']==1]\n",
    "print(Standard.shape,Paid.shape)"
   ]
  },
  {
   "cell_type": "markdown",
   "metadata": {
    "colab_type": "text",
    "id": "tBYXrlCeMqQb"
   },
   "source": [
    "## Upsampling minor class"
   ]
  },
  {
   "cell_type": "code",
   "execution_count": 74,
   "metadata": {
    "colab": {
     "base_uri": "https://localhost:8080/",
     "height": 104
    },
    "colab_type": "code",
    "id": "xHlzmTgYpeRD",
    "outputId": "143d98af-67be-4aed-efdc-6b629f07b7f4"
   },
   "outputs": [
    {
     "name": "stdout",
     "output_type": "stream",
     "text": [
      "Original dataset shape is :  (12435, 42)  and  (12435,)\n",
      "Resampled dataset shape is:  (23002, 42)  and  (23002,)\n"
     ]
    }
   ],
   "source": [
    "os=SMOTE()\n",
    "X_train,Y_train=os.fit_sample(x_train,y_train)\n",
    "print('Original dataset shape is : ',x_train.shape, ' and ',y_train.shape)\n",
    "print('Resampled dataset shape is: ',X_train.shape,' and ',Y_train.shape)"
   ]
  },
  {
   "cell_type": "markdown",
   "metadata": {
    "colab_type": "text",
    "id": "A9IHgJ3XMu1J"
   },
   "source": [
    "## Scaling the data"
   ]
  },
  {
   "cell_type": "code",
   "execution_count": 75,
   "metadata": {
    "colab": {
     "base_uri": "https://localhost:8080/",
     "height": 235
    },
    "colab_type": "code",
    "id": "EMwVrxsSwecA",
    "outputId": "a1c46222-0b04-42ad-b7a8-fe02c7f35535"
   },
   "outputs": [
    {
     "data": {
      "text/plain": [
       "array([[-0.24974303, -0.69060092, -0.90692365, ..., -0.45567998,\n",
       "        -0.46275935,  1.42162369],\n",
       "       [-0.25312822, -0.71591267, -1.87323396, ..., -0.45567998,\n",
       "         2.16095041, -0.70342103],\n",
       "       [-0.25305677, -0.7127487 , -1.87323396, ..., -0.45567998,\n",
       "        -0.46275935,  1.42162369],\n",
       "       ...,\n",
       "       [ 0.13317558, -0.36787618, -0.69755642, ...,  2.19452255,\n",
       "        -0.46275935, -0.70342103],\n",
       "       [-0.21919428, -0.60517379, -0.3110323 , ...,  2.19452255,\n",
       "        -0.46275935, -0.70342103],\n",
       "       [-0.25109503, -0.70958473, -1.01965986, ..., -0.45567998,\n",
       "        -0.46275935,  1.42162369]])"
      ]
     },
     "execution_count": 75,
     "metadata": {},
     "output_type": "execute_result"
    }
   ],
   "source": [
    "ssc=StandardScaler()\n",
    "ssc.fit_transform(X_train)\n",
    "ssc.transform(x_test)"
   ]
  },
  {
   "cell_type": "markdown",
   "metadata": {
    "colab_type": "text",
    "id": "hEYWxr2IiACP"
   },
   "source": [
    "## Neural"
   ]
  },
  {
   "cell_type": "code",
   "execution_count": 76,
   "metadata": {
    "colab": {},
    "colab_type": "code",
    "id": "xOc79mUNxO5a"
   },
   "outputs": [],
   "source": [
    "#  grid={'activation':['logistic'],\n",
    "#        'learning_rate_init':[0.0001],\n",
    "#        'solver':['adam'],\n",
    "#        'batch_size':[88],\n",
    "#        'learning_rate' : ['adaptive'],\n",
    "#        'momentum':[0.5]\n",
    "#         }\n",
    "\n",
    "# mlp=MLPClassifier()\n",
    "# gs=GridSearchCV(mlp,grid,cv=3,scoring='accuracy')\n",
    "# gs_result=gs.fit(X_train,Y_train)\n",
    "# print(\"Best: %f using %s\" % (gs_result.best_score_, gs_result.best_params_))\n",
    "# mlp_pred=gs.predict(x_test)\n",
    "# print(accuracy_score(y_test,mlp_pred))\n",
    "# print(classification_report(y_test,mlp_pred))"
   ]
  },
  {
   "cell_type": "markdown",
   "metadata": {
    "colab_type": "text",
    "id": "SnsHTtyYUx-A"
   },
   "source": [
    "## Random Forest\n"
   ]
  },
  {
   "cell_type": "code",
   "execution_count": 77,
   "metadata": {
    "colab": {},
    "colab_type": "code",
    "id": "2jvJmJloVNzO"
   },
   "outputs": [],
   "source": [
    "# var = VarianceThreshold()\n",
    "# rf = RandomForestClassifier(n_estimators=50, n_jobs=-1)\n",
    "# rf.fit(X_train, Y_train)\n",
    "# rf.feature_importances_\n",
    "\n",
    "# for c, imp in sorted(zip(features, rf.feature_importances_), key=lambda pair: pair[1], reverse=True):\n",
    "#   print('{:20}: {}'.format(c, imp))\n",
    "\n",
    "# rf = RandomForestClassifier()\n",
    "\n",
    "# pipe1 = Pipeline([('selector', var),\n",
    "#                   ('model', rf)])\n",
    "\n",
    "# grid1 = {'selector__threshold': [0],#, 0.01, 0.5\n",
    "#          'model__n_estimators': [104]}#101,102,103,105\n",
    "\n",
    "# clf = GridSearchCV(pipe1, grid1)\n",
    "# clf.fit(X_train, Y_train)\n",
    "\n",
    "# print(clf.best_params_, '\\n')\n",
    "# print(classification_report(y_test, clf.predict(x_test)))"
   ]
  },
  {
   "cell_type": "markdown",
   "metadata": {
    "colab_type": "text",
    "id": "-lPnGy70NIVA"
   },
   "source": [
    "## Logistic Regression"
   ]
  },
  {
   "cell_type": "code",
   "execution_count": 79,
   "metadata": {
    "colab": {},
    "colab_type": "code",
    "id": "OCiBaaS2Kg3J"
   },
   "outputs": [
    {
     "name": "stderr",
     "output_type": "stream",
     "text": [
      "c:\\python\\python37\\lib\\site-packages\\sklearn\\utils\\optimize.py:212: ConvergenceWarning: newton-cg failed to converge. Increase the number of iterations.\n",
      "  \"number of iterations.\", ConvergenceWarning)\n",
      "c:\\python\\python37\\lib\\site-packages\\sklearn\\utils\\optimize.py:212: ConvergenceWarning: newton-cg failed to converge. Increase the number of iterations.\n",
      "  \"number of iterations.\", ConvergenceWarning)\n",
      "c:\\python\\python37\\lib\\site-packages\\sklearn\\utils\\optimize.py:212: ConvergenceWarning: newton-cg failed to converge. Increase the number of iterations.\n",
      "  \"number of iterations.\", ConvergenceWarning)\n"
     ]
    },
    {
     "name": "stdout",
     "output_type": "stream",
     "text": [
      "the best parameters used for this model are:  {'penalty': 'none', 'solver': 'newton-cg'} \n",
      "\n",
      "the model predicts with an accuracy score of:  0.959472499195883\n",
      "              precision    recall  f1-score   support\n",
      "\n",
      "           0       0.98      0.97      0.98      2893\n",
      "           1       0.68      0.79      0.73       216\n",
      "\n",
      "    accuracy                           0.96      3109\n",
      "   macro avg       0.83      0.88      0.85      3109\n",
      "weighted avg       0.96      0.96      0.96      3109\n",
      "\n"
     ]
    },
    {
     "name": "stderr",
     "output_type": "stream",
     "text": [
      "c:\\python\\python37\\lib\\site-packages\\sklearn\\utils\\optimize.py:212: ConvergenceWarning: newton-cg failed to converge. Increase the number of iterations.\n",
      "  \"number of iterations.\", ConvergenceWarning)\n"
     ]
    }
   ],
   "source": [
    "grid2 = {'penalty' : [ 'none'],  #'l1', 'l2', 'elasticnet', \n",
    "         #'C': [0.001],\n",
    "         'solver' : ['newton-cg']#'lbfgs', 'liblinear', 'sag', 'saga'\n",
    "         }\n",
    "\n",
    "\n",
    "log = LogisticRegression()\n",
    "gs = GridSearchCV( log, grid2, cv=3, scoring='accuracy')\n",
    "gs.fit(X_train,Y_train)\n",
    "log_pred = gs.predict(x_test)\n",
    "print('the best parameters used for this model are: ',gs.best_params_, '\\n')\n",
    "print('the model predicts with an accuracy score of: ',accuracy_score(y_test,log_pred))\n",
    "print(classification_report(y_test,log_pred))"
   ]
  },
  {
   "cell_type": "code",
   "execution_count": 80,
   "metadata": {
    "colab_type": "text",
    "id": "ZqHrG9z6SsJm"
   },
   "outputs": [],
   "source": [
    "## SVC"
   ]
  },
  {
   "cell_type": "code",
   "execution_count": 81,
   "metadata": {
    "colab": {},
    "colab_type": "code",
    "id": "i4z2JT-qPXjM"
   },
   "outputs": [],
   "source": [
    "# grid3 = {'kernel' : [  'rbf'],\n",
    "#          'gamma' : ['scale', 'auto'],\n",
    "#          'decision_function_shape' : ['ovo', 'ovr']\n",
    "#         }\n",
    "\n",
    "# svm = SVC(gamma= 'scale', kernel= 'rbf', class_weight= None)\n",
    "# gs = GridSearchCV( svm, grid3, cv=3, scoring='accuracy')\n",
    "# gs.fit(X_train,Y_train)\n",
    "# predictions = gs.predict(x_test)\n",
    "# print(gs.best_params_, '\\n')\n",
    "# print(accuracy_score(y_test,predictions))\n",
    "# print(classification_report(y_test,predictions))\n",
    "\n",
    "\n"
   ]
  },
  {
   "cell_type": "markdown",
   "metadata": {},
   "source": [
    "# XGB\n"
   ]
  },
  {
   "cell_type": "code",
   "execution_count": 82,
   "metadata": {},
   "outputs": [],
   "source": [
    "# import xgboost as xgb\n",
    "# import random\n",
    "# from sklearn.metrics import mean_squared_error\n",
    "# from sklearn.model_selection import RandomizedSearchCV\n",
    "# g = xgb.XGBClassifier()\n",
    "# xg_grid = {'eta': [0.1],\n",
    "#              'min_depth': [6],\n",
    "#              'min_child_weight': [3],\n",
    "#              'scale_pos_weight': [0.5],\n",
    "#              'objective': ['binary:logistic']\n",
    "#             }\n",
    "# gs = GridSearchCV( xg, xg_grid, cv=3, scoring='accuracy')\n",
    "# gs.fit(X_train,Y_train)\n",
    "# log_pred = gs.predict(x_test)\n",
    "# print('the best parameters used for this model are: ',gs.best_params_, '\\n')\n",
    "# print('the model predicts with an accuracy score of: ',accuracy_score(y_test,log_pred))\n",
    "# print(classification_report(y_test,log_pred))\n"
   ]
  }
 ],
 "metadata": {
  "colab": {
   "name": "total_pipeline.ipynb",
   "provenance": [],
   "toc_visible": true
  },
  "kernelspec": {
   "display_name": "Python 3",
   "language": "python",
   "name": "python3"
  },
  "language_info": {
   "codemirror_mode": {
    "name": "ipython",
    "version": 3
   },
   "file_extension": ".py",
   "mimetype": "text/x-python",
   "name": "python",
   "nbconvert_exporter": "python",
   "pygments_lexer": "ipython3",
   "version": "3.7.7"
  }
 },
 "nbformat": 4,
 "nbformat_minor": 1
}
