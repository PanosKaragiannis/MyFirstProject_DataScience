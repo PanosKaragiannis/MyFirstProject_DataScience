{
 "cells": [
  {
   "cell_type": "code",
   "execution_count": 28,
   "metadata": {},
   "outputs": [],
   "source": [
    "#from _future_ import print_function\n",
    "import keras\n",
    "from keras.models import Sequential\n",
    "from keras.layers import Dense, Dropout, Flatten\n",
    "import numpy as np\n",
    "from sklearn.preprocessing import StandardScaler\n",
    "from keras.wrappers.scikit_learn import KerasClassifier\n",
    "from keras.constraints import maxnorm\n",
    "from keras.optimizers import SGD\n",
    "import pandas as pd\n",
    "from sklearn.model_selection import GridSearchCV"
   ]
  },
  {
   "cell_type": "code",
   "execution_count": 5,
   "metadata": {},
   "outputs": [],
   "source": [
    "seed=7\n",
    "np.random.seed(seed)"
   ]
  },
  {
   "cell_type": "code",
   "execution_count": 6,
   "metadata": {},
   "outputs": [],
   "source": [
    "#Loading the data\n",
    "udv= pd.read_csv('C:\\\\Users\\\\ioann\\\\Desktop\\\\pf-ds-coh-team2\\\\processed_data\\\\users_devices.csv')\n",
    "\n",
    "#Drop the columns that we do not need\n",
    "udv.drop('user_id', axis=1, inplace=True)\n",
    "udv.drop('country', axis=1, inplace=True)\n",
    "udv.drop('city', axis=1, inplace=True)\n",
    "udv.drop('created_date', axis=1, inplace=True)\n",
    "udv.drop('num_referrals', axis=1, inplace=True)\n",
    "udv.drop('num_successful_referrals', axis=1, inplace=True)\n",
    "udv.drop('created_year', axis=1, inplace=True)\n",
    "udv.drop('year_2018', axis=1, inplace=True)\n",
    "udv.drop('year_2019', axis=1, inplace=True)"
   ]
  },
  {
   "cell_type": "code",
   "execution_count": 7,
   "metadata": {},
   "outputs": [
    {
     "name": "stdout",
     "output_type": "stream",
     "text": [
      "<class 'pandas.core.frame.DataFrame'>\n",
      "RangeIndex: 15544 entries, 0 to 15543\n",
      "Data columns (total 13 columns):\n",
      "Australia                                   15544 non-null int64\n",
      "EastEurope                                  15544 non-null int64\n",
      "NorthEurope                                 15544 non-null int64\n",
      "SouthEurope                                 15544 non-null int64\n",
      "WestEurope                                  15544 non-null int64\n",
      "age                                         15544 non-null int64\n",
      "user_settings_crypto_unlocked               15544 non-null int64\n",
      "plan                                        15544 non-null int64\n",
      "attributes_notifications_marketing_push     15544 non-null float64\n",
      "attributes_notifications_marketing_email    15544 non-null float64\n",
      "num_contacts                                15544 non-null int64\n",
      "brand                                       15544 non-null int64\n",
      "created_month                               15544 non-null int64\n",
      "dtypes: float64(2), int64(11)\n",
      "memory usage: 1.5 MB\n"
     ]
    }
   ],
   "source": [
    "udv.info()"
   ]
  },
  {
   "cell_type": "code",
   "execution_count": 8,
   "metadata": {},
   "outputs": [],
   "source": [
    "x = udv.drop(columns=['plan']).values\n",
    "x_columns = udv.drop(columns=['plan']).columns\n",
    "y = udv['plan'].values"
   ]
  },
  {
   "cell_type": "code",
   "execution_count": 15,
   "metadata": {},
   "outputs": [
    {
     "name": "stdout",
     "output_type": "stream",
     "text": [
      "Input_dim= 12 \n",
      " Nb_classes= 1\n"
     ]
    }
   ],
   "source": [
    "input_dim = x.shape[1]\n",
    "nb_classes = 1\n",
    "print(\"Input_dim=\",input_dim, \"\\n\", \"Nb_classes=\",nb_classes)"
   ]
  },
  {
   "cell_type": "code",
   "execution_count": 24,
   "metadata": {},
   "outputs": [],
   "source": [
    "# Function to create model, required for KerasClassifier\n",
    "def create_model(neurons=1):\n",
    "    dropout_rate=0.2\n",
    "    weight_constraint=0\n",
    "    learning_rate=0.01\n",
    "    momentum=0\n",
    "    activation='relu'\n",
    "    init_mode='uniform'\n",
    "    # create model\n",
    "    model = Sequential()\n",
    "    model.add(Dense(100, input_dim=input_dim, kernel_initializer= init_mode, \n",
    "                    activation=activation,kernel_constraint=maxnorm(weight_constraint)))\n",
    "    model.add(Dropout(dropout_rate))\n",
    "    model.add(Dense(1, kernel_initializer=init_mode, activation='sigmoid'))\n",
    "    # Compile model\n",
    "    model.compile(loss='binary_crossentropy', optimizer='adam', metrics=['accuracy'])\n",
    "    return model"
   ]
  },
  {
   "cell_type": "code",
   "execution_count": 25,
   "metadata": {},
   "outputs": [],
   "source": [
    "# create model\n",
    "model = KerasClassifier(build_fn=create_model, epochs=2, batch_size=32, verbose=1)"
   ]
  },
  {
   "cell_type": "code",
   "execution_count": null,
   "metadata": {},
   "outputs": [],
   "source": [
    "# define the grid search parameters\n",
    "activation=['relu', 'tanh','sigmoid', 'linear', 'hard_sigmoid']\n",
    "momentum=[0.0, 0.4, 0.6, 0.8]\n",
    "neurons = [1,  10,  20, 30]\n",
    "learning_rate=[0.001, 0.01, 0.1]\n",
    "dropout_rate=[0.0,0.1,0.2,0.3,0.4,0.6]\n",
    "weight_constraint=[1,2,3,4,5]\n",
    "init=['uniform', 'normal', 'zero']\n",
    "optimizer=['SGD', 'RMSprop', 'Asam', 'Adamax']\n",
    "\n",
    "epochs=[1,2,10]\n",
    "batch_size=[1000,2000]\n",
    "param_grid = dict(epochs=epochs, batch_size=batch_size)\n",
    "\n",
    "grid = GridSearchCV(estimator=model, param_grid=param_grid, n_jobs=-1, cv=3)\n",
    "grid_result = grid.fit(x, y)"
   ]
  },
  {
   "cell_type": "code",
   "execution_count": null,
   "metadata": {},
   "outputs": [],
   "source": []
  }
 ],
 "metadata": {
  "kernelspec": {
   "display_name": "Python 3",
   "language": "python",
   "name": "python3"
  },
  "language_info": {
   "codemirror_mode": {
    "name": "ipython",
    "version": 3
   },
   "file_extension": ".py",
   "mimetype": "text/x-python",
   "name": "python",
   "nbconvert_exporter": "python",
   "pygments_lexer": "ipython3",
   "version": "3.6.8"
  }
 },
 "nbformat": 4,
 "nbformat_minor": 2
}
