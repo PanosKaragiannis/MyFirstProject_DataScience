{
 "cells": [
  {
   "cell_type": "code",
   "execution_count": 1,
   "metadata": {
    "colab": {},
    "colab_type": "code",
    "id": "bJDNQ2hhgwKk"
   },
   "outputs": [],
   "source": [
    "import pandas as pd\n",
    "import matplotlib.pyplot as plt\n"
   ]
  },
  {
   "cell_type": "code",
   "execution_count": 2,
   "metadata": {
    "colab": {},
    "colab_type": "code",
    "id": "VazvCs5sg4gu"
   },
   "outputs": [],
   "source": [
    "df=pd.read_csv('C:\\\\Users\\\\ioann\\\\Desktop\\\\pf-ds-coh-team2\\\\processed_data\\\\users_devices.csv')"
   ]
  },
  {
   "cell_type": "code",
   "execution_count": 3,
   "metadata": {
    "colab": {},
    "colab_type": "code",
    "id": "s1HVSfUihUfN"
   },
   "outputs": [],
   "source": [
    "df=df.drop('country',axis=1)"
   ]
  },
  {
   "cell_type": "code",
   "execution_count": 4,
   "metadata": {
    "colab": {},
    "colab_type": "code",
    "id": "ugsQafYShUjm"
   },
   "outputs": [],
   "source": [
    "df=df.drop('city',axis=1)"
   ]
  },
  {
   "cell_type": "code",
   "execution_count": 5,
   "metadata": {
    "colab": {},
    "colab_type": "code",
    "id": "wFwc3BfhhZIt"
   },
   "outputs": [],
   "source": [
    "df=df.drop('created_date',axis=1)"
   ]
  },
  {
   "cell_type": "code",
   "execution_count": 6,
   "metadata": {
    "colab": {
     "base_uri": "https://localhost:8080/",
     "height": 126
    },
    "colab_type": "code",
    "id": "1hszxyjXhAuA",
    "outputId": "9e4b0a89-5b52-43fd-df48-f2c63a1abe50"
   },
   "outputs": [
    {
     "data": {
      "text/html": [
       "<div>\n",
       "<style scoped>\n",
       "    .dataframe tbody tr th:only-of-type {\n",
       "        vertical-align: middle;\n",
       "    }\n",
       "\n",
       "    .dataframe tbody tr th {\n",
       "        vertical-align: top;\n",
       "    }\n",
       "\n",
       "    .dataframe thead th {\n",
       "        text-align: right;\n",
       "    }\n",
       "</style>\n",
       "<table border=\"1\" class=\"dataframe\">\n",
       "  <thead>\n",
       "    <tr style=\"text-align: right;\">\n",
       "      <th></th>\n",
       "      <th>user_id</th>\n",
       "      <th>Australia</th>\n",
       "      <th>EastEurope</th>\n",
       "      <th>NorthEurope</th>\n",
       "      <th>SouthEurope</th>\n",
       "      <th>WestEurope</th>\n",
       "      <th>year_2018</th>\n",
       "      <th>year_2019</th>\n",
       "      <th>age</th>\n",
       "      <th>user_settings_crypto_unlocked</th>\n",
       "      <th>plan</th>\n",
       "      <th>attributes_notifications_marketing_push</th>\n",
       "      <th>attributes_notifications_marketing_email</th>\n",
       "      <th>num_contacts</th>\n",
       "      <th>num_referrals</th>\n",
       "      <th>num_successful_referrals</th>\n",
       "      <th>brand</th>\n",
       "      <th>created_year</th>\n",
       "      <th>created_month</th>\n",
       "    </tr>\n",
       "  </thead>\n",
       "  <tbody>\n",
       "    <tr>\n",
       "      <th>0</th>\n",
       "      <td>user_0</td>\n",
       "      <td>0</td>\n",
       "      <td>0</td>\n",
       "      <td>0</td>\n",
       "      <td>0</td>\n",
       "      <td>1</td>\n",
       "      <td>1</td>\n",
       "      <td>0</td>\n",
       "      <td>28</td>\n",
       "      <td>0</td>\n",
       "      <td>0</td>\n",
       "      <td>1.0</td>\n",
       "      <td>1.0</td>\n",
       "      <td>3</td>\n",
       "      <td>0</td>\n",
       "      <td>0</td>\n",
       "      <td>1</td>\n",
       "      <td>2018</td>\n",
       "      <td>9</td>\n",
       "    </tr>\n",
       "    <tr>\n",
       "      <th>1</th>\n",
       "      <td>user_1</td>\n",
       "      <td>0</td>\n",
       "      <td>1</td>\n",
       "      <td>0</td>\n",
       "      <td>0</td>\n",
       "      <td>0</td>\n",
       "      <td>1</td>\n",
       "      <td>0</td>\n",
       "      <td>35</td>\n",
       "      <td>1</td>\n",
       "      <td>0</td>\n",
       "      <td>1.0</td>\n",
       "      <td>1.0</td>\n",
       "      <td>75</td>\n",
       "      <td>0</td>\n",
       "      <td>0</td>\n",
       "      <td>1</td>\n",
       "      <td>2018</td>\n",
       "      <td>1</td>\n",
       "    </tr>\n",
       "  </tbody>\n",
       "</table>\n",
       "</div>"
      ],
      "text/plain": [
       "  user_id  Australia  EastEurope  NorthEurope  SouthEurope  WestEurope  \\\n",
       "0  user_0          0           0            0            0           1   \n",
       "1  user_1          0           1            0            0           0   \n",
       "\n",
       "   year_2018  year_2019  age  user_settings_crypto_unlocked  plan  \\\n",
       "0          1          0   28                              0     0   \n",
       "1          1          0   35                              1     0   \n",
       "\n",
       "   attributes_notifications_marketing_push  \\\n",
       "0                                      1.0   \n",
       "1                                      1.0   \n",
       "\n",
       "   attributes_notifications_marketing_email  num_contacts  num_referrals  \\\n",
       "0                                       1.0             3              0   \n",
       "1                                       1.0            75              0   \n",
       "\n",
       "   num_successful_referrals  brand  created_year  created_month  \n",
       "0                         0      1          2018              9  \n",
       "1                         0      1          2018              1  "
      ]
     },
     "execution_count": 6,
     "metadata": {},
     "output_type": "execute_result"
    }
   ],
   "source": [
    "df.head(2)"
   ]
  },
  {
   "cell_type": "code",
   "execution_count": 7,
   "metadata": {
    "colab": {},
    "colab_type": "code",
    "id": "KMXtCB8OpkJQ"
   },
   "outputs": [],
   "source": [
    "df=df.drop('user_id',axis=1)"
   ]
  },
  {
   "cell_type": "code",
   "execution_count": 8,
   "metadata": {
    "colab": {},
    "colab_type": "code",
    "id": "iFZ3Dmvzn6mv"
   },
   "outputs": [],
   "source": [
    "labels=['standard','paid']"
   ]
  },
  {
   "cell_type": "code",
   "execution_count": 9,
   "metadata": {
    "colab": {},
    "colab_type": "code",
    "id": "hn99sAlboRcT"
   },
   "outputs": [],
   "source": [
    "x=df.drop('plan',axis=1)\n",
    "y=df['plan']"
   ]
  },
  {
   "cell_type": "code",
   "execution_count": 10,
   "metadata": {
    "colab": {},
    "colab_type": "code",
    "id": "G2aJ3F2SgV0u"
   },
   "outputs": [],
   "source": [
    "from sklearn.model_selection import train_test_split\n",
    "x_train,x_test,y_train,y_test=train_test_split(x,y,test_size=0.2)"
   ]
  },
  {
   "cell_type": "code",
   "execution_count": 11,
   "metadata": {
    "colab": {
     "base_uri": "https://localhost:8080/",
     "height": 34
    },
    "colab_type": "code",
    "id": "b0NRw8wToRhP",
    "outputId": "13d8ba5b-fbf2-40c2-a7f6-3241cfe4cabf"
   },
   "outputs": [
    {
     "name": "stdout",
     "output_type": "stream",
     "text": [
      "(12435, 17) (12435,)\n"
     ]
    }
   ],
   "source": [
    "print(x_train.shape,y_train.shape)"
   ]
  },
  {
   "cell_type": "code",
   "execution_count": 12,
   "metadata": {
    "colab": {
     "base_uri": "https://localhost:8080/",
     "height": 295
    },
    "colab_type": "code",
    "id": "mp74dIk2iGAH",
    "outputId": "3c783012-f4d4-429d-d352-27ad6bca045e"
   },
   "outputs": [
    {
     "data": {
      "image/png": "[encoded data removed]",
      "text/plain": [
       "<Figure size 432x288 with 1 Axes>"
      ]
     },
     "metadata": {
      "needs_background": "light"
     },
     "output_type": "display_data"
    }
   ],
   "source": [
    "count_classes=pd.value_counts(df['plan'],sort=True)\n",
    "count_classes.plot(kind='bar',rot=0)\n",
    "plt.title('Plan Class Distribution')\n",
    "plt.xticks(range(2),labels)\n",
    "plt.xlabel('Plan')\n",
    "plt.ylabel('Frequency')\n",
    "plt.show()"
   ]
  },
  {
   "cell_type": "code",
   "execution_count": 13,
   "metadata": {
    "colab": {},
    "colab_type": "code",
    "id": "gLKWklZ0mKKl"
   },
   "outputs": [],
   "source": [
    "Standard=df[df['plan']==0]\n",
    "Paid=df[df['plan']==1]"
   ]
  },
  {
   "cell_type": "code",
   "execution_count": 14,
   "metadata": {
    "colab": {
     "base_uri": "https://localhost:8080/",
     "height": 34
    },
    "colab_type": "code",
    "id": "_KtO3WNhnnOA",
    "outputId": "0ca6667b-c44f-482f-dfa6-ac4feb42d9ab"
   },
   "outputs": [
    {
     "name": "stdout",
     "output_type": "stream",
     "text": [
      "(14394, 18) (1150, 18)\n"
     ]
    }
   ],
   "source": [
    "print(Standard.shape,Paid.shape)"
   ]
  },
  {
   "cell_type": "code",
   "execution_count": 15,
   "metadata": {
    "colab": {
     "base_uri": "https://localhost:8080/",
     "height": 104
    },
    "colab_type": "code",
    "id": "xHlzmTgYpeRD",
    "outputId": "0e62cbea-552f-415d-86b9-b17f3121c336"
   },
   "outputs": [],
   "source": [
    "from imblearn.over_sampling import RandomOverSampler"
   ]
  },
  {
   "cell_type": "code",
   "execution_count": 16,
   "metadata": {
    "colab": {},
    "colab_type": "code",
    "id": "S7b8b2N2r3oB"
   },
   "outputs": [],
   "source": [
    "os=RandomOverSampler()"
   ]
  },
  {
   "cell_type": "code",
   "execution_count": 17,
   "metadata": {
    "colab": {
     "base_uri": "https://localhost:8080/",
     "height": 70
    },
    "colab_type": "code",
    "id": "4DYM1iWar7X9",
    "outputId": "dcc0f8fb-d588-47f6-ea9b-28bc9aa27993"
   },
   "outputs": [],
   "source": [
    "X_train,Y_train=os.fit_sample(x_train,y_train)"
   ]
  },
  {
   "cell_type": "code",
   "execution_count": 18,
   "metadata": {
    "colab": {
     "base_uri": "https://localhost:8080/",
     "height": 34
    },
    "colab_type": "code",
    "id": "-nTWgeOesOmO",
    "outputId": "f2ab5510-e5fc-4b40-fbf9-7c8e1b7dcb18"
   },
   "outputs": [
    {
     "data": {
      "text/plain": [
       "(22976, 17)"
      ]
     },
     "execution_count": 18,
     "metadata": {},
     "output_type": "execute_result"
    }
   ],
   "source": [
    "X_train.shape"
   ]
  },
  {
   "cell_type": "code",
   "execution_count": 19,
   "metadata": {
    "colab": {
     "base_uri": "https://localhost:8080/",
     "height": 34
    },
    "colab_type": "code",
    "id": "cBeiNk4VsTKh",
    "outputId": "12bfcf6b-f8ba-41e0-f23c-df47431eb04f"
   },
   "outputs": [
    {
     "data": {
      "text/plain": [
       "(22976,)"
      ]
     },
     "execution_count": 19,
     "metadata": {},
     "output_type": "execute_result"
    }
   ],
   "source": [
    "Y_train.shape"
   ]
  },
  {
   "cell_type": "code",
   "execution_count": 20,
   "metadata": {
    "colab": {
     "base_uri": "https://localhost:8080/",
     "height": 50
    },
    "colab_type": "code",
    "id": "PAKBA48nsVCc",
    "outputId": "88cf77c9-d9c9-4dc4-e7aa-2a43da0f5ae0"
   },
   "outputs": [
    {
     "name": "stdout",
     "output_type": "stream",
     "text": [
      "Original dataset shape is :  (12435, 17)  and  (12435,)\n",
      "Resampled dataset shape is:  (22976, 17)  and  (22976,)\n"
     ]
    }
   ],
   "source": [
    "print('Original dataset shape is : ',x_train.shape, ' and ',y_train.shape)\n",
    "print('Resampled dataset shape is: ',X_train.shape,' and ',Y_train.shape)"
   ]
  },
  {
   "cell_type": "code",
   "execution_count": 21,
   "metadata": {
    "colab": {},
    "colab_type": "code",
    "id": "FCm9ZO-wvWO5"
   },
   "outputs": [],
   "source": [
    "import numpy as np"
   ]
  },
  {
   "cell_type": "code",
   "execution_count": 22,
   "metadata": {
    "colab": {},
    "colab_type": "code",
    "id": "OcKdF8XzwS-i"
   },
   "outputs": [],
   "source": [
    "from sklearn.preprocessing import StandardScaler"
   ]
  },
  {
   "cell_type": "code",
   "execution_count": 23,
   "metadata": {
    "colab": {
     "base_uri": "https://localhost:8080/",
     "height": 235
    },
    "colab_type": "code",
    "id": "EMwVrxsSwecA",
    "outputId": "f7161a5a-9250-4ed3-d663-710a28d5d419"
   },
   "outputs": [
    {
     "data": {
      "text/plain": [
       "array([[-1.31956440e-02,  1.88765919e+00, -9.58135276e-01, ...,\n",
       "        -1.07468265e+00, -4.62300565e-02, -6.19868695e-01],\n",
       "       [-1.31956440e-02, -5.29756647e-01,  1.04369396e+00, ...,\n",
       "         9.30507257e-01, -4.62300565e-02,  8.66408556e-01],\n",
       "       [-1.31956440e-02,  1.88765919e+00, -9.58135276e-01, ...,\n",
       "        -1.07468265e+00,  2.16309491e+01, -1.80889050e+00],\n",
       "       ...,\n",
       "       [-1.31956440e-02, -5.29756647e-01, -9.58135276e-01, ...,\n",
       "        -1.07468265e+00, -4.62300565e-02, -2.53577943e-02],\n",
       "       [-1.31956440e-02, -5.29756647e-01, -9.58135276e-01, ...,\n",
       "         9.30507257e-01, -4.62300565e-02,  1.46091946e+00],\n",
       "       [-1.31956440e-02, -5.29756647e-01, -9.58135276e-01, ...,\n",
       "         9.30507257e-01, -4.62300565e-02, -1.80889050e+00]])"
      ]
     },
     "execution_count": 23,
     "metadata": {},
     "output_type": "execute_result"
    }
   ],
   "source": [
    "ssc=StandardScaler()\n",
    "ssc.fit_transform(X_train)"
   ]
  },
  {
   "cell_type": "code",
   "execution_count": null,
   "metadata": {
    "colab": {
     "base_uri": "https://localhost:8080/",
     "height": 235
    },
    "colab_type": "code",
    "id": "GkPyhBu_w6d9",
    "outputId": "b6f3b69d-9b97-43e3-8393-be35f249a88f"
   },
   "outputs": [
    {
     "data": {
      "text/plain": [
       "array([[ 0.        , -0.55939458, -0.93247677, ..., -0.99903552,\n",
       "        -0.06479943,  0.53675251],\n",
       "       [ 0.        , -0.55939458,  1.07241277, ...,  1.00096541,\n",
       "        -0.06479943, -0.34868977],\n",
       "       [ 0.        , -0.55939458, -0.93247677, ...,  1.00096541,\n",
       "        -0.06479943,  1.12704736],\n",
       "       ...,\n",
       "       [ 0.        , -0.55939458, -0.93247677, ...,  1.00096541,\n",
       "        -0.06479943,  0.24160508],\n",
       "       [ 0.        ,  1.78764692, -0.93247677, ..., -0.99903552,\n",
       "        -0.06479943, -1.23413205],\n",
       "       [ 0.        , -0.55939458, -0.93247677, ...,  1.00096541,\n",
       "        -0.06479943, -0.6438372 ]])"
      ]
     },
     "execution_count": 24,
     "metadata": {},
     "output_type": "execute_result"
    }
   ],
   "source": [
    "ssc.fit_transform(x_test)"
   ]
  },
  {
   "cell_type": "code",
   "execution_count": null,
   "metadata": {
    "colab": {},
    "colab_type": "code",
    "id": "CjQNHKsdw98-"
   },
   "outputs": [],
   "source": [
    "from sklearn.neural_network import MLPClassifier\n",
    "from sklearn.model_selection import GridSearchCV"
   ]
  },
  {
   "cell_type": "code",
   "execution_count": null,
   "metadata": {
    "colab": {},
    "colab_type": "code",
    "id": "xOc79mUNxO5a"
   },
   "outputs": [],
   "source": [
    "grid={'activation':['logistic','identity','tanh','relu'],\n",
    "      'learning_rate_init':[0.00001,0.0001,0.001,0.01],\n",
    "      'solver':['sgd','adam'],\n",
    "      'batch_size':[32,64,128],\n",
    "      'momentum':[0.2,0.5,0.9]\n",
    "      \n",
    "     }"
   ]
  },
  {
   "cell_type": "code",
   "execution_count": null,
   "metadata": {
    "colab": {},
    "colab_type": "code",
    "id": "oM8f5GxHywz-"
   },
   "outputs": [],
   "source": [
    "mlp=MLPClassifier()\n",
    "gs=GridSearchCV(mlp,grid,cv=5,scoring='accuracy')"
   ]
  },
  {
   "cell_type": "code",
   "execution_count": null,
   "metadata": {
    "colab": {
     "base_uri": "https://localhost:8080/",
     "height": 541
    },
    "colab_type": "code",
    "id": "ZYQNQFwey6Fm",
    "outputId": "d3b45322-d27b-423b-f3ea-5e268844cd32"
   },
   "outputs": [
    {
     "name": "stderr",
     "output_type": "stream",
     "text": [
      "C:\\Users\\ioann\\Anaconda3\\lib\\site-packages\\sklearn\\neural_network\\multilayer_perceptron.py:566: UserWarning: Training interrupted by user.\n",
      "  warnings.warn(\"Training interrupted by user.\")\n"
     ]
    }
   ],
   "source": [
    "gs_result=gs.fit(X_train,Y_train)\n",
    "print(\"Best: %f using %s\" % (gs_result.best_score_, gs_result.best_params_))"
   ]
  },
  {
   "cell_type": "code",
   "execution_count": null,
   "metadata": {
    "colab": {},
    "colab_type": "code",
    "id": "pJ8prfTmy_f8"
   },
   "outputs": [],
   "source": [
    "mlp_pred=gs.predict(x_test)"
   ]
  },
  {
   "cell_type": "code",
   "execution_count": null,
   "metadata": {
    "colab": {},
    "colab_type": "code",
    "id": "plAtdwSS4JfL"
   },
   "outputs": [],
   "source": [
    "from sklearn.metrics import accuracy_score \n",
    "from sklearn.metrics import classification_report"
   ]
  },
  {
   "cell_type": "code",
   "execution_count": null,
   "metadata": {
    "colab": {
     "base_uri": "https://localhost:8080/",
     "height": 34
    },
    "colab_type": "code",
    "id": "bfSRg1FD6pDx",
    "outputId": "a6ff3dd2-9d34-48ca-e22b-8ea15289e9c0"
   },
   "outputs": [],
   "source": [
    "print(accuracy_score(y_test,mlp_pred))"
   ]
  },
  {
   "cell_type": "code",
   "execution_count": null,
   "metadata": {
    "colab": {
     "base_uri": "https://localhost:8080/",
     "height": 168
    },
    "colab_type": "code",
    "id": "XiU18QF66x7I",
    "outputId": "e25340f5-4ed3-4965-917d-7d2a29fb70fe"
   },
   "outputs": [],
   "source": [
    "print(classification_report(y_test,mlp_pred))"
   ]
  },
  {
   "cell_type": "code",
   "execution_count": null,
   "metadata": {
    "colab": {},
    "colab_type": "code",
    "id": "H6xARd02657I"
   },
   "outputs": [],
   "source": []
  }
 ],
 "metadata": {
  "colab": {
   "name": "oversampling_xTrain_neural.ipynb",
   "provenance": []
  },
  "kernelspec": {
   "display_name": "Python 3",
   "language": "python",
   "name": "python3"
  },
  "language_info": {
   "codemirror_mode": {
    "name": "ipython",
    "version": 3
   },
   "file_extension": ".py",
   "mimetype": "text/x-python",
   "name": "python",
   "nbconvert_exporter": "python",
   "pygments_lexer": "ipython3",
   "version": "3.6.8"
  }
 },
 "nbformat": 4,
 "nbformat_minor": 1
}
