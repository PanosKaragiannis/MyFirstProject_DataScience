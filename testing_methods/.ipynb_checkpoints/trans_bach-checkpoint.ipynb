{
 "cells": [
  {
   "cell_type": "code",
   "execution_count": 1,
   "metadata": {
    "colab": {},
    "colab_type": "code",
    "id": "3eF_No-WqoEA"
   },
   "outputs": [],
   "source": [
    "import numpy as np\n",
    "import pandas as pd\n",
    "from sklearn.cluster import KMeans"
   ]
  },
  {
   "cell_type": "code",
   "execution_count": 3,
   "metadata": {
    "colab": {},
    "colab_type": "code",
    "id": "rFFEkZGYqsfS"
   },
   "outputs": [
    {
     "name": "stdout",
     "output_type": "stream",
     "text": [
      "   Unnamed: 0    user_id  total_amount  number_transactions  avg_amount  \\\n",
      "0           0     user_0       6925.08                  520   13.317462   \n",
      "1           1     user_1      12955.54                  133   97.410075   \n",
      "2           2    user_10       5438.92                  123   44.218862   \n",
      "3           3   user_100       4230.10                   55   76.910909   \n",
      "4           4  user_1000        843.12                   43   19.607442   \n",
      "\n",
      "            first_transaction            last_transaction  transaction_period  \\\n",
      "0  2018-09-10 18:54:08.965855  2019-05-10 05:09:13.868855               241.5   \n",
      "1  2018-02-04 08:28:17.978146  2019-05-04 02:30:11.492146               453.5   \n",
      "2  2018-06-29 15:38:15.855413  2019-05-11 13:07:42.624413               315.5   \n",
      "3  2018-12-02 14:23:12.926151  2019-02-24 13:36:50.054151                83.5   \n",
      "4  2019-03-27 11:03:23.105644  2019-05-05 19:08:42.183644                39.5   \n",
      "\n",
      "   Australia  EastEurope  ...  user_settings_crypto_unlocked  plan  \\\n",
      "0          0           0  ...                              0     0   \n",
      "1          0           1  ...                              1     0   \n",
      "2          0           1  ...                              1     0   \n",
      "3          0           0  ...                              0     0   \n",
      "4          0           0  ...                              0     1   \n",
      "\n",
      "   attributes_notifications_marketing_push  \\\n",
      "0                                      1.0   \n",
      "1                                      1.0   \n",
      "2                                      1.0   \n",
      "3                                      1.0   \n",
      "4                                      1.0   \n",
      "\n",
      "   attributes_notifications_marketing_email  num_contacts  num_referrals  \\\n",
      "0                                       1.0             3              0   \n",
      "1                                       1.0            75              0   \n",
      "2                                       1.0            19              0   \n",
      "3                                       1.0             0              0   \n",
      "4                                       1.0            13              0   \n",
      "\n",
      "  num_successful_referrals brand created_year  created_month  \n",
      "0                        0     1         2018              9  \n",
      "1                        0     1         2018              1  \n",
      "2                        0     1         2018              1  \n",
      "3                        0     0         2018             12  \n",
      "4                        0     1         2018              3  \n",
      "\n",
      "[5 rows x 29 columns]\n",
      "<class 'pandas.core.frame.DataFrame'>\n",
      "RangeIndex: 14821 entries, 0 to 14820\n",
      "Data columns (total 29 columns):\n",
      "Unnamed: 0                                  14821 non-null int64\n",
      "user_id                                     14821 non-null object\n",
      "total_amount                                14821 non-null float64\n",
      "number_transactions                         14821 non-null int64\n",
      "avg_amount                                  14821 non-null float64\n",
      "first_transaction                           14821 non-null object\n",
      "last_transaction                            14821 non-null object\n",
      "transaction_period                          14821 non-null float64\n",
      "Australia                                   14821 non-null int64\n",
      "EastEurope                                  14821 non-null int64\n",
      "NorthEurope                                 14821 non-null int64\n",
      "SouthEurope                                 14821 non-null int64\n",
      "WestEurope                                  14821 non-null int64\n",
      "year_2018                                   14821 non-null int64\n",
      "year_2019                                   14821 non-null int64\n",
      "age                                         14821 non-null int64\n",
      "country                                     14821 non-null object\n",
      "city                                        14821 non-null object\n",
      "created_date                                14821 non-null object\n",
      "user_settings_crypto_unlocked               14821 non-null int64\n",
      "plan                                        14821 non-null int64\n",
      "attributes_notifications_marketing_push     14821 non-null float64\n",
      "attributes_notifications_marketing_email    14821 non-null float64\n",
      "num_contacts                                14821 non-null int64\n",
      "num_referrals                               14821 non-null int64\n",
      "num_successful_referrals                    14821 non-null int64\n",
      "brand                                       14821 non-null int64\n",
      "created_year                                14821 non-null int64\n",
      "created_month                               14821 non-null int64\n",
      "dtypes: float64(5), int64(18), object(6)\n",
      "memory usage: 3.3+ MB\n",
      "None\n"
     ]
    }
   ],
   "source": [
    "df = pd.read_csv('../processed_data/trans_users_dev.csv')\n",
    "\n",
    "print(df.head(5))\n",
    "print(df.info())"
   ]
  },
  {
   "cell_type": "code",
   "execution_count": null,
   "metadata": {},
   "outputs": [],
   "source": []
  }
 ],
 "metadata": {
  "colab": {
   "authorship_tag": "ABX9TyOpykRloDfDqwdBWgIpwFH3",
   "collapsed_sections": [],
   "name": "trans_bach.ipynb",
   "provenance": []
  },
  "kernelspec": {
   "display_name": "Python 3",
   "language": "python",
   "name": "python3"
  },
  "language_info": {
   "codemirror_mode": {
    "name": "ipython",
    "version": 3
   },
   "file_extension": ".py",
   "mimetype": "text/x-python",
   "name": "python",
   "nbconvert_exporter": "python",
   "pygments_lexer": "ipython3",
   "version": "3.5.2"
  }
 },
 "nbformat": 4,
 "nbformat_minor": 1
}
