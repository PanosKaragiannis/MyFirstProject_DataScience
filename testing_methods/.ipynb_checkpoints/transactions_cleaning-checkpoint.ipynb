{
 "cells": [
  {
   "cell_type": "code",
   "execution_count": 3,
   "metadata": {},
   "outputs": [],
   "source": [
    "import pandas as pd\n",
    "import numpy as np\n",
    "import matplotlib.pyplot as plt\n",
    "from matplotlib.pyplot import pie,axis,show\n",
    "import seaborn as sns\n",
    "import random as rd\n",
    "import datetime as dt\n",
    "from termcolor import colored"
   ]
  },
  {
   "cell_type": "code",
   "execution_count": null,
   "metadata": {},
   "outputs": [],
   "source": [
    "t1=pd.read_csv('C:\\\\Users\\\\ioann\\\\Desktop\\\\pf-ds-coh-team2\\\\data\\\\transactions_1.csv')\n",
    "t2=pd.read_csv('C:\\\\Users\\\\ioann\\\\Desktop\\\\pf-ds-coh-team2\\\\data\\\\transactions_2.csv')\n",
    "t3=pd.read_csv('C:\\\\Users\\\\ioann\\\\Desktop\\\\pf-ds-coh-team2\\\\data\\\\transactions_3.csv')\n",
    "# concatenate the 3 datasets into 1 with all transactions\n",
    "tdf=pd.concat([t1, t2, t3]) \n",
    "\n",
    "print(tdf.shape)\n",
    "print(tdf.isna().sum())\n",
    "print(len(np.unique(tdf['user_id']))) #how many users have made a transaction?\n",
    "#print(tdf.sample(5))\n",
    "tdf.info()"
   ]
  },
  {
   "cell_type": "code",
   "execution_count": null,
   "metadata": {},
   "outputs": [],
   "source": [
    "tdf['created_date'] = tdf['created_date'].apply(pd.to_datetime)"
   ]
  },
  {
   "cell_type": "code",
   "execution_count": null,
   "metadata": {},
   "outputs": [],
   "source": [
    "tdf['transactions_currency'].unique().value_counts()"
   ]
  },
  {
   "cell_type": "code",
   "execution_count": null,
   "metadata": {},
   "outputs": [],
   "source": [
    "#Create the dummies about the years 2018 and 2019\n",
    "tdf=pd.concat([pd.get_dummies(tdf['transactions_type']), tdf], axis=1)\n",
    "#tdf=pd.concat([pd.get_dummies(tdf['transactions_currency']), tdf], axis=1)\n",
    "tdf=pd.concat([pd.get_dummies(tdf['transactions_state']), tdf], axis=1)\n",
    "tdf.info()\n",
    "print(tdf.sample(5))"
   ]
  },
  {
   "cell_type": "code",
   "execution_count": null,
   "metadata": {},
   "outputs": [],
   "source": []
  }
 ],
 "metadata": {
  "kernelspec": {
   "display_name": "Python 3",
   "language": "python",
   "name": "python3"
  },
  "language_info": {
   "codemirror_mode": {
    "name": "ipython",
    "version": 3
   },
   "file_extension": ".py",
   "mimetype": "text/x-python",
   "name": "python",
   "nbconvert_exporter": "python",
   "pygments_lexer": "ipython3",
   "version": "3.6.8"
  }
 },
 "nbformat": 4,
 "nbformat_minor": 2
}
