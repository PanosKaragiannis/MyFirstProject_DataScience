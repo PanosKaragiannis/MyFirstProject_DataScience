{
 "cells": [
  {
   "cell_type": "markdown",
   "metadata": {
    "colab_type": "text",
    "id": "toLWyiG5M0Q4"
   },
   "source": [
    "### Reading the .csv data with pandas lib"
   ]
  },
  {
   "cell_type": "code",
   "execution_count": 42,
   "metadata": {
    "colab": {},
    "colab_type": "code",
    "id": "WWrf3aLdfS3a"
   },
   "outputs": [],
   "source": [
    "import numpy as np\n",
    "import pandas as pd\n",
    "import matplotlib.pyplot as plt\n",
    "import seaborn as sns\n",
    "import daytime as dt"
   ]
  },
  {
   "cell_type": "code",
   "execution_count": 11,
   "metadata": {
    "colab": {},
    "colab_type": "code",
    "id": "zDSkz4B0v69F"
   },
   "outputs": [],
   "source": [
    "### Loading .csv file into pandas dataFrame\n",
    "\n",
    "notif = pd.read_csv('../data/notifications.csv') # notifications\n",
    "\n",
    "tr1 = pd.read_csv('../data/transactions_1.csv') # Transactions (3 files)\n",
    "tr2 = pd.read_csv('../data/transactions_2.csv')\n",
    "tr3 = pd.read_csv('../data/transactions_3.csv')\n",
    "trans = pd.concat([tr1, tr2, tr3])\n",
    "\n",
    "us = pd.read_csv('../data/users.csv') # Users\n"
   ]
  },
  {
   "cell_type": "markdown",
   "metadata": {
    "colab_type": "text",
    "id": "LoAC4yqXsfow"
   },
   "source": [
    "### In these steps we print some samples of the data. Get the NaN and unique values."
   ]
  },
  {
   "cell_type": "code",
   "execution_count": 25,
   "metadata": {
    "colab": {
     "base_uri": "https://localhost:8080/",
     "height": 577
    },
    "colab_type": "code",
    "id": "uGHqQ_XC7h6f",
    "outputId": "b501ecaf-3502-46a0-d85c-6be5269a5bb4"
   },
   "outputs": [
    {
     "name": "stdout",
     "output_type": "stream",
     "text": [
      "(97704, 5)\n",
      "REENGAGEMENT_ACTIVE_FUNDS            28832\n",
      "PROMO                                18987\n",
      "NO_INITIAL_CARD_ORDER                 9071\n",
      "NO_INITIAL_CARD_USE                   9035\n",
      "INVEST_IN_GOLD                        6649\n",
      "LOST_CARD_ORDER                       4941\n",
      "PROMO_CARD_ORDER                      4358\n",
      "JOINING_ANNIVERSARY                   3334\n",
      "MADE_MONEY_REQUEST_NOT_SPLIT_BILL     2851\n",
      "ONBOARDING_TIPS_ACTIVATED_USERS       2423\n",
      "ENGAGEMENT_SPLIT_BILL_RESTAURANT      1834\n",
      "BLACK_FRIDAY                          1681\n",
      "METAL_RESERVE_PLAN                     950\n",
      "SILVER_ENGAGEMENT_INACTIVE_CARD        896\n",
      "WELCOME_BACK                           779\n",
      "BLUE_TUESDAY                           555\n",
      "SILVER_ENGAGEMENT_FEES_SAVED           528\n",
      "Name: reason, dtype: int64\n"
     ]
    },
    {
     "data": {
      "text/html": [
       "<div>\n",
       "<style scoped>\n",
       "    .dataframe tbody tr th:only-of-type {\n",
       "        vertical-align: middle;\n",
       "    }\n",
       "\n",
       "    .dataframe tbody tr th {\n",
       "        vertical-align: top;\n",
       "    }\n",
       "\n",
       "    .dataframe thead th {\n",
       "        text-align: right;\n",
       "    }\n",
       "</style>\n",
       "<table border=\"1\" class=\"dataframe\">\n",
       "  <thead>\n",
       "    <tr style=\"text-align: right;\">\n",
       "      <th></th>\n",
       "      <th>reason</th>\n",
       "      <th>channel</th>\n",
       "      <th>status</th>\n",
       "      <th>user_id</th>\n",
       "      <th>created_date</th>\n",
       "    </tr>\n",
       "  </thead>\n",
       "  <tbody>\n",
       "    <tr>\n",
       "      <th>8015</th>\n",
       "      <td>REENGAGEMENT_ACTIVE_FUNDS</td>\n",
       "      <td>SMS</td>\n",
       "      <td>FAILED</td>\n",
       "      <td>user_11036</td>\n",
       "      <td>2018-08-10 15:46:20.009965</td>\n",
       "    </tr>\n",
       "    <tr>\n",
       "      <th>19492</th>\n",
       "      <td>REENGAGEMENT_ACTIVE_FUNDS</td>\n",
       "      <td>PUSH</td>\n",
       "      <td>SENT</td>\n",
       "      <td>user_2650</td>\n",
       "      <td>2018-11-13 13:15:42.332048</td>\n",
       "    </tr>\n",
       "  </tbody>\n",
       "</table>\n",
       "</div>"
      ],
      "text/plain": [
       "                          reason channel  status     user_id  \\\n",
       "8015   REENGAGEMENT_ACTIVE_FUNDS     SMS  FAILED  user_11036   \n",
       "19492  REENGAGEMENT_ACTIVE_FUNDS    PUSH    SENT   user_2650   \n",
       "\n",
       "                     created_date  \n",
       "8015   2018-08-10 15:46:20.009965  \n",
       "19492  2018-11-13 13:15:42.332048  "
      ]
     },
     "execution_count": 25,
     "metadata": {},
     "output_type": "execute_result"
    }
   ],
   "source": [
    "print(notif.shape)\n",
    "print(notif['reason'].value_counts())\n",
    "notif.sample(2)"
   ]
  },
  {
   "cell_type": "code",
   "execution_count": 26,
   "metadata": {
    "colab": {
     "base_uri": "https://localhost:8080/",
     "height": 597
    },
    "colab_type": "code",
    "id": "8j_dMOzq7Z0f",
    "outputId": "f922e151-82fb-4dba-a404-0e20a15f1c37"
   },
   "outputs": [
    {
     "name": "stdout",
     "output_type": "stream",
     "text": [
      "(2181026, 12)\n",
      "transaction_id                0\n",
      "transactions_type             0\n",
      "transactions_currency         0\n",
      "amount_usd                    0\n",
      "transactions_state            0\n",
      "ea_cardholderpresence    933206\n",
      "ea_merchant_mcc          923975\n",
      "ea_merchant_city         924080\n",
      "ea_merchant_country      924239\n",
      "direction                     0\n",
      "user_id                       0\n",
      "created_date                  0\n",
      "dtype: int64\n"
     ]
    },
    {
     "data": {
      "text/html": [
       "<div>\n",
       "<style scoped>\n",
       "    .dataframe tbody tr th:only-of-type {\n",
       "        vertical-align: middle;\n",
       "    }\n",
       "\n",
       "    .dataframe tbody tr th {\n",
       "        vertical-align: top;\n",
       "    }\n",
       "\n",
       "    .dataframe thead th {\n",
       "        text-align: right;\n",
       "    }\n",
       "</style>\n",
       "<table border=\"1\" class=\"dataframe\">\n",
       "  <thead>\n",
       "    <tr style=\"text-align: right;\">\n",
       "      <th></th>\n",
       "      <th>transaction_id</th>\n",
       "      <th>transactions_type</th>\n",
       "      <th>transactions_currency</th>\n",
       "      <th>amount_usd</th>\n",
       "      <th>transactions_state</th>\n",
       "      <th>ea_cardholderpresence</th>\n",
       "      <th>ea_merchant_mcc</th>\n",
       "      <th>ea_merchant_city</th>\n",
       "      <th>ea_merchant_country</th>\n",
       "      <th>direction</th>\n",
       "      <th>user_id</th>\n",
       "      <th>created_date</th>\n",
       "    </tr>\n",
       "  </thead>\n",
       "  <tbody>\n",
       "    <tr>\n",
       "      <th>0</th>\n",
       "      <td>transaction_0</td>\n",
       "      <td>TRANSFER</td>\n",
       "      <td>AED</td>\n",
       "      <td>4.55</td>\n",
       "      <td>COMPLETED</td>\n",
       "      <td>NaN</td>\n",
       "      <td>NaN</td>\n",
       "      <td>NaN</td>\n",
       "      <td>NaN</td>\n",
       "      <td>OUTBOUND</td>\n",
       "      <td>user_4368</td>\n",
       "      <td>2018-04-03 03:34:21.784487</td>\n",
       "    </tr>\n",
       "    <tr>\n",
       "      <th>1</th>\n",
       "      <td>transaction_1</td>\n",
       "      <td>CARD_PAYMENT</td>\n",
       "      <td>AED</td>\n",
       "      <td>15.50</td>\n",
       "      <td>COMPLETED</td>\n",
       "      <td>FALSE</td>\n",
       "      <td>4111.0</td>\n",
       "      <td>Dubai</td>\n",
       "      <td>ARE</td>\n",
       "      <td>OUTBOUND</td>\n",
       "      <td>user_2355</td>\n",
       "      <td>2019-03-19 06:15:59.537032</td>\n",
       "    </tr>\n",
       "  </tbody>\n",
       "</table>\n",
       "</div>"
      ],
      "text/plain": [
       "  transaction_id transactions_type transactions_currency  amount_usd  \\\n",
       "0  transaction_0          TRANSFER                   AED        4.55   \n",
       "1  transaction_1      CARD_PAYMENT                   AED       15.50   \n",
       "\n",
       "  transactions_state ea_cardholderpresence  ea_merchant_mcc ea_merchant_city  \\\n",
       "0          COMPLETED                   NaN              NaN              NaN   \n",
       "1          COMPLETED                 FALSE           4111.0            Dubai   \n",
       "\n",
       "  ea_merchant_country direction    user_id                created_date  \n",
       "0                 NaN  OUTBOUND  user_4368  2018-04-03 03:34:21.784487  \n",
       "1                 ARE  OUTBOUND  user_2355  2019-03-19 06:15:59.537032  "
      ]
     },
     "execution_count": 26,
     "metadata": {},
     "output_type": "execute_result"
    }
   ],
   "source": [
    "print(trans.shape)\n",
    "print(trans.isna().sum())\n",
    "trans.head(2)\n"
   ]
  },
  {
   "cell_type": "code",
   "execution_count": 19,
   "metadata": {
    "colab": {},
    "colab_type": "code",
    "id": "Ewwrmg1RlAuB"
   },
   "outputs": [
    {
     "name": "stdout",
     "output_type": "stream",
     "text": [
      "CARD_PAYMENT    1173661\n",
      "TRANSFER         402126\n",
      "TOPUP            309740\n",
      "EXCHANGE         124800\n",
      "ATM               74181\n",
      "CASHBACK          65063\n",
      "FEE               18786\n",
      "CARD_REFUND        9209\n",
      "TAX                2267\n",
      "REFUND             1193\n",
      "Name: transactions_type, dtype: int64\n"
     ]
    }
   ],
   "source": [
    "print(trans['transactions_type'].value_counts())"
   ]
  },
  {
   "cell_type": "code",
   "execution_count": 20,
   "metadata": {},
   "outputs": [
    {
     "name": "stdout",
     "output_type": "stream",
     "text": [
      "COMPLETED    1916387\n",
      "DECLINED      124226\n",
      "REVERTED       89330\n",
      "FAILED         32566\n",
      "PENDING        17153\n",
      "CANCELLED       1364\n",
      "Name: transactions_state, dtype: int64\n"
     ]
    }
   ],
   "source": [
    "print(trans['transactions_state'].value_counts())"
   ]
  },
  {
   "cell_type": "code",
   "execution_count": 24,
   "metadata": {},
   "outputs": [
    {
     "data": {
      "text/plain": [
       "0.8786630695828477"
      ]
     },
     "execution_count": 24,
     "metadata": {},
     "output_type": "execute_result"
    }
   ],
   "source": [
    "len(trans[trans.transactions_state=='COMPLETED']) / len(trans['transactions_state'])"
   ]
  },
  {
   "cell_type": "code",
   "execution_count": 50,
   "metadata": {},
   "outputs": [
    {
     "ename": "ValueError",
     "evalue": "only leading negative signs are allowed",
     "output_type": "error",
     "traceback": [
      "\u001b[0;31m---------------------------------------------------------------------------\u001b[0m",
      "\u001b[0;31mValueError\u001b[0m                                Traceback (most recent call last)",
      "\u001b[0;32mpandas/_libs/tslibs/timedeltas.pyx\u001b[0m in \u001b[0;36mpandas._libs.tslibs.timedeltas.array_to_timedelta64\u001b[0;34m()\u001b[0m\n",
      "\u001b[0;32mpandas/_libs/tslibs/timedeltas.pyx\u001b[0m in \u001b[0;36mpandas._libs.tslibs.timedeltas.parse_timedelta_string\u001b[0;34m()\u001b[0m\n",
      "\u001b[0;31mValueError\u001b[0m: only leading negative signs are allowed",
      "\nDuring handling of the above exception, another exception occurred:\n",
      "\u001b[0;31mValueError\u001b[0m                                Traceback (most recent call last)",
      "\u001b[0;32m<ipython-input-50-e04a85787f00>\u001b[0m in \u001b[0;36m<module>\u001b[0;34m\u001b[0m\n\u001b[1;32m      1\u001b[0m \u001b[0mtrans1\u001b[0m \u001b[0;34m=\u001b[0m \u001b[0mtrans\u001b[0m\u001b[0;34m[\u001b[0m\u001b[0mtrans\u001b[0m\u001b[0;34m.\u001b[0m\u001b[0mtransactions_state\u001b[0m\u001b[0;34m==\u001b[0m\u001b[0;34m'COMPLETED'\u001b[0m\u001b[0;34m]\u001b[0m\u001b[0;34m\u001b[0m\u001b[0m\n\u001b[0;32m----> 2\u001b[0;31m \u001b[0mtrans1\u001b[0m\u001b[0;34m[\u001b[0m\u001b[0;34m'created_date'\u001b[0m\u001b[0;34m]\u001b[0m \u001b[0;34m=\u001b[0m \u001b[0mpd\u001b[0m\u001b[0;34m.\u001b[0m\u001b[0mto_timedelta\u001b[0m\u001b[0;34m(\u001b[0m\u001b[0mtrans1\u001b[0m\u001b[0;34m[\u001b[0m\u001b[0;34m'created_date'\u001b[0m\u001b[0;34m]\u001b[0m\u001b[0;34m)\u001b[0m\u001b[0;34m\u001b[0m\u001b[0m\n\u001b[0m\u001b[1;32m      3\u001b[0m \u001b[0mprint\u001b[0m\u001b[0;34m(\u001b[0m\u001b[0mtrans1\u001b[0m\u001b[0;34m.\u001b[0m\u001b[0minfo\u001b[0m\u001b[0;34m(\u001b[0m\u001b[0;34m)\u001b[0m\u001b[0;34m)\u001b[0m\u001b[0;34m\u001b[0m\u001b[0m\n\u001b[1;32m      4\u001b[0m \u001b[0mtrans1\u001b[0m\u001b[0;34m.\u001b[0m\u001b[0mcreated_date\u001b[0m\u001b[0;34m.\u001b[0m\u001b[0mmin\u001b[0m\u001b[0;34m(\u001b[0m\u001b[0;34m)\u001b[0m\u001b[0;34m\u001b[0m\u001b[0m\n",
      "\u001b[0;32m/usr/local/lib/python3.5/dist-packages/pandas/core/tools/timedeltas.py\u001b[0m in \u001b[0;36mto_timedelta\u001b[0;34m(arg, unit, box, errors)\u001b[0m\n\u001b[1;32m     96\u001b[0m         \u001b[0;32mfrom\u001b[0m \u001b[0mpandas\u001b[0m \u001b[0;32mimport\u001b[0m \u001b[0mSeries\u001b[0m\u001b[0;34m\u001b[0m\u001b[0m\n\u001b[1;32m     97\u001b[0m         values = _convert_listlike(arg._values, unit=unit,\n\u001b[0;32m---> 98\u001b[0;31m                                    box=False, errors=errors)\n\u001b[0m\u001b[1;32m     99\u001b[0m         \u001b[0;32mreturn\u001b[0m \u001b[0mSeries\u001b[0m\u001b[0;34m(\u001b[0m\u001b[0mvalues\u001b[0m\u001b[0;34m,\u001b[0m \u001b[0mindex\u001b[0m\u001b[0;34m=\u001b[0m\u001b[0marg\u001b[0m\u001b[0;34m.\u001b[0m\u001b[0mindex\u001b[0m\u001b[0;34m,\u001b[0m \u001b[0mname\u001b[0m\u001b[0;34m=\u001b[0m\u001b[0marg\u001b[0m\u001b[0;34m.\u001b[0m\u001b[0mname\u001b[0m\u001b[0;34m)\u001b[0m\u001b[0;34m\u001b[0m\u001b[0m\n\u001b[1;32m    100\u001b[0m     \u001b[0;32melif\u001b[0m \u001b[0misinstance\u001b[0m\u001b[0;34m(\u001b[0m\u001b[0marg\u001b[0m\u001b[0;34m,\u001b[0m \u001b[0mABCIndexClass\u001b[0m\u001b[0;34m)\u001b[0m\u001b[0;34m:\u001b[0m\u001b[0;34m\u001b[0m\u001b[0m\n",
      "\u001b[0;32m/usr/local/lib/python3.5/dist-packages/pandas/core/tools/timedeltas.py\u001b[0m in \u001b[0;36m_convert_listlike\u001b[0;34m(arg, unit, box, errors, name)\u001b[0m\n\u001b[1;32m    147\u001b[0m     \u001b[0;32mtry\u001b[0m\u001b[0;34m:\u001b[0m\u001b[0;34m\u001b[0m\u001b[0m\n\u001b[1;32m    148\u001b[0m         value = sequence_to_td64ns(arg, unit=unit,\n\u001b[0;32m--> 149\u001b[0;31m                                    errors=errors, copy=False)[0]\n\u001b[0m\u001b[1;32m    150\u001b[0m     \u001b[0;32mexcept\u001b[0m \u001b[0mValueError\u001b[0m\u001b[0;34m:\u001b[0m\u001b[0;34m\u001b[0m\u001b[0m\n\u001b[1;32m    151\u001b[0m         \u001b[0;32mif\u001b[0m \u001b[0merrors\u001b[0m \u001b[0;34m==\u001b[0m \u001b[0;34m'ignore'\u001b[0m\u001b[0;34m:\u001b[0m\u001b[0;34m\u001b[0m\u001b[0m\n",
      "\u001b[0;32m/usr/local/lib/python3.5/dist-packages/pandas/core/arrays/timedeltas.py\u001b[0m in \u001b[0;36msequence_to_td64ns\u001b[0;34m(data, copy, unit, errors)\u001b[0m\n\u001b[1;32m    910\u001b[0m     \u001b[0;32mif\u001b[0m \u001b[0mis_object_dtype\u001b[0m\u001b[0;34m(\u001b[0m\u001b[0mdata\u001b[0m\u001b[0;34m.\u001b[0m\u001b[0mdtype\u001b[0m\u001b[0;34m)\u001b[0m \u001b[0;32mor\u001b[0m \u001b[0mis_string_dtype\u001b[0m\u001b[0;34m(\u001b[0m\u001b[0mdata\u001b[0m\u001b[0;34m.\u001b[0m\u001b[0mdtype\u001b[0m\u001b[0;34m)\u001b[0m\u001b[0;34m:\u001b[0m\u001b[0;34m\u001b[0m\u001b[0m\n\u001b[1;32m    911\u001b[0m         \u001b[0;31m# no need to make a copy, need to convert if string-dtyped\u001b[0m\u001b[0;34m\u001b[0m\u001b[0;34m\u001b[0m\u001b[0m\n\u001b[0;32m--> 912\u001b[0;31m         \u001b[0mdata\u001b[0m \u001b[0;34m=\u001b[0m \u001b[0mobjects_to_td64ns\u001b[0m\u001b[0;34m(\u001b[0m\u001b[0mdata\u001b[0m\u001b[0;34m,\u001b[0m \u001b[0munit\u001b[0m\u001b[0;34m=\u001b[0m\u001b[0munit\u001b[0m\u001b[0;34m,\u001b[0m \u001b[0merrors\u001b[0m\u001b[0;34m=\u001b[0m\u001b[0merrors\u001b[0m\u001b[0;34m)\u001b[0m\u001b[0;34m\u001b[0m\u001b[0m\n\u001b[0m\u001b[1;32m    913\u001b[0m         \u001b[0mcopy\u001b[0m \u001b[0;34m=\u001b[0m \u001b[0;32mFalse\u001b[0m\u001b[0;34m\u001b[0m\u001b[0m\n\u001b[1;32m    914\u001b[0m \u001b[0;34m\u001b[0m\u001b[0m\n",
      "\u001b[0;32m/usr/local/lib/python3.5/dist-packages/pandas/core/arrays/timedeltas.py\u001b[0m in \u001b[0;36mobjects_to_td64ns\u001b[0;34m(data, unit, errors)\u001b[0m\n\u001b[1;32m   1030\u001b[0m \u001b[0;34m\u001b[0m\u001b[0m\n\u001b[1;32m   1031\u001b[0m     result = array_to_timedelta64(values,\n\u001b[0;32m-> 1032\u001b[0;31m                                   unit=unit, errors=errors)\n\u001b[0m\u001b[1;32m   1033\u001b[0m     \u001b[0;32mreturn\u001b[0m \u001b[0mresult\u001b[0m\u001b[0;34m.\u001b[0m\u001b[0mview\u001b[0m\u001b[0;34m(\u001b[0m\u001b[0;34m'timedelta64[ns]'\u001b[0m\u001b[0;34m)\u001b[0m\u001b[0;34m\u001b[0m\u001b[0m\n\u001b[1;32m   1034\u001b[0m \u001b[0;34m\u001b[0m\u001b[0m\n",
      "\u001b[0;32mpandas/_libs/tslibs/timedeltas.pyx\u001b[0m in \u001b[0;36mpandas._libs.tslibs.timedeltas.array_to_timedelta64\u001b[0;34m()\u001b[0m\n",
      "\u001b[0;32mpandas/_libs/tslibs/timedeltas.pyx\u001b[0m in \u001b[0;36mpandas._libs.tslibs.timedeltas.array_to_timedelta64\u001b[0;34m()\u001b[0m\n",
      "\u001b[0;32mpandas/_libs/tslibs/timedeltas.pyx\u001b[0m in \u001b[0;36mpandas._libs.tslibs.timedeltas.convert_to_timedelta64\u001b[0;34m()\u001b[0m\n",
      "\u001b[0;32mpandas/_libs/tslibs/timedeltas.pyx\u001b[0m in \u001b[0;36mpandas._libs.tslibs.timedeltas.parse_timedelta_string\u001b[0;34m()\u001b[0m\n",
      "\u001b[0;31mValueError\u001b[0m: only leading negative signs are allowed"
     ]
    }
   ],
   "source": [
    "trans1 = trans[trans.transactions_state=='COMPLETED']\n",
    "trans1['created_date'] = pd.to_timedelta(trans1['created_date'])\n",
    "print(trans1.info())\n",
    "trans1.created_date.min()"
   ]
  },
  {
   "cell_type": "code",
   "execution_count": 46,
   "metadata": {},
   "outputs": [
    {
     "data": {
      "text/html": [
       "<div>\n",
       "<style scoped>\n",
       "    .dataframe tbody tr th:only-of-type {\n",
       "        vertical-align: middle;\n",
       "    }\n",
       "\n",
       "    .dataframe tbody tr th {\n",
       "        vertical-align: top;\n",
       "    }\n",
       "\n",
       "    .dataframe thead th {\n",
       "        text-align: right;\n",
       "    }\n",
       "</style>\n",
       "<table border=\"1\" class=\"dataframe\">\n",
       "  <thead>\n",
       "    <tr style=\"text-align: right;\">\n",
       "      <th></th>\n",
       "      <th>first_transaction</th>\n",
       "      <th>last_transaction</th>\n",
       "    </tr>\n",
       "    <tr>\n",
       "      <th>user_id</th>\n",
       "      <th></th>\n",
       "      <th></th>\n",
       "    </tr>\n",
       "  </thead>\n",
       "  <tbody>\n",
       "    <tr>\n",
       "      <th>user_0</th>\n",
       "      <td>2018-09-10 18:54:08.965855</td>\n",
       "      <td>2019-05-10 05:09:13.868855</td>\n",
       "    </tr>\n",
       "    <tr>\n",
       "      <th>user_1</th>\n",
       "      <td>2018-02-04 08:28:17.978146</td>\n",
       "      <td>2019-05-04 02:30:11.492146</td>\n",
       "    </tr>\n",
       "  </tbody>\n",
       "</table>\n",
       "</div>"
      ],
      "text/plain": [
       "                 first_transaction           last_transaction\n",
       "user_id                                                      \n",
       "user_0  2018-09-10 18:54:08.965855 2019-05-10 05:09:13.868855\n",
       "user_1  2018-02-04 08:28:17.978146 2019-05-04 02:30:11.492146"
      ]
     },
     "execution_count": 46,
     "metadata": {},
     "output_type": "execute_result"
    }
   ],
   "source": [
    "trans_grouped2 = trans1.groupby(['user_id'], as_index=True)['created_date'].agg(['min','max'])\n",
    "trans_grouped2.rename(columns={'min':'first_transaction', 'max':'last_transaction'}, inplace=True)\n",
    "trans_grouped2.head(2)"
   ]
  },
  {
   "cell_type": "code",
   "execution_count": 49,
   "metadata": {},
   "outputs": [
    {
     "name": "stdout",
     "output_type": "stream",
     "text": [
      "<class 'pandas.core.frame.DataFrame'>\n",
      "Index: 14821 entries, user_0 to user_9999\n",
      "Data columns (total 3 columns):\n",
      "first_transaction     14821 non-null datetime64[ns]\n",
      "last_transaction      14821 non-null datetime64[ns]\n",
      "transaction_period    14821 non-null timedelta64[ns]\n",
      "dtypes: datetime64[ns](2), timedelta64[ns](1)\n",
      "memory usage: 463.2+ KB\n"
     ]
    }
   ],
   "source": [
    "trans_grouped2['transaction_period']=trans_grouped2['last_transaction']-trans_grouped2['first_transaction']\n",
    "#trans_grouped2['transaction_period'].timedelta64('D')\n",
    "#['transaction_period'].days\n",
    "trans_grouped2.head(2)\n",
    "\n",
    "trans_grouped2.info()"
   ]
  },
  {
   "cell_type": "code",
   "execution_count": null,
   "metadata": {},
   "outputs": [],
   "source": []
  }
 ],
 "metadata": {
  "colab": {
   "collapsed_sections": [],
   "name": "proj.pynb",
   "provenance": [],
   "toc_visible": true
  },
  "kernelspec": {
   "display_name": "Python 3",
   "language": "python",
   "name": "python3"
  },
  "language_info": {
   "codemirror_mode": {
    "name": "ipython",
    "version": 3
   },
   "file_extension": ".py",
   "mimetype": "text/x-python",
   "name": "python",
   "nbconvert_exporter": "python",
   "pygments_lexer": "ipython3",
   "version": "3.5.2"
  }
 },
 "nbformat": 4,
 "nbformat_minor": 1
}
