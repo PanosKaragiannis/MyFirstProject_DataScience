{
 "cells": [
  {
   "cell_type": "code",
   "execution_count": 5,
   "metadata": {
    "colab": {},
    "colab_type": "code",
    "id": "bJDNQ2hhgwKk"
   },
   "outputs": [],
   "source": [
    "import pandas as pd\n",
    "import matplotlib.pyplot as plt\n",
    "import numpy as np\n",
    "from imblearn.over_sampling import SMOTE\n",
    "from sklearn.preprocessing import StandardScaler\n",
    "from sklearn.neural_network import MLPClassifier\n",
    "from sklearn.model_selection import GridSearchCV\n",
    "from sklearn.metrics import accuracy_score \n",
    "from sklearn.metrics import classification_report\n",
    "from sklearn.feature_selection import VarianceThreshold\n",
    "from sklearn.ensemble import RandomForestClassifier\n",
    "from imblearn.pipeline import Pipeline\n",
    "from sklearn.model_selection import train_test_split"
   ]
  },
  {
   "cell_type": "code",
   "execution_count": 6,
   "metadata": {
    "colab": {
     "base_uri": "https://localhost:8080/",
     "height": 177
    },
    "colab_type": "code",
    "id": "VazvCs5sg4gu",
    "outputId": "797f691e-fd5c-4369-d2dc-7fead81e5e3f"
   },
   "outputs": [
    {
     "data": {
      "text/html": [
       "<div>\n",
       "<style scoped>\n",
       "    .dataframe tbody tr th:only-of-type {\n",
       "        vertical-align: middle;\n",
       "    }\n",
       "\n",
       "    .dataframe tbody tr th {\n",
       "        vertical-align: top;\n",
       "    }\n",
       "\n",
       "    .dataframe thead th {\n",
       "        text-align: right;\n",
       "    }\n",
       "</style>\n",
       "<table border=\"1\" class=\"dataframe\">\n",
       "  <thead>\n",
       "    <tr style=\"text-align: right;\">\n",
       "      <th></th>\n",
       "      <th>Unnamed: 0</th>\n",
       "      <th>Unnamed: 0.1</th>\n",
       "      <th>Unnamed: 0.1.1</th>\n",
       "      <th>user_id</th>\n",
       "      <th>total_amount</th>\n",
       "      <th>number_transactions</th>\n",
       "      <th>avg_amount</th>\n",
       "      <th>first_transaction</th>\n",
       "      <th>last_transaction</th>\n",
       "      <th>transaction_period</th>\n",
       "      <th>...</th>\n",
       "      <th>ATM</th>\n",
       "      <th>CARD_PAYMENT</th>\n",
       "      <th>CARD_REFUND</th>\n",
       "      <th>CASHBACK</th>\n",
       "      <th>EXCHANGE</th>\n",
       "      <th>FEE</th>\n",
       "      <th>REFUND</th>\n",
       "      <th>TAX</th>\n",
       "      <th>TOPUP</th>\n",
       "      <th>TRANSFER</th>\n",
       "    </tr>\n",
       "  </thead>\n",
       "  <tbody>\n",
       "    <tr>\n",
       "      <th>0</th>\n",
       "      <td>0</td>\n",
       "      <td>0</td>\n",
       "      <td>0</td>\n",
       "      <td>user_0</td>\n",
       "      <td>6925.08</td>\n",
       "      <td>520</td>\n",
       "      <td>13.317462</td>\n",
       "      <td>2018-09-10 18:54:08.965855</td>\n",
       "      <td>2019-05-10 05:09:13.868855</td>\n",
       "      <td>241.5</td>\n",
       "      <td>...</td>\n",
       "      <td>0</td>\n",
       "      <td>333</td>\n",
       "      <td>1</td>\n",
       "      <td>0</td>\n",
       "      <td>5</td>\n",
       "      <td>0</td>\n",
       "      <td>0</td>\n",
       "      <td>0</td>\n",
       "      <td>158</td>\n",
       "      <td>23</td>\n",
       "    </tr>\n",
       "    <tr>\n",
       "      <th>1</th>\n",
       "      <td>1</td>\n",
       "      <td>1</td>\n",
       "      <td>1</td>\n",
       "      <td>user_1</td>\n",
       "      <td>12955.54</td>\n",
       "      <td>133</td>\n",
       "      <td>97.410075</td>\n",
       "      <td>2018-02-04 08:28:17.978146</td>\n",
       "      <td>2019-05-04 02:30:11.492146</td>\n",
       "      <td>453.5</td>\n",
       "      <td>...</td>\n",
       "      <td>4</td>\n",
       "      <td>78</td>\n",
       "      <td>0</td>\n",
       "      <td>0</td>\n",
       "      <td>0</td>\n",
       "      <td>0</td>\n",
       "      <td>0</td>\n",
       "      <td>0</td>\n",
       "      <td>24</td>\n",
       "      <td>27</td>\n",
       "    </tr>\n",
       "  </tbody>\n",
       "</table>\n",
       "<p>2 rows × 45 columns</p>\n",
       "</div>"
      ],
      "text/plain": [
       "   Unnamed: 0  Unnamed: 0.1  Unnamed: 0.1.1 user_id  total_amount  \\\n",
       "0           0             0               0  user_0       6925.08   \n",
       "1           1             1               1  user_1      12955.54   \n",
       "\n",
       "   number_transactions  avg_amount           first_transaction  \\\n",
       "0                  520   13.317462  2018-09-10 18:54:08.965855   \n",
       "1                  133   97.410075  2018-02-04 08:28:17.978146   \n",
       "\n",
       "             last_transaction  transaction_period  ...  ATM  CARD_PAYMENT  \\\n",
       "0  2019-05-10 05:09:13.868855               241.5  ...    0           333   \n",
       "1  2019-05-04 02:30:11.492146               453.5  ...    4            78   \n",
       "\n",
       "   CARD_REFUND  CASHBACK  EXCHANGE  FEE  REFUND  TAX TOPUP TRANSFER  \n",
       "0            1         0         5    0       0    0   158       23  \n",
       "1            0         0         0    0       0    0    24       27  \n",
       "\n",
       "[2 rows x 45 columns]"
      ]
     },
     "execution_count": 6,
     "metadata": {},
     "output_type": "execute_result"
    }
   ],
   "source": [
    "df=pd.read_csv('../processed_data/trans_type_users.csv')\n",
    "df.head(2)"
   ]
  },
  {
   "cell_type": "code",
   "execution_count": 7,
   "metadata": {
    "colab": {},
    "colab_type": "code",
    "id": "H0r-k_bfR61R"
   },
   "outputs": [],
   "source": [
    "features = ['total_amount', 'number_transactions' ,'transaction_period', 'age', 'user_settings_crypto_unlocked', \n",
    "            'brand', 'num_contacts', 'user_active_time' ,'user_trans_time', 'user_trans_periodicity']\n",
    "\n",
    "x=df[features].copy()\n",
    "y=df['plan']"
   ]
  },
  {
   "cell_type": "code",
   "execution_count": 8,
   "metadata": {
    "colab": {},
    "colab_type": "code",
    "id": "tZblejnMUCWx"
   },
   "outputs": [],
   "source": [
    "labels=['standard','paid']"
   ]
  },
  {
   "cell_type": "code",
   "execution_count": 9,
   "metadata": {
    "colab": {
     "base_uri": "https://localhost:8080/",
     "height": 34
    },
    "colab_type": "code",
    "id": "G2aJ3F2SgV0u",
    "outputId": "08b9c0c8-06cd-4d7c-c345-69be4f73a1db"
   },
   "outputs": [
    {
     "name": "stdout",
     "output_type": "stream",
     "text": [
      "(11856, 10) (11856,)\n"
     ]
    }
   ],
   "source": [
    "x_train,x_test,y_train,y_test=train_test_split(x,y,test_size=0.2)\n",
    "print(x_train.shape,y_train.shape)"
   ]
  },
  {
   "cell_type": "code",
   "execution_count": 10,
   "metadata": {
    "colab": {
     "base_uri": "https://localhost:8080/",
     "height": 295
    },
    "colab_type": "code",
    "id": "mp74dIk2iGAH",
    "outputId": "a191e387-be9d-41f5-b355-f382b610a2d3"
   },
   "outputs": [
    {
     "data": {
      "image/png": "[encoded data removed]",
      "text/plain": [
       "<Figure size 432x288 with 1 Axes>"
      ]
     },
     "metadata": {
      "needs_background": "light"
     },
     "output_type": "display_data"
    }
   ],
   "source": [
    "count_classes=pd.value_counts(df['plan'],sort=True)\n",
    "count_classes.plot(kind='bar',rot=0)\n",
    "plt.title('Plan Class Distribution')\n",
    "plt.xticks(range(2),labels)\n",
    "plt.xlabel('Plan')\n",
    "plt.ylabel('Frequency')\n",
    "plt.show()"
   ]
  },
  {
   "cell_type": "code",
   "execution_count": 11,
   "metadata": {
    "colab": {
     "base_uri": "https://localhost:8080/",
     "height": 34
    },
    "colab_type": "code",
    "id": "gLKWklZ0mKKl",
    "outputId": "97a2692c-f1a6-4217-8914-bff582e32c57"
   },
   "outputs": [
    {
     "name": "stdout",
     "output_type": "stream",
     "text": [
      "(13672, 45) (1149, 45)\n"
     ]
    }
   ],
   "source": [
    "Standard=df[df['plan']==0]\n",
    "Paid=df[df['plan']==1]\n",
    "print(Standard.shape,Paid.shape)"
   ]
  },
  {
   "cell_type": "code",
   "execution_count": 12,
   "metadata": {
    "colab": {
     "base_uri": "https://localhost:8080/",
     "height": 104
    },
    "colab_type": "code",
    "id": "xHlzmTgYpeRD",
    "outputId": "f9953b19-04d2-47ec-8f38-9a7d08cfe2a0"
   },
   "outputs": [
    {
     "name": "stdout",
     "output_type": "stream",
     "text": [
      "Original dataset shape is :  (11856, 10)  and  (11856,)\n",
      "Resampled dataset shape is:  (21906, 10)  and  (21906,)\n"
     ]
    }
   ],
   "source": [
    "os=SMOTE()\n",
    "X_train,Y_train=os.fit_sample(x_train,y_train)\n",
    "print('Original dataset shape is : ',x_train.shape, ' and ',y_train.shape)\n",
    "print('Resampled dataset shape is: ',X_train.shape,' and ',Y_train.shape)"
   ]
  },
  {
   "cell_type": "code",
   "execution_count": 13,
   "metadata": {
    "colab": {
     "base_uri": "https://localhost:8080/",
     "height": 235
    },
    "colab_type": "code",
    "id": "EMwVrxsSwecA",
    "outputId": "eabab34e-decc-4e6c-e75b-ffd74548173b"
   },
   "outputs": [
    {
     "data": {
      "text/plain": [
       "array([[-0.20169225, -0.47021084, -0.25451235, ...,  1.3311179 ,\n",
       "         1.42806689, -0.30402561],\n",
       "       [-0.21533162, -0.52562311,  1.37104047, ...,  1.14572109,\n",
       "         1.24995642, -0.28393841],\n",
       "       [-0.0250603 ,  0.21320713,  0.9997213 , ...,  0.6616294 ,\n",
       "         0.7848902 , -0.3574602 ],\n",
       "       ...,\n",
       "       [-0.19287186, -0.55332924, -1.40147602, ..., -1.44983434,\n",
       "        -1.24359011, -0.26913731],\n",
       "       [-0.21195644, -0.66415378,  0.38085601, ...,  0.10543895,\n",
       "         0.06255331, -0.1011817 ],\n",
       "       [-0.21461817, -0.51638773, -0.13073929, ..., -0.73914655,\n",
       "        -0.56083332, -0.28801407]])"
      ]
     },
     "execution_count": 13,
     "metadata": {},
     "output_type": "execute_result"
    }
   ],
   "source": [
    "ssc=StandardScaler()\n",
    "ssc.fit_transform(X_train)\n",
    "ssc.transform(x_test)"
   ]
  },
  {
   "cell_type": "markdown",
   "metadata": {
    "colab_type": "text",
    "id": "hEYWxr2IiACP"
   },
   "source": [
    "## Neural"
   ]
  },
  {
   "cell_type": "code",
   "execution_count": 14,
   "metadata": {
    "colab": {},
    "colab_type": "code",
    "id": "xOc79mUNxO5a"
   },
   "outputs": [],
   "source": [
    "#  grid={'activation':['relu'],#'logistic','identity','tanh'],\n",
    "#       'learning_rate_init':[0.0001],\n",
    "#       'solver':['adam'],\n",
    "#       'batch_size':[128]\n",
    "#       #'momentum':[0.5]\n",
    "#        }\n",
    "\n",
    "# mlp=MLPClassifier()\n",
    "# gs=GridSearchCV(mlp,grid,cv=5,scoring='accuracy')\n",
    "# gs_result=gs.fit(X_train,Y_train)\n",
    "# print(\"Best: %f using %s\" % (gs_result.best_score_, gs_result.best_params_))\n",
    "# mlp_pred=gs.predict(x_test)\n",
    "# print(accuracy_score(y_test,mlp_pred))\n",
    "# print(classification_report(y_test,mlp_pred))"
   ]
  },
  {
   "cell_type": "markdown",
   "metadata": {
    "colab_type": "text",
    "id": "SnsHTtyYUx-A"
   },
   "source": [
    "## Random Forest\n"
   ]
  },
  {
   "cell_type": "code",
   "execution_count": 15,
   "metadata": {
    "colab": {
     "base_uri": "https://localhost:8080/",
     "height": 370
    },
    "colab_type": "code",
    "id": "2jvJmJloVNzO",
    "outputId": "37dd5a4c-a58d-465c-fa21-0c7fd599cae4"
   },
   "outputs": [
    {
     "name": "stdout",
     "output_type": "stream",
     "text": [
      "total_amount        : 0.22987403264762643\n",
      "number_transactions : 0.19274809842633933\n",
      "user_trans_periodicity: 0.13146077372437293\n",
      "transaction_period  : 0.1018665386591706\n",
      "age                 : 0.08319995070239607\n",
      "user_trans_time     : 0.07858308476547393\n",
      "user_active_time    : 0.076833555444565\n",
      "num_contacts        : 0.07500697623986055\n",
      "user_settings_crypto_unlocked: 0.015349986960856866\n",
      "brand               : 0.015077002429338411\n",
      "{'model__n_estimators': 102, 'selector__threshold': 0} \n",
      "\n",
      "              precision    recall  f1-score   support\n",
      "\n",
      "           0       0.95      0.90      0.92      2719\n",
      "           1       0.29      0.47      0.36       246\n",
      "\n",
      "    accuracy                           0.86      2965\n",
      "   macro avg       0.62      0.68      0.64      2965\n",
      "weighted avg       0.89      0.86      0.87      2965\n",
      "\n"
     ]
    }
   ],
   "source": [
    "var = VarianceThreshold()\n",
    "\n",
    "rf = RandomForestClassifier(n_estimators=50, n_jobs=-1)\n",
    "rf.fit(X_train, Y_train)\n",
    "rf.feature_importances_\n",
    "\n",
    "for c, imp in sorted(zip(features, rf.feature_importances_), key=lambda pair: pair[1], reverse=True):\n",
    "  print('{:20}: {}'.format(c, imp))\n",
    "\n",
    "rf = RandomForestClassifier()\n",
    "\n",
    "pipe1 = Pipeline([('selector', var),\n",
    "                  ('model', rf)])\n",
    "\n",
    "grid1 = {'selector__threshold': [0, 0.01, 0.5],\n",
    "         'model__n_estimators': [101,102,103,104,105]}\n",
    "\n",
    "clf = GridSearchCV(pipe1, grid1)\n",
    "clf.fit(X_train, Y_train)\n",
    "\n",
    "print(clf.best_params_, '\\n')\n",
    "print(classification_report(y_test, clf.predict(x_test)))"
   ]
  }
 ],
 "metadata": {
  "colab": {
   "name": "neural_random (3).ipynb",
   "provenance": []
  },
  "kernelspec": {
   "display_name": "Python 3",
   "language": "python",
   "name": "python3"
  },
  "language_info": {
   "codemirror_mode": {
    "name": "ipython",
    "version": 3
   },
   "file_extension": ".py",
   "mimetype": "text/x-python",
   "name": "python",
   "nbconvert_exporter": "python",
   "pygments_lexer": "ipython3",
   "version": "3.5.2"
  }
 },
 "nbformat": 4,
 "nbformat_minor": 1
}
