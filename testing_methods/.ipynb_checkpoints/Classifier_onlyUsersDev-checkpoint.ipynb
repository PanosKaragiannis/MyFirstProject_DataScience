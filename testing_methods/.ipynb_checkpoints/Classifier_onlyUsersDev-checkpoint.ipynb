{
 "cells": [
  {
   "cell_type": "code",
   "execution_count": 1,
   "metadata": {},
   "outputs": [
    {
     "name": "stderr",
     "output_type": "stream",
     "text": [
      "C:\\Users\\ioann\\Anaconda3\\lib\\site-packages\\sklearn\\ensemble\\weight_boosting.py:29: DeprecationWarning: numpy.core.umath_tests is an internal NumPy module and should not be imported. It will be removed in a future NumPy release.\n",
      "  from numpy.core.umath_tests import inner1d\n"
     ]
    }
   ],
   "source": [
    "import numpy as np\n",
    "import pandas as pd\n",
    "import matplotlib.pyplot as plt\n",
    "import seaborn as sns\n",
    "import missingno as msno\n",
    "import pandas.util.testing as tm\n",
    "import statistics \n",
    "import random\n",
    "from sklearn.model_selection import train_test_split\n",
    "from sklearn.feature_selection import VarianceThreshold\n",
    "from sklearn.ensemble import RandomForestClassifier\n",
    "from sklearn.preprocessing import StandardScaler\n",
    "from sklearn.ensemble import RandomForestClassifier\n",
    "from sklearn.model_selection import GridSearchCV\n",
    "from sklearn.metrics import classification_report\n",
    "from imblearn.over_sampling import SMOTE\n",
    "from imblearn.pipeline import Pipeline\n",
    "from sklearn.model_selection import train_test_split\n",
    "from sklearn.feature_selection import VarianceThreshold\n",
    "from sklearn.ensemble import RandomForestClassifier\n",
    "from sklearn.metrics import classification_report"
   ]
  },
  {
   "cell_type": "code",
   "execution_count": 2,
   "metadata": {},
   "outputs": [],
   "source": [
    "udv= pd.read_csv('C:\\\\Users\\\\ioann\\\\Desktop\\\\pf-ds-coh-team2\\\\processed_data\\\\users_devices.csv')"
   ]
  },
  {
   "cell_type": "code",
   "execution_count": 3,
   "metadata": {},
   "outputs": [
    {
     "name": "stdout",
     "output_type": "stream",
     "text": [
      "<class 'pandas.core.frame.DataFrame'>\n",
      "RangeIndex: 15544 entries, 0 to 15543\n",
      "Data columns (total 22 columns):\n",
      "user_id                                     15544 non-null object\n",
      "Australia                                   15544 non-null int64\n",
      "EastEurope                                  15544 non-null int64\n",
      "NorthEurope                                 15544 non-null int64\n",
      "SouthEurope                                 15544 non-null int64\n",
      "WestEurope                                  15544 non-null int64\n",
      "year_2018                                   15544 non-null int64\n",
      "year_2019                                   15544 non-null int64\n",
      "age                                         15544 non-null int64\n",
      "country                                     15544 non-null object\n",
      "city                                        15544 non-null object\n",
      "created_date                                15544 non-null object\n",
      "user_settings_crypto_unlocked               15544 non-null int64\n",
      "plan                                        15544 non-null int64\n",
      "attributes_notifications_marketing_push     15544 non-null float64\n",
      "attributes_notifications_marketing_email    15544 non-null float64\n",
      "num_contacts                                15544 non-null int64\n",
      "num_referrals                               15544 non-null int64\n",
      "num_successful_referrals                    15544 non-null int64\n",
      "brand                                       15544 non-null int64\n",
      "created_year                                15544 non-null int64\n",
      "created_month                               15544 non-null int64\n",
      "dtypes: float64(2), int64(16), object(4)\n",
      "memory usage: 2.6+ MB\n"
     ]
    }
   ],
   "source": [
    "udv.info()"
   ]
  },
  {
   "cell_type": "code",
   "execution_count": 4,
   "metadata": {},
   "outputs": [],
   "source": [
    "udv.drop('user_id', axis=1, inplace=True)\n",
    "udv.drop('country', axis=1, inplace=True)\n",
    "udv.drop('city', axis=1, inplace=True)\n",
    "udv.drop('created_date', axis=1, inplace=True)\n",
    "udv.drop('num_referrals', axis=1, inplace=True)\n",
    "udv.drop('num_successful_referrals', axis=1, inplace=True)\n",
    "udv.drop('created_year', axis=1, inplace=True)"
   ]
  },
  {
   "cell_type": "code",
   "execution_count": 5,
   "metadata": {},
   "outputs": [],
   "source": [
    "#udv.drop('Australia', axis=1, inplace=True)\n",
    "# udv.drop('EastEurope', axis=1, inplace=True)\n",
    "# udv.drop('NorthEurope', axis=1, inplace=True)\n",
    "# udv.drop('SouthEurope', axis=1, inplace=True)\n",
    "# udv.drop('WestEurope', axis=1, inplace=True)\n",
    "udv.drop('year_2018', axis=1, inplace=True)\n",
    "udv.drop('year_2019', axis=1, inplace=True)"
   ]
  },
  {
   "cell_type": "code",
   "execution_count": 6,
   "metadata": {},
   "outputs": [
    {
     "name": "stdout",
     "output_type": "stream",
     "text": [
      "<class 'pandas.core.frame.DataFrame'>\n",
      "RangeIndex: 15544 entries, 0 to 15543\n",
      "Data columns (total 13 columns):\n",
      "Australia                                   15544 non-null int64\n",
      "EastEurope                                  15544 non-null int64\n",
      "NorthEurope                                 15544 non-null int64\n",
      "SouthEurope                                 15544 non-null int64\n",
      "WestEurope                                  15544 non-null int64\n",
      "age                                         15544 non-null int64\n",
      "user_settings_crypto_unlocked               15544 non-null int64\n",
      "plan                                        15544 non-null int64\n",
      "attributes_notifications_marketing_push     15544 non-null float64\n",
      "attributes_notifications_marketing_email    15544 non-null float64\n",
      "num_contacts                                15544 non-null int64\n",
      "brand                                       15544 non-null int64\n",
      "created_month                               15544 non-null int64\n",
      "dtypes: float64(2), int64(11)\n",
      "memory usage: 1.5 MB\n"
     ]
    }
   ],
   "source": [
    "udv.info()"
   ]
  },
  {
   "cell_type": "code",
   "execution_count": 7,
   "metadata": {},
   "outputs": [
    {
     "name": "stdout",
     "output_type": "stream",
     "text": [
      "(15544, 12)\n",
      "Index(['Australia', 'EastEurope', 'NorthEurope', 'SouthEurope', 'WestEurope',\n",
      "       'age', 'user_settings_crypto_unlocked',\n",
      "       'attributes_notifications_marketing_push',\n",
      "       'attributes_notifications_marketing_email', 'num_contacts', 'brand',\n",
      "       'created_month'],\n",
      "      dtype='object')\n",
      "(15544,)\n",
      "<class 'numpy.ndarray'>\n"
     ]
    }
   ],
   "source": [
    "X = udv.drop(columns=['plan']).values\n",
    "X_columns = udv.drop(columns=['plan']).columns\n",
    "y = udv['plan'].values\n",
    "print(X.shape)\n",
    "print(X_columns)\n",
    "print(y.shape)\n",
    "print(type(y))"
   ]
  },
  {
   "cell_type": "code",
   "execution_count": 8,
   "metadata": {},
   "outputs": [
    {
     "name": "stdout",
     "output_type": "stream",
     "text": [
      "X train:  (12435, 12) \n",
      " y train:  (12435,) \n",
      " X test:  (3109, 12) \n",
      " y test:  (3109,) \n",
      "\n"
     ]
    }
   ],
   "source": [
    "X_train, X_test, y_train, y_test = train_test_split(X, y, test_size=0.2, stratify=y)\n",
    "print(\"X train: \", X_train.shape, \"\\n\",\n",
    "      \"y train: \", y_train.shape, \"\\n\",\n",
    "      \"X test: \", X_test.shape, \"\\n\",\n",
    "      \"y test: \", y_test.shape, \"\\n\")"
   ]
  },
  {
   "cell_type": "code",
   "execution_count": 9,
   "metadata": {},
   "outputs": [],
   "source": [
    "var = VarianceThreshold()"
   ]
  },
  {
   "cell_type": "code",
   "execution_count": 10,
   "metadata": {},
   "outputs": [
    {
     "data": {
      "text/plain": [
       "array([1.84976438e-05, 7.90998884e-03, 1.20520869e-02, 8.25828310e-03,\n",
       "       1.06142190e-02, 3.35907694e-01, 7.10260080e-02, 1.23687024e-02,\n",
       "       1.36742288e-02, 3.02411660e-01, 2.46299348e-02, 2.01128697e-01])"
      ]
     },
     "execution_count": 10,
     "metadata": {},
     "output_type": "execute_result"
    }
   ],
   "source": [
    "rf = RandomForestClassifier(n_estimators=50, n_jobs=-1)\n",
    "rf.fit(X_train, y_train)\n",
    "rf.feature_importances_"
   ]
  },
  {
   "cell_type": "code",
   "execution_count": 11,
   "metadata": {},
   "outputs": [
    {
     "name": "stdout",
     "output_type": "stream",
     "text": [
      "age                 : 0.3359076941225094\n",
      "num_contacts        : 0.30241165958078975\n",
      "created_month       : 0.20112869678677747\n",
      "user_settings_crypto_unlocked: 0.0710260080409341\n",
      "brand               : 0.024629934818097773\n",
      "attributes_notifications_marketing_email: 0.013674228829977337\n",
      "attributes_notifications_marketing_push: 0.01236870241821445\n",
      "NorthEurope         : 0.012052086861801165\n",
      "WestEurope          : 0.010614218959998359\n",
      "SouthEurope         : 0.008258283096599237\n",
      "EastEurope          : 0.007909988840530862\n",
      "Australia           : 1.8497643770079975e-05\n"
     ]
    }
   ],
   "source": [
    "for c, imp in sorted(zip(X_columns, rf.feature_importances_), key=lambda pair: pair[1], reverse=True):\n",
    "  print('{:20}: {}'.format(c, imp))"
   ]
  },
  {
   "cell_type": "code",
   "execution_count": 12,
   "metadata": {},
   "outputs": [],
   "source": [
    "sc = StandardScaler()"
   ]
  },
  {
   "cell_type": "code",
   "execution_count": 13,
   "metadata": {},
   "outputs": [],
   "source": [
    "sampler = SMOTE()"
   ]
  },
  {
   "cell_type": "code",
   "execution_count": 14,
   "metadata": {},
   "outputs": [
    {
     "data": {
      "text/plain": [
       "GridSearchCV(cv=None, error_score='raise',\n",
       "       estimator=Pipeline(memory=None,\n",
       "     steps=[('scaler', StandardScaler(copy=True, with_mean=True, with_std=True)), ('selector', VarianceThreshold(threshold=0.0)), ('sampler', SMOTE(k=None, k_neighbors=5, kind='regular', m=None, m_neighbors=10, n_jobs=1,\n",
       "   out_step=0.5, random_state=None, ratio='auto', svm_estimator=None)), ('model', Ra...n_jobs=1,\n",
       "            oob_score=False, random_state=None, verbose=0,\n",
       "            warm_start=False))]),\n",
       "       fit_params=None, iid=True, n_jobs=1,\n",
       "       param_grid={'selector__threshold': [0, 0.2, 0.4], 'model__n_estimators': [20, 50, 100]},\n",
       "       pre_dispatch='2*n_jobs', refit=True, return_train_score='warn',\n",
       "       scoring=None, verbose=0)"
      ]
     },
     "execution_count": 14,
     "metadata": {},
     "output_type": "execute_result"
    }
   ],
   "source": [
    "rf = RandomForestClassifier()\n",
    "\n",
    "pipe1 = Pipeline([('scaler', sc),\n",
    "                  ('selector', var),\n",
    "                  ('sampler', sampler),\n",
    "                  ('model', rf)])\n",
    "\n",
    "grid1 = {'selector__threshold': [0, 0.2, 0.4],\n",
    "         'model__n_estimators': [20, 50, 100]}\n",
    "\n",
    "clf = GridSearchCV(pipe1, grid1)\n",
    "clf.fit(X_train, y_train)"
   ]
  },
  {
   "cell_type": "code",
   "execution_count": 15,
   "metadata": {},
   "outputs": [
    {
     "name": "stdout",
     "output_type": "stream",
     "text": [
      "{'model__n_estimators': 100, 'selector__threshold': 0.4} \n",
      "\n",
      "             precision    recall  f1-score   support\n",
      "\n",
      "          0       0.94      0.93      0.93      2879\n",
      "          1       0.21      0.23      0.22       230\n",
      "\n",
      "avg / total       0.88      0.88      0.88      3109\n",
      "\n"
     ]
    }
   ],
   "source": [
    "print(clf.best_params_, '\\n')\n",
    "\n",
    "print(classification_report(y_test, clf.predict(X_test)))"
   ]
  },
  {
   "cell_type": "code",
   "execution_count": null,
   "metadata": {},
   "outputs": [],
   "source": []
  }
 ],
 "metadata": {
  "kernelspec": {
   "display_name": "Python 3",
   "language": "python",
   "name": "python3"
  },
  "language_info": {
   "codemirror_mode": {
    "name": "ipython",
    "version": 3
   },
   "file_extension": ".py",
   "mimetype": "text/x-python",
   "name": "python",
   "nbconvert_exporter": "python",
   "pygments_lexer": "ipython3",
   "version": "3.6.8"
  }
 },
 "nbformat": 4,
 "nbformat_minor": 2
}
