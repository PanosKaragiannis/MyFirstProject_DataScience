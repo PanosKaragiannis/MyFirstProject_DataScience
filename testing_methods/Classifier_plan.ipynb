{
 "cells": [
  {
   "cell_type": "code",
   "execution_count": 1,
   "metadata": {},
   "outputs": [],
   "source": [
    "import numpy as np\n",
    "import pandas as pd\n",
    "import matplotlib.pyplot as plt\n",
    "import seaborn as sns\n",
    "import missingno as msno\n",
    "import pandas.util.testing as tm\n",
    "import statistics \n",
    "import random"
   ]
  },
  {
   "cell_type": "code",
   "execution_count": 2,
   "metadata": {},
   "outputs": [
    {
     "name": "stderr",
     "output_type": "stream",
     "text": [
      "C:\\Users\\ioann\\Anaconda3\\lib\\site-packages\\sklearn\\ensemble\\weight_boosting.py:29: DeprecationWarning: numpy.core.umath_tests is an internal NumPy module and should not be imported. It will be removed in a future NumPy release.\n",
      "  from numpy.core.umath_tests import inner1d\n"
     ]
    }
   ],
   "source": [
    "from sklearn.model_selection import train_test_split\n",
    "from sklearn.feature_selection import VarianceThreshold\n",
    "from sklearn.ensemble import RandomForestClassifier\n",
    "from sklearn.preprocessing import StandardScaler\n",
    "from sklearn.ensemble import RandomForestClassifier\n",
    "from sklearn.model_selection import GridSearchCV\n",
    "from sklearn.metrics import classification_report"
   ]
  },
  {
   "cell_type": "code",
   "execution_count": 3,
   "metadata": {},
   "outputs": [],
   "source": [
    "#from imblearn.over_sampling import SMOTE\n",
    "#from imblearn.pipeline import Pipeline"
   ]
  },
  {
   "cell_type": "markdown",
   "metadata": {},
   "source": [
    "### Loading .csv files into pandas dataFrame"
   ]
  },
  {
   "cell_type": "code",
   "execution_count": 4,
   "metadata": {},
   "outputs": [],
   "source": [
    "us = pd.read_csv('C:\\\\Users\\\\ioann\\\\Desktop\\\\pf-ds-coh-team2\\\\data\\\\users.csv') # Users\n",
    "dev = pd.read_csv('C:\\\\Users\\\\ioann\\\\Desktop\\\\pf-ds-coh-team2\\\\data\\\\devices.csv') # devices"
   ]
  },
  {
   "cell_type": "markdown",
   "metadata": {},
   "source": [
    "### Merge the two datasets \"users\" as us and \"devices\" as dev into the new one called \"ud\""
   ]
  },
  {
   "cell_type": "code",
   "execution_count": 5,
   "metadata": {},
   "outputs": [],
   "source": [
    "ud=pd.merge(us,dev,on='user_id')"
   ]
  },
  {
   "cell_type": "code",
   "execution_count": 6,
   "metadata": {},
   "outputs": [],
   "source": [
    "ud['age'] = 2020 - (ud[['birth_year']])"
   ]
  },
  {
   "cell_type": "code",
   "execution_count": 7,
   "metadata": {},
   "outputs": [
    {
     "data": {
      "text/plain": [
       "<matplotlib.axes._subplots.AxesSubplot at 0x1ab60e68518>"
      ]
     },
     "execution_count": 7,
     "metadata": {},
     "output_type": "execute_result"
    },
    {
     "data": {
      "image/png": "[encoded data removed]",
      "text/plain": [
       "<Figure size 432x288 with 1 Axes>"
      ]
     },
     "metadata": {
      "needs_background": "light"
     },
     "output_type": "display_data"
    }
   ],
   "source": [
    "ud.age.hist()"
   ]
  },
  {
   "cell_type": "code",
   "execution_count": 8,
   "metadata": {},
   "outputs": [
    {
     "name": "stdout",
     "output_type": "stream",
     "text": [
      "Number of customers by plan  \n",
      " STANDARD    14394\n",
      "PAID         1150\n",
      "Name: plan, dtype: int64\n"
     ]
    }
   ],
   "source": [
    "# Replace 'SILVER' and 'GOLD' with 'PAID' in order to have two categories of plan: 'STANDARD' and 'PAID'\n",
    "ud['plan'] = ud['plan'].str.replace('SILVER', 'PAID')\n",
    "ud['plan'] = ud['plan'].str.replace('GOLD', 'PAID')\n",
    "print(\"Number of customers by plan \",\"\\n\" ,ud['plan'].value_counts())"
   ]
  },
  {
   "cell_type": "code",
   "execution_count": 9,
   "metadata": {},
   "outputs": [
    {
     "data": {
      "text/plain": [
       "0    14394\n",
       "1     1150\n",
       "Name: plan, dtype: int64"
      ]
     },
     "execution_count": 9,
     "metadata": {},
     "output_type": "execute_result"
    }
   ],
   "source": [
    "# Now make a dummie about plan, STANDARD=0 and PAID=1\n",
    "plan_dict = {'STANDARD': 0, 'PAID': 1}\n",
    "ud['plan'] = ud['plan'].map(plan_dict)\n",
    "ud['plan'].value_counts()"
   ]
  },
  {
   "cell_type": "code",
   "execution_count": 10,
   "metadata": {},
   "outputs": [
    {
     "data": {
      "text/html": [
       "<div>\n",
       "<style scoped>\n",
       "    .dataframe tbody tr th:only-of-type {\n",
       "        vertical-align: middle;\n",
       "    }\n",
       "\n",
       "    .dataframe tbody tr th {\n",
       "        vertical-align: top;\n",
       "    }\n",
       "\n",
       "    .dataframe thead th {\n",
       "        text-align: right;\n",
       "    }\n",
       "</style>\n",
       "<table border=\"1\" class=\"dataframe\">\n",
       "  <thead>\n",
       "    <tr style=\"text-align: right;\">\n",
       "      <th>plan</th>\n",
       "      <th>0</th>\n",
       "      <th>1</th>\n",
       "    </tr>\n",
       "    <tr>\n",
       "      <th>brand</th>\n",
       "      <th></th>\n",
       "      <th></th>\n",
       "    </tr>\n",
       "  </thead>\n",
       "  <tbody>\n",
       "    <tr>\n",
       "      <th>Android</th>\n",
       "      <td>7346</td>\n",
       "      <td>454</td>\n",
       "    </tr>\n",
       "    <tr>\n",
       "      <th>Apple</th>\n",
       "      <td>7025</td>\n",
       "      <td>687</td>\n",
       "    </tr>\n",
       "    <tr>\n",
       "      <th>Unknown</th>\n",
       "      <td>23</td>\n",
       "      <td>9</td>\n",
       "    </tr>\n",
       "  </tbody>\n",
       "</table>\n",
       "</div>"
      ],
      "text/plain": [
       "plan        0    1\n",
       "brand             \n",
       "Android  7346  454\n",
       "Apple    7025  687\n",
       "Unknown    23    9"
      ]
     },
     "execution_count": 10,
     "metadata": {},
     "output_type": "execute_result"
    }
   ],
   "source": [
    "pd.crosstab(index=ud['brand'], columns=ud['plan'])"
   ]
  },
  {
   "cell_type": "code",
   "execution_count": 11,
   "metadata": {},
   "outputs": [
    {
     "data": {
      "text/plain": [
       "Android    7832\n",
       "Apple      7712\n",
       "Name: brand, dtype: int64"
      ]
     },
     "execution_count": 11,
     "metadata": {},
     "output_type": "execute_result"
    }
   ],
   "source": [
    "#Only 32 obs of unknown, so we have to replace it somehow\n",
    "# Replace 'Unknown' with 'Android' in order to have two big categories of brand: 'Android' and 'Apple'\n",
    "ud['brand'] = ud['brand'].str.replace('Unknown', 'Android')\n",
    "ud['brand'].value_counts()"
   ]
  },
  {
   "cell_type": "code",
   "execution_count": 12,
   "metadata": {},
   "outputs": [
    {
     "data": {
      "text/plain": [
       "0    7832\n",
       "1    7712\n",
       "Name: brand, dtype: int64"
      ]
     },
     "execution_count": 12,
     "metadata": {},
     "output_type": "execute_result"
    }
   ],
   "source": [
    "# Now make a dummie about devices, Android=0 and Apple=1\n",
    "brand_dict = {'Android': 0, 'Apple': 1}\n",
    "ud['brand'] = ud['brand'].map(brand_dict)\n",
    "ud['brand'].value_counts()"
   ]
  },
  {
   "cell_type": "code",
   "execution_count": 13,
   "metadata": {},
   "outputs": [
    {
     "data": {
      "text/html": [
       "<div>\n",
       "<style scoped>\n",
       "    .dataframe tbody tr th:only-of-type {\n",
       "        vertical-align: middle;\n",
       "    }\n",
       "\n",
       "    .dataframe tbody tr th {\n",
       "        vertical-align: top;\n",
       "    }\n",
       "\n",
       "    .dataframe thead th {\n",
       "        text-align: right;\n",
       "    }\n",
       "</style>\n",
       "<table border=\"1\" class=\"dataframe\">\n",
       "  <thead>\n",
       "    <tr style=\"text-align: right;\">\n",
       "      <th>plan</th>\n",
       "      <th>0</th>\n",
       "      <th>1</th>\n",
       "    </tr>\n",
       "    <tr>\n",
       "      <th>attributes_notifications_marketing_email</th>\n",
       "      <th></th>\n",
       "      <th></th>\n",
       "    </tr>\n",
       "  </thead>\n",
       "  <tbody>\n",
       "    <tr>\n",
       "      <th>0.0</th>\n",
       "      <td>1002</td>\n",
       "      <td>73</td>\n",
       "    </tr>\n",
       "    <tr>\n",
       "      <th>1.0</th>\n",
       "      <td>8452</td>\n",
       "      <td>757</td>\n",
       "    </tr>\n",
       "  </tbody>\n",
       "</table>\n",
       "</div>"
      ],
      "text/plain": [
       "plan                                         0    1\n",
       "attributes_notifications_marketing_email           \n",
       "0.0                                       1002   73\n",
       "1.0                                       8452  757"
      ]
     },
     "execution_count": 13,
     "metadata": {},
     "output_type": "execute_result"
    }
   ],
   "source": [
    "pd.crosstab(index=ud['attributes_notifications_marketing_email'], columns=ud['plan'])"
   ]
  },
  {
   "cell_type": "code",
   "execution_count": 14,
   "metadata": {},
   "outputs": [
    {
     "name": "stdout",
     "output_type": "stream",
     "text": [
      "Number of attributes_notifications_marketing_push  \n",
      " 1.0    9752\n",
      "0.0    5792\n",
      "Name: attributes_notifications_marketing_push, dtype: int64\n",
      "Number of attributes_notifications_marketing_email  \n",
      " 1.0    9209\n",
      "0.0    6335\n",
      "Name: attributes_notifications_marketing_email, dtype: int64\n"
     ]
    }
   ],
   "source": [
    "ud['attributes_notifications_marketing_push'].fillna(random.randint(0, 1),inplace=True)\n",
    "#ud['attributes_notifications_marketing_push']\n",
    "ud['attributes_notifications_marketing_email'].fillna(random.randint(0, 1),inplace=True)\n",
    "print(\"Number of attributes_notifications_marketing_push \",\"\\n\" ,ud['attributes_notifications_marketing_push'].value_counts())\n",
    "print(\"Number of attributes_notifications_marketing_email \",\"\\n\" ,ud['attributes_notifications_marketing_email'].value_counts())"
   ]
  },
  {
   "cell_type": "code",
   "execution_count": 15,
   "metadata": {},
   "outputs": [
    {
     "data": {
      "text/plain": [
       "<matplotlib.axes._subplots.AxesSubplot at 0x1ab616e4da0>"
      ]
     },
     "execution_count": 15,
     "metadata": {},
     "output_type": "execute_result"
    },
    {
     "data": {
      "image/png": "[encoded data removed]",
      "text/plain": [
       "<Figure size 216x216 with 2 Axes>"
      ]
     },
     "metadata": {
      "needs_background": "light"
     },
     "output_type": "display_data"
    }
   ],
   "source": [
    "plt.figure(figsize=(3,3))\n",
    "sns.heatmap(ud.groupby(['plan', 'user_settings_crypto_unlocked']).num_contacts.mean().unstack(),annot=True, fmt=\".0f\")"
   ]
  },
  {
   "cell_type": "code",
   "execution_count": 16,
   "metadata": {},
   "outputs": [
    {
     "data": {
      "text/plain": [
       "<matplotlib.axes._subplots.AxesSubplot at 0x1ab616d1c88>"
      ]
     },
     "execution_count": 16,
     "metadata": {},
     "output_type": "execute_result"
    },
    {
     "data": {
      "image/png": "[encoded data removed]",
      "text/plain": [
       "<Figure size 216x216 with 2 Axes>"
      ]
     },
     "metadata": {
      "needs_background": "light"
     },
     "output_type": "display_data"
    }
   ],
   "source": [
    "plt.figure(figsize=(3,3))\n",
    "sns.heatmap(ud.groupby(['plan', 'attributes_notifications_marketing_email']).num_contacts.mean().unstack(),annot=True, fmt=\".0f\")"
   ]
  },
  {
   "cell_type": "code",
   "execution_count": 17,
   "metadata": {},
   "outputs": [
    {
     "name": "stdout",
     "output_type": "stream",
     "text": [
      "Number of customers by created year  \n",
      " 2018    15494\n",
      "2019       50\n",
      "Name: created_year, dtype: int64\n",
      "Number of customers by created month  \n",
      " 12    1922\n",
      "11    1555\n",
      "10    1454\n",
      "8     1421\n",
      "3     1418\n",
      "9     1407\n",
      "5     1266\n",
      "6     1262\n",
      "7     1237\n",
      "4      957\n",
      "1      937\n",
      "2      708\n",
      "Name: created_month, dtype: int64\n"
     ]
    }
   ],
   "source": [
    "import datetime as dt\n",
    "ud['created_date'] = ud['created_date'].apply(pd.to_datetime)\n",
    "ud['created_year']=pd.DatetimeIndex(ud['created_date']).year\n",
    "ud['created_month']=pd.DatetimeIndex(ud['created_date']).month\n",
    "print(\"Number of customers by created year \",\"\\n\" ,ud['created_year'].value_counts())\n",
    "print(\"Number of customers by created month \",\"\\n\" ,ud['created_month'].value_counts())"
   ]
  },
  {
   "cell_type": "code",
   "execution_count": 18,
   "metadata": {},
   "outputs": [],
   "source": [
    "ud_new=pd.concat([pd.get_dummies(ud['created_year']), ud], axis=1)"
   ]
  },
  {
   "cell_type": "code",
   "execution_count": 19,
   "metadata": {},
   "outputs": [
    {
     "name": "stdout",
     "output_type": "stream",
     "text": [
      "<class 'pandas.core.frame.DataFrame'>\n",
      "Int64Index: 15544 entries, 0 to 15543\n",
      "Data columns (total 10 columns):\n",
      "2018                                        15544 non-null uint8\n",
      "2019                                        15544 non-null uint8\n",
      "user_settings_crypto_unlocked               15544 non-null int64\n",
      "plan                                        15544 non-null int64\n",
      "attributes_notifications_marketing_push     15544 non-null float64\n",
      "attributes_notifications_marketing_email    15544 non-null float64\n",
      "num_contacts                                15544 non-null int64\n",
      "brand                                       15544 non-null int64\n",
      "age                                         15544 non-null int64\n",
      "created_month                               15544 non-null int64\n",
      "dtypes: float64(2), int64(6), uint8(2)\n",
      "memory usage: 1.1 MB\n"
     ]
    }
   ],
   "source": [
    "ud_new.drop('created_year', axis=1, inplace=True)\n",
    "ud_new.drop('num_referrals', axis=1, inplace=True)\n",
    "ud_new.drop('num_successful_referrals', axis=1, inplace=True)\n",
    "ud_new.drop('birth_year', axis=1, inplace=True)\n",
    "ud_new.drop('created_date', axis=1, inplace=True)\n",
    "ud_new.drop('user_id', axis=1, inplace=True)\n",
    "ud_new.drop('country', axis=1, inplace=True)\n",
    "ud_new.drop('city', axis=1, inplace=True)\n",
    "ud_new.info()"
   ]
  },
  {
   "cell_type": "code",
   "execution_count": 20,
   "metadata": {},
   "outputs": [
    {
     "data": {
      "image/png": "[encoded data removed]",
      "text/plain": [
       "<Figure size 576x576 with 2 Axes>"
      ]
     },
     "metadata": {
      "needs_background": "light"
     },
     "output_type": "display_data"
    }
   ],
   "source": [
    "mask = np.zeros_like(ud_new.corr(), dtype=np.bool) \n",
    "mask[np.triu_indices_from(mask)] = False \n",
    "f, ax = plt.subplots(figsize=(8, 8))\n",
    "plt.title('Pearson Correlation Matrix',fontsize=25)\n",
    "sns.heatmap(ud_new.corr(),linewidths=0.25,vmax=1.0,square=True,cmap=\"GnBu\", linecolor='w',annot=True,mask=mask,cbar_kws={\"shrink\": .75});"
   ]
  },
  {
   "cell_type": "code",
   "execution_count": 21,
   "metadata": {},
   "outputs": [],
   "source": [
    "import copy\n",
    "data=copy.deepcopy(ud_new)"
   ]
  },
  {
   "cell_type": "code",
   "execution_count": 22,
   "metadata": {},
   "outputs": [
    {
     "name": "stdout",
     "output_type": "stream",
     "text": [
      "(15544, 9)\n",
      "Index([                                      2018,\n",
      "                                             2019,\n",
      "                  'user_settings_crypto_unlocked',\n",
      "        'attributes_notifications_marketing_push',\n",
      "       'attributes_notifications_marketing_email',\n",
      "                                   'num_contacts',\n",
      "                                          'brand',\n",
      "                                            'age',\n",
      "                                  'created_month'],\n",
      "      dtype='object')\n",
      "(15544,)\n",
      "<class 'numpy.ndarray'>\n"
     ]
    }
   ],
   "source": [
    "from sklearn.model_selection import train_test_split\n",
    "\n",
    "X = data.drop(columns=['plan']).values\n",
    "X_columns = data.drop(columns=['plan']).columns\n",
    "y = data['plan'].values\n",
    "print(X.shape)\n",
    "print(X_columns)\n",
    "print(y.shape)\n",
    "print(type(y))"
   ]
  },
  {
   "cell_type": "code",
   "execution_count": 23,
   "metadata": {},
   "outputs": [
    {
     "name": "stdout",
     "output_type": "stream",
     "text": [
      "X train:  (12435, 9) \n",
      " y train:  (12435,) \n",
      " X test:  (3109, 9) \n",
      " y test:  (3109,) \n",
      "\n"
     ]
    }
   ],
   "source": [
    "X_train, X_test, y_train, y_test = train_test_split(X, y, test_size=0.2, stratify=y)\n",
    "print(\"X train: \", X_train.shape, \"\\n\",\n",
    "      \"y train: \", y_train.shape, \"\\n\",\n",
    "      \"X test: \", X_test.shape, \"\\n\",\n",
    "      \"y test: \", y_test.shape, \"\\n\")"
   ]
  },
  {
   "cell_type": "markdown",
   "metadata": {},
   "source": [
    "### Random Forests"
   ]
  },
  {
   "cell_type": "code",
   "execution_count": 24,
   "metadata": {},
   "outputs": [],
   "source": [
    "from sklearn.feature_selection import VarianceThreshold\n",
    "from sklearn.ensemble import RandomForestClassifier\n",
    "\n",
    "var = VarianceThreshold()"
   ]
  },
  {
   "cell_type": "code",
   "execution_count": 25,
   "metadata": {},
   "outputs": [],
   "source": [
    "rf = RandomForestClassifier(n_estimators=50, n_jobs=-1)\n",
    "rf.fit(X_train, y_train)\n",
    "rf.feature_importances_\n",
    "feat_names = X_columns"
   ]
  },
  {
   "cell_type": "code",
   "execution_count": 26,
   "metadata": {},
   "outputs": [
    {
     "data": {
      "text/plain": [
       "<matplotlib.axes._subplots.AxesSubplot at 0x1ab6194e160>"
      ]
     },
     "execution_count": 26,
     "metadata": {},
     "output_type": "execute_result"
    },
    {
     "data": {
      "image/png": "[encoded data removed]",
      "text/plain": [
       "<Figure size 432x288 with 1 Axes>"
      ]
     },
     "metadata": {
      "needs_background": "light"
     },
     "output_type": "display_data"
    }
   ],
   "source": [
    "rf_result = pd.DataFrame({'feature': feat_names, 'importance': rf.feature_importances_})\n",
    "rf_result.sort_values(by='importance',ascending=False)[:9].plot(x='feature', y='importance', kind='bar')"
   ]
  },
  {
   "cell_type": "code",
   "execution_count": 27,
   "metadata": {},
   "outputs": [
    {
     "name": "stdout",
     "output_type": "stream",
     "text": [
      "age                 : 0.3562618503589657\n",
      "num_contacts        : 0.33345621719976315\n",
      "created_month       : 0.20060882004571934\n",
      "user_settings_crypto_unlocked: 0.06613113719775425\n",
      "brand               : 0.020035037978960585\n",
      "attributes_notifications_marketing_email: 0.012245985471114846\n",
      "attributes_notifications_marketing_push: 0.010215891831705655\n",
      "                2019: 0.0005399635769395038\n",
      "                2018: 0.00050509633907711\n"
     ]
    }
   ],
   "source": [
    "for c, imp in sorted(zip(X_columns, rf.feature_importances_), key=lambda pair: pair[1], reverse=True):\n",
    "  print('{:20}: {}'.format(c, imp))"
   ]
  },
  {
   "cell_type": "code",
   "execution_count": 28,
   "metadata": {},
   "outputs": [],
   "source": [
    "from scipy import stats\n",
    "from scipy.cluster.hierarchy import fcluster\n",
    "from sklearn.model_selection import train_test_split\n",
    "import statsmodels.api as sm\n",
    "import statsmodels.formula.api as smf\n",
    "from sklearn.linear_model import LinearRegression\n",
    "from sklearn import metrics\n",
    "from sklearn.tree import DecisionTreeRegressor\n",
    "from sklearn.ensemble import RandomForestRegressor\n",
    "from sklearn.metrics import make_scorer, mean_squared_error\n",
    "from sklearn.feature_extraction.text import CountVectorizer\n",
    "from sklearn.svm import LinearSVC\n",
    "from sklearn.svm import SVR\n",
    "from sklearn.metrics import r2_score"
   ]
  },
  {
   "cell_type": "code",
   "execution_count": 29,
   "metadata": {},
   "outputs": [
    {
     "name": "stdout",
     "output_type": "stream",
     "text": [
      "Random Forest MSE: 0.2891853666119083\n",
      "Random Forest RMSE: 0.5377595806788646\n"
     ]
    }
   ],
   "source": [
    "rf_y_predict = rf.predict(X_test)\n",
    "rf_mse1 = np.sqrt(metrics.mean_squared_error(y_test, rf_y_predict))\n",
    "print(\"Random Forest MSE:\", rf_mse1)\n",
    "rf_rmse = rf_mse1**(1/2)\n",
    "print(\"Random Forest RMSE:\", rf_rmse)"
   ]
  },
  {
   "cell_type": "code",
   "execution_count": 30,
   "metadata": {},
   "outputs": [],
   "source": [
    "def plot_coefficients(classifier, feature_names, top_features=3):\n",
    " coef = classifier.coef_.ravel()\n",
    " top_positive_coefficients = np.argsort(coef)[-top_features:]\n",
    " top_negative_coefficients = np.argsort(coef)[:top_features]\n",
    " top_coefficients = np.hstack([top_negative_coefficients, top_positive_coefficients])\n",
    " # create plot\n",
    " plt.figure(figsize=(10, 7))\n",
    " colors = [\"red\" if c < 0 else \"blue\" for c in coef[top_coefficients]]\n",
    " plt.bar(np.arange(2 * top_features), coef[top_coefficients], color=colors)\n",
    " feature_names = np.array(feature_names)\n",
    " plt.xticks(np.arange(1, 1 + 2 * top_features), feature_names[top_coefficients], rotation=60, ha=\"right\")\n",
    " plt.show()"
   ]
  },
  {
   "cell_type": "code",
   "execution_count": 31,
   "metadata": {},
   "outputs": [],
   "source": [
    "# #SVR\n",
    "# svm=SVR(kernel=\"linear\",degree=1)\n",
    "# svm.fit(X_train,y_train)\n",
    "# svm_pred= svm.predict(X_test)\n",
    "# print(svm.score(X_test,y_test))\n",
    "# print(r2_score(y_test,svm_pred))"
   ]
  },
  {
   "cell_type": "code",
   "execution_count": 32,
   "metadata": {},
   "outputs": [],
   "source": [
    "#Get Support Vector Regression mean squared error on test dataset\n",
    "# svm_mse1 = np.sqrt(metrics.mean_squared_error(y_test, svm_pred))\n",
    "# print(\"Support Vector Regression MSE:\", svm_mse1)\n",
    "# svm_rmse = svm_mse1**(1/2)\n",
    "# print(\"Support Vector Regression RMSE:\", svm_rmse)\n",
    "\n",
    "#Get the visualisation of the most important features\n",
    "# print (X_columns)\n",
    "# plot_coefficients(svm, X_columns)"
   ]
  },
  {
   "cell_type": "code",
   "execution_count": 33,
   "metadata": {},
   "outputs": [],
   "source": [
    "from sklearn.feature_selection import VarianceThreshold\n",
    "from sklearn.ensemble import RandomForestClassifier\n",
    "\n",
    "var = VarianceThreshold()\n",
    "\n",
    "from sklearn.preprocessing import StandardScaler\n",
    "\n",
    "sc = StandardScaler()\n",
    "\n",
    "from imblearn.over_sampling import SMOTE\n",
    "from imblearn.pipeline import Pipeline\n",
    "\n",
    "sampler = SMOTE()"
   ]
  },
  {
   "cell_type": "code",
   "execution_count": 34,
   "metadata": {},
   "outputs": [
    {
     "data": {
      "text/plain": [
       "GridSearchCV(cv=None, error_score='raise',\n",
       "       estimator=Pipeline(memory=None,\n",
       "     steps=[('scaler', StandardScaler(copy=True, with_mean=True, with_std=True)), ('selector', VarianceThreshold(threshold=0.0)), ('sampler', SMOTE(k=None, k_neighbors=5, kind='regular', m=None, m_neighbors=10, n_jobs=1,\n",
       "   out_step=0.5, random_state=None, ratio='auto', svm_estimator=None)), ('model', Ra...n_jobs=1,\n",
       "            oob_score=False, random_state=None, verbose=0,\n",
       "            warm_start=False))]),\n",
       "       fit_params=None, iid=True, n_jobs=1,\n",
       "       param_grid={'selector__threshold': [0, 0.2, 0.4], 'model__n_estimators': [20, 50, 100]},\n",
       "       pre_dispatch='2*n_jobs', refit=True, return_train_score='warn',\n",
       "       scoring=None, verbose=0)"
      ]
     },
     "execution_count": 34,
     "metadata": {},
     "output_type": "execute_result"
    }
   ],
   "source": [
    "from sklearn.ensemble import RandomForestClassifier\n",
    "from sklearn.model_selection import GridSearchCV\n",
    "\n",
    "rf = RandomForestClassifier()\n",
    "\n",
    "pipe1 = Pipeline([('scaler', sc),\n",
    "                  ('selector', var),\n",
    "                  ('sampler', sampler),\n",
    "                  ('model', rf)])\n",
    "\n",
    "grid1 = {'selector__threshold': [0, 0.2, 0.4],\n",
    "         'model__n_estimators': [20, 50, 100]}\n",
    "\n",
    "clf = GridSearchCV(pipe1, grid1)\n",
    "clf.fit(X_train, y_train)"
   ]
  },
  {
   "cell_type": "code",
   "execution_count": 35,
   "metadata": {},
   "outputs": [
    {
     "name": "stdout",
     "output_type": "stream",
     "text": [
      "{'model__n_estimators': 100, 'selector__threshold': 0} \n",
      "\n",
      "             precision    recall  f1-score   support\n",
      "\n",
      "          0       0.94      0.93      0.94      2879\n",
      "          1       0.23      0.27      0.25       230\n",
      "\n",
      "avg / total       0.89      0.88      0.88      3109\n",
      "\n"
     ]
    }
   ],
   "source": [
    "from sklearn.metrics import classification_report\n",
    "print(clf.best_params_, '\\n')\n",
    "\n",
    "print(classification_report(y_test, clf.predict(X_test)))"
   ]
  }
 ],
 "metadata": {
  "kernelspec": {
   "display_name": "Python 3",
   "language": "python",
   "name": "python3"
  },
  "language_info": {
   "codemirror_mode": {
    "name": "ipython",
    "version": 3
   },
   "file_extension": ".py",
   "mimetype": "text/x-python",
   "name": "python",
   "nbconvert_exporter": "python",
   "pygments_lexer": "ipython3",
   "version": "3.5.2"
  }
 },
 "nbformat": 4,
 "nbformat_minor": 2
}
