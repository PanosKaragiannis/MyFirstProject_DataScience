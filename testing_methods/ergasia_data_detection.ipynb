{
  "nbformat": 4,
  "nbformat_minor": 0,
  "metadata": {
    "colab": {
      "name": "ergasia_data_detection.ipynb",
      "provenance": [],
      "collapsed_sections": []
    },
    "kernelspec": {
      "name": "python3",
      "display_name": "Python 3"
    }
  },
  "cells": [
    {
      "cell_type": "code",
      "metadata": {
        "id": "xjOIIltf09C1",
        "colab_type": "code",
        "colab": {}
      },
      "source": [
        "import pandas as pd\n"
      ],
      "execution_count": 0,
      "outputs": []
    },
    {
      "cell_type": "code",
      "metadata": {
        "id": "nnAXUUwLrPm_",
        "colab_type": "code",
        "outputId": "072c3a7f-f609-40d6-932c-6af4207fbbd4",
        "colab": {
          "base_uri": "https://localhost:8080/",
          "height": 34
        }
      },
      "source": [
        "pwd"
      ],
      "execution_count": 230,
      "outputs": [
        {
          "output_type": "execute_result",
          "data": {
            "text/plain": [
              "'/content'"
            ]
          },
          "metadata": {
            "tags": []
          },
          "execution_count": 230
        }
      ]
    },
    {
      "cell_type": "code",
      "metadata": {
        "id": "ixk2y42F2R70",
        "colab_type": "code",
        "colab": {}
      },
      "source": [
        "devices=pd.read_csv('/content/devices.csv')\n",
        "notifications=pd.read_csv('/content/notifications.csv')\n",
        "users=pd.read_csv('/content/users.csv')"
      ],
      "execution_count": 0,
      "outputs": []
    },
    {
      "cell_type": "code",
      "metadata": {
        "id": "MLHTND3A3tWp",
        "colab_type": "code",
        "outputId": "3e66603f-2b2b-429b-d2b9-4761de5130f1",
        "colab": {
          "base_uri": "https://localhost:8080/",
          "height": 67
        }
      },
      "source": [
        "print('the shape of devices is: ',devices.shape)\n",
        "print('the shape of notifications is: ',notifications.shape)\n",
        "print('the shape of users is: ',users.shape)"
      ],
      "execution_count": 232,
      "outputs": [
        {
          "output_type": "stream",
          "text": [
            "the shape of devices is:  (15544, 2)\n",
            "the shape of notifications is:  (97704, 5)\n",
            "the shape of users is:  (15544, 12)\n"
          ],
          "name": "stdout"
        }
      ]
    },
    {
      "cell_type": "code",
      "metadata": {
        "id": "sK0jdEWw8IKy",
        "colab_type": "code",
        "colab": {}
      },
      "source": [
        "devices = devices.set_index('user_id')"
      ],
      "execution_count": 0,
      "outputs": []
    },
    {
      "cell_type": "code",
      "metadata": {
        "id": "dqEYR0ifcGbf",
        "colab_type": "code",
        "colab": {}
      },
      "source": [
        "df=pd.merge(users,devices,on='user_id')"
      ],
      "execution_count": 0,
      "outputs": []
    },
    {
      "cell_type": "code",
      "metadata": {
        "id": "JZ0Kz6-gdEj-",
        "colab_type": "code",
        "colab": {}
      },
      "source": [
        "userdf=df.set_index('user_id')"
      ],
      "execution_count": 0,
      "outputs": []
    },
    {
      "cell_type": "code",
      "metadata": {
        "id": "aoiW0MgRdFJO",
        "colab_type": "code",
        "outputId": "bc1132dc-1a95-48cc-e0c7-8d25e19859f4",
        "colab": {
          "base_uri": "https://localhost:8080/",
          "height": 190
        }
      },
      "source": [
        "userdf.head(2)"
      ],
      "execution_count": 236,
      "outputs": [
        {
          "output_type": "execute_result",
          "data": {
            "text/html": [
              "<div>\n",
              "<style scoped>\n",
              "    .dataframe tbody tr th:only-of-type {\n",
              "        vertical-align: middle;\n",
              "    }\n",
              "\n",
              "    .dataframe tbody tr th {\n",
              "        vertical-align: top;\n",
              "    }\n",
              "\n",
              "    .dataframe thead th {\n",
              "        text-align: right;\n",
              "    }\n",
              "</style>\n",
              "<table border=\"1\" class=\"dataframe\">\n",
              "  <thead>\n",
              "    <tr style=\"text-align: right;\">\n",
              "      <th></th>\n",
              "      <th>birth_year</th>\n",
              "      <th>country</th>\n",
              "      <th>city</th>\n",
              "      <th>created_date</th>\n",
              "      <th>user_settings_crypto_unlocked</th>\n",
              "      <th>plan</th>\n",
              "      <th>attributes_notifications_marketing_push</th>\n",
              "      <th>attributes_notifications_marketing_email</th>\n",
              "      <th>num_contacts</th>\n",
              "      <th>num_referrals</th>\n",
              "      <th>num_successful_referrals</th>\n",
              "      <th>brand</th>\n",
              "    </tr>\n",
              "    <tr>\n",
              "      <th>user_id</th>\n",
              "      <th></th>\n",
              "      <th></th>\n",
              "      <th></th>\n",
              "      <th></th>\n",
              "      <th></th>\n",
              "      <th></th>\n",
              "      <th></th>\n",
              "      <th></th>\n",
              "      <th></th>\n",
              "      <th></th>\n",
              "      <th></th>\n",
              "      <th></th>\n",
              "    </tr>\n",
              "  </thead>\n",
              "  <tbody>\n",
              "    <tr>\n",
              "      <th>user_0</th>\n",
              "      <td>1992</td>\n",
              "      <td>ES</td>\n",
              "      <td>Madrid</td>\n",
              "      <td>2018-09-10 18:46:42.843855</td>\n",
              "      <td>0</td>\n",
              "      <td>STANDARD</td>\n",
              "      <td>1.0</td>\n",
              "      <td>1.0</td>\n",
              "      <td>3</td>\n",
              "      <td>0</td>\n",
              "      <td>0</td>\n",
              "      <td>Apple</td>\n",
              "    </tr>\n",
              "    <tr>\n",
              "      <th>user_1</th>\n",
              "      <td>1985</td>\n",
              "      <td>LT</td>\n",
              "      <td>Klaipeda</td>\n",
              "      <td>2018-01-11 18:53:10.531146</td>\n",
              "      <td>1</td>\n",
              "      <td>STANDARD</td>\n",
              "      <td>NaN</td>\n",
              "      <td>NaN</td>\n",
              "      <td>75</td>\n",
              "      <td>0</td>\n",
              "      <td>0</td>\n",
              "      <td>Apple</td>\n",
              "    </tr>\n",
              "  </tbody>\n",
              "</table>\n",
              "</div>"
            ],
            "text/plain": [
              "         birth_year country  ... num_successful_referrals  brand\n",
              "user_id                      ...                                \n",
              "user_0         1992      ES  ...                        0  Apple\n",
              "user_1         1985      LT  ...                        0  Apple\n",
              "\n",
              "[2 rows x 12 columns]"
            ]
          },
          "metadata": {
            "tags": []
          },
          "execution_count": 236
        }
      ]
    },
    {
      "cell_type": "code",
      "metadata": {
        "id": "g-V-dQJbeAB0",
        "colab_type": "code",
        "outputId": "ac7752ed-7f32-40e6-81dc-ee9a6411d364",
        "colab": {
          "base_uri": "https://localhost:8080/",
          "height": 235
        }
      },
      "source": [
        "userdf.isnull().sum()"
      ],
      "execution_count": 237,
      "outputs": [
        {
          "output_type": "execute_result",
          "data": {
            "text/plain": [
              "birth_year                                     0\n",
              "country                                        0\n",
              "city                                           0\n",
              "created_date                                   0\n",
              "user_settings_crypto_unlocked                  0\n",
              "plan                                           0\n",
              "attributes_notifications_marketing_push     5260\n",
              "attributes_notifications_marketing_email    5260\n",
              "num_contacts                                   0\n",
              "num_referrals                                  0\n",
              "num_successful_referrals                       0\n",
              "brand                                          0\n",
              "dtype: int64"
            ]
          },
          "metadata": {
            "tags": []
          },
          "execution_count": 237
        }
      ]
    },
    {
      "cell_type": "code",
      "metadata": {
        "id": "9hGkQW7lwAi7",
        "colab_type": "code",
        "outputId": "d8a425d0-0c9a-43a2-f5f9-8b9418a0a03f",
        "colab": {
          "base_uri": "https://localhost:8080/",
          "height": 67
        }
      },
      "source": [
        "userdf.attributes_notifications_marketing_email.value_counts()\n"
      ],
      "execution_count": 238,
      "outputs": [
        {
          "output_type": "execute_result",
          "data": {
            "text/plain": [
              "1.0    9209\n",
              "0.0    1075\n",
              "Name: attributes_notifications_marketing_email, dtype: int64"
            ]
          },
          "metadata": {
            "tags": []
          },
          "execution_count": 238
        }
      ]
    },
    {
      "cell_type": "code",
      "metadata": {
        "id": "4bX9FmFwwkDq",
        "colab_type": "code",
        "outputId": "b38094d4-1f0e-4333-d32b-e04ff47239c5",
        "colab": {
          "base_uri": "https://localhost:8080/",
          "height": 67
        }
      },
      "source": [
        "userdf.attributes_notifications_marketing_push.value_counts()"
      ],
      "execution_count": 239,
      "outputs": [
        {
          "output_type": "execute_result",
          "data": {
            "text/plain": [
              "1.0    9752\n",
              "0.0     532\n",
              "Name: attributes_notifications_marketing_push, dtype: int64"
            ]
          },
          "metadata": {
            "tags": []
          },
          "execution_count": 239
        }
      ]
    },
    {
      "cell_type": "code",
      "metadata": {
        "id": "v4EUiV2Ngw7W",
        "colab_type": "code",
        "outputId": "17a0e538-9341-4f1c-c0dd-7aa2b4683570",
        "colab": {
          "base_uri": "https://localhost:8080/",
          "height": 50
        }
      },
      "source": [
        "userdf['plan'].unique(),userdf['brand'].unique()"
      ],
      "execution_count": 240,
      "outputs": [
        {
          "output_type": "execute_result",
          "data": {
            "text/plain": [
              "(array(['STANDARD', 'GOLD', 'SILVER'], dtype=object),\n",
              " array(['Apple', 'Android', 'Unknown'], dtype=object))"
            ]
          },
          "metadata": {
            "tags": []
          },
          "execution_count": 240
        }
      ]
    },
    {
      "cell_type": "code",
      "metadata": {
        "id": "_-L5rroDhNTD",
        "colab_type": "code",
        "outputId": "3a494e99-eda9-41a3-8356-303e2a01b93b",
        "colab": {
          "base_uri": "https://localhost:8080/",
          "height": 235
        }
      },
      "source": [
        "userdf.dtypes"
      ],
      "execution_count": 241,
      "outputs": [
        {
          "output_type": "execute_result",
          "data": {
            "text/plain": [
              "birth_year                                    int64\n",
              "country                                      object\n",
              "city                                         object\n",
              "created_date                                 object\n",
              "user_settings_crypto_unlocked                 int64\n",
              "plan                                         object\n",
              "attributes_notifications_marketing_push     float64\n",
              "attributes_notifications_marketing_email    float64\n",
              "num_contacts                                  int64\n",
              "num_referrals                                 int64\n",
              "num_successful_referrals                      int64\n",
              "brand                                        object\n",
              "dtype: object"
            ]
          },
          "metadata": {
            "tags": []
          },
          "execution_count": 241
        }
      ]
    },
    {
      "cell_type": "code",
      "metadata": {
        "id": "Jsm3ES5jvchn",
        "colab_type": "code",
        "outputId": "e695bfeb-71f0-49a7-8159-eed9601a1d1a",
        "colab": {
          "base_uri": "https://localhost:8080/",
          "height": 84
        }
      },
      "source": [
        "userdf.iloc[:,1].unique()"
      ],
      "execution_count": 242,
      "outputs": [
        {
          "output_type": "execute_result",
          "data": {
            "text/plain": [
              "array(['ES', 'LT', 'IE', 'GB', 'MT', 'FR', 'RO', 'PL', 'AT', 'IT', 'SI',\n",
              "       'CZ', 'BE', 'BG', 'GI', 'CH', 'GG', 'CY', 'LV', 'DE', 'SK', 'GR',\n",
              "       'DK', 'PT', 'LU', 'HR', 'NL', 'NO', 'SE', 'AU', 'IM', 'FI', 'EE',\n",
              "       'JE', 'HU', 'RE', 'IS', 'GP', 'LI', 'MQ'], dtype=object)"
            ]
          },
          "metadata": {
            "tags": []
          },
          "execution_count": 242
        }
      ]
    },
    {
      "cell_type": "code",
      "metadata": {
        "id": "TGkXJ7UXwIul",
        "colab_type": "code",
        "outputId": "83b0b973-ff67-4b30-b9ff-35f1823f265a",
        "colab": {
          "base_uri": "https://localhost:8080/",
          "height": 50
        }
      },
      "source": [
        "userdf.iloc[:,2].unique()"
      ],
      "execution_count": 243,
      "outputs": [
        {
          "output_type": "execute_result",
          "data": {
            "text/plain": [
              "array(['Madrid', 'Klaipeda', 'Carrickmacross', ..., 'Schilde', 'Bralin',\n",
              "       'Andover'], dtype=object)"
            ]
          },
          "metadata": {
            "tags": []
          },
          "execution_count": 243
        }
      ]
    },
    {
      "cell_type": "code",
      "metadata": {
        "id": "ldhLKl3Cnrsh",
        "colab_type": "code",
        "outputId": "4fe46989-c55e-4424-a65b-a0452c493a53",
        "colab": {
          "base_uri": "https://localhost:8080/",
          "height": 218
        }
      },
      "source": [
        "userdf.iloc[:,8].value_counts()"
      ],
      "execution_count": 244,
      "outputs": [
        {
          "output_type": "execute_result",
          "data": {
            "text/plain": [
              "0      5539\n",
              "2       547\n",
              "1       526\n",
              "3       525\n",
              "4       489\n",
              "       ... \n",
              "212       1\n",
              "236       1\n",
              "244       1\n",
              "252       1\n",
              "379       1\n",
              "Name: num_contacts, Length: 283, dtype: int64"
            ]
          },
          "metadata": {
            "tags": []
          },
          "execution_count": 244
        }
      ]
    },
    {
      "cell_type": "code",
      "metadata": {
        "id": "x0YpVe2nbAL2",
        "colab_type": "code",
        "outputId": "d7aeb1b3-be5e-4c52-ab70-5c1daedc946e",
        "colab": {
          "base_uri": "https://localhost:8080/",
          "height": 50
        }
      },
      "source": [
        "userdf.iloc[:,9].value_counts()"
      ],
      "execution_count": 245,
      "outputs": [
        {
          "output_type": "execute_result",
          "data": {
            "text/plain": [
              "0    15544\n",
              "Name: num_referrals, dtype: int64"
            ]
          },
          "metadata": {
            "tags": []
          },
          "execution_count": 245
        }
      ]
    },
    {
      "cell_type": "code",
      "metadata": {
        "id": "xCu7LTV1wq29",
        "colab_type": "code",
        "colab": {}
      },
      "source": [
        "import numpy as np\n",
        "import matplotlib.pyplot as plt\n",
        "from matplotlib.pyplot import pie,axis,show\n",
        "import seaborn as sns"
      ],
      "execution_count": 0,
      "outputs": []
    },
    {
      "cell_type": "code",
      "metadata": {
        "id": "xN1RhVs11WCr",
        "colab_type": "code",
        "colab": {}
      },
      "source": [
        "def change(x):\n",
        "  if x == 'STANDARD':\n",
        "    return 0\n",
        "  elif x == 'SILVER':\n",
        "    return 1\n",
        "  else:\n",
        "    return 1"
      ],
      "execution_count": 0,
      "outputs": []
    },
    {
      "cell_type": "code",
      "metadata": {
        "id": "2AefRsxD2LOc",
        "colab_type": "code",
        "colab": {}
      },
      "source": [
        "userdf['plan']=userdf['plan'].apply(change)"
      ],
      "execution_count": 0,
      "outputs": []
    },
    {
      "cell_type": "code",
      "metadata": {
        "id": "oY7y4TiF3bNb",
        "colab_type": "code",
        "outputId": "a8318dec-ba72-4e86-acbf-453c725c4858",
        "colab": {
          "base_uri": "https://localhost:8080/",
          "height": 34
        }
      },
      "source": [
        "userdf['plan'].dtypes"
      ],
      "execution_count": 249,
      "outputs": [
        {
          "output_type": "execute_result",
          "data": {
            "text/plain": [
              "dtype('int64')"
            ]
          },
          "metadata": {
            "tags": []
          },
          "execution_count": 249
        }
      ]
    },
    {
      "cell_type": "code",
      "metadata": {
        "id": "ibaYmqKom-yW",
        "colab_type": "code",
        "colab": {
          "base_uri": "https://localhost:8080/",
          "height": 34
        },
        "outputId": "10e25256-fadc-44e3-da4a-53a2251369fc"
      },
      "source": [
        "userdf['brand'].unique()"
      ],
      "execution_count": 250,
      "outputs": [
        {
          "output_type": "execute_result",
          "data": {
            "text/plain": [
              "array(['Apple', 'Android', 'Unknown'], dtype=object)"
            ]
          },
          "metadata": {
            "tags": []
          },
          "execution_count": 250
        }
      ]
    },
    {
      "cell_type": "code",
      "metadata": {
        "id": "O1WPNVFgm-7O",
        "colab_type": "code",
        "colab": {
          "base_uri": "https://localhost:8080/",
          "height": 84
        },
        "outputId": "85ca6a8e-4f3c-4011-f083-18ced6af09eb"
      },
      "source": [
        "userdf.iloc[:,-1].value_counts()"
      ],
      "execution_count": 251,
      "outputs": [
        {
          "output_type": "execute_result",
          "data": {
            "text/plain": [
              "Android    7800\n",
              "Apple      7712\n",
              "Unknown      32\n",
              "Name: brand, dtype: int64"
            ]
          },
          "metadata": {
            "tags": []
          },
          "execution_count": 251
        }
      ]
    },
    {
      "cell_type": "code",
      "metadata": {
        "id": "1hGMHXnlw2Bw",
        "colab_type": "code",
        "colab": {}
      },
      "source": [
        "lista=[]            ##notification PUSH\n",
        "sk=userdf.attributes_notifications_marketing_email.isna()\n",
        "\n",
        "for i in range(len(userdf['plan'])):\n",
        "  if sk[i]:\n",
        "    lista.append(userdf.iloc[i,4])"
      ],
      "execution_count": 0,
      "outputs": []
    },
    {
      "cell_type": "code",
      "metadata": {
        "id": "_uCOnoR0y8ys",
        "colab_type": "code",
        "outputId": "5dc88f92-8972-4547-dd46-c7531d812e28",
        "colab": {
          "base_uri": "https://localhost:8080/",
          "height": 34
        }
      },
      "source": [
        "lista.count(1)"
      ],
      "execution_count": 253,
      "outputs": [
        {
          "output_type": "execute_result",
          "data": {
            "text/plain": [
              "193"
            ]
          },
          "metadata": {
            "tags": []
          },
          "execution_count": 253
        }
      ]
    },
    {
      "cell_type": "code",
      "metadata": {
        "id": "uc6avMUrzC95",
        "colab_type": "code",
        "outputId": "cde85756-83d9-4fda-ea3e-fb37ebc7c961",
        "colab": {
          "base_uri": "https://localhost:8080/",
          "height": 34
        }
      },
      "source": [
        "lista.count(0)"
      ],
      "execution_count": 254,
      "outputs": [
        {
          "output_type": "execute_result",
          "data": {
            "text/plain": [
              "5067"
            ]
          },
          "metadata": {
            "tags": []
          },
          "execution_count": 254
        }
      ]
    },
    {
      "cell_type": "code",
      "metadata": {
        "id": "2i8DbPewzyQK",
        "colab_type": "code",
        "colab": {}
      },
      "source": [
        "lista=[]                ##notification email\n",
        "for i in range(len(userdf['plan'])):\n",
        "  if userdf.iloc[i,5]==1:\n",
        "    lista.append(userdf.iloc[i,4])"
      ],
      "execution_count": 0,
      "outputs": []
    },
    {
      "cell_type": "code",
      "metadata": {
        "id": "dQheg6ujz1E4",
        "colab_type": "code",
        "outputId": "1644f1be-42da-4b54-bbb0-38d771639fcf",
        "colab": {
          "base_uri": "https://localhost:8080/",
          "height": 34
        }
      },
      "source": [
        "lista.count(1)"
      ],
      "execution_count": 256,
      "outputs": [
        {
          "output_type": "execute_result",
          "data": {
            "text/plain": [
              "596"
            ]
          },
          "metadata": {
            "tags": []
          },
          "execution_count": 256
        }
      ]
    },
    {
      "cell_type": "code",
      "metadata": {
        "id": "QE98d4lYz1RV",
        "colab_type": "code",
        "outputId": "1d128c69-e2f5-4678-852c-3d8f8967eec6",
        "colab": {
          "base_uri": "https://localhost:8080/",
          "height": 34
        }
      },
      "source": [
        "lista.count(0)"
      ],
      "execution_count": 257,
      "outputs": [
        {
          "output_type": "execute_result",
          "data": {
            "text/plain": [
              "554"
            ]
          },
          "metadata": {
            "tags": []
          },
          "execution_count": 257
        }
      ]
    },
    {
      "cell_type": "code",
      "metadata": {
        "id": "xXtNe9bh0jKu",
        "colab_type": "code",
        "colab": {}
      },
      "source": [
        "lista=[]\n",
        "for i in range(len(userdf['plan'])):\n",
        "  if userdf.iloc[i,6]==0:\n",
        "    lista.append(userdf.iloc[i,4])"
      ],
      "execution_count": 0,
      "outputs": []
    },
    {
      "cell_type": "code",
      "metadata": {
        "id": "STKcOrJL07mz",
        "colab_type": "code",
        "outputId": "3ba23ced-eeac-44cd-f099-95bce9249357",
        "colab": {
          "base_uri": "https://localhost:8080/",
          "height": 34
        }
      },
      "source": [
        "lista.count(1)"
      ],
      "execution_count": 259,
      "outputs": [
        {
          "output_type": "execute_result",
          "data": {
            "text/plain": [
              "125"
            ]
          },
          "metadata": {
            "tags": []
          },
          "execution_count": 259
        }
      ]
    },
    {
      "cell_type": "code",
      "metadata": {
        "id": "wczjmyYF07vL",
        "colab_type": "code",
        "outputId": "1f5dc4aa-1c3f-4e3b-e847-29a35f819c47",
        "colab": {
          "base_uri": "https://localhost:8080/",
          "height": 34
        }
      },
      "source": [
        "lista.count(0)"
      ],
      "execution_count": 260,
      "outputs": [
        {
          "output_type": "execute_result",
          "data": {
            "text/plain": [
              "407"
            ]
          },
          "metadata": {
            "tags": []
          },
          "execution_count": 260
        }
      ]
    },
    {
      "cell_type": "code",
      "metadata": {
        "id": "GBWwTzam3g3E",
        "colab_type": "code",
        "outputId": "a3c4fa13-d431-4a81-b403-9fda0c6b4e70",
        "colab": {
          "base_uri": "https://localhost:8080/",
          "height": 304
        }
      },
      "source": [
        "userdf.describe()"
      ],
      "execution_count": 261,
      "outputs": [
        {
          "output_type": "execute_result",
          "data": {
            "text/html": [
              "<div>\n",
              "<style scoped>\n",
              "    .dataframe tbody tr th:only-of-type {\n",
              "        vertical-align: middle;\n",
              "    }\n",
              "\n",
              "    .dataframe tbody tr th {\n",
              "        vertical-align: top;\n",
              "    }\n",
              "\n",
              "    .dataframe thead th {\n",
              "        text-align: right;\n",
              "    }\n",
              "</style>\n",
              "<table border=\"1\" class=\"dataframe\">\n",
              "  <thead>\n",
              "    <tr style=\"text-align: right;\">\n",
              "      <th></th>\n",
              "      <th>birth_year</th>\n",
              "      <th>user_settings_crypto_unlocked</th>\n",
              "      <th>plan</th>\n",
              "      <th>attributes_notifications_marketing_push</th>\n",
              "      <th>attributes_notifications_marketing_email</th>\n",
              "      <th>num_contacts</th>\n",
              "      <th>num_referrals</th>\n",
              "      <th>num_successful_referrals</th>\n",
              "    </tr>\n",
              "  </thead>\n",
              "  <tbody>\n",
              "    <tr>\n",
              "      <th>count</th>\n",
              "      <td>15544.000000</td>\n",
              "      <td>15544.000000</td>\n",
              "      <td>15544.000000</td>\n",
              "      <td>10284.000000</td>\n",
              "      <td>10284.000000</td>\n",
              "      <td>15544.000000</td>\n",
              "      <td>15544.0</td>\n",
              "      <td>15544.0</td>\n",
              "    </tr>\n",
              "    <tr>\n",
              "      <th>mean</th>\n",
              "      <td>1983.666624</td>\n",
              "      <td>0.182385</td>\n",
              "      <td>0.073984</td>\n",
              "      <td>0.948269</td>\n",
              "      <td>0.895469</td>\n",
              "      <td>17.874228</td>\n",
              "      <td>0.0</td>\n",
              "      <td>0.0</td>\n",
              "    </tr>\n",
              "    <tr>\n",
              "      <th>std</th>\n",
              "      <td>11.369184</td>\n",
              "      <td>0.386174</td>\n",
              "      <td>0.261753</td>\n",
              "      <td>0.221494</td>\n",
              "      <td>0.305963</td>\n",
              "      <td>47.549929</td>\n",
              "      <td>0.0</td>\n",
              "      <td>0.0</td>\n",
              "    </tr>\n",
              "    <tr>\n",
              "      <th>min</th>\n",
              "      <td>1929.000000</td>\n",
              "      <td>0.000000</td>\n",
              "      <td>0.000000</td>\n",
              "      <td>0.000000</td>\n",
              "      <td>0.000000</td>\n",
              "      <td>0.000000</td>\n",
              "      <td>0.0</td>\n",
              "      <td>0.0</td>\n",
              "    </tr>\n",
              "    <tr>\n",
              "      <th>25%</th>\n",
              "      <td>1977.000000</td>\n",
              "      <td>0.000000</td>\n",
              "      <td>0.000000</td>\n",
              "      <td>1.000000</td>\n",
              "      <td>1.000000</td>\n",
              "      <td>0.000000</td>\n",
              "      <td>0.0</td>\n",
              "      <td>0.0</td>\n",
              "    </tr>\n",
              "    <tr>\n",
              "      <th>50%</th>\n",
              "      <td>1986.000000</td>\n",
              "      <td>0.000000</td>\n",
              "      <td>0.000000</td>\n",
              "      <td>1.000000</td>\n",
              "      <td>1.000000</td>\n",
              "      <td>5.000000</td>\n",
              "      <td>0.0</td>\n",
              "      <td>0.0</td>\n",
              "    </tr>\n",
              "    <tr>\n",
              "      <th>75%</th>\n",
              "      <td>1992.000000</td>\n",
              "      <td>0.000000</td>\n",
              "      <td>0.000000</td>\n",
              "      <td>1.000000</td>\n",
              "      <td>1.000000</td>\n",
              "      <td>19.000000</td>\n",
              "      <td>0.0</td>\n",
              "      <td>0.0</td>\n",
              "    </tr>\n",
              "    <tr>\n",
              "      <th>max</th>\n",
              "      <td>2001.000000</td>\n",
              "      <td>1.000000</td>\n",
              "      <td>1.000000</td>\n",
              "      <td>1.000000</td>\n",
              "      <td>1.000000</td>\n",
              "      <td>2918.000000</td>\n",
              "      <td>0.0</td>\n",
              "      <td>0.0</td>\n",
              "    </tr>\n",
              "  </tbody>\n",
              "</table>\n",
              "</div>"
            ],
            "text/plain": [
              "         birth_year  ...  num_successful_referrals\n",
              "count  15544.000000  ...                   15544.0\n",
              "mean    1983.666624  ...                       0.0\n",
              "std       11.369184  ...                       0.0\n",
              "min     1929.000000  ...                       0.0\n",
              "25%     1977.000000  ...                       0.0\n",
              "50%     1986.000000  ...                       0.0\n",
              "75%     1992.000000  ...                       0.0\n",
              "max     2001.000000  ...                       0.0\n",
              "\n",
              "[8 rows x 8 columns]"
            ]
          },
          "metadata": {
            "tags": []
          },
          "execution_count": 261
        }
      ]
    },
    {
      "cell_type": "code",
      "metadata": {
        "id": "IiCw10r1jJAm",
        "colab_type": "code",
        "colab": {}
      },
      "source": [
        "userdf['birth_year'] =2020 - (userdf[['birth_year']])"
      ],
      "execution_count": 0,
      "outputs": []
    },
    {
      "cell_type": "code",
      "metadata": {
        "id": "L9rM4WKa06dH",
        "colab_type": "code",
        "outputId": "96e6841d-151d-4b67-f2c8-87597566c47f",
        "colab": {
          "base_uri": "https://localhost:8080/",
          "height": 280
        }
      },
      "source": [
        "ax=sns.boxplot(x=userdf.num_contacts)\n",
        "plt.show()"
      ],
      "execution_count": 263,
      "outputs": [
        {
          "output_type": "display_data",
          "data": {
            "image/png": "[encoded data removed]",
            "text/plain": [
              "<Figure size 432x288 with 1 Axes>"
            ]
          },
          "metadata": {
            "tags": [],
            "needs_background": "light"
          }
        }
      ]
    },
    {
      "cell_type": "code",
      "metadata": {
        "id": "QCVouPqv8Yp5",
        "colab_type": "code",
        "outputId": "0d4101f1-718a-4e9c-8064-3ebaf039215b",
        "colab": {
          "base_uri": "https://localhost:8080/",
          "height": 280
        }
      },
      "source": [
        "ax=sns.boxplot(x=userdf.birth_year)\n",
        "plt.show()"
      ],
      "execution_count": 264,
      "outputs": [
        {
          "output_type": "display_data",
          "data": {
            "image/png": "[encoded data removed]",
            "text/plain": [
              "<Figure size 432x288 with 1 Axes>"
            ]
          },
          "metadata": {
            "tags": [],
            "needs_background": "light"
          }
        }
      ]
    },
    {
      "cell_type": "code",
      "metadata": {
        "id": "hVB1BIPHBag0",
        "colab_type": "code",
        "outputId": "8f7cf515-fdd9-4c2c-d991-a3f3e5d042d7",
        "colab": {
          "base_uri": "https://localhost:8080/",
          "height": 391
        }
      },
      "source": [
        "plt.figure(figsize=(10,6))\n",
        "ax=plt.subplot(1,1,1)\n",
        "ax.scatter(userdf['num_contacts'],userdf['plan'])"
      ],
      "execution_count": 265,
      "outputs": [
        {
          "output_type": "execute_result",
          "data": {
            "text/plain": [
              "<matplotlib.collections.PathCollection at 0x7fabc25380f0>"
            ]
          },
          "metadata": {
            "tags": []
          },
          "execution_count": 265
        },
        {
          "output_type": "display_data",
          "data": {
            "image/png": "[encoded data removed]",
            "text/plain": [
              "<Figure size 720x432 with 1 Axes>"
            ]
          },
          "metadata": {
            "tags": [],
            "needs_background": "light"
          }
        }
      ]
    },
    {
      "cell_type": "code",
      "metadata": {
        "id": "eQDlb1RMhrFm",
        "colab_type": "code",
        "colab": {
          "base_uri": "https://localhost:8080/",
          "height": 702
        },
        "outputId": "abac2e24-148b-4202-c29c-f1250f7253d6"
      },
      "source": [
        "mask = np.zeros_like(userdf.corr(), dtype=np.bool) \n",
        "mask[np.triu_indices_from(mask)] = True \n",
        "f, ax = plt.subplots(figsize=(10, 8))\n",
        "plt.title('Pearson Correlation Matrix',fontsize=25)\n",
        "\n",
        " \n",
        "\n",
        "sns.heatmap(userdf.corr(),linewidths=0.25,vmax=1.0,square=True,cmap=\"GnBu\", \n",
        "            linecolor='w',annot=True,mask=mask,cbar_kws={\"shrink\": .75});"
      ],
      "execution_count": 266,
      "outputs": [
        {
          "output_type": "display_data",
          "data": {
            "image/png": "[encoded data removed]",
            "text/plain": [
              "<Figure size 720x576 with 2 Axes>"
            ]
          },
          "metadata": {
            "tags": [],
            "needs_background": "light"
          }
        }
      ]
    },
    {
      "cell_type": "code",
      "metadata": {
        "id": "fFVPY7uhhrPn",
        "colab_type": "code",
        "colab": {
          "base_uri": "https://localhost:8080/",
          "height": 248
        },
        "outputId": "5d5af506-5da2-477d-b360-672e0bd7a8c6"
      },
      "source": [
        "sums = userdf.plan.groupby(userdf.brand).sum()\n",
        "axis('equal');\n",
        "pie(sums, labels=sums.index);\n",
        "show()"
      ],
      "execution_count": 268,
      "outputs": [
        {
          "output_type": "display_data",
          "data": {
            "image/png": "[encoded data removed]",
            "text/plain": [
              "<Figure size 432x288 with 1 Axes>"
            ]
          },
          "metadata": {
            "tags": []
          }
        }
      ]
    },
    {
      "cell_type": "code",
      "metadata": {
        "id": "s7_hYQERhrTs",
        "colab_type": "code",
        "colab": {
          "base_uri": "https://localhost:8080/",
          "height": 352
        },
        "outputId": "308f3f7d-7706-4702-af9e-6e3941deb8e1"
      },
      "source": [
        "plt.figure(figsize=(5,5))\n",
        "sns.heatmap(userdf.groupby(['plan','user_settings_crypto_unlocked']).birth_year.count().unstack(),annot=True,fmt='.0f')"
      ],
      "execution_count": 273,
      "outputs": [
        {
          "output_type": "execute_result",
          "data": {
            "text/plain": [
              "<matplotlib.axes._subplots.AxesSubplot at 0x7fabc28237b8>"
            ]
          },
          "metadata": {
            "tags": []
          },
          "execution_count": 273
        },
        {
          "output_type": "display_data",
          "data": {
            "image/png": "[encoded data removed]",
            "text/plain": [
              "<Figure size 360x360 with 2 Axes>"
            ]
          },
          "metadata": {
            "tags": [],
            "needs_background": "light"
          }
        }
      ]
    },
    {
      "cell_type": "code",
      "metadata": {
        "id": "BDGa0jDrhrY9",
        "colab_type": "code",
        "colab": {}
      },
      "source": [
        ""
      ],
      "execution_count": 0,
      "outputs": []
    },
    {
      "cell_type": "code",
      "metadata": {
        "id": "1qy_h6tlhrcs",
        "colab_type": "code",
        "colab": {}
      },
      "source": [
        ""
      ],
      "execution_count": 0,
      "outputs": []
    },
    {
      "cell_type": "code",
      "metadata": {
        "id": "vnIDnY-aDu8o",
        "colab_type": "code",
        "colab": {}
      },
      "source": [
        "from scipy.stats import pearsonr\n",
        "import matplotlib.pyplot as plt\n",
        "\n",
        "def corrfunc(x,y,ax=None,**kws):\n",
        "  r,_=pearsonr(x,y)\n",
        "  ax=ax or plt.gca()\n",
        "  rho='\\u03C1'\n",
        "  ax.annotate(f'{rho} = {r:.2f}', xy=(.1, .9), xycoords=ax.transAxes)"
      ],
      "execution_count": 0,
      "outputs": []
    },
    {
      "cell_type": "code",
      "metadata": {
        "id": "icxf103ACGJ2",
        "colab_type": "code",
        "colab": {}
      },
      "source": [
        "ax=sns.pairplot(userdf,hue='plan')\n",
        "ax.map_lower(corrfunc)\n",
        "plt.show()"
      ],
      "execution_count": 0,
      "outputs": []
    },
    {
      "cell_type": "code",
      "metadata": {
        "id": "U3h36YerQcaZ",
        "colab_type": "code",
        "colab": {}
      },
      "source": [
        "x=userdf.drop('country',axis=1)"
      ],
      "execution_count": 0,
      "outputs": []
    },
    {
      "cell_type": "code",
      "metadata": {
        "id": "ofad157-SvmZ",
        "colab_type": "code",
        "colab": {}
      },
      "source": [
        "def changebrand(x):\n",
        "  if x=='Apple':\n",
        "    return 1\n",
        "  else:\n",
        "    return 0"
      ],
      "execution_count": 0,
      "outputs": []
    },
    {
      "cell_type": "code",
      "metadata": {
        "id": "AjKzVrr7Svwv",
        "colab_type": "code",
        "colab": {}
      },
      "source": [
        "x['brand']=x['brand'].apply(changebrand)"
      ],
      "execution_count": 0,
      "outputs": []
    },
    {
      "cell_type": "code",
      "metadata": {
        "id": "ZzR6ZC6IWNNh",
        "colab_type": "code",
        "colab": {}
      },
      "source": [
        "x.head(2)"
      ],
      "execution_count": 0,
      "outputs": []
    },
    {
      "cell_type": "code",
      "metadata": {
        "id": "v_6RZIjuSu4B",
        "colab_type": "code",
        "colab": {}
      },
      "source": [
        "x=x.drop('created_date',axis=1)\n",
        "         "
      ],
      "execution_count": 0,
      "outputs": []
    },
    {
      "cell_type": "code",
      "metadata": {
        "id": "giO7WaloVk48",
        "colab_type": "code",
        "colab": {}
      },
      "source": [
        "x.head(1)"
      ],
      "execution_count": 0,
      "outputs": []
    },
    {
      "cell_type": "code",
      "metadata": {
        "id": "dCDfdGRfYzhJ",
        "colab_type": "code",
        "colab": {}
      },
      "source": [
        "userdf"
      ],
      "execution_count": 0,
      "outputs": []
    },
    {
      "cell_type": "code",
      "metadata": {
        "id": "2m6Ff4nTyM4V",
        "colab_type": "code",
        "colab": {}
      },
      "source": [
        ""
      ],
      "execution_count": 0,
      "outputs": []
    }
  ]
}