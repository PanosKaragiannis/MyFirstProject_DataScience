{
 "cells": [
  {
   "cell_type": "code",
   "execution_count": 1,
   "metadata": {
    "colab": {
     "base_uri": "https://localhost:8080/",
     "height": 70
    },
    "colab_type": "code",
    "id": "xjOIIltf09C1",
    "outputId": "03b130f1-5c01-4354-c99e-9d005a516cf2"
   },
   "outputs": [
    {
     "name": "stderr",
     "output_type": "stream",
     "text": [
      "/usr/local/lib/python3.6/dist-packages/statsmodels/tools/_testing.py:19: FutureWarning: pandas.util.testing is deprecated. Use the functions in the public API at pandas.testing instead.\n",
      "  import pandas.util.testing as tm\n"
     ]
    }
   ],
   "source": [
    "import pandas as pd\n",
    "import numpy as np\n",
    "import matplotlib.pyplot as plt\n",
    "from matplotlib.pyplot import pie,axis,show\n",
    "import seaborn as sns\n",
    "import random as rd\n",
    "import datetime as dt\n"
   ]
  },
  {
   "cell_type": "code",
   "execution_count": 2,
   "metadata": {
    "colab": {
     "base_uri": "https://localhost:8080/",
     "height": 34
    },
    "colab_type": "code",
    "id": "nnAXUUwLrPm_",
    "outputId": "74e6cf39-7c2f-4998-b37b-c0a70f229e99"
   },
   "outputs": [
    {
     "data": {
      "text/plain": [
       "'/content'"
      ]
     },
     "execution_count": 2,
     "metadata": {
      "tags": []
     },
     "output_type": "execute_result"
    }
   ],
   "source": [
    "pwd"
   ]
  },
  {
   "cell_type": "code",
   "execution_count": 0,
   "metadata": {
    "colab": {},
    "colab_type": "code",
    "id": "ixk2y42F2R70"
   },
   "outputs": [],
   "source": [
    "devices=pd.read_csv('/content/devices.csv')\n",
    "notifications=pd.read_csv('/content/notifications.csv')\n",
    "users=pd.read_csv('/content/users.csv')"
   ]
  },
  {
   "cell_type": "code",
   "execution_count": 4,
   "metadata": {
    "colab": {
     "base_uri": "https://localhost:8080/",
     "height": 67
    },
    "colab_type": "code",
    "id": "MLHTND3A3tWp",
    "outputId": "c92775d0-3684-4618-87bc-f4c875a3b6e2"
   },
   "outputs": [
    {
     "name": "stdout",
     "output_type": "stream",
     "text": [
      "the shape of devices is:  (15544, 2)\n",
      "the shape of notifications is:  (97704, 5)\n",
      "the shape of users is:  (15544, 12)\n"
     ]
    }
   ],
   "source": [
    "print('the shape of devices is: ',devices.shape)\n",
    "print('the shape of notifications is: ',notifications.shape)\n",
    "print('the shape of users is: ',users.shape)"
   ]
  },
  {
   "cell_type": "code",
   "execution_count": 0,
   "metadata": {
    "colab": {},
    "colab_type": "code",
    "id": "sK0jdEWw8IKy"
   },
   "outputs": [],
   "source": [
    "devices = devices.set_index('user_id')\n",
    "df=pd.merge(users,devices,on='user_id')\n",
    "userdf=df.set_index('user_id')"
   ]
  },
  {
   "cell_type": "code",
   "execution_count": 6,
   "metadata": {
    "colab": {
     "base_uri": "https://localhost:8080/",
     "height": 190
    },
    "colab_type": "code",
    "id": "aoiW0MgRdFJO",
    "outputId": "aa2c3fe3-58b3-4218-d5c4-aacbbdb7721e"
   },
   "outputs": [
    {
     "data": {
      "text/html": [
       "<div>\n",
       "<style scoped>\n",
       "    .dataframe tbody tr th:only-of-type {\n",
       "        vertical-align: middle;\n",
       "    }\n",
       "\n",
       "    .dataframe tbody tr th {\n",
       "        vertical-align: top;\n",
       "    }\n",
       "\n",
       "    .dataframe thead th {\n",
       "        text-align: right;\n",
       "    }\n",
       "</style>\n",
       "<table border=\"1\" class=\"dataframe\">\n",
       "  <thead>\n",
       "    <tr style=\"text-align: right;\">\n",
       "      <th></th>\n",
       "      <th>birth_year</th>\n",
       "      <th>country</th>\n",
       "      <th>city</th>\n",
       "      <th>created_date</th>\n",
       "      <th>user_settings_crypto_unlocked</th>\n",
       "      <th>plan</th>\n",
       "      <th>attributes_notifications_marketing_push</th>\n",
       "      <th>attributes_notifications_marketing_email</th>\n",
       "      <th>num_contacts</th>\n",
       "      <th>num_referrals</th>\n",
       "      <th>num_successful_referrals</th>\n",
       "      <th>brand</th>\n",
       "    </tr>\n",
       "    <tr>\n",
       "      <th>user_id</th>\n",
       "      <th></th>\n",
       "      <th></th>\n",
       "      <th></th>\n",
       "      <th></th>\n",
       "      <th></th>\n",
       "      <th></th>\n",
       "      <th></th>\n",
       "      <th></th>\n",
       "      <th></th>\n",
       "      <th></th>\n",
       "      <th></th>\n",
       "      <th></th>\n",
       "    </tr>\n",
       "  </thead>\n",
       "  <tbody>\n",
       "    <tr>\n",
       "      <th>user_0</th>\n",
       "      <td>1992</td>\n",
       "      <td>ES</td>\n",
       "      <td>Madrid</td>\n",
       "      <td>2018-09-10 18:46:42.843855</td>\n",
       "      <td>0</td>\n",
       "      <td>STANDARD</td>\n",
       "      <td>1.0</td>\n",
       "      <td>1.0</td>\n",
       "      <td>3</td>\n",
       "      <td>0</td>\n",
       "      <td>0</td>\n",
       "      <td>Apple</td>\n",
       "    </tr>\n",
       "    <tr>\n",
       "      <th>user_1</th>\n",
       "      <td>1985</td>\n",
       "      <td>LT</td>\n",
       "      <td>Klaipeda</td>\n",
       "      <td>2018-01-11 18:53:10.531146</td>\n",
       "      <td>1</td>\n",
       "      <td>STANDARD</td>\n",
       "      <td>NaN</td>\n",
       "      <td>NaN</td>\n",
       "      <td>75</td>\n",
       "      <td>0</td>\n",
       "      <td>0</td>\n",
       "      <td>Apple</td>\n",
       "    </tr>\n",
       "  </tbody>\n",
       "</table>\n",
       "</div>"
      ],
      "text/plain": [
       "         birth_year country  ... num_successful_referrals  brand\n",
       "user_id                      ...                                \n",
       "user_0         1992      ES  ...                        0  Apple\n",
       "user_1         1985      LT  ...                        0  Apple\n",
       "\n",
       "[2 rows x 12 columns]"
      ]
     },
     "execution_count": 6,
     "metadata": {
      "tags": []
     },
     "output_type": "execute_result"
    }
   ],
   "source": [
    "userdf.head(2)"
   ]
  },
  {
   "cell_type": "code",
   "execution_count": 0,
   "metadata": {
    "colab": {},
    "colab_type": "code",
    "id": "RIVow3xt3IXC"
   },
   "outputs": [],
   "source": [
    "userdf.describe()"
   ]
  },
  {
   "cell_type": "code",
   "execution_count": 0,
   "metadata": {
    "colab": {},
    "colab_type": "code",
    "id": "OdfePktr31Jc"
   },
   "outputs": [],
   "source": [
    "userdf.dtypes"
   ]
  },
  {
   "cell_type": "code",
   "execution_count": 0,
   "metadata": {
    "colab": {},
    "colab_type": "code",
    "id": "g-V-dQJbeAB0"
   },
   "outputs": [],
   "source": [
    "userdf.isnull().sum()"
   ]
  },
  {
   "cell_type": "code",
   "execution_count": 10,
   "metadata": {
    "colab": {
     "base_uri": "https://localhost:8080/",
     "height": 84
    },
    "colab_type": "code",
    "id": "VjX6ILkgtPbA",
    "outputId": "5aedb303-04f5-48fb-93ef-fc163a61d65d"
   },
   "outputs": [
    {
     "name": "stdout",
     "output_type": "stream",
     "text": [
      "Number of customers by plan  \n",
      " STANDARD    14394\n",
      "PAID         1150\n",
      "Name: plan, dtype: int64\n"
     ]
    }
   ],
   "source": [
    "# Replace 'SILVER' and 'GOLD' with 'PAID' in order to have two categories of plan: 'STANDARD' and 'PAID'\n",
    "userdf['plan'] = userdf['plan'].str.replace('SILVER', 'PAID')\n",
    "userdf['plan'] = userdf['plan'].str.replace('GOLD', 'PAID')\n",
    "print(\"Number of customers by plan \",\"\\n\" ,userdf['plan'].value_counts())"
   ]
  },
  {
   "cell_type": "markdown",
   "metadata": {
    "colab_type": "text",
    "id": "Rl6ir3m7nx8X"
   },
   "source": [
    "filling the NANS in email\n"
   ]
  },
  {
   "cell_type": "code",
   "execution_count": 11,
   "metadata": {
    "colab": {
     "base_uri": "https://localhost:8080/",
     "height": 67
    },
    "colab_type": "code",
    "id": "QwZ_HL0_f7cL",
    "outputId": "fd0848a1-a0e5-465d-d6a3-57bafa932735"
   },
   "outputs": [
    {
     "data": {
      "text/plain": [
       "STANDARD    14394\n",
       "PAID         1150\n",
       "Name: plan, dtype: int64"
      ]
     },
     "execution_count": 11,
     "metadata": {
      "tags": []
     },
     "output_type": "execute_result"
    }
   ],
   "source": [
    "# apo tous 15544 xrhstes oi 14394 (92.6%) einai standard, kai oi upoloipoi 1150 (7.3%) einai paid\n",
    "userdf['plan'].value_counts()"
   ]
  },
  {
   "cell_type": "code",
   "execution_count": 12,
   "metadata": {
    "colab": {
     "base_uri": "https://localhost:8080/",
     "height": 136
    },
    "colab_type": "code",
    "id": "_imV-cbtdPve",
    "outputId": "5c4cfa66-b43c-44a5-fc08-5194ba31f90f"
   },
   "outputs": [
    {
     "data": {
      "text/html": [
       "<div>\n",
       "<style scoped>\n",
       "    .dataframe tbody tr th:only-of-type {\n",
       "        vertical-align: middle;\n",
       "    }\n",
       "\n",
       "    .dataframe tbody tr th {\n",
       "        vertical-align: top;\n",
       "    }\n",
       "\n",
       "    .dataframe thead th {\n",
       "        text-align: right;\n",
       "    }\n",
       "</style>\n",
       "<table border=\"1\" class=\"dataframe\">\n",
       "  <thead>\n",
       "    <tr style=\"text-align: right;\">\n",
       "      <th>plan</th>\n",
       "      <th>PAID</th>\n",
       "      <th>STANDARD</th>\n",
       "    </tr>\n",
       "    <tr>\n",
       "      <th>attributes_notifications_marketing_email</th>\n",
       "      <th></th>\n",
       "      <th></th>\n",
       "    </tr>\n",
       "  </thead>\n",
       "  <tbody>\n",
       "    <tr>\n",
       "      <th>0.0</th>\n",
       "      <td>73</td>\n",
       "      <td>1002</td>\n",
       "    </tr>\n",
       "    <tr>\n",
       "      <th>1.0</th>\n",
       "      <td>757</td>\n",
       "      <td>8452</td>\n",
       "    </tr>\n",
       "  </tbody>\n",
       "</table>\n",
       "</div>"
      ],
      "text/plain": [
       "plan                                      PAID  STANDARD\n",
       "attributes_notifications_marketing_email                \n",
       "0.0                                         73      1002\n",
       "1.0                                        757      8452"
      ]
     },
     "execution_count": 12,
     "metadata": {
      "tags": []
     },
     "output_type": "execute_result"
    }
   ],
   "source": [
    "#oson afora to an exoun dextei na dexontai mail\n",
    "#oson afora tous 830 paid xrhstes: oi 73 (6.3%) den exoun dextei \n",
    "                             # oi 757 (65.8%) exoun dextei\n",
    "#oson afora tous 9454 standard xrhstes: oi 1002 (6.9%) den exoun dextei \n",
    "                             # oi 8452 (58.7%) exoun dextei\n",
    "pd.crosstab(index=userdf['attributes_notifications_marketing_email'],columns=userdf['plan'])"
   ]
  },
  {
   "cell_type": "code",
   "execution_count": 13,
   "metadata": {
    "colab": {
     "base_uri": "https://localhost:8080/",
     "height": 136
    },
    "colab_type": "code",
    "id": "_FOaEiqsdP2A",
    "outputId": "e30863f7-21a2-4ef9-ca02-aa5aae12a931"
   },
   "outputs": [
    {
     "data": {
      "text/html": [
       "<div>\n",
       "<style scoped>\n",
       "    .dataframe tbody tr th:only-of-type {\n",
       "        vertical-align: middle;\n",
       "    }\n",
       "\n",
       "    .dataframe tbody tr th {\n",
       "        vertical-align: top;\n",
       "    }\n",
       "\n",
       "    .dataframe thead th {\n",
       "        text-align: right;\n",
       "    }\n",
       "</style>\n",
       "<table border=\"1\" class=\"dataframe\">\n",
       "  <thead>\n",
       "    <tr style=\"text-align: right;\">\n",
       "      <th>plan</th>\n",
       "      <th>PAID</th>\n",
       "      <th>STANDARD</th>\n",
       "    </tr>\n",
       "    <tr>\n",
       "      <th>attributes_notifications_marketing_email</th>\n",
       "      <th></th>\n",
       "      <th></th>\n",
       "    </tr>\n",
       "  </thead>\n",
       "  <tbody>\n",
       "    <tr>\n",
       "      <th>False</th>\n",
       "      <td>830</td>\n",
       "      <td>9454</td>\n",
       "    </tr>\n",
       "    <tr>\n",
       "      <th>True</th>\n",
       "      <td>320</td>\n",
       "      <td>4940</td>\n",
       "    </tr>\n",
       "  </tbody>\n",
       "</table>\n",
       "</div>"
      ],
      "text/plain": [
       "plan                                      PAID  STANDARD\n",
       "attributes_notifications_marketing_email                \n",
       "False                                      830      9454\n",
       "True                                       320      4940"
      ]
     },
     "execution_count": 13,
     "metadata": {
      "tags": []
     },
     "output_type": "execute_result"
    }
   ],
   "source": [
    "#parathrw oti 320 xrhstes oi opoioi einai paid exoun timi nan kai epishs 4940 xrhstes standard exoun epishs timh nan\n",
    "pd.crosstab(index=userdf['attributes_notifications_marketing_email'].isnull(),columns=userdf['plan'])"
   ]
  },
  {
   "cell_type": "code",
   "execution_count": 0,
   "metadata": {
    "colab": {},
    "colab_type": "code",
    "id": "lOs7Q1d2dPsO"
   },
   "outputs": [],
   "source": [
    "##ara tha gemisw posostiaia tis nan times kai tha thewrisw oti apo tous 320 paid xristes me nan oi 292(91.25%) tha dextoun (=1) enw oi 28(8.75%) oxi (=0)\n",
    "##kai oson afora tous standard apo tous 4940 me nan times tha thewrisw tous 4416(90%) oti tha dextoun (=1) enw oi 524(10%) oxi (=0) "
   ]
  },
  {
   "cell_type": "code",
   "execution_count": 0,
   "metadata": {
    "colab": {},
    "colab_type": "code",
    "id": "WnhVLPfMvX15"
   },
   "outputs": [],
   "source": [
    "def mail(vec):\n",
    "  prob=rd.random()\n",
    "  plan, p = vec[0], vec[1]\n",
    "  if plan=='STANDARD' and np.isnan(p):\n",
    "    if prob<0.9:\n",
    "      return 1\n",
    "    else:\n",
    "      return 0\n",
    "  if plan=='PAID' and np.isnan(p):\n",
    "    if prob<0.9125:\n",
    "      return 1\n",
    "    else:\n",
    "      return 0    \n",
    "  return p   "
   ]
  },
  {
   "cell_type": "code",
   "execution_count": 0,
   "metadata": {
    "colab": {},
    "colab_type": "code",
    "id": "jF5sO3U9toKo"
   },
   "outputs": [],
   "source": [
    "userdf['attributes_notifications_marketing_email']=userdf[['plan','attributes_notifications_marketing_email']].apply(mail,axis=1)"
   ]
  },
  {
   "cell_type": "code",
   "execution_count": 17,
   "metadata": {
    "colab": {
     "base_uri": "https://localhost:8080/",
     "height": 67
    },
    "colab_type": "code",
    "id": "5hnMHTO0t0tU",
    "outputId": "f969740a-9a02-4f91-b782-71b546208c59"
   },
   "outputs": [
    {
     "data": {
      "text/plain": [
       "1.0    13940\n",
       "0.0     1604\n",
       "Name: attributes_notifications_marketing_email, dtype: int64"
      ]
     },
     "execution_count": 17,
     "metadata": {
      "tags": []
     },
     "output_type": "execute_result"
    }
   ],
   "source": [
    "userdf['attributes_notifications_marketing_email'].value_counts()"
   ]
  },
  {
   "cell_type": "markdown",
   "metadata": {
    "colab_type": "text",
    "id": "CVsTQJbEpTV9"
   },
   "source": [
    "filling the NANS in push"
   ]
  },
  {
   "cell_type": "code",
   "execution_count": 18,
   "metadata": {
    "colab": {
     "base_uri": "https://localhost:8080/",
     "height": 67
    },
    "colab_type": "code",
    "id": "Rj7t5dG3p0-7",
    "outputId": "4f05a8dd-a73f-4352-8271-429179f886d3"
   },
   "outputs": [
    {
     "data": {
      "text/plain": [
       "STANDARD    14394\n",
       "PAID         1150\n",
       "Name: plan, dtype: int64"
      ]
     },
     "execution_count": 18,
     "metadata": {
      "tags": []
     },
     "output_type": "execute_result"
    }
   ],
   "source": [
    "# apo tous 15544 xrhstes oi 14394 (92.6%) einai standard, kai oi upoloipoi 1150 (7.3%) einai paid\n",
    "userdf['plan'].value_counts()"
   ]
  },
  {
   "cell_type": "code",
   "execution_count": 19,
   "metadata": {
    "colab": {
     "base_uri": "https://localhost:8080/",
     "height": 136
    },
    "colab_type": "code",
    "id": "mQk_CUErpRgw",
    "outputId": "9e3dd760-3a94-45ab-f04c-eefbad687b1f"
   },
   "outputs": [
    {
     "data": {
      "text/html": [
       "<div>\n",
       "<style scoped>\n",
       "    .dataframe tbody tr th:only-of-type {\n",
       "        vertical-align: middle;\n",
       "    }\n",
       "\n",
       "    .dataframe tbody tr th {\n",
       "        vertical-align: top;\n",
       "    }\n",
       "\n",
       "    .dataframe thead th {\n",
       "        text-align: right;\n",
       "    }\n",
       "</style>\n",
       "<table border=\"1\" class=\"dataframe\">\n",
       "  <thead>\n",
       "    <tr style=\"text-align: right;\">\n",
       "      <th>plan</th>\n",
       "      <th>PAID</th>\n",
       "      <th>STANDARD</th>\n",
       "    </tr>\n",
       "    <tr>\n",
       "      <th>attributes_notifications_marketing_push</th>\n",
       "      <th></th>\n",
       "      <th></th>\n",
       "    </tr>\n",
       "  </thead>\n",
       "  <tbody>\n",
       "    <tr>\n",
       "      <th>0.0</th>\n",
       "      <td>46</td>\n",
       "      <td>486</td>\n",
       "    </tr>\n",
       "    <tr>\n",
       "      <th>1.0</th>\n",
       "      <td>784</td>\n",
       "      <td>8968</td>\n",
       "    </tr>\n",
       "  </tbody>\n",
       "</table>\n",
       "</div>"
      ],
      "text/plain": [
       "plan                                     PAID  STANDARD\n",
       "attributes_notifications_marketing_push                \n",
       "0.0                                        46       486\n",
       "1.0                                       784      8968"
      ]
     },
     "execution_count": 19,
     "metadata": {
      "tags": []
     },
     "output_type": "execute_result"
    }
   ],
   "source": [
    "#oson afora to an exoun dextei na dexontai push notifications\n",
    "#oson afora tous 830 paid xrhstes: oi 46 (5.5%) den exoun dextei \n",
    "                             # oi 784 (94.5%) exoun dextei\n",
    "#oson afora tous 9454 standard xrhstes: oi 486 (5%) den exoun dextei \n",
    "                             # oi 8968 (95%) exoun dextei\n",
    "pd.crosstab(index=userdf['attributes_notifications_marketing_push'],columns=userdf['plan'])"
   ]
  },
  {
   "cell_type": "code",
   "execution_count": 20,
   "metadata": {
    "colab": {
     "base_uri": "https://localhost:8080/",
     "height": 136
    },
    "colab_type": "code",
    "id": "bLuh4dcbpRqp",
    "outputId": "f12d53cb-0a6a-4eb9-97f0-6d343eddbd60"
   },
   "outputs": [
    {
     "data": {
      "text/html": [
       "<div>\n",
       "<style scoped>\n",
       "    .dataframe tbody tr th:only-of-type {\n",
       "        vertical-align: middle;\n",
       "    }\n",
       "\n",
       "    .dataframe tbody tr th {\n",
       "        vertical-align: top;\n",
       "    }\n",
       "\n",
       "    .dataframe thead th {\n",
       "        text-align: right;\n",
       "    }\n",
       "</style>\n",
       "<table border=\"1\" class=\"dataframe\">\n",
       "  <thead>\n",
       "    <tr style=\"text-align: right;\">\n",
       "      <th>plan</th>\n",
       "      <th>PAID</th>\n",
       "      <th>STANDARD</th>\n",
       "    </tr>\n",
       "    <tr>\n",
       "      <th>attributes_notifications_marketing_push</th>\n",
       "      <th></th>\n",
       "      <th></th>\n",
       "    </tr>\n",
       "  </thead>\n",
       "  <tbody>\n",
       "    <tr>\n",
       "      <th>False</th>\n",
       "      <td>830</td>\n",
       "      <td>9454</td>\n",
       "    </tr>\n",
       "    <tr>\n",
       "      <th>True</th>\n",
       "      <td>320</td>\n",
       "      <td>4940</td>\n",
       "    </tr>\n",
       "  </tbody>\n",
       "</table>\n",
       "</div>"
      ],
      "text/plain": [
       "plan                                     PAID  STANDARD\n",
       "attributes_notifications_marketing_push                \n",
       "False                                     830      9454\n",
       "True                                      320      4940"
      ]
     },
     "execution_count": 20,
     "metadata": {
      "tags": []
     },
     "output_type": "execute_result"
    }
   ],
   "source": [
    "#parathrw oti 320 xrhstes oi opoioi einai paid exoun timi nan kai epishs 4940 xrhstes standard exoun epishs timh nan\n",
    "pd.crosstab(index=userdf['attributes_notifications_marketing_push'].isnull(),columns=userdf['plan'])"
   ]
  },
  {
   "cell_type": "code",
   "execution_count": 0,
   "metadata": {
    "colab": {},
    "colab_type": "code",
    "id": "fYxRKAQXpRn4"
   },
   "outputs": [],
   "source": [
    "##ara tha gemisw posostiaia tis nan times kai tha thewrisw oti apo tous 320 paid xristes me nan oi 305(95%) tha dextoun (=1) enw oi 15(5%) oxi (=0)\n",
    "##kai oson afora tous standard apo tous 4940 me nan times tha thewrisw tous 4693(95%) oti tha dextoun (=1) enw oi 247(5%) oxi (=0)"
   ]
  },
  {
   "cell_type": "code",
   "execution_count": 0,
   "metadata": {
    "colab": {},
    "colab_type": "code",
    "id": "AwVecoUyeDch"
   },
   "outputs": [],
   "source": [
    "def push(vec):\n",
    "  prob=rd.random()\n",
    "  plan, p = vec[0], vec[1]\n",
    "  if plan=='STANDARD' and np.isnan(p):\n",
    "    if prob<0.95:\n",
    "      return 1\n",
    "    else:\n",
    "      return 0\n",
    "  if plan=='PAID' and np.isnan(p):\n",
    "    if prob<0.95:\n",
    "      return 1\n",
    "    else:\n",
    "      return 0    \n",
    "  return p   "
   ]
  },
  {
   "cell_type": "code",
   "execution_count": 0,
   "metadata": {
    "colab": {},
    "colab_type": "code",
    "id": "ok2AUwC9WAW9"
   },
   "outputs": [],
   "source": [
    "userdf['attributes_notifications_marketing_push']=userdf[['plan','attributes_notifications_marketing_push']].apply(push,axis=1)"
   ]
  },
  {
   "cell_type": "code",
   "execution_count": 24,
   "metadata": {
    "colab": {
     "base_uri": "https://localhost:8080/",
     "height": 67
    },
    "colab_type": "code",
    "id": "3eSz38BWWAQg",
    "outputId": "012ff34b-815c-479b-c660-8469ae5a35d8"
   },
   "outputs": [
    {
     "data": {
      "text/plain": [
       "1.0    14759\n",
       "0.0      785\n",
       "Name: attributes_notifications_marketing_push, dtype: int64"
      ]
     },
     "execution_count": 24,
     "metadata": {
      "tags": []
     },
     "output_type": "execute_result"
    }
   ],
   "source": [
    "userdf['attributes_notifications_marketing_push'].value_counts()"
   ]
  },
  {
   "cell_type": "code",
   "execution_count": 25,
   "metadata": {
    "colab": {
     "base_uri": "https://localhost:8080/",
     "height": 235
    },
    "colab_type": "code",
    "id": "B_EZ6D9Uop6O",
    "outputId": "56f9fdb5-9648-4559-a6c4-caa67e3b51d4"
   },
   "outputs": [
    {
     "data": {
      "text/plain": [
       "birth_year                                    int64\n",
       "country                                      object\n",
       "city                                         object\n",
       "created_date                                 object\n",
       "user_settings_crypto_unlocked                 int64\n",
       "plan                                         object\n",
       "attributes_notifications_marketing_push     float64\n",
       "attributes_notifications_marketing_email    float64\n",
       "num_contacts                                  int64\n",
       "num_referrals                                 int64\n",
       "num_successful_referrals                      int64\n",
       "brand                                        object\n",
       "dtype: object"
      ]
     },
     "execution_count": 25,
     "metadata": {
      "tags": []
     },
     "output_type": "execute_result"
    }
   ],
   "source": [
    "userdf.dtypes"
   ]
  },
  {
   "cell_type": "markdown",
   "metadata": {
    "colab_type": "text",
    "id": "ARUTcjwTs_xM"
   },
   "source": [
    "more data analysis"
   ]
  },
  {
   "cell_type": "code",
   "execution_count": 26,
   "metadata": {
    "colab": {
     "base_uri": "https://localhost:8080/",
     "height": 319
    },
    "colab_type": "code",
    "id": "XdEGp_4_FHel",
    "outputId": "05958594-9dc4-4c5d-da2b-3bc8fabc54f5"
   },
   "outputs": [
    {
     "name": "stdout",
     "output_type": "stream",
     "text": [
      "Number of customers by created year  \n",
      " 2018    15494\n",
      "2019       50\n",
      "Name: created_year, dtype: int64\n",
      "Number of customers by created month  \n",
      " 12    1922\n",
      "11    1555\n",
      "10    1454\n",
      "8     1421\n",
      "3     1418\n",
      "9     1407\n",
      "5     1266\n",
      "6     1262\n",
      "7     1237\n",
      "4      957\n",
      "1      937\n",
      "2      708\n",
      "Name: created_month, dtype: int64\n"
     ]
    }
   ],
   "source": [
    "userdf['created_date'] = userdf['created_date'].apply(pd.to_datetime)\n",
    "userdf['created_year']=pd.DatetimeIndex(userdf['created_date']).year\n",
    "userdf['created_month']=pd.DatetimeIndex(userdf['created_date']).month\n",
    "print(\"Number of customers by created year \",\"\\n\" ,userdf['created_year'].value_counts())\n",
    "print(\"Number of customers by created month \",\"\\n\" ,userdf['created_month'].value_counts())"
   ]
  },
  {
   "cell_type": "code",
   "execution_count": 0,
   "metadata": {
    "colab": {},
    "colab_type": "code",
    "id": "MmBYQIFbFHnz"
   },
   "outputs": [],
   "source": [
    "userdf=pd.concat([pd.get_dummies(userdf['created_year']), userdf], axis=1)"
   ]
  },
  {
   "cell_type": "code",
   "execution_count": 0,
   "metadata": {
    "colab": {},
    "colab_type": "code",
    "id": "v-NcGyWyFHxj"
   },
   "outputs": [],
   "source": [
    "userdf=userdf.drop('created_date',axis=1)"
   ]
  },
  {
   "cell_type": "code",
   "execution_count": 32,
   "metadata": {
    "colab": {
     "base_uri": "https://localhost:8080/",
     "height": 50
    },
    "colab_type": "code",
    "id": "VbgF8ss7eEBD",
    "outputId": "d6d402aa-9170-4a3a-802c-ad1c24d845db"
   },
   "outputs": [
    {
     "data": {
      "text/plain": [
       "0    15544\n",
       "Name: num_referrals, dtype: int64"
      ]
     },
     "execution_count": 32,
     "metadata": {
      "tags": []
     },
     "output_type": "execute_result"
    }
   ],
   "source": [
    "userdf['num_referrals'].value_counts()"
   ]
  },
  {
   "cell_type": "code",
   "execution_count": 33,
   "metadata": {
    "colab": {
     "base_uri": "https://localhost:8080/",
     "height": 50
    },
    "colab_type": "code",
    "id": "WwBQP0nEtMBE",
    "outputId": "a2b78de7-3296-45f5-9ad8-a8d52b93a381"
   },
   "outputs": [
    {
     "data": {
      "text/plain": [
       "0    15544\n",
       "Name: num_successful_referrals, dtype: int64"
      ]
     },
     "execution_count": 33,
     "metadata": {
      "tags": []
     },
     "output_type": "execute_result"
    }
   ],
   "source": [
    "userdf['num_successful_referrals'].value_counts()"
   ]
  },
  {
   "cell_type": "code",
   "execution_count": 0,
   "metadata": {
    "colab": {},
    "colab_type": "code",
    "id": "K3RcSp0stMGE"
   },
   "outputs": [],
   "source": [
    "# i notice that both of the above columns have the same value so i can't take valuable information from them so:\n",
    "userdf=userdf.drop('num_referrals',axis=1)"
   ]
  },
  {
   "cell_type": "code",
   "execution_count": 0,
   "metadata": {
    "colab": {},
    "colab_type": "code",
    "id": "j_7Y82JLtMKa"
   },
   "outputs": [],
   "source": [
    "userdf=userdf.drop('num_successful_referrals',axis=1)"
   ]
  },
  {
   "cell_type": "code",
   "execution_count": 0,
   "metadata": {
    "colab": {},
    "colab_type": "code",
    "id": "WolBwz-ItMOk"
   },
   "outputs": [],
   "source": [
    "def change(x):              #function to encode plan to 'paid' and 'standard'\n",
    "  if x == 'STANDARD':\n",
    "    return 0\n",
    "  elif x == 'SILVER':\n",
    "    return 1\n",
    "  else:\n",
    "    return 1"
   ]
  },
  {
   "cell_type": "code",
   "execution_count": 37,
   "metadata": {
    "colab": {
     "base_uri": "https://localhost:8080/",
     "height": 166
    },
    "colab_type": "code",
    "id": "Wh8_P_w7tL-G",
    "outputId": "51c293c5-8951-4a91-ea33-a9d2eeb992bf"
   },
   "outputs": [
    {
     "data": {
      "text/html": [
       "<div>\n",
       "<style scoped>\n",
       "    .dataframe tbody tr th:only-of-type {\n",
       "        vertical-align: middle;\n",
       "    }\n",
       "\n",
       "    .dataframe tbody tr th {\n",
       "        vertical-align: top;\n",
       "    }\n",
       "\n",
       "    .dataframe thead th {\n",
       "        text-align: right;\n",
       "    }\n",
       "</style>\n",
       "<table border=\"1\" class=\"dataframe\">\n",
       "  <thead>\n",
       "    <tr style=\"text-align: right;\">\n",
       "      <th>plan</th>\n",
       "      <th>PAID</th>\n",
       "      <th>STANDARD</th>\n",
       "    </tr>\n",
       "    <tr>\n",
       "      <th>brand</th>\n",
       "      <th></th>\n",
       "      <th></th>\n",
       "    </tr>\n",
       "  </thead>\n",
       "  <tbody>\n",
       "    <tr>\n",
       "      <th>Android</th>\n",
       "      <td>454</td>\n",
       "      <td>7346</td>\n",
       "    </tr>\n",
       "    <tr>\n",
       "      <th>Apple</th>\n",
       "      <td>687</td>\n",
       "      <td>7025</td>\n",
       "    </tr>\n",
       "    <tr>\n",
       "      <th>Unknown</th>\n",
       "      <td>9</td>\n",
       "      <td>23</td>\n",
       "    </tr>\n",
       "  </tbody>\n",
       "</table>\n",
       "</div>"
      ],
      "text/plain": [
       "plan     PAID  STANDARD\n",
       "brand                  \n",
       "Android   454      7346\n",
       "Apple     687      7025\n",
       "Unknown     9        23"
      ]
     },
     "execution_count": 37,
     "metadata": {
      "tags": []
     },
     "output_type": "execute_result"
    }
   ],
   "source": [
    "pd.crosstab(index=userdf['brand'],columns=userdf['plan'])"
   ]
  },
  {
   "cell_type": "code",
   "execution_count": 0,
   "metadata": {
    "colab": {},
    "colab_type": "code",
    "id": "SNLOorsByTTY"
   },
   "outputs": [],
   "source": [
    "def changebrand(x):       #function to encode brand into Apple and Android\n",
    "  if x=='Apple':\n",
    "    return 1\n",
    "  else:\n",
    "    return 0"
   ]
  },
  {
   "cell_type": "code",
   "execution_count": 0,
   "metadata": {
    "colab": {},
    "colab_type": "code",
    "id": "rQ7HbUCXyTQF"
   },
   "outputs": [],
   "source": [
    "userdf['birth_year'] =2020 - (userdf[['birth_year']]) #transforming birth year"
   ]
  },
  {
   "cell_type": "code",
   "execution_count": 40,
   "metadata": {
    "colab": {
     "base_uri": "https://localhost:8080/",
     "height": 84
    },
    "colab_type": "code",
    "id": "Jsm3ES5jvchn",
    "outputId": "e5a53ff1-2579-4b38-f743-d39db6b0ab85"
   },
   "outputs": [
    {
     "data": {
      "text/plain": [
       "array(['ES', 'LT', 'IE', 'GB', 'MT', 'FR', 'RO', 'PL', 'AT', 'IT', 'SI',\n",
       "       'CZ', 'BE', 'BG', 'GI', 'CH', 'GG', 'CY', 'LV', 'DE', 'SK', 'GR',\n",
       "       'DK', 'PT', 'LU', 'HR', 'NL', 'NO', 'SE', 'AU', 'IM', 'FI', 'EE',\n",
       "       'JE', 'HU', 'RE', 'IS', 'GP', 'LI', 'MQ'], dtype=object)"
      ]
     },
     "execution_count": 40,
     "metadata": {
      "tags": []
     },
     "output_type": "execute_result"
    }
   ],
   "source": [
    "userdf['country'].unique()"
   ]
  },
  {
   "cell_type": "code",
   "execution_count": 0,
   "metadata": {
    "colab": {},
    "colab_type": "code",
    "id": "vNmhvfI6-daO"
   },
   "outputs": [],
   "source": [
    "def change_country(x):     #function to cluster the countries\n",
    "  if x=='IE' or x=='GB' or x=='AT' or x=='BE' or x=='GG' or x=='LV' or x=='DE' or x=='DK' or x=='LU' or x=='NL' or x=='NO' or x=='SE' or x=='IM' or x=='FI' or x=='JE' or x=='IS':\n",
    "    return 'NorthEurope'\n",
    "  elif x=='MT' or x=='IT' or x=='SI' or x=='BG' or x=='CY' or x=='GR' or x=='HR':\n",
    "    return 'SouthEurope'\n",
    "  elif x=='AU':\n",
    "    return 'Australia'\n",
    "  elif x=='LT' or x=='RO' or x=='PL' or x=='CZ' or x=='SK' or x=='EE' or x=='HU':\n",
    "    return 'EastEurope'\n",
    "  elif x=='ES' or x=='FR' or x=='GI' or x=='CH' or x=='PT' or x=='RE' or x=='GP' or x=='LI' or x=='MQ':\n",
    "    return 'WestEurope'"
   ]
  },
  {
   "cell_type": "code",
   "execution_count": 0,
   "metadata": {
    "colab": {},
    "colab_type": "code",
    "id": "R59h6JK4vu0Z"
   },
   "outputs": [],
   "source": [
    "userdf['country']=userdf['country'].apply(change_country)"
   ]
  },
  {
   "cell_type": "code",
   "execution_count": 0,
   "metadata": {
    "colab": {},
    "colab_type": "code",
    "id": "dqiTdT0oGi-w"
   },
   "outputs": [],
   "source": [
    "userdf=pd.concat([pd.get_dummies(userdf['country']), userdf], axis=1)"
   ]
  },
  {
   "cell_type": "code",
   "execution_count": 43,
   "metadata": {
    "colab": {
     "base_uri": "https://localhost:8080/",
     "height": 118
    },
    "colab_type": "code",
    "id": "htQKTFY0v1lc",
    "outputId": "189b533c-d6a1-4d5f-b707-0e197e62c627"
   },
   "outputs": [
    {
     "data": {
      "text/plain": [
       "NorthEurope    7198\n",
       "EastEurope     3755\n",
       "WestEurope     3375\n",
       "SouthEurope    1212\n",
       "Australia         4\n",
       "Name: country, dtype: int64"
      ]
     },
     "execution_count": 43,
     "metadata": {
      "tags": []
     },
     "output_type": "execute_result"
    }
   ],
   "source": [
    "userdf['country'].value_counts()"
   ]
  },
  {
   "cell_type": "code",
   "execution_count": 0,
   "metadata": {
    "colab": {},
    "colab_type": "code",
    "id": "0xZR7J-IGpir"
   },
   "outputs": [],
   "source": [
    "userdf=userdf.drop('country',axis=1)"
   ]
  },
  {
   "cell_type": "code",
   "execution_count": 0,
   "metadata": {
    "colab": {},
    "colab_type": "code",
    "id": "mrC0NrReAh8z"
   },
   "outputs": [],
   "source": [
    "userdf=userdf.drop('city',axis=1)"
   ]
  },
  {
   "cell_type": "code",
   "execution_count": 50,
   "metadata": {
    "colab": {
     "base_uri": "https://localhost:8080/",
     "height": 186
    },
    "colab_type": "code",
    "id": "HSg4eYQ2GaxR",
    "outputId": "c0970e32-d976-4358-f111-9fed1d2d77d6"
   },
   "outputs": [
    {
     "data": {
      "text/html": [
       "<div>\n",
       "<style scoped>\n",
       "    .dataframe tbody tr th:only-of-type {\n",
       "        vertical-align: middle;\n",
       "    }\n",
       "\n",
       "    .dataframe tbody tr th {\n",
       "        vertical-align: top;\n",
       "    }\n",
       "\n",
       "    .dataframe thead th {\n",
       "        text-align: right;\n",
       "    }\n",
       "</style>\n",
       "<table border=\"1\" class=\"dataframe\">\n",
       "  <thead>\n",
       "    <tr style=\"text-align: right;\">\n",
       "      <th></th>\n",
       "      <th>Australia</th>\n",
       "      <th>EastEurope</th>\n",
       "      <th>NorthEurope</th>\n",
       "      <th>SouthEurope</th>\n",
       "      <th>WestEurope</th>\n",
       "      <th>2018</th>\n",
       "      <th>2019</th>\n",
       "      <th>birth_year</th>\n",
       "      <th>user_settings_crypto_unlocked</th>\n",
       "      <th>plan</th>\n",
       "      <th>attributes_notifications_marketing_push</th>\n",
       "      <th>attributes_notifications_marketing_email</th>\n",
       "      <th>num_contacts</th>\n",
       "      <th>brand</th>\n",
       "      <th>created_year</th>\n",
       "      <th>created_month</th>\n",
       "    </tr>\n",
       "    <tr>\n",
       "      <th>user_id</th>\n",
       "      <th></th>\n",
       "      <th></th>\n",
       "      <th></th>\n",
       "      <th></th>\n",
       "      <th></th>\n",
       "      <th></th>\n",
       "      <th></th>\n",
       "      <th></th>\n",
       "      <th></th>\n",
       "      <th></th>\n",
       "      <th></th>\n",
       "      <th></th>\n",
       "      <th></th>\n",
       "      <th></th>\n",
       "      <th></th>\n",
       "      <th></th>\n",
       "    </tr>\n",
       "  </thead>\n",
       "  <tbody>\n",
       "    <tr>\n",
       "      <th>user_0</th>\n",
       "      <td>0</td>\n",
       "      <td>0</td>\n",
       "      <td>0</td>\n",
       "      <td>0</td>\n",
       "      <td>1</td>\n",
       "      <td>1</td>\n",
       "      <td>0</td>\n",
       "      <td>28</td>\n",
       "      <td>0</td>\n",
       "      <td>STANDARD</td>\n",
       "      <td>1.0</td>\n",
       "      <td>1.0</td>\n",
       "      <td>3</td>\n",
       "      <td>Apple</td>\n",
       "      <td>2018</td>\n",
       "      <td>9</td>\n",
       "    </tr>\n",
       "    <tr>\n",
       "      <th>user_1</th>\n",
       "      <td>0</td>\n",
       "      <td>1</td>\n",
       "      <td>0</td>\n",
       "      <td>0</td>\n",
       "      <td>0</td>\n",
       "      <td>1</td>\n",
       "      <td>0</td>\n",
       "      <td>35</td>\n",
       "      <td>1</td>\n",
       "      <td>STANDARD</td>\n",
       "      <td>1.0</td>\n",
       "      <td>1.0</td>\n",
       "      <td>75</td>\n",
       "      <td>Apple</td>\n",
       "      <td>2018</td>\n",
       "      <td>1</td>\n",
       "    </tr>\n",
       "    <tr>\n",
       "      <th>user_2</th>\n",
       "      <td>0</td>\n",
       "      <td>0</td>\n",
       "      <td>1</td>\n",
       "      <td>0</td>\n",
       "      <td>0</td>\n",
       "      <td>1</td>\n",
       "      <td>0</td>\n",
       "      <td>24</td>\n",
       "      <td>0</td>\n",
       "      <td>STANDARD</td>\n",
       "      <td>1.0</td>\n",
       "      <td>1.0</td>\n",
       "      <td>71</td>\n",
       "      <td>Apple</td>\n",
       "      <td>2018</td>\n",
       "      <td>11</td>\n",
       "    </tr>\n",
       "  </tbody>\n",
       "</table>\n",
       "</div>"
      ],
      "text/plain": [
       "         Australia  EastEurope  NorthEurope  ...  brand  created_year  created_month\n",
       "user_id                                      ...                                    \n",
       "user_0           0           0            0  ...  Apple          2018              9\n",
       "user_1           0           1            0  ...  Apple          2018              1\n",
       "user_2           0           0            1  ...  Apple          2018             11\n",
       "\n",
       "[3 rows x 16 columns]"
      ]
     },
     "execution_count": 50,
     "metadata": {
      "tags": []
     },
     "output_type": "execute_result"
    }
   ],
   "source": [
    "userdf.head(3)"
   ]
  },
  {
   "cell_type": "code",
   "execution_count": 0,
   "metadata": {
    "colab": {},
    "colab_type": "code",
    "id": "6CWrty-pGa0s"
   },
   "outputs": [],
   "source": [
    "userdf['plan']=userdf['plan'].apply(change)"
   ]
  },
  {
   "cell_type": "code",
   "execution_count": 0,
   "metadata": {
    "colab": {},
    "colab_type": "code",
    "id": "dGwOF5X2Ga9F"
   },
   "outputs": [],
   "source": [
    "userdf['brand']=userdf['brand'].apply(changebrand)"
   ]
  },
  {
   "cell_type": "code",
   "execution_count": 0,
   "metadata": {
    "colab": {},
    "colab_type": "code",
    "id": "xVXpVWyPGbA5"
   },
   "outputs": [],
   "source": [
    "userdf.dtypes"
   ]
  },
  {
   "cell_type": "code",
   "execution_count": 0,
   "metadata": {
    "colab": {},
    "colab_type": "code",
    "id": "L9rM4WKa06dH"
   },
   "outputs": [],
   "source": [
    "ax=sns.boxplot(x=userdf.num_contacts)\n",
    "plt.show()"
   ]
  },
  {
   "cell_type": "code",
   "execution_count": 0,
   "metadata": {
    "colab": {},
    "colab_type": "code",
    "id": "QCVouPqv8Yp5"
   },
   "outputs": [],
   "source": [
    "ax=sns.boxplot(x=userdf.birth_year)\n",
    "plt.show()"
   ]
  },
  {
   "cell_type": "code",
   "execution_count": 0,
   "metadata": {
    "colab": {},
    "colab_type": "code",
    "id": "hVB1BIPHBag0"
   },
   "outputs": [],
   "source": [
    "plt.figure(figsize=(10,6))\n",
    "ax=plt.subplot(1,1,1)\n",
    "ax.scatter(userdf['num_contacts'],userdf['plan'])"
   ]
  },
  {
   "cell_type": "code",
   "execution_count": 0,
   "metadata": {
    "colab": {},
    "colab_type": "code",
    "id": "eQDlb1RMhrFm"
   },
   "outputs": [],
   "source": [
    "mask = np.zeros_like(userdf.corr(), dtype=np.bool) \n",
    "mask[np.triu_indices_from(mask)] = True \n",
    "f, ax = plt.subplots(figsize=(10, 8))\n",
    "plt.title('Pearson Correlation Matrix',fontsize=25)\n",
    "\n",
    " \n",
    "\n",
    "sns.heatmap(userdf.corr(),linewidths=0.25,vmax=1.0,square=True,cmap=\"GnBu\", \n",
    "            linecolor='w',annot=True,mask=mask,cbar_kws={\"shrink\": .75});"
   ]
  },
  {
   "cell_type": "code",
   "execution_count": 0,
   "metadata": {
    "colab": {},
    "colab_type": "code",
    "id": "s7_hYQERhrTs"
   },
   "outputs": [],
   "source": [
    "plt.figure(figsize=(5,5))\n",
    "sns.heatmap(userdf.groupby(['plan','user_settings_crypto_unlocked']).birth_year.count().unstack(),annot=True,fmt='.0f')"
   ]
  },
  {
   "cell_type": "code",
   "execution_count": 0,
   "metadata": {
    "colab": {},
    "colab_type": "code",
    "id": "vnIDnY-aDu8o"
   },
   "outputs": [],
   "source": [
    "from scipy.stats import pearsonr\n",
    "import matplotlib.pyplot as plt\n",
    "\n",
    "def corrfunc(x,y,ax=None,**kws):\n",
    "  r,_=pearsonr(x,y)\n",
    "  ax=ax or plt.gca()\n",
    "  rho='\\u03C1'\n",
    "  ax.annotate(f'{rho} = {r:.2f}', xy=(.1, .9), xycoords=ax.transAxes)"
   ]
  },
  {
   "cell_type": "code",
   "execution_count": 0,
   "metadata": {
    "colab": {},
    "colab_type": "code",
    "id": "icxf103ACGJ2"
   },
   "outputs": [],
   "source": [
    "ax=sns.pairplot(userdf,hue='plan')\n",
    "ax.map_lower(corrfunc)\n",
    "plt.show()"
   ]
  },
  {
   "cell_type": "markdown",
   "metadata": {
    "colab_type": "text",
    "id": "BOWCxFF_ICRf"
   },
   "source": [
    "pipeline\n"
   ]
  },
  {
   "cell_type": "code",
   "execution_count": 64,
   "metadata": {
    "colab": {
     "base_uri": "https://localhost:8080/",
     "height": 70
    },
    "colab_type": "code",
    "id": "2m6Ff4nTyM4V",
    "outputId": "93ac2ea3-f137-48d6-f084-e987d29ad52e"
   },
   "outputs": [
    {
     "name": "stderr",
     "output_type": "stream",
     "text": [
      "/usr/local/lib/python3.6/dist-packages/sklearn/externals/joblib/__init__.py:15: FutureWarning: sklearn.externals.joblib is deprecated in 0.21 and will be removed in 0.23. Please import this functionality directly from joblib, which can be installed with: pip install joblib. If this warning is raised when loading pickled models, you may need to re-serialize those models with scikit-learn 0.21+.\n",
      "  warnings.warn(msg, category=FutureWarning)\n"
     ]
    }
   ],
   "source": [
    "from sklearn.model_selection import train_test_split\n",
    "from sklearn.preprocessing import StandardScaler\n",
    "from sklearn.decomposition import PCA\n",
    "from sklearn.pipeline import Pipeline\n",
    "from sklearn.externals import joblib\n",
    "from sklearn.linear_model import LogisticRegression\n",
    "from sklearn.tree import DecisionTreeClassifier\n",
    "from sklearn.neighbors import KNeighborsClassifier"
   ]
  },
  {
   "cell_type": "code",
   "execution_count": 0,
   "metadata": {
    "colab": {},
    "colab_type": "code",
    "id": "nJe4_VqiIQUN"
   },
   "outputs": [],
   "source": [
    "x=userdf.drop('plan',axis=1)"
   ]
  },
  {
   "cell_type": "code",
   "execution_count": 0,
   "metadata": {
    "colab": {},
    "colab_type": "code",
    "id": "4iw6PK9sIaZv"
   },
   "outputs": [],
   "source": [
    "y=userdf['plan']"
   ]
  },
  {
   "cell_type": "code",
   "execution_count": 0,
   "metadata": {
    "colab": {},
    "colab_type": "code",
    "id": "HVDVJy1NIa8s"
   },
   "outputs": [],
   "source": [
    "x_train,x_test,y_train,y_test=train_test_split(x,y,test_size=0.2)"
   ]
  },
  {
   "cell_type": "code",
   "execution_count": 0,
   "metadata": {
    "colab": {},
    "colab_type": "code",
    "id": "e4TEEpxMIlK6"
   },
   "outputs": [],
   "source": [
    "pipeline_lr=Pipeline([('scalar1', StandardScaler()),\n",
    "                     ('pca1', PCA(n_components=2)),\n",
    "                     ('lr_classifier',LogisticRegression(random_state=0))])"
   ]
  },
  {
   "cell_type": "code",
   "execution_count": 0,
   "metadata": {
    "colab": {},
    "colab_type": "code",
    "id": "o7g702kBIoSs"
   },
   "outputs": [],
   "source": [
    "pipeline_dt=Pipeline([('scalar2', StandardScaler()),\n",
    "                     ('pca2', PCA(n_components=2)),\n",
    "                     ('dt_classifier',DecisionTreeClassifier())])"
   ]
  },
  {
   "cell_type": "code",
   "execution_count": 0,
   "metadata": {
    "colab": {},
    "colab_type": "code",
    "id": "qfHIS_y1IqHP"
   },
   "outputs": [],
   "source": [
    "pipeline_kn=Pipeline([('scalar3', StandardScaler()),\n",
    "                     ('pca3', PCA(n_components=2)),\n",
    "                     ('kn_classifier',KNeighborsClassifier())])"
   ]
  },
  {
   "cell_type": "code",
   "execution_count": 0,
   "metadata": {
    "colab": {},
    "colab_type": "code",
    "id": "GS5xGDh5IsAa"
   },
   "outputs": [],
   "source": [
    "pipelines=[pipeline_lr, pipeline_dt, pipeline_kn]"
   ]
  },
  {
   "cell_type": "code",
   "execution_count": 0,
   "metadata": {
    "colab": {},
    "colab_type": "code",
    "id": "gqPS6cSGIu7y"
   },
   "outputs": [],
   "source": [
    "best_accuracy=0.0\n",
    "best_classifier=0\n",
    "best_pipeline=\"\""
   ]
  },
  {
   "cell_type": "code",
   "execution_count": 0,
   "metadata": {
    "colab": {},
    "colab_type": "code",
    "id": "S3bGfieHIwtq"
   },
   "outputs": [],
   "source": [
    "pipe_dict= {0: 'Logistic Regression', 1: 'Decision Tree', 2: 'KNeighbors' }\n",
    "for pipe in pipelines:\n",
    "  pipe.fit(x_train, y_train)"
   ]
  },
  {
   "cell_type": "code",
   "execution_count": 75,
   "metadata": {
    "colab": {
     "base_uri": "https://localhost:8080/",
     "height": 67
    },
    "colab_type": "code",
    "id": "fAWZZwtgI1a0",
    "outputId": "6ca037d0-3a9d-4c45-c067-3a29ff79e4f2"
   },
   "outputs": [
    {
     "name": "stdout",
     "output_type": "stream",
     "text": [
      "Logistic Regression Test Accuracy: 0.92537793502734\n",
      "Decision Tree Test Accuracy: 0.8726278546156321\n",
      "KNeighbors Test Accuracy: 0.9211965262142168\n"
     ]
    }
   ],
   "source": [
    "for i,model in enumerate(pipelines):\n",
    "  print(\"{} Test Accuracy: {}\" .format(pipe_dict[i],model.score(x_test, y_test)))"
   ]
  },
  {
   "cell_type": "code",
   "execution_count": 76,
   "metadata": {
    "colab": {
     "base_uri": "https://localhost:8080/",
     "height": 34
    },
    "colab_type": "code",
    "id": "1p1jfYB9I3eD",
    "outputId": "1307bce9-4b79-4fc4-c18b-68711da7377e"
   },
   "outputs": [
    {
     "name": "stdout",
     "output_type": "stream",
     "text": [
      "Classifier with the best accuracy: Logistic Regression\n"
     ]
    }
   ],
   "source": [
    "for i,model in enumerate(pipelines):\n",
    "  if model.score(x_test, y_test)>best_accuracy:\n",
    "    best_accuracy=model.score(x_test, y_test)\n",
    "    best_pipeline=model\n",
    "    best_classifier=i\n",
    "print('Classifier with the best accuracy: {}' .format(pipe_dict[best_classifier]))"
   ]
  },
  {
   "cell_type": "code",
   "execution_count": 0,
   "metadata": {
    "colab": {},
    "colab_type": "code",
    "id": "nf_5ENXHI8Lq"
   },
   "outputs": [],
   "source": []
  }
 ],
 "metadata": {
  "colab": {
   "collapsed_sections": [],
   "name": "data_cleaning_NEW_plusPipeLine.ipynb",
   "provenance": []
  },
  "kernelspec": {
   "display_name": "Python 3",
   "language": "python",
   "name": "python3"
  },
  "language_info": {
   "codemirror_mode": {
    "name": "ipython",
    "version": 3
   },
   "file_extension": ".py",
   "mimetype": "text/x-python",
   "name": "python",
   "nbconvert_exporter": "python",
   "pygments_lexer": "ipython3",
   "version": "3.6.8"
  }
 },
 "nbformat": 4,
 "nbformat_minor": 1
}
