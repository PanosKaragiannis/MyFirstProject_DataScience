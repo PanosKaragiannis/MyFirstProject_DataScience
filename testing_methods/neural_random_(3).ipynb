{
 "cells": [
  {
   "cell_type": "code",
   "execution_count": 12,
   "metadata": {
    "colab": {},
    "colab_type": "code",
    "id": "bJDNQ2hhgwKk"
   },
   "outputs": [],
   "source": [
    "import pandas as pd\n",
    "import matplotlib.pyplot as plt\n",
    "import numpy as np\n",
    "from imblearn.over_sampling import SMOTE\n",
    "from sklearn.preprocessing import StandardScaler\n",
    "from sklearn.neural_network import MLPClassifier\n",
    "from sklearn.model_selection import GridSearchCV\n",
    "from sklearn.metrics import accuracy_score \n",
    "from sklearn.metrics import classification_report\n",
    "from sklearn.feature_selection import VarianceThreshold\n",
    "from sklearn.ensemble import RandomForestClassifier\n",
    "from imblearn.pipeline import Pipeline\n",
    "from sklearn.model_selection import train_test_split"
   ]
  },
  {
   "cell_type": "code",
   "execution_count": 13,
   "metadata": {
    "colab": {
     "base_uri": "https://localhost:8080/",
     "height": 177
    },
    "colab_type": "code",
    "id": "VazvCs5sg4gu",
    "outputId": "797f691e-fd5c-4369-d2dc-7fead81e5e3f"
   },
   "outputs": [
    {
     "data": {
      "text/html": [
       "<div>\n",
       "<style scoped>\n",
       "    .dataframe tbody tr th:only-of-type {\n",
       "        vertical-align: middle;\n",
       "    }\n",
       "\n",
       "    .dataframe tbody tr th {\n",
       "        vertical-align: top;\n",
       "    }\n",
       "\n",
       "    .dataframe thead th {\n",
       "        text-align: right;\n",
       "    }\n",
       "</style>\n",
       "<table border=\"1\" class=\"dataframe\">\n",
       "  <thead>\n",
       "    <tr style=\"text-align: right;\">\n",
       "      <th></th>\n",
       "      <th>Unnamed: 0</th>\n",
       "      <th>user_id</th>\n",
       "      <th>total_amount_x</th>\n",
       "      <th>number_transactions_x</th>\n",
       "      <th>avg_amount_x</th>\n",
       "      <th>first_transaction_x</th>\n",
       "      <th>last_transaction_x</th>\n",
       "      <th>transaction_period_x</th>\n",
       "      <th>CHF</th>\n",
       "      <th>EUR</th>\n",
       "      <th>...</th>\n",
       "      <th>num_contacts</th>\n",
       "      <th>num_referrals</th>\n",
       "      <th>num_successful_referrals</th>\n",
       "      <th>brand</th>\n",
       "      <th>created_year</th>\n",
       "      <th>created_month</th>\n",
       "      <th>created_date_y</th>\n",
       "      <th>user_active_time</th>\n",
       "      <th>user_trans_time</th>\n",
       "      <th>user_trans_periodicity</th>\n",
       "    </tr>\n",
       "  </thead>\n",
       "  <tbody>\n",
       "    <tr>\n",
       "      <th>0</th>\n",
       "      <td>0</td>\n",
       "      <td>user_0</td>\n",
       "      <td>6925.08</td>\n",
       "      <td>520</td>\n",
       "      <td>13.317462</td>\n",
       "      <td>2018-09-10 18:54:08.965855</td>\n",
       "      <td>2019-05-10 05:09:13.868855</td>\n",
       "      <td>241.5</td>\n",
       "      <td>0.0</td>\n",
       "      <td>25.0</td>\n",
       "      <td>...</td>\n",
       "      <td>3</td>\n",
       "      <td>0</td>\n",
       "      <td>0</td>\n",
       "      <td>1</td>\n",
       "      <td>2018</td>\n",
       "      <td>9</td>\n",
       "      <td>2018-09-10 18:46:42.843855</td>\n",
       "      <td>247</td>\n",
       "      <td>247</td>\n",
       "      <td>0.001923</td>\n",
       "    </tr>\n",
       "    <tr>\n",
       "      <th>1</th>\n",
       "      <td>1</td>\n",
       "      <td>user_1</td>\n",
       "      <td>12955.54</td>\n",
       "      <td>133</td>\n",
       "      <td>97.410075</td>\n",
       "      <td>2018-02-04 08:28:17.978146</td>\n",
       "      <td>2019-05-04 02:30:11.492146</td>\n",
       "      <td>453.5</td>\n",
       "      <td>0.0</td>\n",
       "      <td>133.0</td>\n",
       "      <td>...</td>\n",
       "      <td>75</td>\n",
       "      <td>0</td>\n",
       "      <td>0</td>\n",
       "      <td>1</td>\n",
       "      <td>2018</td>\n",
       "      <td>1</td>\n",
       "      <td>2018-01-11 18:53:10.531146</td>\n",
       "      <td>489</td>\n",
       "      <td>465</td>\n",
       "      <td>0.007150</td>\n",
       "    </tr>\n",
       "  </tbody>\n",
       "</table>\n",
       "<p>2 rows × 45 columns</p>\n",
       "</div>"
      ],
      "text/plain": [
       "   Unnamed: 0 user_id  total_amount_x  number_transactions_x  avg_amount_x  \\\n",
       "0           0  user_0         6925.08                    520     13.317462   \n",
       "1           1  user_1        12955.54                    133     97.410075   \n",
       "\n",
       "          first_transaction_x          last_transaction_x  \\\n",
       "0  2018-09-10 18:54:08.965855  2019-05-10 05:09:13.868855   \n",
       "1  2018-02-04 08:28:17.978146  2019-05-04 02:30:11.492146   \n",
       "\n",
       "   transaction_period_x  CHF    EUR  ...  num_contacts  num_referrals  \\\n",
       "0                 241.5  0.0   25.0  ...             3              0   \n",
       "1                 453.5  0.0  133.0  ...            75              0   \n",
       "\n",
       "   num_successful_referrals  brand  created_year  created_month  \\\n",
       "0                         0      1          2018              9   \n",
       "1                         0      1          2018              1   \n",
       "\n",
       "               created_date_y user_active_time user_trans_time  \\\n",
       "0  2018-09-10 18:46:42.843855              247             247   \n",
       "1  2018-01-11 18:53:10.531146              489             465   \n",
       "\n",
       "   user_trans_periodicity  \n",
       "0                0.001923  \n",
       "1                0.007150  \n",
       "\n",
       "[2 rows x 45 columns]"
      ]
     },
     "execution_count": 13,
     "metadata": {},
     "output_type": "execute_result"
    }
   ],
   "source": [
    "df=pd.read_csv('../processed_data/trans_users_dev_currency.csv')\n",
    "df.head(2)"
   ]
  },
  {
   "cell_type": "code",
   "execution_count": 14,
   "metadata": {
    "colab": {},
    "colab_type": "code",
    "id": "H0r-k_bfR61R"
   },
   "outputs": [
    {
     "ename": "KeyError",
     "evalue": "\"['total_amount', 'number_transactions', 'transaction_period'] not in index\"",
     "output_type": "error",
     "traceback": [
      "\u001b[1;31m---------------------------------------------------------------------------\u001b[0m",
      "\u001b[1;31mKeyError\u001b[0m                                  Traceback (most recent call last)",
      "\u001b[1;32m<ipython-input-14-4de5f748677e>\u001b[0m in \u001b[0;36m<module>\u001b[1;34m\u001b[0m\n\u001b[0;32m      2\u001b[0m             'brand', 'num_contacts', 'user_active_time' ,'user_trans_time', 'user_trans_periodicity']\n\u001b[0;32m      3\u001b[0m \u001b[1;33m\u001b[0m\u001b[0m\n\u001b[1;32m----> 4\u001b[1;33m \u001b[0mx\u001b[0m\u001b[1;33m=\u001b[0m\u001b[0mdf\u001b[0m\u001b[1;33m[\u001b[0m\u001b[0mfeatures\u001b[0m\u001b[1;33m]\u001b[0m\u001b[1;33m.\u001b[0m\u001b[0mcopy\u001b[0m\u001b[1;33m(\u001b[0m\u001b[1;33m)\u001b[0m\u001b[1;33m\u001b[0m\u001b[1;33m\u001b[0m\u001b[0m\n\u001b[0m\u001b[0;32m      5\u001b[0m \u001b[0my\u001b[0m\u001b[1;33m=\u001b[0m\u001b[0mdf\u001b[0m\u001b[1;33m[\u001b[0m\u001b[1;34m'plan'\u001b[0m\u001b[1;33m]\u001b[0m\u001b[1;33m\u001b[0m\u001b[1;33m\u001b[0m\u001b[0m\n",
      "\u001b[1;32mc:\\python\\python37\\lib\\site-packages\\pandas\\core\\frame.py\u001b[0m in \u001b[0;36m__getitem__\u001b[1;34m(self, key)\u001b[0m\n\u001b[0;32m   2804\u001b[0m             \u001b[1;32mif\u001b[0m \u001b[0mis_iterator\u001b[0m\u001b[1;33m(\u001b[0m\u001b[0mkey\u001b[0m\u001b[1;33m)\u001b[0m\u001b[1;33m:\u001b[0m\u001b[1;33m\u001b[0m\u001b[1;33m\u001b[0m\u001b[0m\n\u001b[0;32m   2805\u001b[0m                 \u001b[0mkey\u001b[0m \u001b[1;33m=\u001b[0m \u001b[0mlist\u001b[0m\u001b[1;33m(\u001b[0m\u001b[0mkey\u001b[0m\u001b[1;33m)\u001b[0m\u001b[1;33m\u001b[0m\u001b[1;33m\u001b[0m\u001b[0m\n\u001b[1;32m-> 2806\u001b[1;33m             \u001b[0mindexer\u001b[0m \u001b[1;33m=\u001b[0m \u001b[0mself\u001b[0m\u001b[1;33m.\u001b[0m\u001b[0mloc\u001b[0m\u001b[1;33m.\u001b[0m\u001b[0m_get_listlike_indexer\u001b[0m\u001b[1;33m(\u001b[0m\u001b[0mkey\u001b[0m\u001b[1;33m,\u001b[0m \u001b[0maxis\u001b[0m\u001b[1;33m=\u001b[0m\u001b[1;36m1\u001b[0m\u001b[1;33m,\u001b[0m \u001b[0mraise_missing\u001b[0m\u001b[1;33m=\u001b[0m\u001b[1;32mTrue\u001b[0m\u001b[1;33m)\u001b[0m\u001b[1;33m[\u001b[0m\u001b[1;36m1\u001b[0m\u001b[1;33m]\u001b[0m\u001b[1;33m\u001b[0m\u001b[1;33m\u001b[0m\u001b[0m\n\u001b[0m\u001b[0;32m   2807\u001b[0m \u001b[1;33m\u001b[0m\u001b[0m\n\u001b[0;32m   2808\u001b[0m         \u001b[1;31m# take() does not accept boolean indexers\u001b[0m\u001b[1;33m\u001b[0m\u001b[1;33m\u001b[0m\u001b[1;33m\u001b[0m\u001b[0m\n",
      "\u001b[1;32mc:\\python\\python37\\lib\\site-packages\\pandas\\core\\indexing.py\u001b[0m in \u001b[0;36m_get_listlike_indexer\u001b[1;34m(self, key, axis, raise_missing)\u001b[0m\n\u001b[0;32m   1551\u001b[0m \u001b[1;33m\u001b[0m\u001b[0m\n\u001b[0;32m   1552\u001b[0m         self._validate_read_indexer(\n\u001b[1;32m-> 1553\u001b[1;33m             \u001b[0mkeyarr\u001b[0m\u001b[1;33m,\u001b[0m \u001b[0mindexer\u001b[0m\u001b[1;33m,\u001b[0m \u001b[0mo\u001b[0m\u001b[1;33m.\u001b[0m\u001b[0m_get_axis_number\u001b[0m\u001b[1;33m(\u001b[0m\u001b[0maxis\u001b[0m\u001b[1;33m)\u001b[0m\u001b[1;33m,\u001b[0m \u001b[0mraise_missing\u001b[0m\u001b[1;33m=\u001b[0m\u001b[0mraise_missing\u001b[0m\u001b[1;33m\u001b[0m\u001b[1;33m\u001b[0m\u001b[0m\n\u001b[0m\u001b[0;32m   1554\u001b[0m         )\n\u001b[0;32m   1555\u001b[0m         \u001b[1;32mreturn\u001b[0m \u001b[0mkeyarr\u001b[0m\u001b[1;33m,\u001b[0m \u001b[0mindexer\u001b[0m\u001b[1;33m\u001b[0m\u001b[1;33m\u001b[0m\u001b[0m\n",
      "\u001b[1;32mc:\\python\\python37\\lib\\site-packages\\pandas\\core\\indexing.py\u001b[0m in \u001b[0;36m_validate_read_indexer\u001b[1;34m(self, key, indexer, axis, raise_missing)\u001b[0m\n\u001b[0;32m   1644\u001b[0m             \u001b[1;32mif\u001b[0m \u001b[1;32mnot\u001b[0m \u001b[1;33m(\u001b[0m\u001b[0mself\u001b[0m\u001b[1;33m.\u001b[0m\u001b[0mname\u001b[0m \u001b[1;33m==\u001b[0m \u001b[1;34m\"loc\"\u001b[0m \u001b[1;32mand\u001b[0m \u001b[1;32mnot\u001b[0m \u001b[0mraise_missing\u001b[0m\u001b[1;33m)\u001b[0m\u001b[1;33m:\u001b[0m\u001b[1;33m\u001b[0m\u001b[1;33m\u001b[0m\u001b[0m\n\u001b[0;32m   1645\u001b[0m                 \u001b[0mnot_found\u001b[0m \u001b[1;33m=\u001b[0m \u001b[0mlist\u001b[0m\u001b[1;33m(\u001b[0m\u001b[0mset\u001b[0m\u001b[1;33m(\u001b[0m\u001b[0mkey\u001b[0m\u001b[1;33m)\u001b[0m \u001b[1;33m-\u001b[0m \u001b[0mset\u001b[0m\u001b[1;33m(\u001b[0m\u001b[0max\u001b[0m\u001b[1;33m)\u001b[0m\u001b[1;33m)\u001b[0m\u001b[1;33m\u001b[0m\u001b[1;33m\u001b[0m\u001b[0m\n\u001b[1;32m-> 1646\u001b[1;33m                 \u001b[1;32mraise\u001b[0m \u001b[0mKeyError\u001b[0m\u001b[1;33m(\u001b[0m\u001b[1;34mf\"{not_found} not in index\"\u001b[0m\u001b[1;33m)\u001b[0m\u001b[1;33m\u001b[0m\u001b[1;33m\u001b[0m\u001b[0m\n\u001b[0m\u001b[0;32m   1647\u001b[0m \u001b[1;33m\u001b[0m\u001b[0m\n\u001b[0;32m   1648\u001b[0m             \u001b[1;31m# we skip the warning on Categorical/Interval\u001b[0m\u001b[1;33m\u001b[0m\u001b[1;33m\u001b[0m\u001b[1;33m\u001b[0m\u001b[0m\n",
      "\u001b[1;31mKeyError\u001b[0m: \"['total_amount', 'number_transactions', 'transaction_period'] not in index\""
     ]
    }
   ],
   "source": [
    "features = ['total_amount', 'number_transactions' ,'transaction_period', 'age', 'user_settings_crypto_unlocked', \n",
    "            'brand', 'num_contacts', 'user_active_time' ,'user_trans_time', 'user_trans_periodicity']\n",
    "\n",
    "x=df[features].copy()\n",
    "y=df['plan']"
   ]
  },
  {
   "cell_type": "code",
   "execution_count": 4,
   "metadata": {
    "colab": {},
    "colab_type": "code",
    "id": "tZblejnMUCWx"
   },
   "outputs": [],
   "source": [
    "labels=['standard','paid']"
   ]
  },
  {
   "cell_type": "code",
   "execution_count": 5,
   "metadata": {
    "colab": {
     "base_uri": "https://localhost:8080/",
     "height": 34
    },
    "colab_type": "code",
    "id": "G2aJ3F2SgV0u",
    "outputId": "08b9c0c8-06cd-4d7c-c345-69be4f73a1db"
   },
   "outputs": [
    {
     "name": "stdout",
     "output_type": "stream",
     "text": [
      "(11856, 10) (11856,)\n"
     ]
    }
   ],
   "source": [
    "x_train,x_test,y_train,y_test=train_test_split(x,y,test_size=0.2)\n",
    "print(x_train.shape,y_train.shape)"
   ]
  },
  {
   "cell_type": "code",
   "execution_count": 6,
   "metadata": {
    "colab": {
     "base_uri": "https://localhost:8080/",
     "height": 295
    },
    "colab_type": "code",
    "id": "mp74dIk2iGAH",
    "outputId": "a191e387-be9d-41f5-b355-f382b610a2d3"
   },
   "outputs": [
    {
     "data": {
      "image/png": "[encoded data removed]",
      "text/plain": [
       "<Figure size 432x288 with 1 Axes>"
      ]
     },
     "metadata": {
      "needs_background": "light"
     },
     "output_type": "display_data"
    }
   ],
   "source": [
    "count_classes=pd.value_counts(df['plan'],sort=True)\n",
    "count_classes.plot(kind='bar',rot=0)\n",
    "plt.title('Plan Class Distribution')\n",
    "plt.xticks(range(2),labels)\n",
    "plt.xlabel('Plan')\n",
    "plt.ylabel('Frequency')\n",
    "plt.show()"
   ]
  },
  {
   "cell_type": "code",
   "execution_count": 7,
   "metadata": {
    "colab": {
     "base_uri": "https://localhost:8080/",
     "height": 34
    },
    "colab_type": "code",
    "id": "gLKWklZ0mKKl",
    "outputId": "97a2692c-f1a6-4217-8914-bff582e32c57"
   },
   "outputs": [
    {
     "name": "stdout",
     "output_type": "stream",
     "text": [
      "(13672, 45) (1149, 45)\n"
     ]
    }
   ],
   "source": [
    "Standard=df[df['plan']==0]\n",
    "Paid=df[df['plan']==1]\n",
    "print(Standard.shape,Paid.shape)"
   ]
  },
  {
   "cell_type": "code",
   "execution_count": 8,
   "metadata": {
    "colab": {
     "base_uri": "https://localhost:8080/",
     "height": 104
    },
    "colab_type": "code",
    "id": "xHlzmTgYpeRD",
    "outputId": "f9953b19-04d2-47ec-8f38-9a7d08cfe2a0"
   },
   "outputs": [
    {
     "name": "stdout",
     "output_type": "stream",
     "text": [
      "Original dataset shape is :  (11856, 10)  and  (11856,)\n",
      "Resampled dataset shape is:  (21876, 10)  and  (21876,)\n"
     ]
    }
   ],
   "source": [
    "os=SMOTE()\n",
    "X_train,Y_train=os.fit_sample(x_train,y_train)\n",
    "print('Original dataset shape is : ',x_train.shape, ' and ',y_train.shape)\n",
    "print('Resampled dataset shape is: ',X_train.shape,' and ',Y_train.shape)"
   ]
  },
  {
   "cell_type": "code",
   "execution_count": 9,
   "metadata": {
    "colab": {
     "base_uri": "https://localhost:8080/",
     "height": 235
    },
    "colab_type": "code",
    "id": "EMwVrxsSwecA",
    "outputId": "eabab34e-decc-4e6c-e75b-ffd74548173b"
   },
   "outputs": [
    {
     "data": {
      "text/plain": [
       "array([[ 0.09079508,  0.40399996, -0.27945333, ..., -0.91724668,\n",
       "        -0.73141026, -0.35893515],\n",
       "       [-0.21503666, -0.59653247,  1.25735963, ...,  1.52231829,\n",
       "         1.4207093 , -0.23081659],\n",
       "       [-0.11236097,  0.82846826,  1.10121286, ...,  0.81504945,\n",
       "         0.9293578 , -0.36351452],\n",
       "       ...,\n",
       "       [-0.22076669, -0.61775589, -0.64927463, ..., -1.23500514,\n",
       "        -1.03604819, -0.19326281],\n",
       "       [-0.18125979, -0.15690459,  0.17255048, ..., -0.35348167,\n",
       "        -0.19092361, -0.34231029],\n",
       "       [-0.02205777, -0.22967058,  1.80798245, ...,  1.69657293,\n",
       "         1.77448238, -0.3373711 ]])"
      ]
     },
     "execution_count": 9,
     "metadata": {},
     "output_type": "execute_result"
    }
   ],
   "source": [
    "ssc=StandardScaler()\n",
    "ssc.fit_transform(X_train)\n",
    "ssc.transform(x_test)"
   ]
  },
  {
   "cell_type": "markdown",
   "metadata": {
    "colab_type": "text",
    "id": "hEYWxr2IiACP"
   },
   "source": [
    "## Neural"
   ]
  },
  {
   "cell_type": "code",
   "execution_count": 10,
   "metadata": {
    "colab": {},
    "colab_type": "code",
    "id": "xOc79mUNxO5a"
   },
   "outputs": [
    {
     "name": "stdout",
     "output_type": "stream",
     "text": [
      "Best: 0.702777 using {'activation': 'relu', 'batch_size': 128, 'learning_rate_init': 0.0001, 'solver': 'adam'}\n",
      "0.6883642495784148\n",
      "              precision    recall  f1-score   support\n",
      "\n",
      "           0       0.97      0.68      0.80      2734\n",
      "           1       0.17      0.76      0.28       231\n",
      "\n",
      "    accuracy                           0.69      2965\n",
      "   macro avg       0.57      0.72      0.54      2965\n",
      "weighted avg       0.91      0.69      0.76      2965\n",
      "\n"
     ]
    }
   ],
   "source": [
    " grid={'activation':['relu'],#'logistic','identity','tanh'],\n",
    "      'learning_rate_init':[0.0001],\n",
    "      'solver':['adam'],\n",
    "      'batch_size':[128]\n",
    "      #'momentum':[0.5]\n",
    "       }\n",
    "\n",
    "mlp=MLPClassifier()\n",
    "gs=GridSearchCV(mlp,grid,cv=5,scoring='accuracy')\n",
    "gs_result=gs.fit(X_train,Y_train)\n",
    "print(\"Best: %f using %s\" % (gs_result.best_score_, gs_result.best_params_))\n",
    "mlp_pred=gs.predict(x_test)\n",
    "print(accuracy_score(y_test,mlp_pred))\n",
    "print(classification_report(y_test,mlp_pred))"
   ]
  },
  {
   "cell_type": "markdown",
   "metadata": {
    "colab_type": "text",
    "id": "SnsHTtyYUx-A"
   },
   "source": [
    "## Random Forest\n"
   ]
  },
  {
   "cell_type": "code",
   "execution_count": 11,
   "metadata": {
    "colab": {
     "base_uri": "https://localhost:8080/",
     "height": 370
    },
    "colab_type": "code",
    "id": "2jvJmJloVNzO",
    "outputId": "37dd5a4c-a58d-465c-fa21-0c7fd599cae4"
   },
   "outputs": [
    {
     "name": "stdout",
     "output_type": "stream",
     "text": [
      "total_amount        : 0.23309106859203083\n",
      "number_transactions : 0.19529277970910214\n",
      "user_trans_periodicity: 0.11980384921937014\n",
      "transaction_period  : 0.10852316039799045\n",
      "age                 : 0.08347946419108242\n",
      "user_active_time    : 0.0776669756739229\n",
      "user_trans_time     : 0.07714435926852332\n",
      "num_contacts        : 0.07317037299947221\n",
      "brand               : 0.01638454420888935\n",
      "user_settings_crypto_unlocked: 0.015443425739616065\n",
      "{'model__n_estimators': 105, 'selector__threshold': 0.01} \n",
      "\n",
      "              precision    recall  f1-score   support\n",
      "\n",
      "           0       0.95      0.90      0.92      2734\n",
      "           1       0.29      0.49      0.36       231\n",
      "\n",
      "    accuracy                           0.86      2965\n",
      "   macro avg       0.62      0.69      0.64      2965\n",
      "weighted avg       0.90      0.86      0.88      2965\n",
      "\n"
     ]
    }
   ],
   "source": [
    "var = VarianceThreshold()\n",
    "\n",
    "rf = RandomForestClassifier(n_estimators=50, n_jobs=-1)\n",
    "rf.fit(X_train, Y_train)\n",
    "rf.feature_importances_\n",
    "\n",
    "for c, imp in sorted(zip(features, rf.feature_importances_), key=lambda pair: pair[1], reverse=True):\n",
    "  print('{:20}: {}'.format(c, imp))\n",
    "\n",
    "rf = RandomForestClassifier()\n",
    "\n",
    "pipe1 = Pipeline([('selector', var),\n",
    "                  ('model', rf)])\n",
    "\n",
    "grid1 = {'selector__threshold': [0, 0.01, 0.5],\n",
    "         'model__n_estimators': [101,102,103,104,105]}\n",
    "\n",
    "clf = GridSearchCV(pipe1, grid1)\n",
    "clf.fit(X_train, Y_train)\n",
    "\n",
    "print(clf.best_params_, '\\n')\n",
    "print(classification_report(y_test, clf.predict(x_test)))"
   ]
  },
  {
   "cell_type": "code",
   "execution_count": null,
   "metadata": {},
   "outputs": [],
   "source": []
  }
 ],
 "metadata": {
  "colab": {
   "name": "neural_random (3).ipynb",
   "provenance": []
  },
  "kernelspec": {
   "display_name": "Python 3",
   "language": "python",
   "name": "python3"
  },
  "language_info": {
   "codemirror_mode": {
    "name": "ipython",
    "version": 3
   },
   "file_extension": ".py",
   "mimetype": "text/x-python",
   "name": "python",
   "nbconvert_exporter": "python",
   "pygments_lexer": "ipython3",
   "version": "3.7.7"
  }
 },
 "nbformat": 4,
 "nbformat_minor": 1
}
