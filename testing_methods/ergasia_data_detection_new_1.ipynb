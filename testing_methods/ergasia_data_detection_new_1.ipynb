{
  "nbformat": 4,
  "nbformat_minor": 0,
  "metadata": {
    "colab": {
      "name": "ergasia_data_detection_new_1.ipynb",
      "provenance": [],
      "collapsed_sections": []
    },
    "kernelspec": {
      "name": "python3",
      "display_name": "Python 3"
    }
  },
  "cells": [
    {
      "cell_type": "code",
      "metadata": {
        "id": "xjOIIltf09C1",
        "colab_type": "code",
        "colab": {
          "base_uri": "https://localhost:8080/",
          "height": 70
        },
        "outputId": "3e258f6f-c802-49a2-d03a-7661ed387c17"
      },
      "source": [
        "import pandas as pd\n",
        "import numpy as np\n",
        "import matplotlib.pyplot as plt\n",
        "from matplotlib.pyplot import pie,axis,show\n",
        "import seaborn as sns\n"
      ],
      "execution_count": 1,
      "outputs": [
        {
          "output_type": "stream",
          "text": [
            "/usr/local/lib/python3.6/dist-packages/statsmodels/tools/_testing.py:19: FutureWarning: pandas.util.testing is deprecated. Use the functions in the public API at pandas.testing instead.\n",
            "  import pandas.util.testing as tm\n"
          ],
          "name": "stderr"
        }
      ]
    },
    {
      "cell_type": "code",
      "metadata": {
        "id": "nnAXUUwLrPm_",
        "colab_type": "code",
        "outputId": "c2d0cc12-c14b-46b8-99c6-816ed7fba433",
        "colab": {
          "base_uri": "https://localhost:8080/",
          "height": 34
        }
      },
      "source": [
        "pwd"
      ],
      "execution_count": 2,
      "outputs": [
        {
          "output_type": "execute_result",
          "data": {
            "text/plain": [
              "'/content'"
            ]
          },
          "metadata": {
            "tags": []
          },
          "execution_count": 2
        }
      ]
    },
    {
      "cell_type": "code",
      "metadata": {
        "id": "ixk2y42F2R70",
        "colab_type": "code",
        "colab": {}
      },
      "source": [
        "devices=pd.read_csv('/content/devices.csv')\n",
        "notifications=pd.read_csv('/content/notifications.csv')\n",
        "users=pd.read_csv('/content/users.csv')"
      ],
      "execution_count": 0,
      "outputs": []
    },
    {
      "cell_type": "code",
      "metadata": {
        "id": "MLHTND3A3tWp",
        "colab_type": "code",
        "outputId": "4608200e-ca0d-4f4f-c47d-42c4f09a6579",
        "colab": {
          "base_uri": "https://localhost:8080/",
          "height": 67
        }
      },
      "source": [
        "print('the shape of devices is: ',devices.shape)\n",
        "print('the shape of notifications is: ',notifications.shape)\n",
        "print('the shape of users is: ',users.shape)"
      ],
      "execution_count": 4,
      "outputs": [
        {
          "output_type": "stream",
          "text": [
            "the shape of devices is:  (15544, 2)\n",
            "the shape of notifications is:  (97704, 5)\n",
            "the shape of users is:  (15544, 12)\n"
          ],
          "name": "stdout"
        }
      ]
    },
    {
      "cell_type": "code",
      "metadata": {
        "id": "sK0jdEWw8IKy",
        "colab_type": "code",
        "colab": {}
      },
      "source": [
        "devices = devices.set_index('user_id')"
      ],
      "execution_count": 0,
      "outputs": []
    },
    {
      "cell_type": "code",
      "metadata": {
        "id": "dqEYR0ifcGbf",
        "colab_type": "code",
        "colab": {}
      },
      "source": [
        "df=pd.merge(users,devices,on='user_id')"
      ],
      "execution_count": 0,
      "outputs": []
    },
    {
      "cell_type": "code",
      "metadata": {
        "id": "JZ0Kz6-gdEj-",
        "colab_type": "code",
        "colab": {}
      },
      "source": [
        "userdf=df.set_index('user_id')"
      ],
      "execution_count": 0,
      "outputs": []
    },
    {
      "cell_type": "code",
      "metadata": {
        "id": "aoiW0MgRdFJO",
        "colab_type": "code",
        "outputId": "8f1a67eb-e784-4d4d-c4f3-d8a8fa18baba",
        "colab": {
          "base_uri": "https://localhost:8080/",
          "height": 190
        }
      },
      "source": [
        "userdf.head(2)"
      ],
      "execution_count": 8,
      "outputs": [
        {
          "output_type": "execute_result",
          "data": {
            "text/html": [
              "<div>\n",
              "<style scoped>\n",
              "    .dataframe tbody tr th:only-of-type {\n",
              "        vertical-align: middle;\n",
              "    }\n",
              "\n",
              "    .dataframe tbody tr th {\n",
              "        vertical-align: top;\n",
              "    }\n",
              "\n",
              "    .dataframe thead th {\n",
              "        text-align: right;\n",
              "    }\n",
              "</style>\n",
              "<table border=\"1\" class=\"dataframe\">\n",
              "  <thead>\n",
              "    <tr style=\"text-align: right;\">\n",
              "      <th></th>\n",
              "      <th>birth_year</th>\n",
              "      <th>country</th>\n",
              "      <th>city</th>\n",
              "      <th>created_date</th>\n",
              "      <th>user_settings_crypto_unlocked</th>\n",
              "      <th>plan</th>\n",
              "      <th>attributes_notifications_marketing_push</th>\n",
              "      <th>attributes_notifications_marketing_email</th>\n",
              "      <th>num_contacts</th>\n",
              "      <th>num_referrals</th>\n",
              "      <th>num_successful_referrals</th>\n",
              "      <th>brand</th>\n",
              "    </tr>\n",
              "    <tr>\n",
              "      <th>user_id</th>\n",
              "      <th></th>\n",
              "      <th></th>\n",
              "      <th></th>\n",
              "      <th></th>\n",
              "      <th></th>\n",
              "      <th></th>\n",
              "      <th></th>\n",
              "      <th></th>\n",
              "      <th></th>\n",
              "      <th></th>\n",
              "      <th></th>\n",
              "      <th></th>\n",
              "    </tr>\n",
              "  </thead>\n",
              "  <tbody>\n",
              "    <tr>\n",
              "      <th>user_0</th>\n",
              "      <td>1992</td>\n",
              "      <td>ES</td>\n",
              "      <td>Madrid</td>\n",
              "      <td>2018-09-10 18:46:42.843855</td>\n",
              "      <td>0</td>\n",
              "      <td>STANDARD</td>\n",
              "      <td>1.0</td>\n",
              "      <td>1.0</td>\n",
              "      <td>3</td>\n",
              "      <td>0</td>\n",
              "      <td>0</td>\n",
              "      <td>Apple</td>\n",
              "    </tr>\n",
              "    <tr>\n",
              "      <th>user_1</th>\n",
              "      <td>1985</td>\n",
              "      <td>LT</td>\n",
              "      <td>Klaipeda</td>\n",
              "      <td>2018-01-11 18:53:10.531146</td>\n",
              "      <td>1</td>\n",
              "      <td>STANDARD</td>\n",
              "      <td>NaN</td>\n",
              "      <td>NaN</td>\n",
              "      <td>75</td>\n",
              "      <td>0</td>\n",
              "      <td>0</td>\n",
              "      <td>Apple</td>\n",
              "    </tr>\n",
              "  </tbody>\n",
              "</table>\n",
              "</div>"
            ],
            "text/plain": [
              "         birth_year country  ... num_successful_referrals  brand\n",
              "user_id                      ...                                \n",
              "user_0         1992      ES  ...                        0  Apple\n",
              "user_1         1985      LT  ...                        0  Apple\n",
              "\n",
              "[2 rows x 12 columns]"
            ]
          },
          "metadata": {
            "tags": []
          },
          "execution_count": 8
        }
      ]
    },
    {
      "cell_type": "code",
      "metadata": {
        "id": "RIVow3xt3IXC",
        "colab_type": "code",
        "colab": {
          "base_uri": "https://localhost:8080/",
          "height": 304
        },
        "outputId": "6c2df350-d10f-4fff-fb92-13d548fa4918"
      },
      "source": [
        "userdf.describe()"
      ],
      "execution_count": 9,
      "outputs": [
        {
          "output_type": "execute_result",
          "data": {
            "text/html": [
              "<div>\n",
              "<style scoped>\n",
              "    .dataframe tbody tr th:only-of-type {\n",
              "        vertical-align: middle;\n",
              "    }\n",
              "\n",
              "    .dataframe tbody tr th {\n",
              "        vertical-align: top;\n",
              "    }\n",
              "\n",
              "    .dataframe thead th {\n",
              "        text-align: right;\n",
              "    }\n",
              "</style>\n",
              "<table border=\"1\" class=\"dataframe\">\n",
              "  <thead>\n",
              "    <tr style=\"text-align: right;\">\n",
              "      <th></th>\n",
              "      <th>birth_year</th>\n",
              "      <th>user_settings_crypto_unlocked</th>\n",
              "      <th>attributes_notifications_marketing_push</th>\n",
              "      <th>attributes_notifications_marketing_email</th>\n",
              "      <th>num_contacts</th>\n",
              "      <th>num_referrals</th>\n",
              "      <th>num_successful_referrals</th>\n",
              "    </tr>\n",
              "  </thead>\n",
              "  <tbody>\n",
              "    <tr>\n",
              "      <th>count</th>\n",
              "      <td>15544.000000</td>\n",
              "      <td>15544.000000</td>\n",
              "      <td>10284.000000</td>\n",
              "      <td>10284.000000</td>\n",
              "      <td>15544.000000</td>\n",
              "      <td>15544.0</td>\n",
              "      <td>15544.0</td>\n",
              "    </tr>\n",
              "    <tr>\n",
              "      <th>mean</th>\n",
              "      <td>1983.666624</td>\n",
              "      <td>0.182385</td>\n",
              "      <td>0.948269</td>\n",
              "      <td>0.895469</td>\n",
              "      <td>17.874228</td>\n",
              "      <td>0.0</td>\n",
              "      <td>0.0</td>\n",
              "    </tr>\n",
              "    <tr>\n",
              "      <th>std</th>\n",
              "      <td>11.369184</td>\n",
              "      <td>0.386174</td>\n",
              "      <td>0.221494</td>\n",
              "      <td>0.305963</td>\n",
              "      <td>47.549929</td>\n",
              "      <td>0.0</td>\n",
              "      <td>0.0</td>\n",
              "    </tr>\n",
              "    <tr>\n",
              "      <th>min</th>\n",
              "      <td>1929.000000</td>\n",
              "      <td>0.000000</td>\n",
              "      <td>0.000000</td>\n",
              "      <td>0.000000</td>\n",
              "      <td>0.000000</td>\n",
              "      <td>0.0</td>\n",
              "      <td>0.0</td>\n",
              "    </tr>\n",
              "    <tr>\n",
              "      <th>25%</th>\n",
              "      <td>1977.000000</td>\n",
              "      <td>0.000000</td>\n",
              "      <td>1.000000</td>\n",
              "      <td>1.000000</td>\n",
              "      <td>0.000000</td>\n",
              "      <td>0.0</td>\n",
              "      <td>0.0</td>\n",
              "    </tr>\n",
              "    <tr>\n",
              "      <th>50%</th>\n",
              "      <td>1986.000000</td>\n",
              "      <td>0.000000</td>\n",
              "      <td>1.000000</td>\n",
              "      <td>1.000000</td>\n",
              "      <td>5.000000</td>\n",
              "      <td>0.0</td>\n",
              "      <td>0.0</td>\n",
              "    </tr>\n",
              "    <tr>\n",
              "      <th>75%</th>\n",
              "      <td>1992.000000</td>\n",
              "      <td>0.000000</td>\n",
              "      <td>1.000000</td>\n",
              "      <td>1.000000</td>\n",
              "      <td>19.000000</td>\n",
              "      <td>0.0</td>\n",
              "      <td>0.0</td>\n",
              "    </tr>\n",
              "    <tr>\n",
              "      <th>max</th>\n",
              "      <td>2001.000000</td>\n",
              "      <td>1.000000</td>\n",
              "      <td>1.000000</td>\n",
              "      <td>1.000000</td>\n",
              "      <td>2918.000000</td>\n",
              "      <td>0.0</td>\n",
              "      <td>0.0</td>\n",
              "    </tr>\n",
              "  </tbody>\n",
              "</table>\n",
              "</div>"
            ],
            "text/plain": [
              "         birth_year  ...  num_successful_referrals\n",
              "count  15544.000000  ...                   15544.0\n",
              "mean    1983.666624  ...                       0.0\n",
              "std       11.369184  ...                       0.0\n",
              "min     1929.000000  ...                       0.0\n",
              "25%     1977.000000  ...                       0.0\n",
              "50%     1986.000000  ...                       0.0\n",
              "75%     1992.000000  ...                       0.0\n",
              "max     2001.000000  ...                       0.0\n",
              "\n",
              "[8 rows x 7 columns]"
            ]
          },
          "metadata": {
            "tags": []
          },
          "execution_count": 9
        }
      ]
    },
    {
      "cell_type": "code",
      "metadata": {
        "id": "OdfePktr31Jc",
        "colab_type": "code",
        "colab": {
          "base_uri": "https://localhost:8080/",
          "height": 235
        },
        "outputId": "1a448655-1908-4d42-ff70-da183b97f7a7"
      },
      "source": [
        "userdf.dtypes"
      ],
      "execution_count": 10,
      "outputs": [
        {
          "output_type": "execute_result",
          "data": {
            "text/plain": [
              "birth_year                                    int64\n",
              "country                                      object\n",
              "city                                         object\n",
              "created_date                                 object\n",
              "user_settings_crypto_unlocked                 int64\n",
              "plan                                         object\n",
              "attributes_notifications_marketing_push     float64\n",
              "attributes_notifications_marketing_email    float64\n",
              "num_contacts                                  int64\n",
              "num_referrals                                 int64\n",
              "num_successful_referrals                      int64\n",
              "brand                                        object\n",
              "dtype: object"
            ]
          },
          "metadata": {
            "tags": []
          },
          "execution_count": 10
        }
      ]
    },
    {
      "cell_type": "code",
      "metadata": {
        "id": "g-V-dQJbeAB0",
        "colab_type": "code",
        "outputId": "220c3d9f-9ec2-477d-aa2f-ad31c7146a4c",
        "colab": {
          "base_uri": "https://localhost:8080/",
          "height": 235
        }
      },
      "source": [
        "userdf.isnull().sum()"
      ],
      "execution_count": 11,
      "outputs": [
        {
          "output_type": "execute_result",
          "data": {
            "text/plain": [
              "birth_year                                     0\n",
              "country                                        0\n",
              "city                                           0\n",
              "created_date                                   0\n",
              "user_settings_crypto_unlocked                  0\n",
              "plan                                           0\n",
              "attributes_notifications_marketing_push     5260\n",
              "attributes_notifications_marketing_email    5260\n",
              "num_contacts                                   0\n",
              "num_referrals                                  0\n",
              "num_successful_referrals                       0\n",
              "brand                                          0\n",
              "dtype: int64"
            ]
          },
          "metadata": {
            "tags": []
          },
          "execution_count": 11
        }
      ]
    },
    {
      "cell_type": "markdown",
      "metadata": {
        "id": "Rl6ir3m7nx8X",
        "colab_type": "text"
      },
      "source": [
        "filling the NANS in email\n"
      ]
    },
    {
      "cell_type": "code",
      "metadata": {
        "id": "QwZ_HL0_f7cL",
        "colab_type": "code",
        "colab": {
          "base_uri": "https://localhost:8080/",
          "height": 84
        },
        "outputId": "262c0da4-52ca-49c0-be66-7a1e91d2905c"
      },
      "source": [
        "# apo tous 15544 xrhstes oi 14394 (92.6%) einai standard, kai oi upoloipoi 1150 (7.3%) einai paid\n",
        "userdf['plan'].value_counts()"
      ],
      "execution_count": 12,
      "outputs": [
        {
          "output_type": "execute_result",
          "data": {
            "text/plain": [
              "STANDARD    14394\n",
              "SILVER        713\n",
              "GOLD          437\n",
              "Name: plan, dtype: int64"
            ]
          },
          "metadata": {
            "tags": []
          },
          "execution_count": 12
        }
      ]
    },
    {
      "cell_type": "code",
      "metadata": {
        "id": "_imV-cbtdPve",
        "colab_type": "code",
        "colab": {
          "base_uri": "https://localhost:8080/",
          "height": 136
        },
        "outputId": "ce71db64-48a6-4bdd-b29f-94ceb7411d49"
      },
      "source": [
        "#oson afora to an exoun dextei na dexontai mail\n",
        "#oson afora tous 830 paid xrhstes: oi 73 (6.3%) den exoun dextei \n",
        "                             # oi 757 (65.8%) exoun dextei\n",
        "#oson afora tous 9454 standard xrhstes: oi 1002 (6.9%) den exoun dextei \n",
        "                             # oi 8452 (58.7%) exoun dextei\n",
        "pd.crosstab(index=userdf['attributes_notifications_marketing_email'],columns=userdf['plan'])"
      ],
      "execution_count": 13,
      "outputs": [
        {
          "output_type": "execute_result",
          "data": {
            "text/html": [
              "<div>\n",
              "<style scoped>\n",
              "    .dataframe tbody tr th:only-of-type {\n",
              "        vertical-align: middle;\n",
              "    }\n",
              "\n",
              "    .dataframe tbody tr th {\n",
              "        vertical-align: top;\n",
              "    }\n",
              "\n",
              "    .dataframe thead th {\n",
              "        text-align: right;\n",
              "    }\n",
              "</style>\n",
              "<table border=\"1\" class=\"dataframe\">\n",
              "  <thead>\n",
              "    <tr style=\"text-align: right;\">\n",
              "      <th>plan</th>\n",
              "      <th>GOLD</th>\n",
              "      <th>SILVER</th>\n",
              "      <th>STANDARD</th>\n",
              "    </tr>\n",
              "    <tr>\n",
              "      <th>attributes_notifications_marketing_email</th>\n",
              "      <th></th>\n",
              "      <th></th>\n",
              "      <th></th>\n",
              "    </tr>\n",
              "  </thead>\n",
              "  <tbody>\n",
              "    <tr>\n",
              "      <th>0.0</th>\n",
              "      <td>23</td>\n",
              "      <td>50</td>\n",
              "      <td>1002</td>\n",
              "    </tr>\n",
              "    <tr>\n",
              "      <th>1.0</th>\n",
              "      <td>355</td>\n",
              "      <td>402</td>\n",
              "      <td>8452</td>\n",
              "    </tr>\n",
              "  </tbody>\n",
              "</table>\n",
              "</div>"
            ],
            "text/plain": [
              "plan                                      GOLD  SILVER  STANDARD\n",
              "attributes_notifications_marketing_email                        \n",
              "0.0                                         23      50      1002\n",
              "1.0                                        355     402      8452"
            ]
          },
          "metadata": {
            "tags": []
          },
          "execution_count": 13
        }
      ]
    },
    {
      "cell_type": "code",
      "metadata": {
        "id": "_FOaEiqsdP2A",
        "colab_type": "code",
        "colab": {
          "base_uri": "https://localhost:8080/",
          "height": 136
        },
        "outputId": "955559b6-4f16-4764-dcd5-ac5147d53b3a"
      },
      "source": [
        "#parathrw oti 320 xrhstes oi opoioi einai paid exoun timi nan kai epishs 4940 xrhstes standard exoun epishs timh nan\n",
        "pd.crosstab(index=userdf['attributes_notifications_marketing_email'].isnull(),columns=userdf['plan'])"
      ],
      "execution_count": 14,
      "outputs": [
        {
          "output_type": "execute_result",
          "data": {
            "text/html": [
              "<div>\n",
              "<style scoped>\n",
              "    .dataframe tbody tr th:only-of-type {\n",
              "        vertical-align: middle;\n",
              "    }\n",
              "\n",
              "    .dataframe tbody tr th {\n",
              "        vertical-align: top;\n",
              "    }\n",
              "\n",
              "    .dataframe thead th {\n",
              "        text-align: right;\n",
              "    }\n",
              "</style>\n",
              "<table border=\"1\" class=\"dataframe\">\n",
              "  <thead>\n",
              "    <tr style=\"text-align: right;\">\n",
              "      <th>plan</th>\n",
              "      <th>GOLD</th>\n",
              "      <th>SILVER</th>\n",
              "      <th>STANDARD</th>\n",
              "    </tr>\n",
              "    <tr>\n",
              "      <th>attributes_notifications_marketing_email</th>\n",
              "      <th></th>\n",
              "      <th></th>\n",
              "      <th></th>\n",
              "    </tr>\n",
              "  </thead>\n",
              "  <tbody>\n",
              "    <tr>\n",
              "      <th>False</th>\n",
              "      <td>378</td>\n",
              "      <td>452</td>\n",
              "      <td>9454</td>\n",
              "    </tr>\n",
              "    <tr>\n",
              "      <th>True</th>\n",
              "      <td>59</td>\n",
              "      <td>261</td>\n",
              "      <td>4940</td>\n",
              "    </tr>\n",
              "  </tbody>\n",
              "</table>\n",
              "</div>"
            ],
            "text/plain": [
              "plan                                      GOLD  SILVER  STANDARD\n",
              "attributes_notifications_marketing_email                        \n",
              "False                                      378     452      9454\n",
              "True                                        59     261      4940"
            ]
          },
          "metadata": {
            "tags": []
          },
          "execution_count": 14
        }
      ]
    },
    {
      "cell_type": "code",
      "metadata": {
        "id": "lOs7Q1d2dPsO",
        "colab_type": "code",
        "colab": {}
      },
      "source": [
        "##ara tha gemisw posostiaia tis nan times kai tha thewrisw oti apo tous 320 paid xristes me nan oi 292(91.25%) tha dextoun (=1) enw oi 28(8.75%) oxi (=0)\n",
        "##kai oson afora tous standard apo tous 4940 me nan times tha thewrisw tous 4416(90%) oti tha dextoun (=1) enw oi 524(10%) oxi (=0) "
      ],
      "execution_count": 0,
      "outputs": []
    },
    {
      "cell_type": "code",
      "metadata": {
        "id": "WnhVLPfMvX15",
        "colab_type": "code",
        "colab": {}
      },
      "source": [
        ""
      ],
      "execution_count": 0,
      "outputs": []
    },
    {
      "cell_type": "markdown",
      "metadata": {
        "id": "CVsTQJbEpTV9",
        "colab_type": "text"
      },
      "source": [
        "filling the NANS in push"
      ]
    },
    {
      "cell_type": "code",
      "metadata": {
        "id": "Rj7t5dG3p0-7",
        "colab_type": "code",
        "colab": {
          "base_uri": "https://localhost:8080/",
          "height": 84
        },
        "outputId": "fc29cd0a-5525-49c7-9d27-d8f71955c5c5"
      },
      "source": [
        "# apo tous 15544 xrhstes oi 14394 (92.6%) einai standard, kai oi upoloipoi 1150 (7.3%) einai paid\n",
        "userdf['plan'].value_counts()"
      ],
      "execution_count": 16,
      "outputs": [
        {
          "output_type": "execute_result",
          "data": {
            "text/plain": [
              "STANDARD    14394\n",
              "SILVER        713\n",
              "GOLD          437\n",
              "Name: plan, dtype: int64"
            ]
          },
          "metadata": {
            "tags": []
          },
          "execution_count": 16
        }
      ]
    },
    {
      "cell_type": "code",
      "metadata": {
        "id": "mQk_CUErpRgw",
        "colab_type": "code",
        "colab": {
          "base_uri": "https://localhost:8080/",
          "height": 136
        },
        "outputId": "f8ce3f5a-1a31-4afd-e2c0-0e3c704503f3"
      },
      "source": [
        "#oson afora to an exoun dextei na dexontai push notifications\n",
        "#oson afora tous 830 paid xrhstes: oi 46 (5.5%) den exoun dextei \n",
        "                             # oi 784 (94.5%) exoun dextei\n",
        "#oson afora tous 9454 standard xrhstes: oi 486 (5%) den exoun dextei \n",
        "                             # oi 8968 (95%) exoun dextei\n",
        "pd.crosstab(index=userdf['attributes_notifications_marketing_push'],columns=userdf['plan'])"
      ],
      "execution_count": 17,
      "outputs": [
        {
          "output_type": "execute_result",
          "data": {
            "text/html": [
              "<div>\n",
              "<style scoped>\n",
              "    .dataframe tbody tr th:only-of-type {\n",
              "        vertical-align: middle;\n",
              "    }\n",
              "\n",
              "    .dataframe tbody tr th {\n",
              "        vertical-align: top;\n",
              "    }\n",
              "\n",
              "    .dataframe thead th {\n",
              "        text-align: right;\n",
              "    }\n",
              "</style>\n",
              "<table border=\"1\" class=\"dataframe\">\n",
              "  <thead>\n",
              "    <tr style=\"text-align: right;\">\n",
              "      <th>plan</th>\n",
              "      <th>GOLD</th>\n",
              "      <th>SILVER</th>\n",
              "      <th>STANDARD</th>\n",
              "    </tr>\n",
              "    <tr>\n",
              "      <th>attributes_notifications_marketing_push</th>\n",
              "      <th></th>\n",
              "      <th></th>\n",
              "      <th></th>\n",
              "    </tr>\n",
              "  </thead>\n",
              "  <tbody>\n",
              "    <tr>\n",
              "      <th>0.0</th>\n",
              "      <td>14</td>\n",
              "      <td>32</td>\n",
              "      <td>486</td>\n",
              "    </tr>\n",
              "    <tr>\n",
              "      <th>1.0</th>\n",
              "      <td>364</td>\n",
              "      <td>420</td>\n",
              "      <td>8968</td>\n",
              "    </tr>\n",
              "  </tbody>\n",
              "</table>\n",
              "</div>"
            ],
            "text/plain": [
              "plan                                     GOLD  SILVER  STANDARD\n",
              "attributes_notifications_marketing_push                        \n",
              "0.0                                        14      32       486\n",
              "1.0                                       364     420      8968"
            ]
          },
          "metadata": {
            "tags": []
          },
          "execution_count": 17
        }
      ]
    },
    {
      "cell_type": "code",
      "metadata": {
        "id": "bLuh4dcbpRqp",
        "colab_type": "code",
        "colab": {
          "base_uri": "https://localhost:8080/",
          "height": 136
        },
        "outputId": "16ef043d-3ae9-484f-8333-04453136bf98"
      },
      "source": [
        "#parathrw oti 320 xrhstes oi opoioi einai paid exoun timi nan kai epishs 4940 xrhstes standard exoun epishs timh nan\n",
        "pd.crosstab(index=userdf['attributes_notifications_marketing_push'].isnull(),columns=userdf['plan'])"
      ],
      "execution_count": 18,
      "outputs": [
        {
          "output_type": "execute_result",
          "data": {
            "text/html": [
              "<div>\n",
              "<style scoped>\n",
              "    .dataframe tbody tr th:only-of-type {\n",
              "        vertical-align: middle;\n",
              "    }\n",
              "\n",
              "    .dataframe tbody tr th {\n",
              "        vertical-align: top;\n",
              "    }\n",
              "\n",
              "    .dataframe thead th {\n",
              "        text-align: right;\n",
              "    }\n",
              "</style>\n",
              "<table border=\"1\" class=\"dataframe\">\n",
              "  <thead>\n",
              "    <tr style=\"text-align: right;\">\n",
              "      <th>plan</th>\n",
              "      <th>GOLD</th>\n",
              "      <th>SILVER</th>\n",
              "      <th>STANDARD</th>\n",
              "    </tr>\n",
              "    <tr>\n",
              "      <th>attributes_notifications_marketing_push</th>\n",
              "      <th></th>\n",
              "      <th></th>\n",
              "      <th></th>\n",
              "    </tr>\n",
              "  </thead>\n",
              "  <tbody>\n",
              "    <tr>\n",
              "      <th>False</th>\n",
              "      <td>378</td>\n",
              "      <td>452</td>\n",
              "      <td>9454</td>\n",
              "    </tr>\n",
              "    <tr>\n",
              "      <th>True</th>\n",
              "      <td>59</td>\n",
              "      <td>261</td>\n",
              "      <td>4940</td>\n",
              "    </tr>\n",
              "  </tbody>\n",
              "</table>\n",
              "</div>"
            ],
            "text/plain": [
              "plan                                     GOLD  SILVER  STANDARD\n",
              "attributes_notifications_marketing_push                        \n",
              "False                                     378     452      9454\n",
              "True                                       59     261      4940"
            ]
          },
          "metadata": {
            "tags": []
          },
          "execution_count": 18
        }
      ]
    },
    {
      "cell_type": "code",
      "metadata": {
        "id": "fYxRKAQXpRn4",
        "colab_type": "code",
        "colab": {}
      },
      "source": [
        "##ara tha gemisw posostiaia tis nan times kai tha thewrisw oti apo tous 320 paid xristes me nan oi 305(95.5%) tha dextoun (=1) enw oi 15(5%) oxi (=0)\n",
        "##kai oson afora tous standard apo tous 4940 me nan times tha thewrisw tous 4693(95%) oti tha dextoun (=1) enw oi 247(5%) oxi (=0)"
      ],
      "execution_count": 0,
      "outputs": []
    },
    {
      "cell_type": "code",
      "metadata": {
        "id": "mQmY1wWOpRkY",
        "colab_type": "code",
        "colab": {}
      },
      "source": [
        ""
      ],
      "execution_count": 0,
      "outputs": []
    },
    {
      "cell_type": "code",
      "metadata": {
        "id": "AwVecoUyeDch",
        "colab_type": "code",
        "colab": {}
      },
      "source": [
        ""
      ],
      "execution_count": 0,
      "outputs": []
    },
    {
      "cell_type": "markdown",
      "metadata": {
        "id": "ARUTcjwTs_xM",
        "colab_type": "text"
      },
      "source": [
        "more data analysis"
      ]
    },
    {
      "cell_type": "code",
      "metadata": {
        "id": "VbgF8ss7eEBD",
        "colab_type": "code",
        "colab": {
          "base_uri": "https://localhost:8080/",
          "height": 50
        },
        "outputId": "65165444-138e-4274-c19a-f37fce34466b"
      },
      "source": [
        "userdf['num_referrals'].value_counts()"
      ],
      "execution_count": 20,
      "outputs": [
        {
          "output_type": "execute_result",
          "data": {
            "text/plain": [
              "0    15544\n",
              "Name: num_referrals, dtype: int64"
            ]
          },
          "metadata": {
            "tags": []
          },
          "execution_count": 20
        }
      ]
    },
    {
      "cell_type": "code",
      "metadata": {
        "id": "WwBQP0nEtMBE",
        "colab_type": "code",
        "colab": {
          "base_uri": "https://localhost:8080/",
          "height": 50
        },
        "outputId": "6d902e91-223f-4aec-a231-a30473776823"
      },
      "source": [
        "userdf['num_successful_referrals'].value_counts()"
      ],
      "execution_count": 21,
      "outputs": [
        {
          "output_type": "execute_result",
          "data": {
            "text/plain": [
              "0    15544\n",
              "Name: num_successful_referrals, dtype: int64"
            ]
          },
          "metadata": {
            "tags": []
          },
          "execution_count": 21
        }
      ]
    },
    {
      "cell_type": "code",
      "metadata": {
        "id": "K3RcSp0stMGE",
        "colab_type": "code",
        "colab": {}
      },
      "source": [
        "# i notice that both of the above columns have the same value so i can't take valuable information from them so:\n",
        "userdf=userdf.drop('num_referrals',axis=1)"
      ],
      "execution_count": 0,
      "outputs": []
    },
    {
      "cell_type": "code",
      "metadata": {
        "id": "j_7Y82JLtMKa",
        "colab_type": "code",
        "colab": {}
      },
      "source": [
        "userdf=userdf.drop('num_successful_referrals',axis=1)"
      ],
      "execution_count": 0,
      "outputs": []
    },
    {
      "cell_type": "code",
      "metadata": {
        "id": "WolBwz-ItMOk",
        "colab_type": "code",
        "colab": {}
      },
      "source": [
        "def change(x):              #function to encode plan to 'paid' and 'standard'\n",
        "  if x == 'STANDARD':\n",
        "    return 0\n",
        "  elif x == 'SILVER':\n",
        "    return 1\n",
        "  else:\n",
        "    return 1"
      ],
      "execution_count": 0,
      "outputs": []
    },
    {
      "cell_type": "code",
      "metadata": {
        "id": "Wh8_P_w7tL-G",
        "colab_type": "code",
        "colab": {
          "base_uri": "https://localhost:8080/",
          "height": 166
        },
        "outputId": "0a12b995-484d-4587-cd4c-4c966d4921c1"
      },
      "source": [
        "pd.crosstab(index=userdf['brand'],columns=userdf['plan'])"
      ],
      "execution_count": 25,
      "outputs": [
        {
          "output_type": "execute_result",
          "data": {
            "text/html": [
              "<div>\n",
              "<style scoped>\n",
              "    .dataframe tbody tr th:only-of-type {\n",
              "        vertical-align: middle;\n",
              "    }\n",
              "\n",
              "    .dataframe tbody tr th {\n",
              "        vertical-align: top;\n",
              "    }\n",
              "\n",
              "    .dataframe thead th {\n",
              "        text-align: right;\n",
              "    }\n",
              "</style>\n",
              "<table border=\"1\" class=\"dataframe\">\n",
              "  <thead>\n",
              "    <tr style=\"text-align: right;\">\n",
              "      <th>plan</th>\n",
              "      <th>GOLD</th>\n",
              "      <th>SILVER</th>\n",
              "      <th>STANDARD</th>\n",
              "    </tr>\n",
              "    <tr>\n",
              "      <th>brand</th>\n",
              "      <th></th>\n",
              "      <th></th>\n",
              "      <th></th>\n",
              "    </tr>\n",
              "  </thead>\n",
              "  <tbody>\n",
              "    <tr>\n",
              "      <th>Android</th>\n",
              "      <td>152</td>\n",
              "      <td>302</td>\n",
              "      <td>7346</td>\n",
              "    </tr>\n",
              "    <tr>\n",
              "      <th>Apple</th>\n",
              "      <td>282</td>\n",
              "      <td>405</td>\n",
              "      <td>7025</td>\n",
              "    </tr>\n",
              "    <tr>\n",
              "      <th>Unknown</th>\n",
              "      <td>3</td>\n",
              "      <td>6</td>\n",
              "      <td>23</td>\n",
              "    </tr>\n",
              "  </tbody>\n",
              "</table>\n",
              "</div>"
            ],
            "text/plain": [
              "plan     GOLD  SILVER  STANDARD\n",
              "brand                          \n",
              "Android   152     302      7346\n",
              "Apple     282     405      7025\n",
              "Unknown     3       6        23"
            ]
          },
          "metadata": {
            "tags": []
          },
          "execution_count": 25
        }
      ]
    },
    {
      "cell_type": "code",
      "metadata": {
        "id": "SNLOorsByTTY",
        "colab_type": "code",
        "colab": {}
      },
      "source": [
        "def changebrand(x):       #function to encode brand into Apple and Android\n",
        "  if x=='Apple':\n",
        "    return 1\n",
        "  else:\n",
        "    return 0"
      ],
      "execution_count": 0,
      "outputs": []
    },
    {
      "cell_type": "code",
      "metadata": {
        "id": "rQ7HbUCXyTQF",
        "colab_type": "code",
        "colab": {}
      },
      "source": [
        "userdf['birth_year'] =2020 - (userdf[['birth_year']]) #transforming birth year"
      ],
      "execution_count": 0,
      "outputs": []
    },
    {
      "cell_type": "code",
      "metadata": {
        "id": "Jsm3ES5jvchn",
        "colab_type": "code",
        "outputId": "1f58afd4-3fdd-47c5-fb46-96a5a8fd519a",
        "colab": {
          "base_uri": "https://localhost:8080/",
          "height": 84
        }
      },
      "source": [
        "userdf['country'].unique()"
      ],
      "execution_count": 34,
      "outputs": [
        {
          "output_type": "execute_result",
          "data": {
            "text/plain": [
              "array(['ES', 'LT', 'IE', 'GB', 'MT', 'FR', 'RO', 'PL', 'AT', 'IT', 'SI',\n",
              "       'CZ', 'BE', 'BG', 'GI', 'CH', 'GG', 'CY', 'LV', 'DE', 'SK', 'GR',\n",
              "       'DK', 'PT', 'LU', 'HR', 'NL', 'NO', 'SE', 'AU', 'IM', 'FI', 'EE',\n",
              "       'JE', 'HU', 'RE', 'IS', 'GP', 'LI', 'MQ'], dtype=object)"
            ]
          },
          "metadata": {
            "tags": []
          },
          "execution_count": 34
        }
      ]
    },
    {
      "cell_type": "code",
      "metadata": {
        "id": "vNmhvfI6-daO",
        "colab_type": "code",
        "colab": {}
      },
      "source": [
        "def change_country(x):     #function to cluster the countries\n",
        "  if x=='IE' or x=='GB' or x=='AT' or x=='BE' or x=='GG' or x=='LV' or x=='DE' or x=='DK' or x=='LU' or x=='NL' or x=='NO' or x=='SE' or x=='IM' or x=='FI' or x=='JE' or x=='IS':\n",
        "    return NorthEurope\n",
        "  elif x=='MT' or x=='IT' or x=='SI' or x=='BG' or x=='CY' or x=='GR' or x=='HR':\n",
        "    return SouthEurope\n",
        "  elif x=='AU':\n",
        "    return Australia\n",
        "  elif x=='LT' or x=='RO' or x=='PL' or x=='CZ' or x=='SK' or x=='EE' or x=='HU':\n",
        "    return EastEurope\n",
        "  elif x=='ES' or x=='FR' or x=='GI' or x=='CH' or x=='PT' or x=='RE' or x=='GP' or x=='LI' or x=='MQ':\n",
        "    return WestEurope"
      ],
      "execution_count": 0,
      "outputs": []
    },
    {
      "cell_type": "code",
      "metadata": {
        "id": "xj6o2wZo-8_Z",
        "colab_type": "code",
        "colab": {
          "base_uri": "https://localhost:8080/",
          "height": 218
        },
        "outputId": "334f5ae9-53d1-42fc-f1e2-c25e503e0f51"
      },
      "source": [
        "userdf['city'].value_counts()"
      ],
      "execution_count": 39,
      "outputs": [
        {
          "output_type": "execute_result",
          "data": {
            "text/plain": [
              "London                      1342\n",
              "Warszawa                     330\n",
              "Paris                        292\n",
              "Dublin                       286\n",
              "Vilnius                      271\n",
              "                            ... \n",
              "Santa Coloma de Gramenet       1\n",
              "Kinross                        1\n",
              "HERAKLION CRETE                1\n",
              "San Agustin Del Guadalix       1\n",
              "Veitshöchheim                  1\n",
              "Name: city, Length: 5197, dtype: int64"
            ]
          },
          "metadata": {
            "tags": []
          },
          "execution_count": 39
        }
      ]
    },
    {
      "cell_type": "code",
      "metadata": {
        "id": "mrC0NrReAh8z",
        "colab_type": "code",
        "colab": {}
      },
      "source": [
        "userdf=userdf.drop('city',axis=1)"
      ],
      "execution_count": 0,
      "outputs": []
    },
    {
      "cell_type": "code",
      "metadata": {
        "id": "L9rM4WKa06dH",
        "colab_type": "code",
        "outputId": "6c844106-3bbf-49d1-a7fd-928364f37b2f",
        "colab": {
          "base_uri": "https://localhost:8080/",
          "height": 280
        }
      },
      "source": [
        "ax=sns.boxplot(x=userdf.num_contacts)\n",
        "plt.show()"
      ],
      "execution_count": 29,
      "outputs": [
        {
          "output_type": "display_data",
          "data": {
            "image/png": "[encoded data removed]",
            "text/plain": [
              "<Figure size 432x288 with 1 Axes>"
            ]
          },
          "metadata": {
            "tags": [],
            "needs_background": "light"
          }
        }
      ]
    },
    {
      "cell_type": "code",
      "metadata": {
        "id": "QCVouPqv8Yp5",
        "colab_type": "code",
        "outputId": "2bb5024a-078f-4a45-ba31-01942c02c929",
        "colab": {
          "base_uri": "https://localhost:8080/",
          "height": 280
        }
      },
      "source": [
        "ax=sns.boxplot(x=userdf.birth_year)\n",
        "plt.show()"
      ],
      "execution_count": 30,
      "outputs": [
        {
          "output_type": "display_data",
          "data": {
            "image/png": "[encoded data removed]",
            "text/plain": [
              "<Figure size 432x288 with 1 Axes>"
            ]
          },
          "metadata": {
            "tags": [],
            "needs_background": "light"
          }
        }
      ]
    },
    {
      "cell_type": "code",
      "metadata": {
        "id": "hVB1BIPHBag0",
        "colab_type": "code",
        "outputId": "8b13e464-f718-4470-883f-09c359cee257",
        "colab": {
          "base_uri": "https://localhost:8080/",
          "height": 391
        }
      },
      "source": [
        "plt.figure(figsize=(10,6))\n",
        "ax=plt.subplot(1,1,1)\n",
        "ax.scatter(userdf['num_contacts'],userdf['plan'])"
      ],
      "execution_count": 31,
      "outputs": [
        {
          "output_type": "execute_result",
          "data": {
            "text/plain": [
              "<matplotlib.collections.PathCollection at 0x7f4f5c4329b0>"
            ]
          },
          "metadata": {
            "tags": []
          },
          "execution_count": 31
        },
        {
          "output_type": "display_data",
          "data": {
            "image/png": "[encoded data removed]",
            "text/plain": [
              "<Figure size 720x432 with 1 Axes>"
            ]
          },
          "metadata": {
            "tags": [],
            "needs_background": "light"
          }
        }
      ]
    },
    {
      "cell_type": "code",
      "metadata": {
        "id": "eQDlb1RMhrFm",
        "colab_type": "code",
        "outputId": "f0be4a95-e124-4901-b892-c5f0eda3214d",
        "colab": {
          "base_uri": "https://localhost:8080/",
          "height": 702
        }
      },
      "source": [
        "mask = np.zeros_like(userdf.corr(), dtype=np.bool) \n",
        "mask[np.triu_indices_from(mask)] = True \n",
        "f, ax = plt.subplots(figsize=(10, 8))\n",
        "plt.title('Pearson Correlation Matrix',fontsize=25)\n",
        "\n",
        " \n",
        "\n",
        "sns.heatmap(userdf.corr(),linewidths=0.25,vmax=1.0,square=True,cmap=\"GnBu\", \n",
        "            linecolor='w',annot=True,mask=mask,cbar_kws={\"shrink\": .75});"
      ],
      "execution_count": 32,
      "outputs": [
        {
          "output_type": "display_data",
          "data": {
            "image/png": "[encoded data removed]",
            "text/plain": [
              "<Figure size 720x576 with 2 Axes>"
            ]
          },
          "metadata": {
            "tags": [],
            "needs_background": "light"
          }
        }
      ]
    },
    {
      "cell_type": "code",
      "metadata": {
        "id": "fFVPY7uhhrPn",
        "colab_type": "code",
        "outputId": "dd646d47-a836-42de-a74e-81beba4df377",
        "colab": {
          "base_uri": "https://localhost:8080/",
          "height": 303
        }
      },
      "source": [
        "df_for_example=userdf['country'].apply(change_country)"
      ],
      "execution_count": 49,
      "outputs": [
        {
          "output_type": "error",
          "ename": "NameError",
          "evalue": "ignored",
          "traceback": [
            "\u001b[0;31m---------------------------------------------------------------------------\u001b[0m",
            "\u001b[0;31mNameError\u001b[0m                                 Traceback (most recent call last)",
            "\u001b[0;32m<ipython-input-49-691656fdb784>\u001b[0m in \u001b[0;36m<module>\u001b[0;34m()\u001b[0m\n\u001b[0;32m----> 1\u001b[0;31m \u001b[0mdf_for_example\u001b[0m\u001b[0;34m=\u001b[0m\u001b[0muserdf\u001b[0m\u001b[0;34m[\u001b[0m\u001b[0;34m'country'\u001b[0m\u001b[0;34m]\u001b[0m\u001b[0;34m.\u001b[0m\u001b[0mapply\u001b[0m\u001b[0;34m(\u001b[0m\u001b[0mchange_country\u001b[0m\u001b[0;34m)\u001b[0m\u001b[0;34m\u001b[0m\u001b[0;34m\u001b[0m\u001b[0m\n\u001b[0m",
            "\u001b[0;32m/usr/local/lib/python3.6/dist-packages/pandas/core/series.py\u001b[0m in \u001b[0;36mapply\u001b[0;34m(self, func, convert_dtype, args, **kwds)\u001b[0m\n\u001b[1;32m   3846\u001b[0m             \u001b[0;32melse\u001b[0m\u001b[0;34m:\u001b[0m\u001b[0;34m\u001b[0m\u001b[0;34m\u001b[0m\u001b[0m\n\u001b[1;32m   3847\u001b[0m                 \u001b[0mvalues\u001b[0m \u001b[0;34m=\u001b[0m \u001b[0mself\u001b[0m\u001b[0;34m.\u001b[0m\u001b[0mastype\u001b[0m\u001b[0;34m(\u001b[0m\u001b[0mobject\u001b[0m\u001b[0;34m)\u001b[0m\u001b[0;34m.\u001b[0m\u001b[0mvalues\u001b[0m\u001b[0;34m\u001b[0m\u001b[0;34m\u001b[0m\u001b[0m\n\u001b[0;32m-> 3848\u001b[0;31m                 \u001b[0mmapped\u001b[0m \u001b[0;34m=\u001b[0m \u001b[0mlib\u001b[0m\u001b[0;34m.\u001b[0m\u001b[0mmap_infer\u001b[0m\u001b[0;34m(\u001b[0m\u001b[0mvalues\u001b[0m\u001b[0;34m,\u001b[0m \u001b[0mf\u001b[0m\u001b[0;34m,\u001b[0m \u001b[0mconvert\u001b[0m\u001b[0;34m=\u001b[0m\u001b[0mconvert_dtype\u001b[0m\u001b[0;34m)\u001b[0m\u001b[0;34m\u001b[0m\u001b[0;34m\u001b[0m\u001b[0m\n\u001b[0m\u001b[1;32m   3849\u001b[0m \u001b[0;34m\u001b[0m\u001b[0m\n\u001b[1;32m   3850\u001b[0m         \u001b[0;32mif\u001b[0m \u001b[0mlen\u001b[0m\u001b[0;34m(\u001b[0m\u001b[0mmapped\u001b[0m\u001b[0;34m)\u001b[0m \u001b[0;32mand\u001b[0m \u001b[0misinstance\u001b[0m\u001b[0;34m(\u001b[0m\u001b[0mmapped\u001b[0m\u001b[0;34m[\u001b[0m\u001b[0;36m0\u001b[0m\u001b[0;34m]\u001b[0m\u001b[0;34m,\u001b[0m \u001b[0mSeries\u001b[0m\u001b[0;34m)\u001b[0m\u001b[0;34m:\u001b[0m\u001b[0;34m\u001b[0m\u001b[0;34m\u001b[0m\u001b[0m\n",
            "\u001b[0;32mpandas/_libs/lib.pyx\u001b[0m in \u001b[0;36mpandas._libs.lib.map_infer\u001b[0;34m()\u001b[0m\n",
            "\u001b[0;32m<ipython-input-48-6e3698ed167c>\u001b[0m in \u001b[0;36mchange_country\u001b[0;34m(x)\u001b[0m\n\u001b[1;32m      9\u001b[0m     \u001b[0;32mreturn\u001b[0m \u001b[0mEastEurope\u001b[0m\u001b[0;34m\u001b[0m\u001b[0;34m\u001b[0m\u001b[0m\n\u001b[1;32m     10\u001b[0m   \u001b[0;32melif\u001b[0m \u001b[0mx\u001b[0m\u001b[0;34m==\u001b[0m\u001b[0;34m'ES'\u001b[0m \u001b[0;32mor\u001b[0m \u001b[0mx\u001b[0m\u001b[0;34m==\u001b[0m\u001b[0;34m'FR'\u001b[0m \u001b[0;32mor\u001b[0m \u001b[0mx\u001b[0m\u001b[0;34m==\u001b[0m\u001b[0;34m'GI'\u001b[0m \u001b[0;32mor\u001b[0m \u001b[0mx\u001b[0m\u001b[0;34m==\u001b[0m\u001b[0;34m'CH'\u001b[0m \u001b[0;32mor\u001b[0m \u001b[0mx\u001b[0m\u001b[0;34m==\u001b[0m\u001b[0;34m'PT'\u001b[0m \u001b[0;32mor\u001b[0m \u001b[0mx\u001b[0m\u001b[0;34m==\u001b[0m\u001b[0;34m'RE'\u001b[0m \u001b[0;32mor\u001b[0m \u001b[0mx\u001b[0m\u001b[0;34m==\u001b[0m\u001b[0;34m'GP'\u001b[0m \u001b[0;32mor\u001b[0m \u001b[0mx\u001b[0m\u001b[0;34m==\u001b[0m\u001b[0;34m'LI'\u001b[0m \u001b[0;32mor\u001b[0m \u001b[0mx\u001b[0m\u001b[0;34m==\u001b[0m\u001b[0;34m'MQ'\u001b[0m\u001b[0;34m:\u001b[0m\u001b[0;34m\u001b[0m\u001b[0;34m\u001b[0m\u001b[0m\n\u001b[0;32m---> 11\u001b[0;31m     \u001b[0;32mreturn\u001b[0m \u001b[0mWestEurope\u001b[0m\u001b[0;34m\u001b[0m\u001b[0;34m\u001b[0m\u001b[0m\n\u001b[0m",
            "\u001b[0;31mNameError\u001b[0m: name 'WestEurope' is not defined"
          ]
        }
      ]
    },
    {
      "cell_type": "code",
      "metadata": {
        "id": "s7_hYQERhrTs",
        "colab_type": "code",
        "colab": {}
      },
      "source": [
        "plt.figure(figsize=(5,5))\n",
        "sns.heatmap(userdf.groupby(['plan','user_settings_crypto_unlocked']).birth_year.count().unstack(),annot=True,fmt='.0f')"
      ],
      "execution_count": 0,
      "outputs": []
    },
    {
      "cell_type": "code",
      "metadata": {
        "id": "BDGa0jDrhrY9",
        "colab_type": "code",
        "colab": {}
      },
      "source": [
        ""
      ],
      "execution_count": 0,
      "outputs": []
    },
    {
      "cell_type": "code",
      "metadata": {
        "id": "1qy_h6tlhrcs",
        "colab_type": "code",
        "colab": {}
      },
      "source": [
        ""
      ],
      "execution_count": 0,
      "outputs": []
    },
    {
      "cell_type": "code",
      "metadata": {
        "id": "vnIDnY-aDu8o",
        "colab_type": "code",
        "colab": {}
      },
      "source": [
        "from scipy.stats import pearsonr\n",
        "import matplotlib.pyplot as plt\n",
        "\n",
        "def corrfunc(x,y,ax=None,**kws):\n",
        "  r,_=pearsonr(x,y)\n",
        "  ax=ax or plt.gca()\n",
        "  rho='\\u03C1'\n",
        "  ax.annotate(f'{rho} = {r:.2f}', xy=(.1, .9), xycoords=ax.transAxes)"
      ],
      "execution_count": 0,
      "outputs": []
    },
    {
      "cell_type": "code",
      "metadata": {
        "id": "icxf103ACGJ2",
        "colab_type": "code",
        "colab": {}
      },
      "source": [
        "ax=sns.pairplot(userdf,hue='plan')\n",
        "ax.map_lower(corrfunc)\n",
        "plt.show()"
      ],
      "execution_count": 0,
      "outputs": []
    },
    {
      "cell_type": "code",
      "metadata": {
        "id": "U3h36YerQcaZ",
        "colab_type": "code",
        "colab": {}
      },
      "source": [
        "x=userdf.drop('country',axis=1)"
      ],
      "execution_count": 0,
      "outputs": []
    },
    {
      "cell_type": "code",
      "metadata": {
        "id": "ofad157-SvmZ",
        "colab_type": "code",
        "colab": {}
      },
      "source": [
        "def changebrand(x):\n",
        "  if x=='Apple':\n",
        "    return 1\n",
        "  else:\n",
        "    return 0"
      ],
      "execution_count": 0,
      "outputs": []
    },
    {
      "cell_type": "code",
      "metadata": {
        "id": "AjKzVrr7Svwv",
        "colab_type": "code",
        "colab": {}
      },
      "source": [
        "x['brand']=x['brand'].apply(changebrand)"
      ],
      "execution_count": 0,
      "outputs": []
    },
    {
      "cell_type": "code",
      "metadata": {
        "id": "ZzR6ZC6IWNNh",
        "colab_type": "code",
        "colab": {}
      },
      "source": [
        "x.head(2)"
      ],
      "execution_count": 0,
      "outputs": []
    },
    {
      "cell_type": "code",
      "metadata": {
        "id": "v_6RZIjuSu4B",
        "colab_type": "code",
        "colab": {}
      },
      "source": [
        "x=x.drop('created_date',axis=1)\n",
        "         "
      ],
      "execution_count": 0,
      "outputs": []
    },
    {
      "cell_type": "code",
      "metadata": {
        "id": "giO7WaloVk48",
        "colab_type": "code",
        "colab": {}
      },
      "source": [
        "x.head(1)"
      ],
      "execution_count": 0,
      "outputs": []
    },
    {
      "cell_type": "code",
      "metadata": {
        "id": "dCDfdGRfYzhJ",
        "colab_type": "code",
        "colab": {}
      },
      "source": [
        "userdf"
      ],
      "execution_count": 0,
      "outputs": []
    },
    {
      "cell_type": "code",
      "metadata": {
        "id": "2m6Ff4nTyM4V",
        "colab_type": "code",
        "colab": {}
      },
      "source": [
        ""
      ],
      "execution_count": 0,
      "outputs": []
    }
  ]
}