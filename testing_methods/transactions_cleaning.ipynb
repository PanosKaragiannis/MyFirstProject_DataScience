{
 "cells": [
  {
   "cell_type": "code",
   "execution_count": 1,
   "metadata": {},
   "outputs": [],
   "source": [
    "import pandas as pd\n",
    "import numpy as np\n",
    "import matplotlib.pyplot as plt\n",
    "from matplotlib.pyplot import pie,axis,show\n",
    "import seaborn as sns\n",
    "import random as rd\n",
    "import datetime as dt\n",
    "from termcolor import colored"
   ]
  },
  {
   "cell_type": "code",
   "execution_count": 2,
   "metadata": {},
   "outputs": [
    {
     "name": "stdout",
     "output_type": "stream",
     "text": [
      "(2181026, 12)\n",
      "transaction_id                0\n",
      "transactions_type             0\n",
      "transactions_currency         0\n",
      "amount_usd                    0\n",
      "transactions_state            0\n",
      "ea_cardholderpresence    933206\n",
      "ea_merchant_mcc          923975\n",
      "ea_merchant_city         924080\n",
      "ea_merchant_country      924239\n",
      "direction                     0\n",
      "user_id                       0\n",
      "created_date                  0\n",
      "dtype: int64\n",
      "15012\n",
      "<class 'pandas.core.frame.DataFrame'>\n",
      "Int64Index: 2181026 entries, 0 to 681025\n",
      "Data columns (total 12 columns):\n",
      "transaction_id           object\n",
      "transactions_type        object\n",
      "transactions_currency    object\n",
      "amount_usd               float64\n",
      "transactions_state       object\n",
      "ea_cardholderpresence    object\n",
      "ea_merchant_mcc          float64\n",
      "ea_merchant_city         object\n",
      "ea_merchant_country      object\n",
      "direction                object\n",
      "user_id                  object\n",
      "created_date             object\n",
      "dtypes: float64(2), object(10)\n",
      "memory usage: 216.3+ MB\n"
     ]
    }
   ],
   "source": [
    "t1=pd.read_csv('C:\\\\Users\\\\ioann\\\\Desktop\\\\pf-ds-coh-team2\\\\data\\\\transactions_1.csv')\n",
    "t2=pd.read_csv('C:\\\\Users\\\\ioann\\\\Desktop\\\\pf-ds-coh-team2\\\\data\\\\transactions_2.csv')\n",
    "t3=pd.read_csv('C:\\\\Users\\\\ioann\\\\Desktop\\\\pf-ds-coh-team2\\\\data\\\\transactions_3.csv')\n",
    "# concatenate the 3 datasets into 1 with all transactions\n",
    "tdf=pd.concat([t1, t2, t3]) \n",
    "\n",
    "print(tdf.shape)\n",
    "print(tdf.isna().sum())\n",
    "print(len(np.unique(tdf['user_id']))) #how many users have made a transaction?\n",
    "#print(tdf.sample(5))\n",
    "tdf.info()"
   ]
  },
  {
   "cell_type": "code",
   "execution_count": 3,
   "metadata": {},
   "outputs": [],
   "source": [
    "tdf['created_date'] = tdf['created_date'].apply(pd.to_datetime)"
   ]
  },
  {
   "cell_type": "code",
   "execution_count": 4,
   "metadata": {},
   "outputs": [
    {
     "ename": "AttributeError",
     "evalue": "'numpy.ndarray' object has no attribute 'value_counts'",
     "output_type": "error",
     "traceback": [
      "\u001b[1;31m---------------------------------------------------------------------------\u001b[0m",
      "\u001b[1;31mAttributeError\u001b[0m                            Traceback (most recent call last)",
      "\u001b[1;32m<ipython-input-4-af7f293f96d3>\u001b[0m in \u001b[0;36m<module>\u001b[1;34m\u001b[0m\n\u001b[1;32m----> 1\u001b[1;33m \u001b[0mtdf\u001b[0m\u001b[1;33m[\u001b[0m\u001b[1;34m'transactions_currency'\u001b[0m\u001b[1;33m]\u001b[0m\u001b[1;33m.\u001b[0m\u001b[0munique\u001b[0m\u001b[1;33m(\u001b[0m\u001b[1;33m)\u001b[0m\u001b[1;33m.\u001b[0m\u001b[0mvalue_counts\u001b[0m\u001b[1;33m(\u001b[0m\u001b[1;33m)\u001b[0m\u001b[1;33m\u001b[0m\u001b[1;33m\u001b[0m\u001b[0m\n\u001b[0m",
      "\u001b[1;31mAttributeError\u001b[0m: 'numpy.ndarray' object has no attribute 'value_counts'"
     ]
    }
   ],
   "source": [
    "tdf['transactions_currency'].unique().value_counts()"
   ]
  },
  {
   "cell_type": "code",
   "execution_count": null,
   "metadata": {},
   "outputs": [],
   "source": [
    "#Create the dummies about the years 2018 and 2019\n",
    "tdf=pd.concat([pd.get_dummies(tdf['transactions_type']), tdf], axis=1)\n",
    "#tdf=pd.concat([pd.get_dummies(tdf['transactions_currency']), tdf], axis=1)\n",
    "tdf=pd.concat([pd.get_dummies(tdf['transactions_state']), tdf], axis=1)\n",
    "tdf.info()\n",
    "print(tdf.sample(5))"
   ]
  },
  {
   "cell_type": "code",
   "execution_count": null,
   "metadata": {},
   "outputs": [],
   "source": []
  }
 ],
 "metadata": {
  "kernelspec": {
   "display_name": "Python 3",
   "language": "python",
   "name": "python3"
  },
  "language_info": {
   "codemirror_mode": {
    "name": "ipython",
    "version": 3
   },
   "file_extension": ".py",
   "mimetype": "text/x-python",
   "name": "python",
   "nbconvert_exporter": "python",
   "pygments_lexer": "ipython3",
   "version": "3.6.8"
  }
 },
 "nbformat": 4,
 "nbformat_minor": 2
}
