{
 "cells": [
  {
   "cell_type": "code",
   "execution_count": 1,
   "metadata": {
    "colab": {},
    "colab_type": "code",
    "id": "3eF_No-WqoEA"
   },
   "outputs": [],
   "source": [
    "import numpy as np\n",
    "import pandas as pd\n",
    "from sklearn.cluster import KMeans"
   ]
  },
  {
   "cell_type": "code",
   "execution_count": 13,
   "metadata": {
    "colab": {},
    "colab_type": "code",
    "id": "rFFEkZGYqsfS"
   },
   "outputs": [
    {
     "data": {
      "text/html": [
       "<div>\n",
       "<style scoped>\n",
       "    .dataframe tbody tr th:only-of-type {\n",
       "        vertical-align: middle;\n",
       "    }\n",
       "\n",
       "    .dataframe tbody tr th {\n",
       "        vertical-align: top;\n",
       "    }\n",
       "\n",
       "    .dataframe thead th {\n",
       "        text-align: right;\n",
       "    }\n",
       "</style>\n",
       "<table border=\"1\" class=\"dataframe\">\n",
       "  <thead>\n",
       "    <tr style=\"text-align: right;\">\n",
       "      <th></th>\n",
       "      <th>Unnamed: 0</th>\n",
       "      <th>user_id</th>\n",
       "      <th>total_amount</th>\n",
       "      <th>number_transactions</th>\n",
       "      <th>avg_amount</th>\n",
       "      <th>first_transaction</th>\n",
       "      <th>last_transaction</th>\n",
       "      <th>transaction_period</th>\n",
       "      <th>Australia</th>\n",
       "      <th>EastEurope</th>\n",
       "      <th>...</th>\n",
       "      <th>plan</th>\n",
       "      <th>attributes_notifications_marketing_push</th>\n",
       "      <th>attributes_notifications_marketing_email</th>\n",
       "      <th>num_contacts</th>\n",
       "      <th>num_referrals</th>\n",
       "      <th>num_successful_referrals</th>\n",
       "      <th>brand</th>\n",
       "      <th>created_year</th>\n",
       "      <th>created_month</th>\n",
       "      <th>created_date_y</th>\n",
       "    </tr>\n",
       "  </thead>\n",
       "  <tbody>\n",
       "    <tr>\n",
       "      <th>0</th>\n",
       "      <td>0</td>\n",
       "      <td>user_0</td>\n",
       "      <td>6925.08</td>\n",
       "      <td>520</td>\n",
       "      <td>13.317462</td>\n",
       "      <td>2018-09-10 18:54:08.965855</td>\n",
       "      <td>2019-05-10 05:09:13.868855</td>\n",
       "      <td>241.5</td>\n",
       "      <td>0</td>\n",
       "      <td>0</td>\n",
       "      <td>...</td>\n",
       "      <td>0</td>\n",
       "      <td>1.0</td>\n",
       "      <td>1.0</td>\n",
       "      <td>3</td>\n",
       "      <td>0</td>\n",
       "      <td>0</td>\n",
       "      <td>1</td>\n",
       "      <td>2018</td>\n",
       "      <td>9</td>\n",
       "      <td>2018-09-10 18:46:42.843855</td>\n",
       "    </tr>\n",
       "    <tr>\n",
       "      <th>1</th>\n",
       "      <td>1</td>\n",
       "      <td>user_1</td>\n",
       "      <td>12955.54</td>\n",
       "      <td>133</td>\n",
       "      <td>97.410075</td>\n",
       "      <td>2018-02-04 08:28:17.978146</td>\n",
       "      <td>2019-05-04 02:30:11.492146</td>\n",
       "      <td>453.5</td>\n",
       "      <td>0</td>\n",
       "      <td>1</td>\n",
       "      <td>...</td>\n",
       "      <td>0</td>\n",
       "      <td>1.0</td>\n",
       "      <td>1.0</td>\n",
       "      <td>75</td>\n",
       "      <td>0</td>\n",
       "      <td>0</td>\n",
       "      <td>1</td>\n",
       "      <td>2018</td>\n",
       "      <td>1</td>\n",
       "      <td>2018-01-11 18:53:10.531146</td>\n",
       "    </tr>\n",
       "    <tr>\n",
       "      <th>2</th>\n",
       "      <td>2</td>\n",
       "      <td>user_10</td>\n",
       "      <td>5438.92</td>\n",
       "      <td>123</td>\n",
       "      <td>44.218862</td>\n",
       "      <td>2018-06-29 15:38:15.855413</td>\n",
       "      <td>2019-05-11 13:07:42.624413</td>\n",
       "      <td>315.5</td>\n",
       "      <td>0</td>\n",
       "      <td>1</td>\n",
       "      <td>...</td>\n",
       "      <td>0</td>\n",
       "      <td>1.0</td>\n",
       "      <td>1.0</td>\n",
       "      <td>19</td>\n",
       "      <td>0</td>\n",
       "      <td>0</td>\n",
       "      <td>1</td>\n",
       "      <td>2018</td>\n",
       "      <td>1</td>\n",
       "      <td>2018-01-26 18:40:43.166413</td>\n",
       "    </tr>\n",
       "    <tr>\n",
       "      <th>3</th>\n",
       "      <td>3</td>\n",
       "      <td>user_100</td>\n",
       "      <td>4230.10</td>\n",
       "      <td>55</td>\n",
       "      <td>76.910909</td>\n",
       "      <td>2018-12-02 14:23:12.926151</td>\n",
       "      <td>2019-02-24 13:36:50.054151</td>\n",
       "      <td>83.5</td>\n",
       "      <td>0</td>\n",
       "      <td>0</td>\n",
       "      <td>...</td>\n",
       "      <td>0</td>\n",
       "      <td>1.0</td>\n",
       "      <td>1.0</td>\n",
       "      <td>0</td>\n",
       "      <td>0</td>\n",
       "      <td>0</td>\n",
       "      <td>0</td>\n",
       "      <td>2018</td>\n",
       "      <td>12</td>\n",
       "      <td>2018-12-02 14:18:09.034151</td>\n",
       "    </tr>\n",
       "    <tr>\n",
       "      <th>4</th>\n",
       "      <td>4</td>\n",
       "      <td>user_1000</td>\n",
       "      <td>843.12</td>\n",
       "      <td>43</td>\n",
       "      <td>19.607442</td>\n",
       "      <td>2019-03-27 11:03:23.105644</td>\n",
       "      <td>2019-05-05 19:08:42.183644</td>\n",
       "      <td>39.5</td>\n",
       "      <td>0</td>\n",
       "      <td>0</td>\n",
       "      <td>...</td>\n",
       "      <td>1</td>\n",
       "      <td>1.0</td>\n",
       "      <td>1.0</td>\n",
       "      <td>13</td>\n",
       "      <td>0</td>\n",
       "      <td>0</td>\n",
       "      <td>1</td>\n",
       "      <td>2018</td>\n",
       "      <td>3</td>\n",
       "      <td>2018-03-22 22:08:56.267644</td>\n",
       "    </tr>\n",
       "  </tbody>\n",
       "</table>\n",
       "<p>5 rows × 30 columns</p>\n",
       "</div>"
      ],
      "text/plain": [
       "   Unnamed: 0    user_id  total_amount  number_transactions  avg_amount  \\\n",
       "0           0     user_0       6925.08                  520   13.317462   \n",
       "1           1     user_1      12955.54                  133   97.410075   \n",
       "2           2    user_10       5438.92                  123   44.218862   \n",
       "3           3   user_100       4230.10                   55   76.910909   \n",
       "4           4  user_1000        843.12                   43   19.607442   \n",
       "\n",
       "            first_transaction            last_transaction  transaction_period  \\\n",
       "0  2018-09-10 18:54:08.965855  2019-05-10 05:09:13.868855               241.5   \n",
       "1  2018-02-04 08:28:17.978146  2019-05-04 02:30:11.492146               453.5   \n",
       "2  2018-06-29 15:38:15.855413  2019-05-11 13:07:42.624413               315.5   \n",
       "3  2018-12-02 14:23:12.926151  2019-02-24 13:36:50.054151                83.5   \n",
       "4  2019-03-27 11:03:23.105644  2019-05-05 19:08:42.183644                39.5   \n",
       "\n",
       "   Australia  EastEurope  ...  plan  attributes_notifications_marketing_push  \\\n",
       "0          0           0  ...     0                                      1.0   \n",
       "1          0           1  ...     0                                      1.0   \n",
       "2          0           1  ...     0                                      1.0   \n",
       "3          0           0  ...     0                                      1.0   \n",
       "4          0           0  ...     1                                      1.0   \n",
       "\n",
       "   attributes_notifications_marketing_email  num_contacts  num_referrals  \\\n",
       "0                                       1.0             3              0   \n",
       "1                                       1.0            75              0   \n",
       "2                                       1.0            19              0   \n",
       "3                                       1.0             0              0   \n",
       "4                                       1.0            13              0   \n",
       "\n",
       "   num_successful_referrals brand created_year created_month  \\\n",
       "0                         0     1         2018             9   \n",
       "1                         0     1         2018             1   \n",
       "2                         0     1         2018             1   \n",
       "3                         0     0         2018            12   \n",
       "4                         0     1         2018             3   \n",
       "\n",
       "               created_date_y  \n",
       "0  2018-09-10 18:46:42.843855  \n",
       "1  2018-01-11 18:53:10.531146  \n",
       "2  2018-01-26 18:40:43.166413  \n",
       "3  2018-12-02 14:18:09.034151  \n",
       "4  2018-03-22 22:08:56.267644  \n",
       "\n",
       "[5 rows x 30 columns]"
      ]
     },
     "execution_count": 13,
     "metadata": {},
     "output_type": "execute_result"
    }
   ],
   "source": [
    "df = pd.read_csv('../processed_data/trans_users_dev.csv')\n",
    "us = pd.read_csv('../data/users.csv')\n",
    "\n",
    "df = pd.merge(df, us[['user_id','created_date']], on='user_id', how='left')\n",
    "\n",
    "\n",
    "df.head(5)\n",
    "# print(df.info()) dt.days"
   ]
  },
  {
   "cell_type": "code",
   "execution_count": 29,
   "metadata": {},
   "outputs": [
    {
     "name": "stdout",
     "output_type": "stream",
     "text": [
      "<class 'pandas.core.frame.DataFrame'>\n",
      "Int64Index: 14821 entries, 0 to 14820\n",
      "Data columns (total 31 columns):\n",
      "Unnamed: 0                                  14821 non-null int64\n",
      "user_id                                     14821 non-null object\n",
      "total_amount                                14821 non-null float64\n",
      "number_transactions                         14821 non-null int64\n",
      "avg_amount                                  14821 non-null float64\n",
      "first_transaction                           14821 non-null datetime64[ns]\n",
      "last_transaction                            14821 non-null datetime64[ns]\n",
      "transaction_period                          14821 non-null float64\n",
      "Australia                                   14821 non-null int64\n",
      "EastEurope                                  14821 non-null int64\n",
      "NorthEurope                                 14821 non-null int64\n",
      "SouthEurope                                 14821 non-null int64\n",
      "WestEurope                                  14821 non-null int64\n",
      "year_2018                                   14821 non-null int64\n",
      "year_2019                                   14821 non-null int64\n",
      "age                                         14821 non-null int64\n",
      "country                                     14821 non-null object\n",
      "city                                        14821 non-null object\n",
      "created_date_x                              14821 non-null object\n",
      "user_settings_crypto_unlocked               14821 non-null int64\n",
      "plan                                        14821 non-null int64\n",
      "attributes_notifications_marketing_push     14821 non-null float64\n",
      "attributes_notifications_marketing_email    14821 non-null float64\n",
      "num_contacts                                14821 non-null int64\n",
      "num_referrals                               14821 non-null int64\n",
      "num_successful_referrals                    14821 non-null int64\n",
      "brand                                       14821 non-null int64\n",
      "created_year                                14821 non-null int64\n",
      "created_month                               14821 non-null int64\n",
      "created_date_y                              14821 non-null datetime64[ns]\n",
      "user_active_time                            14821 non-null int64\n",
      "dtypes: datetime64[ns](3), float64(5), int64(19), object(4)\n",
      "memory usage: 4.2+ MB\n"
     ]
    }
   ],
   "source": [
    "df['first_transaction'] = pd.to_datetime(df['first_transaction'])\n",
    "df['last_transaction'] = pd.to_datetime(df['last_transaction'])\n",
    "df['created_date_y'] = pd.to_datetime(df['created_date_y'])\n",
    "(df.info())"
   ]
  },
  {
   "cell_type": "code",
   "execution_count": 30,
   "metadata": {},
   "outputs": [
    {
     "data": {
      "text/plain": [
       "0    247\n",
       "1    489\n",
       "2    474\n",
       "3    164\n",
       "4    418\n",
       "Name: user_active_time, dtype: int64"
      ]
     },
     "execution_count": 30,
     "metadata": {},
     "output_type": "execute_result"
    }
   ],
   "source": [
    "trans_end_point = max(df.last_transaction)\n",
    "\n",
    "# end point - created_year = xroniko diastima poy o xristis einai sto sustima\n",
    "df['user_active_time'] = (trans_end_point - df['created_date_y']).dt.days\n",
    "df['user_active_time'].head(5)"
   ]
  },
  {
   "cell_type": "code",
   "execution_count": 35,
   "metadata": {},
   "outputs": [
    {
     "data": {
      "text/plain": [
       "0    247\n",
       "1    465\n",
       "2    320\n",
       "3    164\n",
       "4     49\n",
       "Name: user_trans_time, dtype: int64"
      ]
     },
     "execution_count": 35,
     "metadata": {},
     "output_type": "execute_result"
    }
   ],
   "source": [
    "# transaction period = last_trans - first_trans\n",
    "#  trans_end_point - fist_transaction\n",
    "df['user_trans_time'] = (trans_end_point - df['first_transaction']).dt.days\n",
    "df['user_trans_time'].head(5)"
   ]
  },
  {
   "cell_type": "code",
   "execution_count": 43,
   "metadata": {},
   "outputs": [
    {
     "data": {
      "text/plain": [
       "0    0.001923\n",
       "1    0.007150\n",
       "2    0.005489\n",
       "3    0.018182\n",
       "4    0.002726\n",
       "Name: user_trans_periodicity, dtype: float64"
      ]
     },
     "execution_count": 43,
     "metadata": {},
     "output_type": "execute_result"
    }
   ],
   "source": [
    "df['user_trans_periodicity'] = ( (df['user_trans_time'] / df['number_transactions']) ) /  df['user_active_time']\n",
    "df.user_trans_periodicity.head(5)"
   ]
  },
  {
   "cell_type": "code",
   "execution_count": 44,
   "metadata": {},
   "outputs": [],
   "source": [
    "df.to_csv('../processed_data/trans_users_dev1.csv')\n"
   ]
  },
  {
   "cell_type": "code",
   "execution_count": null,
   "metadata": {},
   "outputs": [],
   "source": []
  }
 ],
 "metadata": {
  "colab": {
   "authorship_tag": "ABX9TyOpykRloDfDqwdBWgIpwFH3",
   "collapsed_sections": [],
   "name": "trans_bach.ipynb",
   "provenance": []
  },
  "kernelspec": {
   "display_name": "Python 3",
   "language": "python",
   "name": "python3"
  },
  "language_info": {
   "codemirror_mode": {
    "name": "ipython",
    "version": 3
   },
   "file_extension": ".py",
   "mimetype": "text/x-python",
   "name": "python",
   "nbconvert_exporter": "python",
   "pygments_lexer": "ipython3",
   "version": "3.5.2"
  }
 },
 "nbformat": 4,
 "nbformat_minor": 1
}
