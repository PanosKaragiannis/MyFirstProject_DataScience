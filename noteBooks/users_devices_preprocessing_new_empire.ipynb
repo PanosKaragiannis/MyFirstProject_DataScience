{
 "cells": [
  {
   "cell_type": "code",
   "execution_count": 3,
   "metadata": {
    "colab": {},
    "colab_type": "code",
    "id": "xMfshGCokMEH"
   },
   "outputs": [],
   "source": [
    "import pandas as pd\n",
    "import numpy as np\n",
    "import matplotlib.pyplot as plt\n",
    "from matplotlib.pyplot import pie,axis,show\n",
    "import seaborn as sns\n",
    "import random as rd\n",
    "import datetime as dt\n",
    "from termcolor import colored"
   ]
  },
  {
   "cell_type": "code",
   "execution_count": 4,
   "metadata": {
    "colab": {},
    "colab_type": "code",
    "id": "hhrdJs6IkhbP"
   },
   "outputs": [],
   "source": [
    "#my source\n",
    "devices=pd.read_csv('../data/devices.csv')\n",
    "users=pd.read_csv('../data/users.csv')\n",
    "\n",
    "#github source \n",
    "#devices=pd.read_csv('../data/devices.csv')\n",
    "#users=pd.read_csv('../data/users.csv')"
   ]
  },
  {
   "cell_type": "code",
   "execution_count": 5,
   "metadata": {
    "colab": {
     "base_uri": "https://localhost:8080/",
     "height": 50
    },
    "colab_type": "code",
    "id": "WiHaey5SlKSm",
    "outputId": "24508c64-a1bd-42cc-cd5d-b2d73f2e3c87"
   },
   "outputs": [
    {
     "name": "stdout",
     "output_type": "stream",
     "text": [
      "the shape of devices is:  (15544, 2)\n",
      "the shape of users is:  (15544, 12)\n"
     ]
    }
   ],
   "source": [
    "print('the shape of devices is: ',devices.shape)\n",
    "print('the shape of users is: ',users.shape)"
   ]
  },
  {
   "cell_type": "code",
   "execution_count": 6,
   "metadata": {
    "colab": {
     "base_uri": "https://localhost:8080/",
     "height": 190
    },
    "colab_type": "code",
    "id": "kIlsdKLWlPMf",
    "outputId": "89c6c906-45a1-44bd-fd81-06a3f4ae874f"
   },
   "outputs": [
    {
     "data": {
      "text/html": [
       "<div>\n",
       "<style scoped>\n",
       "    .dataframe tbody tr th:only-of-type {\n",
       "        vertical-align: middle;\n",
       "    }\n",
       "\n",
       "    .dataframe tbody tr th {\n",
       "        vertical-align: top;\n",
       "    }\n",
       "\n",
       "    .dataframe thead th {\n",
       "        text-align: right;\n",
       "    }\n",
       "</style>\n",
       "<table border=\"1\" class=\"dataframe\">\n",
       "  <thead>\n",
       "    <tr style=\"text-align: right;\">\n",
       "      <th></th>\n",
       "      <th>birth_year</th>\n",
       "      <th>country</th>\n",
       "      <th>city</th>\n",
       "      <th>created_date</th>\n",
       "      <th>user_settings_crypto_unlocked</th>\n",
       "      <th>plan</th>\n",
       "      <th>attributes_notifications_marketing_push</th>\n",
       "      <th>attributes_notifications_marketing_email</th>\n",
       "      <th>num_contacts</th>\n",
       "      <th>num_referrals</th>\n",
       "      <th>num_successful_referrals</th>\n",
       "      <th>brand</th>\n",
       "    </tr>\n",
       "    <tr>\n",
       "      <th>user_id</th>\n",
       "      <th></th>\n",
       "      <th></th>\n",
       "      <th></th>\n",
       "      <th></th>\n",
       "      <th></th>\n",
       "      <th></th>\n",
       "      <th></th>\n",
       "      <th></th>\n",
       "      <th></th>\n",
       "      <th></th>\n",
       "      <th></th>\n",
       "      <th></th>\n",
       "    </tr>\n",
       "  </thead>\n",
       "  <tbody>\n",
       "    <tr>\n",
       "      <th>user_0</th>\n",
       "      <td>1992</td>\n",
       "      <td>ES</td>\n",
       "      <td>Madrid</td>\n",
       "      <td>2018-09-10 18:46:42.843855</td>\n",
       "      <td>0</td>\n",
       "      <td>STANDARD</td>\n",
       "      <td>1.0</td>\n",
       "      <td>1.0</td>\n",
       "      <td>3</td>\n",
       "      <td>0</td>\n",
       "      <td>0</td>\n",
       "      <td>Apple</td>\n",
       "    </tr>\n",
       "    <tr>\n",
       "      <th>user_1</th>\n",
       "      <td>1985</td>\n",
       "      <td>LT</td>\n",
       "      <td>Klaipeda</td>\n",
       "      <td>2018-01-11 18:53:10.531146</td>\n",
       "      <td>1</td>\n",
       "      <td>STANDARD</td>\n",
       "      <td>NaN</td>\n",
       "      <td>NaN</td>\n",
       "      <td>75</td>\n",
       "      <td>0</td>\n",
       "      <td>0</td>\n",
       "      <td>Apple</td>\n",
       "    </tr>\n",
       "  </tbody>\n",
       "</table>\n",
       "</div>"
      ],
      "text/plain": [
       "         birth_year country      city                created_date  \\\n",
       "user_id                                                             \n",
       "user_0         1992      ES    Madrid  2018-09-10 18:46:42.843855   \n",
       "user_1         1985      LT  Klaipeda  2018-01-11 18:53:10.531146   \n",
       "\n",
       "         user_settings_crypto_unlocked      plan  \\\n",
       "user_id                                            \n",
       "user_0                               0  STANDARD   \n",
       "user_1                               1  STANDARD   \n",
       "\n",
       "         attributes_notifications_marketing_push  \\\n",
       "user_id                                            \n",
       "user_0                                       1.0   \n",
       "user_1                                       NaN   \n",
       "\n",
       "         attributes_notifications_marketing_email  num_contacts  \\\n",
       "user_id                                                           \n",
       "user_0                                        1.0             3   \n",
       "user_1                                        NaN            75   \n",
       "\n",
       "         num_referrals  num_successful_referrals  brand  \n",
       "user_id                                                  \n",
       "user_0               0                         0  Apple  \n",
       "user_1               0                         0  Apple  "
      ]
     },
     "execution_count": 6,
     "metadata": {},
     "output_type": "execute_result"
    }
   ],
   "source": [
    "devices = devices.set_index('user_id')\n",
    "df=pd.merge(users,devices,on='user_id')\n",
    "userdf=df.set_index('user_id')\n",
    "userdf.head(2)"
   ]
  },
  {
   "cell_type": "code",
   "execution_count": 7,
   "metadata": {
    "colab": {
     "base_uri": "https://localhost:8080/",
     "height": 638
    },
    "colab_type": "code",
    "id": "srBtoIKvlU8I",
    "outputId": "fa905057-4d9f-4156-a348-7809f772a39f"
   },
   "outputs": [
    {
     "name": "stdout",
     "output_type": "stream",
     "text": [
      "         birth_year  user_settings_crypto_unlocked  \\\n",
      "count  15544.000000                   15544.000000   \n",
      "mean    1983.666624                       0.182385   \n",
      "std       11.369184                       0.386174   \n",
      "min     1929.000000                       0.000000   \n",
      "25%     1977.000000                       0.000000   \n",
      "50%     1986.000000                       0.000000   \n",
      "75%     1992.000000                       0.000000   \n",
      "max     2001.000000                       1.000000   \n",
      "\n",
      "       attributes_notifications_marketing_push  \\\n",
      "count                             10284.000000   \n",
      "mean                                  0.948269   \n",
      "std                                   0.221494   \n",
      "min                                   0.000000   \n",
      "25%                                   1.000000   \n",
      "50%                                   1.000000   \n",
      "75%                                   1.000000   \n",
      "max                                   1.000000   \n",
      "\n",
      "       attributes_notifications_marketing_email  num_contacts  num_referrals  \\\n",
      "count                              10284.000000  15544.000000        15544.0   \n",
      "mean                                   0.895469     17.874228            0.0   \n",
      "std                                    0.305963     47.549929            0.0   \n",
      "min                                    0.000000      0.000000            0.0   \n",
      "25%                                    1.000000      0.000000            0.0   \n",
      "50%                                    1.000000      5.000000            0.0   \n",
      "75%                                    1.000000     19.000000            0.0   \n",
      "max                                    1.000000   2918.000000            0.0   \n",
      "\n",
      "       num_successful_referrals  \n",
      "count                   15544.0  \n",
      "mean                        0.0  \n",
      "std                         0.0  \n",
      "min                         0.0  \n",
      "25%                         0.0  \n",
      "50%                         0.0  \n",
      "75%                         0.0  \n",
      "max                         0.0  \n",
      "birth_year                                    int64\n",
      "country                                      object\n",
      "city                                         object\n",
      "created_date                                 object\n",
      "user_settings_crypto_unlocked                 int64\n",
      "plan                                         object\n",
      "attributes_notifications_marketing_push     float64\n",
      "attributes_notifications_marketing_email    float64\n",
      "num_contacts                                  int64\n",
      "num_referrals                                 int64\n",
      "num_successful_referrals                      int64\n",
      "brand                                        object\n",
      "dtype: object\n",
      "birth_year                                     0\n",
      "country                                        0\n",
      "city                                           0\n",
      "created_date                                   0\n",
      "user_settings_crypto_unlocked                  0\n",
      "plan                                           0\n",
      "attributes_notifications_marketing_push     5260\n",
      "attributes_notifications_marketing_email    5260\n",
      "num_contacts                                   0\n",
      "num_referrals                                  0\n",
      "num_successful_referrals                       0\n",
      "brand                                          0\n",
      "dtype: int64\n"
     ]
    }
   ],
   "source": [
    "print(userdf.describe())\n",
    "print(userdf.dtypes)\n",
    "print(userdf.isnull().sum())"
   ]
  },
  {
   "cell_type": "markdown",
   "metadata": {
    "colab_type": "text",
    "id": "j8YdZDrXmAVh"
   },
   "source": [
    "##Encoding of users and devices"
   ]
  },
  {
   "cell_type": "code",
   "execution_count": 8,
   "metadata": {
    "colab": {
     "base_uri": "https://localhost:8080/",
     "height": 101
    },
    "colab_type": "code",
    "id": "Fp6Ou-hLmHuq",
    "outputId": "6b1ed451-ce0a-44ce-c497-b992f7dbc5bc"
   },
   "outputs": [
    {
     "name": "stdout",
     "output_type": "stream",
     "text": [
      "Number of customers by plan  \n",
      " STANDARD    14394\n",
      "PAID         1150\n",
      "Name: plan, dtype: int64\n",
      "\u001b[31mRegarding the 15544 users, the 14394 or 92.6% of them are STANDARD and the rest 1150 or 7.3% are PAID\u001b[0m\n"
     ]
    }
   ],
   "source": [
    "# Replace 'SILVER' and 'GOLD' with 'PAID' in order to have two categories of plan: 'STANDARD' and 'PAID'\n",
    "userdf['plan'] = userdf['plan'].str.replace('SILVER', 'PAID')\n",
    "userdf['plan'] = userdf['plan'].str.replace('GOLD', 'PAID')\n",
    "print(\"Number of customers by plan \",\"\\n\" ,userdf['plan'].value_counts())\n",
    "print(colored(\"Regarding the 15544 users, the 14394 or 92.6% of them are STANDARD and the rest 1150 or 7.3% are PAID\",\"red\" ))"
   ]
  },
  {
   "cell_type": "markdown",
   "metadata": {
    "colab_type": "text",
    "id": "uyG5QgANr-3T"
   },
   "source": [
    "### Discovering Email and Push Acceptance"
   ]
  },
  {
   "cell_type": "code",
   "execution_count": 9,
   "metadata": {
    "colab": {
     "base_uri": "https://localhost:8080/",
     "height": 269
    },
    "colab_type": "code",
    "id": "fW_Uk6ZEmMSH",
    "outputId": "06d68694-935a-4595-dcdd-7c662cd6be07"
   },
   "outputs": [
    {
     "name": "stdout",
     "output_type": "stream",
     "text": [
      "plan                                      PAID  STANDARD\n",
      "attributes_notifications_marketing_email                \n",
      "0.0                                         73      1002\n",
      "1.0                                        757      8452\n",
      "\u001b[31mRegarding the concept about the acceptance of email:\u001b[0m\n",
      "\u001b[34mAbout the 830 paid users: 73 (6.3%) have not accepted, while 757 (65.8%) have accepted\u001b[0m\n",
      "\u001b[32mAbout the 9454 standard users: 1002 (6.9%) have not accepted, while 8452 (58.7%) have accepted\u001b[0m\n",
      "\n",
      "\n",
      "plan                                      PAID  STANDARD\n",
      "attributes_notifications_marketing_email                \n",
      "False                                      830      9454\n",
      "True                                       320      4940\n",
      "\u001b[34mRegarding the paid users, 320 have Nan\u001b[0m\n",
      "\u001b[32mRegarding the standard users, 4940 have Nan\u001b[0m\n"
     ]
    }
   ],
   "source": [
    "print(pd.crosstab(index=userdf['attributes_notifications_marketing_email'],columns=userdf['plan']))\n",
    "print(colored(\"Regarding the concept about the acceptance of email:\",\"red\"))\n",
    "print(colored(\"About the 830 paid users: 73 (6.3%) have not accepted, while 757 (65.8%) have accepted\", \"blue\"))\n",
    "print(colored(\"About the 9454 standard users: 1002 (6.9%) have not accepted, while 8452 (58.7%) have accepted\",\"green\" ))\n",
    "print(\"\\n\")\n",
    "print(pd.crosstab(index=userdf['attributes_notifications_marketing_email'].isnull(),columns=userdf['plan']))\n",
    "print(colored(\"Regarding the paid users, 320 have Nan\",\"blue\"))\n",
    "print(colored(\"Regarding the standard users, 4940 have Nan\",\"green\"))"
   ]
  },
  {
   "cell_type": "code",
   "execution_count": 10,
   "metadata": {
    "colab": {
     "base_uri": "https://localhost:8080/",
     "height": 269
    },
    "colab_type": "code",
    "id": "bfdnviM5sF-r",
    "outputId": "084432fd-08dc-4b36-f59f-f194fa8657ef"
   },
   "outputs": [
    {
     "name": "stdout",
     "output_type": "stream",
     "text": [
      "plan                                     PAID  STANDARD\n",
      "attributes_notifications_marketing_push                \n",
      "0.0                                        46       486\n",
      "1.0                                       784      8968\n",
      "\u001b[31mRegarding the concept about the acceptance of push:\u001b[0m\n",
      "\u001b[34mAbout the 830 paid users:  46 (5.5%) have not accepted, while 784 (94.5%) have accepted\u001b[0m\n",
      "\u001b[32mAbout the 9454 standard users: 486 (5%) have not accepted, while 8968 (95%) have accepted\u001b[0m\n",
      "\n",
      "\n",
      "plan                                     PAID  STANDARD\n",
      "attributes_notifications_marketing_push                \n",
      "False                                     830      9454\n",
      "True                                      320      4940\n",
      "\u001b[34mRegarding the paid users, 320 have Nan\u001b[0m\n",
      "\u001b[32mRegarding the standard users, 4940 have Nan\u001b[0m\n"
     ]
    }
   ],
   "source": [
    "print(pd.crosstab(index=userdf['attributes_notifications_marketing_push'],columns=userdf['plan']))\n",
    "print(colored(\"Regarding the concept about the acceptance of push:\",\"red\"))\n",
    "print(colored(\"About the 830 paid users:  46 (5.5%) have not accepted, while 784 (94.5%) have accepted\", \"blue\"))\n",
    "print(colored(\"About the 9454 standard users: 486 (5%) have not accepted, while 8968 (95%) have accepted\",\"green\" ))\n",
    "print(\"\\n\")\n",
    "print(pd.crosstab(index=userdf['attributes_notifications_marketing_push'].isnull(),columns=userdf['plan']))\n",
    "print(colored(\"Regarding the paid users, 320 have Nan\",\"blue\"))\n",
    "print(colored(\"Regarding the standard users, 4940 have Nan\",\"green\"))"
   ]
  },
  {
   "cell_type": "markdown",
   "metadata": {
    "colab_type": "text",
    "id": "fD3LZRDPrh_3"
   },
   "source": [
    "###Filling Nan values in Email and Push Acceptance"
   ]
  },
  {
   "cell_type": "code",
   "execution_count": 11,
   "metadata": {
    "colab": {},
    "colab_type": "code",
    "id": "SpFx8nsSpUij"
   },
   "outputs": [],
   "source": [
    "##ara tha gemisw posostiaia tis nan times kai tha thewrisw oti apo tous 320 paid xristes me nan oi 292(91.25%) tha dextoun (=1) enw oi 28(8.75%) oxi (=0)\n",
    "##kai oson afora tous standard apo tous 4940 me nan times tha thewrisw tous 4416(90%) oti tha dextoun (=1) enw oi 524(10%) oxi (=0) \n",
    "def mail(vec):\n",
    "  prob=rd.random()\n",
    "  plan, p = vec[0], vec[1]\n",
    "  if plan=='STANDARD' and np.isnan(p):\n",
    "    if prob<0.9:\n",
    "      return 1\n",
    "    else:\n",
    "      return 0\n",
    "  if plan=='PAID' and np.isnan(p):\n",
    "    if prob<0.9125:\n",
    "      return 1\n",
    "    else:\n",
    "      return 0\n",
    "  return p   "
   ]
  },
  {
   "cell_type": "code",
   "execution_count": 12,
   "metadata": {
    "colab": {
     "base_uri": "https://localhost:8080/",
     "height": 84
    },
    "colab_type": "code",
    "id": "h9b9Tr_8qzxz",
    "outputId": "ac00c79d-5f06-44c2-d6a7-f231b2a9e3ca"
   },
   "outputs": [
    {
     "name": "stdout",
     "output_type": "stream",
     "text": [
      "Number of users that have accepted the email notifications (value 1) and the rest that have not accepted (value 0) \n",
      " 1.0    13985\n",
      "0.0     1559\n",
      "Name: attributes_notifications_marketing_email, dtype: int64\n"
     ]
    }
   ],
   "source": [
    "userdf['attributes_notifications_marketing_email']=userdf[['plan','attributes_notifications_marketing_email']].apply(mail,axis=1)\n",
    "print(\"Number of users that have accepted the email notifications (value 1) and the rest that have not accepted (value 0)\",\"\\n\",userdf['attributes_notifications_marketing_email'].value_counts())"
   ]
  },
  {
   "cell_type": "code",
   "execution_count": 13,
   "metadata": {
    "colab": {},
    "colab_type": "code",
    "id": "2_KWIjHtq3GZ"
   },
   "outputs": [],
   "source": [
    "##ara tha gemisw posostiaia tis nan times kai tha thewrisw oti apo tous 320 paid xristes me nan oi 305(95%) tha dextoun (=1) enw oi 15(5%) oxi (=0)\n",
    "##kai oson afora tous standard apo tous 4940 me nan times tha thewrisw tous 4693(95%) oti tha dextoun (=1) enw oi 247(5%) oxi (=0)\n",
    "def push(vec):\n",
    "  prob=rd.random()\n",
    "  plan, p = vec[0], vec[1]\n",
    "  if plan=='STANDARD' and np.isnan(p):\n",
    "    if prob<0.95:\n",
    "      return 1\n",
    "    else:\n",
    "      return 0\n",
    "  if plan=='PAID' and np.isnan(p):\n",
    "    if prob<0.95:\n",
    "      return 1\n",
    "    else:\n",
    "      return 0    \n",
    "  return p   "
   ]
  },
  {
   "cell_type": "code",
   "execution_count": 14,
   "metadata": {
    "colab": {
     "base_uri": "https://localhost:8080/",
     "height": 84
    },
    "colab_type": "code",
    "id": "tVkemhF7q1IW",
    "outputId": "f28ca701-31b1-4d86-9975-57f4ce2cd169"
   },
   "outputs": [
    {
     "name": "stdout",
     "output_type": "stream",
     "text": [
      "Number of users that have accepted the push notifications (value 1) and the rest that have not accepted (value 0) \n",
      " 1.0    14737\n",
      "0.0      807\n",
      "Name: attributes_notifications_marketing_push, dtype: int64\n"
     ]
    }
   ],
   "source": [
    "userdf['attributes_notifications_marketing_push']=userdf[['plan','attributes_notifications_marketing_push']].apply(push,axis=1)\n",
    "print(\"Number of users that have accepted the push notifications (value 1) and the rest that have not accepted (value 0)\",\"\\n\",userdf['attributes_notifications_marketing_push'].value_counts())"
   ]
  },
  {
   "cell_type": "code",
   "execution_count": 15,
   "metadata": {
    "colab": {
     "base_uri": "https://localhost:8080/",
     "height": 235
    },
    "colab_type": "code",
    "id": "se4t9NQMtFIE",
    "outputId": "3e83d5cb-03b1-4ebe-f931-89738a082d91"
   },
   "outputs": [
    {
     "data": {
      "text/plain": [
       "birth_year                                    int64\n",
       "country                                      object\n",
       "city                                         object\n",
       "created_date                                 object\n",
       "user_settings_crypto_unlocked                 int64\n",
       "plan                                         object\n",
       "attributes_notifications_marketing_push     float64\n",
       "attributes_notifications_marketing_email    float64\n",
       "num_contacts                                  int64\n",
       "num_referrals                                 int64\n",
       "num_successful_referrals                      int64\n",
       "brand                                        object\n",
       "dtype: object"
      ]
     },
     "execution_count": 15,
     "metadata": {},
     "output_type": "execute_result"
    }
   ],
   "source": [
    "userdf.dtypes"
   ]
  },
  {
   "cell_type": "markdown",
   "metadata": {
    "colab_type": "text",
    "id": "pVoWN1W0vwVU"
   },
   "source": [
    "###Calculating the age of the users"
   ]
  },
  {
   "cell_type": "code",
   "execution_count": 16,
   "metadata": {
    "colab": {},
    "colab_type": "code",
    "id": "kRO6mpfEv28-"
   },
   "outputs": [],
   "source": [
    "userdf['birth_year'] =2020 - (userdf[['birth_year']]) #transforming birth year\n",
    "userdf.rename(columns={'birth_year':\"age\" }, inplace=True)"
   ]
  },
  {
   "cell_type": "markdown",
   "metadata": {
    "colab_type": "text",
    "id": "ZZVeO_putUGy"
   },
   "source": [
    "###Extracting the info about the month and year created and then make dummies for year"
   ]
  },
  {
   "cell_type": "code",
   "execution_count": 17,
   "metadata": {
    "colab": {
     "base_uri": "https://localhost:8080/",
     "height": 319
    },
    "colab_type": "code",
    "id": "TNs6Pm3LtQiX",
    "outputId": "e3492df3-9ff2-417a-d00e-bbcd1eefa018"
   },
   "outputs": [
    {
     "name": "stdout",
     "output_type": "stream",
     "text": [
      "Number of customers by created year  \n",
      " 2018    15494\n",
      "2019       50\n",
      "Name: created_year, dtype: int64\n",
      "Number of customers by created month  \n",
      " 12    1922\n",
      "11    1555\n",
      "10    1454\n",
      "8     1421\n",
      "3     1418\n",
      "9     1407\n",
      "5     1266\n",
      "6     1262\n",
      "7     1237\n",
      "4      957\n",
      "1      937\n",
      "2      708\n",
      "Name: created_month, dtype: int64\n"
     ]
    }
   ],
   "source": [
    "userdf['created_date'] = userdf['created_date'].apply(pd.to_datetime)\n",
    "userdf['created_year']=pd.DatetimeIndex(userdf['created_date']).year\n",
    "userdf['created_month']=pd.DatetimeIndex(userdf['created_date']).month\n",
    "print(\"Number of customers by created year \",\"\\n\" ,userdf['created_year'].value_counts())\n",
    "print(\"Number of customers by created month \",\"\\n\" ,userdf['created_month'].value_counts())"
   ]
  },
  {
   "cell_type": "code",
   "execution_count": 18,
   "metadata": {
    "colab": {},
    "colab_type": "code",
    "id": "_UmxMYsztfit"
   },
   "outputs": [],
   "source": [
    "#Create the two dummies about the years 2018 and 2019\n",
    "userdf=pd.concat([pd.get_dummies(userdf['created_year']), userdf], axis=1)"
   ]
  },
  {
   "cell_type": "code",
   "execution_count": 19,
   "metadata": {
    "colab": {},
    "colab_type": "code",
    "id": "My5aTOjG06B3"
   },
   "outputs": [],
   "source": [
    "userdf.rename(columns={2018:\"year_2018\",2019:\"year_2019\" }, inplace=True)"
   ]
  },
  {
   "cell_type": "markdown",
   "metadata": {
    "colab_type": "text",
    "id": "sdgKxvH2uSqK"
   },
   "source": [
    "###Handling the columns of referrals and the successful referrals"
   ]
  },
  {
   "cell_type": "code",
   "execution_count": 20,
   "metadata": {
    "colab": {
     "base_uri": "https://localhost:8080/",
     "height": 134
    },
    "colab_type": "code",
    "id": "hhD1tF3euN5B",
    "outputId": "4ee27ef1-6238-426d-ee7d-7282875b7d73"
   },
   "outputs": [
    {
     "name": "stdout",
     "output_type": "stream",
     "text": [
      "The number of total referrals \n",
      " 0    15544\n",
      "Name: num_referrals, dtype: int64\n",
      "The number of total successfull referrals \n",
      " 0    15544\n",
      "Name: num_successful_referrals, dtype: int64\n",
      "\u001b[31mAll the observations about these two attributes have a zero value. Let's think about it... :(\u001b[0m\n"
     ]
    }
   ],
   "source": [
    "print(\"The number of total referrals\", \"\\n\",userdf['num_referrals'].value_counts())\n",
    "print(\"The number of total successfull referrals\", \"\\n\",userdf['num_successful_referrals'].value_counts())\n",
    "print(colored(\"All the observations about these two attributes have a zero value. Let's think about it... :(\", \"red\"))"
   ]
  },
  {
   "cell_type": "markdown",
   "metadata": {
    "colab_type": "text",
    "id": "raDhpwEDwmYJ"
   },
   "source": [
    "###Encoding the plan with 0 the STANDARD and 1 the PAID"
   ]
  },
  {
   "cell_type": "code",
   "execution_count": 21,
   "metadata": {
    "colab": {},
    "colab_type": "code",
    "id": "xBteEj7IviOe"
   },
   "outputs": [],
   "source": [
    "#function to encode plan to 'paid' and 'standard'\n",
    "def change(x):              \n",
    "  if x == 'STANDARD':\n",
    "    return 0\n",
    "  elif x == 'PAID':\n",
    "    return 1"
   ]
  },
  {
   "cell_type": "code",
   "execution_count": 22,
   "metadata": {
    "colab": {
     "base_uri": "https://localhost:8080/",
     "height": 84
    },
    "colab_type": "code",
    "id": "4lpdFh16w4hS",
    "outputId": "6243199f-54f0-495f-f28e-23ae2fc0bd1d"
   },
   "outputs": [
    {
     "name": "stdout",
     "output_type": "stream",
     "text": [
      "The number of paid and standard users \n",
      " 0    14394\n",
      "1     1150\n",
      "Name: plan, dtype: int64\n"
     ]
    }
   ],
   "source": [
    "userdf['plan']=userdf['plan'].apply(change)\n",
    "print(\"The number of paid and standard users\", \"\\n\",userdf['plan'].value_counts())"
   ]
  },
  {
   "cell_type": "markdown",
   "metadata": {
    "colab_type": "text",
    "id": "uoPNlWLCxTJ7"
   },
   "source": [
    "###Handling the brand of mobile phone"
   ]
  },
  {
   "cell_type": "code",
   "execution_count": 23,
   "metadata": {
    "colab": {
     "base_uri": "https://localhost:8080/",
     "height": 166
    },
    "colab_type": "code",
    "id": "Zq-VEGGhxAcC",
    "outputId": "78f78cb0-6588-417f-9f3c-1f8f47fee51f"
   },
   "outputs": [
    {
     "data": {
      "text/html": [
       "<div>\n",
       "<style scoped>\n",
       "    .dataframe tbody tr th:only-of-type {\n",
       "        vertical-align: middle;\n",
       "    }\n",
       "\n",
       "    .dataframe tbody tr th {\n",
       "        vertical-align: top;\n",
       "    }\n",
       "\n",
       "    .dataframe thead th {\n",
       "        text-align: right;\n",
       "    }\n",
       "</style>\n",
       "<table border=\"1\" class=\"dataframe\">\n",
       "  <thead>\n",
       "    <tr style=\"text-align: right;\">\n",
       "      <th>plan</th>\n",
       "      <th>0</th>\n",
       "      <th>1</th>\n",
       "    </tr>\n",
       "    <tr>\n",
       "      <th>brand</th>\n",
       "      <th></th>\n",
       "      <th></th>\n",
       "    </tr>\n",
       "  </thead>\n",
       "  <tbody>\n",
       "    <tr>\n",
       "      <th>Android</th>\n",
       "      <td>7346</td>\n",
       "      <td>454</td>\n",
       "    </tr>\n",
       "    <tr>\n",
       "      <th>Apple</th>\n",
       "      <td>7025</td>\n",
       "      <td>687</td>\n",
       "    </tr>\n",
       "    <tr>\n",
       "      <th>Unknown</th>\n",
       "      <td>23</td>\n",
       "      <td>9</td>\n",
       "    </tr>\n",
       "  </tbody>\n",
       "</table>\n",
       "</div>"
      ],
      "text/plain": [
       "plan        0    1\n",
       "brand             \n",
       "Android  7346  454\n",
       "Apple    7025  687\n",
       "Unknown    23    9"
      ]
     },
     "execution_count": 23,
     "metadata": {},
     "output_type": "execute_result"
    }
   ],
   "source": [
    "pd.crosstab(index=userdf['brand'],columns=userdf['plan'])"
   ]
  },
  {
   "cell_type": "code",
   "execution_count": 24,
   "metadata": {
    "colab": {
     "base_uri": "https://localhost:8080/",
     "height": 67
    },
    "colab_type": "code",
    "id": "WM6iAzZFyK6u",
    "outputId": "b3eb1bdb-17cd-487d-96fa-5e83031a424b"
   },
   "outputs": [
    {
     "data": {
      "text/plain": [
       "Android    7832\n",
       "Apple      7712\n",
       "Name: brand, dtype: int64"
      ]
     },
     "execution_count": 24,
     "metadata": {},
     "output_type": "execute_result"
    }
   ],
   "source": [
    "#Only 32 obs of unknown, so we have to replace it somehow\n",
    "#Replace 'Unknown' with 'Android' in order to have two big categories of brand: 'Android' and 'Apple'\n",
    "userdf['brand'] = userdf['brand'].str.replace('Unknown', 'Android')\n",
    "userdf['brand'].value_counts()"
   ]
  },
  {
   "cell_type": "code",
   "execution_count": 25,
   "metadata": {
    "colab": {
     "base_uri": "https://localhost:8080/",
     "height": 67
    },
    "colab_type": "code",
    "id": "1xzowZxPyiuU",
    "outputId": "d7930d94-0db0-49b1-a3be-bdd7a21e740c"
   },
   "outputs": [
    {
     "data": {
      "text/plain": [
       "0    7832\n",
       "1    7712\n",
       "Name: brand, dtype: int64"
      ]
     },
     "execution_count": 25,
     "metadata": {},
     "output_type": "execute_result"
    }
   ],
   "source": [
    "#Now make a dummie about devices, Android=0 and Apple=1\n",
    "brand_dict = {'Android': 0, 'Apple': 1}\n",
    "userdf['brand'] = userdf['brand'].map(brand_dict)\n",
    "userdf['brand'].value_counts()"
   ]
  },
  {
   "cell_type": "markdown",
   "metadata": {
    "colab_type": "text",
    "id": "pSgJHFbOy8Ux"
   },
   "source": [
    "###Handling the countries and cities"
   ]
  },
  {
   "cell_type": "code",
   "execution_count": 26,
   "metadata": {
    "colab": {
     "base_uri": "https://localhost:8080/",
     "height": 151
    },
    "colab_type": "code",
    "id": "EtcGp5l_yztA",
    "outputId": "b27aaea7-9df2-43ac-e597-b7f04250859c"
   },
   "outputs": [
    {
     "name": "stdout",
     "output_type": "stream",
     "text": [
      "Unique values of countries: \n",
      " ['ES' 'LT' 'IE' 'GB' 'MT' 'FR' 'RO' 'PL' 'AT' 'IT' 'SI' 'CZ' 'BE' 'BG'\n",
      " 'GI' 'CH' 'GG' 'CY' 'LV' 'DE' 'SK' 'GR' 'DK' 'PT' 'LU' 'HR' 'NL' 'NO'\n",
      " 'SE' 'AU' 'IM' 'FI' 'EE' 'JE' 'HU' 'RE' 'IS' 'GP' 'LI' 'MQ']\n",
      "Unique values of cities: \n",
      " ['ES' 'LT' 'IE' 'GB' 'MT' 'FR' 'RO' 'PL' 'AT' 'IT' 'SI' 'CZ' 'BE' 'BG'\n",
      " 'GI' 'CH' 'GG' 'CY' 'LV' 'DE' 'SK' 'GR' 'DK' 'PT' 'LU' 'HR' 'NL' 'NO'\n",
      " 'SE' 'AU' 'IM' 'FI' 'EE' 'JE' 'HU' 'RE' 'IS' 'GP' 'LI' 'MQ']\n"
     ]
    }
   ],
   "source": [
    "print(\"Unique values of countries:\",\"\\n\",userdf['country'].unique())\n",
    "print(\"Unique values of cities:\",\"\\n\",userdf['country'].unique())"
   ]
  },
  {
   "cell_type": "code",
   "execution_count": 27,
   "metadata": {
    "colab": {},
    "colab_type": "code",
    "id": "jQxc-GLFzOAm"
   },
   "outputs": [],
   "source": [
    "#function to cluster the countries\n",
    "def change_country(x):     \n",
    "  if x=='AT' or x=='BE' or x=='DE' or x=='LU' or x=='NL' or x=='LI' or x=='CH':\n",
    "    return 'Central_Rich_Europe'\n",
    "  elif x=='IE' or x=='GB' or x=='GG' or x=='IM' or x=='JE' or x=='GI' or x=='DK' or x=='NO' or x=='SE' or x=='FI' or x=='IS':\n",
    "    return 'North_Europe_Scand'\n",
    "  elif x=='FR' or x=='RE' or x=='GP' or x=='MQ' or x=='MT' or x=='IT' or x=='CY' or x=='ES' or x=='PT':\n",
    "    return 'Mediteranian_Europe'\n",
    "  elif x=='EE' or x=='SK' or x=='HU' or x=='LV' or x=='SI' or x=='BG' or x=='GR' or x=='HR' or x=='LT' or x=='RO' or x=='PL' or x=='CZ':\n",
    "    return 'East_Europe_Balkans'\n",
    "  elif x=='AU':\n",
    "    return 'Australia'"
   ]
  },
  {
   "cell_type": "code",
   "execution_count": 28,
   "metadata": {
    "colab": {
     "base_uri": "https://localhost:8080/",
     "height": 134
    },
    "colab_type": "code",
    "id": "TZdklK_Lzduk",
    "outputId": "afa3f7e5-b9e0-448b-f097-d4fe4d9d0795"
   },
   "outputs": [
    {
     "name": "stdout",
     "output_type": "stream",
     "text": [
      "The number of users per region: \n",
      " North_Europe_Scand     6408\n",
      "East_Europe_Balkans    4268\n",
      "Mediteranian_Europe    3818\n",
      "Central_Rich_Europe    1046\n",
      "Australia                 4\n",
      "Name: country, dtype: int64\n"
     ]
    }
   ],
   "source": [
    "userdf['country']=userdf['country'].apply(change_country)\n",
    "print(\"The number of users per region:\",\"\\n\",userdf['country'].value_counts())"
   ]
  },
  {
   "cell_type": "code",
   "execution_count": 29,
   "metadata": {
    "colab": {},
    "colab_type": "code",
    "id": "GynM-6Vezhwh"
   },
   "outputs": [],
   "source": [
    "#Create dummies of each region\n",
    "userdf=pd.concat([pd.get_dummies(userdf['country']), userdf], axis=1)"
   ]
  },
  {
   "cell_type": "code",
   "execution_count": 30,
   "metadata": {
    "colab": {
     "base_uri": "https://localhost:8080/",
     "height": 236
    },
    "colab_type": "code",
    "id": "7vbJ8S-ozuuU",
    "outputId": "8235f408-a57e-4019-e698-1fff2dd9d287"
   },
   "outputs": [
    {
     "data": {
      "text/html": [
       "<div>\n",
       "<style scoped>\n",
       "    .dataframe tbody tr th:only-of-type {\n",
       "        vertical-align: middle;\n",
       "    }\n",
       "\n",
       "    .dataframe tbody tr th {\n",
       "        vertical-align: top;\n",
       "    }\n",
       "\n",
       "    .dataframe thead th {\n",
       "        text-align: right;\n",
       "    }\n",
       "</style>\n",
       "<table border=\"1\" class=\"dataframe\">\n",
       "  <thead>\n",
       "    <tr style=\"text-align: right;\">\n",
       "      <th></th>\n",
       "      <th>Australia</th>\n",
       "      <th>Central_Rich_Europe</th>\n",
       "      <th>East_Europe_Balkans</th>\n",
       "      <th>Mediteranian_Europe</th>\n",
       "      <th>North_Europe_Scand</th>\n",
       "      <th>year_2018</th>\n",
       "      <th>year_2019</th>\n",
       "      <th>age</th>\n",
       "      <th>country</th>\n",
       "      <th>city</th>\n",
       "      <th>...</th>\n",
       "      <th>user_settings_crypto_unlocked</th>\n",
       "      <th>plan</th>\n",
       "      <th>attributes_notifications_marketing_push</th>\n",
       "      <th>attributes_notifications_marketing_email</th>\n",
       "      <th>num_contacts</th>\n",
       "      <th>num_referrals</th>\n",
       "      <th>num_successful_referrals</th>\n",
       "      <th>brand</th>\n",
       "      <th>created_year</th>\n",
       "      <th>created_month</th>\n",
       "    </tr>\n",
       "    <tr>\n",
       "      <th>user_id</th>\n",
       "      <th></th>\n",
       "      <th></th>\n",
       "      <th></th>\n",
       "      <th></th>\n",
       "      <th></th>\n",
       "      <th></th>\n",
       "      <th></th>\n",
       "      <th></th>\n",
       "      <th></th>\n",
       "      <th></th>\n",
       "      <th></th>\n",
       "      <th></th>\n",
       "      <th></th>\n",
       "      <th></th>\n",
       "      <th></th>\n",
       "      <th></th>\n",
       "      <th></th>\n",
       "      <th></th>\n",
       "      <th></th>\n",
       "      <th></th>\n",
       "      <th></th>\n",
       "    </tr>\n",
       "  </thead>\n",
       "  <tbody>\n",
       "    <tr>\n",
       "      <th>user_0</th>\n",
       "      <td>0</td>\n",
       "      <td>0</td>\n",
       "      <td>0</td>\n",
       "      <td>1</td>\n",
       "      <td>0</td>\n",
       "      <td>1</td>\n",
       "      <td>0</td>\n",
       "      <td>28</td>\n",
       "      <td>Mediteranian_Europe</td>\n",
       "      <td>Madrid</td>\n",
       "      <td>...</td>\n",
       "      <td>0</td>\n",
       "      <td>0</td>\n",
       "      <td>1.0</td>\n",
       "      <td>1.0</td>\n",
       "      <td>3</td>\n",
       "      <td>0</td>\n",
       "      <td>0</td>\n",
       "      <td>1</td>\n",
       "      <td>2018</td>\n",
       "      <td>9</td>\n",
       "    </tr>\n",
       "    <tr>\n",
       "      <th>user_1</th>\n",
       "      <td>0</td>\n",
       "      <td>0</td>\n",
       "      <td>1</td>\n",
       "      <td>0</td>\n",
       "      <td>0</td>\n",
       "      <td>1</td>\n",
       "      <td>0</td>\n",
       "      <td>35</td>\n",
       "      <td>East_Europe_Balkans</td>\n",
       "      <td>Klaipeda</td>\n",
       "      <td>...</td>\n",
       "      <td>1</td>\n",
       "      <td>0</td>\n",
       "      <td>1.0</td>\n",
       "      <td>1.0</td>\n",
       "      <td>75</td>\n",
       "      <td>0</td>\n",
       "      <td>0</td>\n",
       "      <td>1</td>\n",
       "      <td>2018</td>\n",
       "      <td>1</td>\n",
       "    </tr>\n",
       "    <tr>\n",
       "      <th>user_2</th>\n",
       "      <td>0</td>\n",
       "      <td>0</td>\n",
       "      <td>0</td>\n",
       "      <td>0</td>\n",
       "      <td>1</td>\n",
       "      <td>1</td>\n",
       "      <td>0</td>\n",
       "      <td>24</td>\n",
       "      <td>North_Europe_Scand</td>\n",
       "      <td>Carrickmacross</td>\n",
       "      <td>...</td>\n",
       "      <td>0</td>\n",
       "      <td>0</td>\n",
       "      <td>1.0</td>\n",
       "      <td>0.0</td>\n",
       "      <td>71</td>\n",
       "      <td>0</td>\n",
       "      <td>0</td>\n",
       "      <td>1</td>\n",
       "      <td>2018</td>\n",
       "      <td>11</td>\n",
       "    </tr>\n",
       "  </tbody>\n",
       "</table>\n",
       "<p>3 rows × 21 columns</p>\n",
       "</div>"
      ],
      "text/plain": [
       "         Australia  Central_Rich_Europe  East_Europe_Balkans  \\\n",
       "user_id                                                        \n",
       "user_0           0                    0                    0   \n",
       "user_1           0                    0                    1   \n",
       "user_2           0                    0                    0   \n",
       "\n",
       "         Mediteranian_Europe  North_Europe_Scand  year_2018  year_2019  age  \\\n",
       "user_id                                                                       \n",
       "user_0                     1                   0          1          0   28   \n",
       "user_1                     0                   0          1          0   35   \n",
       "user_2                     0                   1          1          0   24   \n",
       "\n",
       "                     country            city  ...  \\\n",
       "user_id                                       ...   \n",
       "user_0   Mediteranian_Europe          Madrid  ...   \n",
       "user_1   East_Europe_Balkans        Klaipeda  ...   \n",
       "user_2    North_Europe_Scand  Carrickmacross  ...   \n",
       "\n",
       "        user_settings_crypto_unlocked  plan  \\\n",
       "user_id                                       \n",
       "user_0                              0     0   \n",
       "user_1                              1     0   \n",
       "user_2                              0     0   \n",
       "\n",
       "         attributes_notifications_marketing_push  \\\n",
       "user_id                                            \n",
       "user_0                                       1.0   \n",
       "user_1                                       1.0   \n",
       "user_2                                       1.0   \n",
       "\n",
       "         attributes_notifications_marketing_email  num_contacts  \\\n",
       "user_id                                                           \n",
       "user_0                                        1.0             3   \n",
       "user_1                                        1.0            75   \n",
       "user_2                                        0.0            71   \n",
       "\n",
       "         num_referrals  num_successful_referrals  brand  created_year  \\\n",
       "user_id                                                                 \n",
       "user_0               0                         0      1          2018   \n",
       "user_1               0                         0      1          2018   \n",
       "user_2               0                         0      1          2018   \n",
       "\n",
       "         created_month  \n",
       "user_id                 \n",
       "user_0               9  \n",
       "user_1               1  \n",
       "user_2              11  \n",
       "\n",
       "[3 rows x 21 columns]"
      ]
     },
     "execution_count": 30,
     "metadata": {},
     "output_type": "execute_result"
    }
   ],
   "source": [
    "userdf.head(3)"
   ]
  },
  {
   "cell_type": "code",
   "execution_count": 33,
   "metadata": {
    "colab": {
     "base_uri": "https://localhost:8080/",
     "height": 320
    },
    "colab_type": "code",
    "id": "-eakCERF0U2Z",
    "outputId": "75b637f8-068d-434e-a21f-50110b7cdcae"
   },
   "outputs": [],
   "source": [
    "#if you run it locally\n",
    "userdf.to_csv(\"../processed_data/users_devices.csv\")"
   ]
  },
  {
   "cell_type": "code",
   "execution_count": 32,
   "metadata": {
    "colab": {},
    "colab_type": "code",
    "id": "IwwyzgI_5soZ"
   },
   "outputs": [],
   "source": [
    "#if you run it in colab\n",
    "# userdf.to_csv(\"users_devices.csv\")"
   ]
  },
  {
   "cell_type": "code",
   "execution_count": null,
   "metadata": {
    "colab": {},
    "colab_type": "code",
    "id": "iR7mre3K5vJs"
   },
   "outputs": [],
   "source": []
  }
 ],
 "metadata": {
  "colab": {
   "collapsed_sections": [],
   "name": "users_devices_preprocessing_new_empire.ipynb",
   "provenance": []
  },
  "kernelspec": {
   "display_name": "Python 3",
   "language": "python",
   "name": "python3"
  },
  "language_info": {
   "codemirror_mode": {
    "name": "ipython",
    "version": 3
   },
   "file_extension": ".py",
   "mimetype": "text/x-python",
   "name": "python",
   "nbconvert_exporter": "python",
   "pygments_lexer": "ipython3",
   "version": "3.5.2"
  }
 },
 "nbformat": 4,
 "nbformat_minor": 1
}
