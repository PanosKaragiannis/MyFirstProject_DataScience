{
 "cells": [
  {
   "cell_type": "code",
<<<<<<< HEAD
   "execution_count": 1,
=======
   "execution_count": 72,
>>>>>>> 5f84e05287407d6ec9e0e6df3315d23e7c5cc010
   "metadata": {
    "colab": {
     "base_uri": "https://localhost:8080/",
     "height": 107
    },
    "colab_type": "code",
    "executionInfo": {
     "elapsed": 1598,
     "status": "ok",
     "timestamp": 1591269833414,
     "user": {
      "displayName": "Ioanna Kountouri",
      "photoUrl": "",
      "userId": "18315338504972529308"
     },
     "user_tz": -180
    },
    "id": "nhnYb1lHtZBi",
    "outputId": "6b2f0a51-d70b-4c82-ed52-4f7638083f33"
   },
   "outputs": [],
   "source": [
    "import numpy as np\n",
    "import pandas as pd\n",
    "from sklearn.linear_model import LogisticRegression\n",
    "from sklearn.tree import DecisionTreeClassifier\n",
    "from sklearn.metrics import accuracy_score, classification_report\n",
    "from sklearn.model_selection import train_test_split, cross_val_score\n",
    "from sklearn.neighbors import KNeighborsClassifier\n",
    "from sklearn.svm import SVC\n",
    "from sklearn.preprocessing import MinMaxScaler, StandardScaler # Normalization - Standardization\n",
    "from sklearn import preprocessing\n",
    "from sklearn.utils import resample\n",
    "from sklearn.model_selection import GridSearchCV\n",
    "from sklearn.neural_network import MLPClassifier\n",
    "from imblearn.over_sampling import SMOTE\n",
    "from imblearn.combine import SMOTEENN\n",
    "import matplotlib.pyplot as plt\n",
    "from sklearn.feature_selection import VarianceThreshold\n",
    "from sklearn.ensemble import RandomForestClassifier\n",
    "from imblearn.pipeline import Pipeline"
   ]
  },
  {
   "cell_type": "code",
<<<<<<< HEAD
   "execution_count": 4,
=======
   "execution_count": 73,
>>>>>>> 5f84e05287407d6ec9e0e6df3315d23e7c5cc010
   "metadata": {
    "colab": {
     "base_uri": "https://localhost:8080/",
     "height": 333
    },
    "colab_type": "code",
    "executionInfo": {
     "elapsed": 648,
     "status": "ok",
     "timestamp": 1591269860991,
     "user": {
      "displayName": "Ioanna Kountouri",
      "photoUrl": "",
      "userId": "18315338504972529308"
     },
     "user_tz": -180
    },
    "id": "Va2SSOfothS6",
    "outputId": "d787ab35-aed1-40fe-b8d0-8f6340994653"
   },
   "outputs": [
    {
     "name": "stdout",
     "output_type": "stream",
     "text": [
      "<class 'pandas.core.frame.DataFrame'>\n",
      "RangeIndex: 15544 entries, 0 to 15543\n",
<<<<<<< HEAD
      "Data columns (total 53 columns):\n",
      " #   Column                                    Non-Null Count  Dtype  \n",
      "---  ------                                    --------------  -----  \n",
      " 0   Unnamed: 0                                15544 non-null  int64  \n",
      " 1   Australia                                 15544 non-null  int64  \n",
      " 2   Central_Rich_Europe                       15544 non-null  int64  \n",
      " 3   East_Europe_Balkans                       15544 non-null  int64  \n",
      " 4   Mediteranian_Europe                       15544 non-null  int64  \n",
      " 5   North_Europe_Scand                        15544 non-null  int64  \n",
      " 6   user_id                                   15544 non-null  object \n",
      " 7   birth_year                                15544 non-null  int64  \n",
      " 8   country                                   15544 non-null  object \n",
      " 9   city                                      15544 non-null  object \n",
      " 10  created_date                              15544 non-null  object \n",
      " 11  user_settings_crypto_unlocked             15544 non-null  int64  \n",
      " 12  plan                                      15544 non-null  int64  \n",
      " 13  attributes_notifications_marketing_push   15544 non-null  float64\n",
      " 14  attributes_notifications_marketing_email  15544 non-null  float64\n",
      " 15  num_contacts                              15544 non-null  int64  \n",
      " 16  num_referrals                             15544 non-null  int64  \n",
      " 17  num_successful_referrals                  15544 non-null  int64  \n",
      " 18  brand                                     15544 non-null  int64  \n",
      " 19  age                                       15544 non-null  int64  \n",
      " 20  total_amount                              15544 non-null  float64\n",
      " 21  number_transactions                       15544 non-null  float64\n",
      " 22  avg_amount                                15544 non-null  float64\n",
      " 23  first_transaction                         15544 non-null  object \n",
      " 24  last_transaction                          15544 non-null  object \n",
      " 25  transaction_period                        15544 non-null  float64\n",
      " 26  user_active_time                          15544 non-null  int64  \n",
      " 27  user_trans_time                           15544 non-null  float64\n",
      " 28  user_trans_periodicity                    15544 non-null  float64\n",
      " 29  ATM                                       15544 non-null  float64\n",
      " 30  CARD_PAYMENT                              15544 non-null  float64\n",
      " 31  EXCHANGE                                  15544 non-null  float64\n",
      " 32  TAX                                       15544 non-null  float64\n",
      " 33  TRANSFER                                  15544 non-null  float64\n",
      " 34  CHF                                       15544 non-null  float64\n",
      " 35  EUR                                       15544 non-null  float64\n",
      " 36  GBP                                       15544 non-null  float64\n",
      " 37  OTHER                                     15544 non-null  float64\n",
      " 38  BLACK_FRIDAY                              15544 non-null  float64\n",
      " 39  BLUE_TUESDAY                              15544 non-null  float64\n",
      " 40  ENGAGEMENT_SPLIT_BILL_RESTAURANT          15544 non-null  float64\n",
      " 41  INVEST_IN_GOLD                            15544 non-null  float64\n",
      " 42  JOINING_ANNIVERSARY                       15544 non-null  float64\n",
      " 43  LOST_CARD_ORDER                           15544 non-null  float64\n",
      " 44  MADE_MONEY_REQUEST_NOT_SPLIT_BILL         15544 non-null  float64\n",
      " 45  METAL_RESERVE_PLAN                        15544 non-null  float64\n",
      " 46  NO_INITIAL_CARD_ORDER                     15544 non-null  float64\n",
      " 47  NO_INITIAL_CARD_USE                       15544 non-null  float64\n",
      " 48  ONBOARDING_TIPS_ACTIVATED_USERS           15544 non-null  float64\n",
      " 49  PROMO                                     15544 non-null  float64\n",
      " 50  PROMO_CARD_ORDER                          15544 non-null  float64\n",
      " 51  REENGAGEMENT_ACTIVE_FUNDS                 15544 non-null  float64\n",
      " 52  WELCOME_BACK                              15544 non-null  float64\n",
      "dtypes: float64(32), int64(15), object(6)\n",
      "memory usage: 6.3+ MB\n"
=======
      "Data columns (total 57 columns):\n",
      "Unnamed: 0                                  15544 non-null int64\n",
      "Australia                                   15544 non-null int64\n",
      "Central_Rich_Europe                         15544 non-null int64\n",
      "East_Europe_Balkans                         15544 non-null int64\n",
      "Mediteranian_Europe                         15544 non-null int64\n",
      "North_Europe_Scand                          15544 non-null int64\n",
      "user_id                                     15544 non-null object\n",
      "birth_year                                  15544 non-null int64\n",
      "country                                     15544 non-null object\n",
      "city                                        15544 non-null object\n",
      "created_date                                15544 non-null object\n",
      "user_settings_crypto_unlocked               15544 non-null int64\n",
      "plan                                        15544 non-null int64\n",
      "attributes_notifications_marketing_push     15544 non-null float64\n",
      "attributes_notifications_marketing_email    15544 non-null float64\n",
      "num_contacts                                15544 non-null int64\n",
      "num_referrals                               15544 non-null int64\n",
      "num_successful_referrals                    15544 non-null int64\n",
      "brand                                       15544 non-null int64\n",
      "age                                         15544 non-null int64\n",
      "total_amount                                15544 non-null float64\n",
      "number_transactions                         15544 non-null float64\n",
      "avg_amount                                  15544 non-null float64\n",
      "first_transaction                           15544 non-null object\n",
      "last_transaction                            15544 non-null object\n",
      "transaction_period                          15544 non-null float64\n",
      "user_active_time                            15544 non-null int64\n",
      "user_trans_time                             15544 non-null float64\n",
      "user_trans_periodicity                      15544 non-null float64\n",
      "recency                                     15544 non-null float64\n",
      "ATM                                         15544 non-null float64\n",
      "CARD_PAYMENT                                15544 non-null float64\n",
      "CARD_REFUND                                 15544 non-null float64\n",
      "EXCHANGE                                    15544 non-null float64\n",
      "REFUND                                      15544 non-null float64\n",
      "TAX                                         15544 non-null float64\n",
      "TOPUP                                       15544 non-null float64\n",
      "TRANSFER                                    15544 non-null float64\n",
      "CHF                                         15544 non-null float64\n",
      "EUR                                         15544 non-null float64\n",
      "GBP                                         15544 non-null float64\n",
      "OTHER                                       15544 non-null float64\n",
      "BLACK_FRIDAY                                15544 non-null float64\n",
      "BLUE_TUESDAY                                15544 non-null float64\n",
      "ENGAGEMENT_SPLIT_BILL_RESTAURANT            15544 non-null float64\n",
      "INVEST_IN_GOLD                              15544 non-null float64\n",
      "JOINING_ANNIVERSARY                         15544 non-null float64\n",
      "LOST_CARD_ORDER                             15544 non-null float64\n",
      "MADE_MONEY_REQUEST_NOT_SPLIT_BILL           15544 non-null float64\n",
      "METAL_RESERVE_PLAN                          15544 non-null float64\n",
      "NO_INITIAL_CARD_ORDER                       15544 non-null float64\n",
      "NO_INITIAL_CARD_USE                         15544 non-null float64\n",
      "ONBOARDING_TIPS_ACTIVATED_USERS             15544 non-null float64\n",
      "PROMO                                       15544 non-null float64\n",
      "PROMO_CARD_ORDER                            15544 non-null float64\n",
      "REENGAGEMENT_ACTIVE_FUNDS                   15544 non-null float64\n",
      "WELCOME_BACK                                15544 non-null float64\n",
      "dtypes: float64(36), int64(15), object(6)\n",
      "memory usage: 6.8+ MB\n"
>>>>>>> 5f84e05287407d6ec9e0e6df3315d23e7c5cc010
     ]
    }
   ],
   "source": [
    "# Define the path of the data set\n",
    "df = pd.read_csv('../processed_data/training_data_cl_profit.csv')\n",
    "test1 = pd.read_csv('../processed_data/testing_data.csv')\n",
    "\n",
    "df.info()"
   ]
  },
  {
   "cell_type": "code",
<<<<<<< HEAD
   "execution_count": 7,
=======
   "execution_count": 74,
>>>>>>> 5f84e05287407d6ec9e0e6df3315d23e7c5cc010
   "metadata": {},
   "outputs": [],
   "source": [
    "features = ['user_settings_crypto_unlocked', 'num_contacts', 'brand', 'age', 'total_amount', 'number_transactions','avg_amount',\n",
<<<<<<< HEAD
    "            'transaction_period', 'user_active_time', 'user_trans_time', 'user_trans_periodicity','ATM', 'CARD_PAYMENT',  'EXCHANGE',  'TAX', \n",
    "            'TRANSFER',\n",
=======
    "            'transaction_period', 'user_active_time', 'user_trans_time', 'user_trans_periodicity', 'recency',\n",
    "            'ATM', 'CARD_PAYMENT', 'CARD_REFUND', 'EXCHANGE', 'REFUND', 'TAX', 'TOPUP', 'TRANSFER',\n",
>>>>>>> 5f84e05287407d6ec9e0e6df3315d23e7c5cc010
    "           'BLACK_FRIDAY', 'BLUE_TUESDAY', 'ENGAGEMENT_SPLIT_BILL_RESTAURANT', 'INVEST_IN_GOLD', 'JOINING_ANNIVERSARY',\n",
    "          'LOST_CARD_ORDER', 'MADE_MONEY_REQUEST_NOT_SPLIT_BILL', 'METAL_RESERVE_PLAN', 'NO_INITIAL_CARD_ORDER',\n",
    "          'NO_INITIAL_CARD_USE', 'ONBOARDING_TIPS_ACTIVATED_USERS', 'PROMO', 'PROMO_CARD_ORDER', 'REENGAGEMENT_ACTIVE_FUNDS',\n",
    "          'WELCOME_BACK',\n",
    "           'Australia', 'Central_Rich_Europe', 'East_Europe_Balkans', 'Mediteranian_Europe', 'North_Europe_Scand',\n",
    "           'CHF', 'EUR', 'GBP', 'OTHER']\n",
    "            \n",
    "types = ['ATM', 'CARD_PAYMENT', 'CARD_REFUND', 'EXCHANGE', 'REFUND', 'TAX', 'TOPUP', 'TRANSFER']\n",
    "status = ['BLACK_FRIDAY', 'BLUE_TUESDAY', 'ENGAGEMENT_SPLIT_BILL_RESTAURANT', 'INVEST_IN_GOLD', 'JOINING_ANNIVERSARY',\n",
    "          'LOST_CARD_ORDER', 'MADE_MONEY_REQUEST_NOT_SPLIT_BILL', 'METAL_RESERVE_PLAN', 'NO_INITIAL_CARD_ORDER',\n",
    "          'NO_INITIAL_CARD_USE', 'ONBOARDING_TIPS_ACTIVATED_USERS', 'PROMO', 'PROMO_CARD_ORDER', 'REENGAGEMENT_ACTIVE_FUNDS',\n",
    "          'WELCOME_BACK'] \n",
    "\n",
    "countries = ['Australia', 'Central_Rich_Europe', 'East_Europe_Balkans', 'Mediteranian_Europe', 'North_Europe_Scand']\n",
    "\n",
    "currency = ['CHF', 'EUR', 'GBP', 'OTHER']\n",
    "            \n",
    "class_y = ['plan']"
   ]
  },
  {
   "cell_type": "code",
<<<<<<< HEAD
   "execution_count": 6,
=======
   "execution_count": 75,
>>>>>>> 5f84e05287407d6ec9e0e6df3315d23e7c5cc010
   "metadata": {
    "colab": {},
    "colab_type": "code",
    "id": "CtUKYt4QvRVF"
   },
   "outputs": [
    {
     "ename": "KeyError",
     "evalue": "\"['TOPUP', 'CARD_REFUND', 'REFUND'] not in index\"",
     "output_type": "error",
     "traceback": [
      "\u001b[1;31m---------------------------------------------------------------------------\u001b[0m",
      "\u001b[1;31mKeyError\u001b[0m                                  Traceback (most recent call last)",
      "\u001b[1;32m<ipython-input-6-c1fe397f91e5>\u001b[0m in \u001b[0;36m<module>\u001b[1;34m\u001b[0m\n\u001b[0;32m      1\u001b[0m \u001b[0mtest\u001b[0m \u001b[1;33m=\u001b[0m \u001b[0mtest1\u001b[0m\u001b[1;33m[\u001b[0m\u001b[0mfeatures\u001b[0m\u001b[1;33m]\u001b[0m\u001b[1;33m.\u001b[0m\u001b[0mcopy\u001b[0m\u001b[1;33m(\u001b[0m\u001b[1;33m)\u001b[0m\u001b[1;33m\u001b[0m\u001b[1;33m\u001b[0m\u001b[0m\n\u001b[1;32m----> 2\u001b[1;33m \u001b[0mdata\u001b[0m \u001b[1;33m=\u001b[0m \u001b[0mdf\u001b[0m\u001b[1;33m[\u001b[0m\u001b[0mfeatures\u001b[0m\u001b[1;33m]\u001b[0m\u001b[1;33m.\u001b[0m\u001b[0mcopy\u001b[0m\u001b[1;33m(\u001b[0m\u001b[1;33m)\u001b[0m \u001b[1;31m# features\u001b[0m\u001b[1;33m\u001b[0m\u001b[1;33m\u001b[0m\u001b[0m\n\u001b[0m\u001b[0;32m      3\u001b[0m \u001b[0my\u001b[0m \u001b[1;33m=\u001b[0m \u001b[0mdf\u001b[0m\u001b[1;33m[\u001b[0m\u001b[0mclass_y\u001b[0m\u001b[1;33m]\u001b[0m \u001b[1;31m# labels\u001b[0m\u001b[1;33m\u001b[0m\u001b[1;33m\u001b[0m\u001b[0m\n",
      "\u001b[1;32mc:\\python\\python37\\lib\\site-packages\\pandas\\core\\frame.py\u001b[0m in \u001b[0;36m__getitem__\u001b[1;34m(self, key)\u001b[0m\n\u001b[0;32m   2804\u001b[0m             \u001b[1;32mif\u001b[0m \u001b[0mis_iterator\u001b[0m\u001b[1;33m(\u001b[0m\u001b[0mkey\u001b[0m\u001b[1;33m)\u001b[0m\u001b[1;33m:\u001b[0m\u001b[1;33m\u001b[0m\u001b[1;33m\u001b[0m\u001b[0m\n\u001b[0;32m   2805\u001b[0m                 \u001b[0mkey\u001b[0m \u001b[1;33m=\u001b[0m \u001b[0mlist\u001b[0m\u001b[1;33m(\u001b[0m\u001b[0mkey\u001b[0m\u001b[1;33m)\u001b[0m\u001b[1;33m\u001b[0m\u001b[1;33m\u001b[0m\u001b[0m\n\u001b[1;32m-> 2806\u001b[1;33m             \u001b[0mindexer\u001b[0m \u001b[1;33m=\u001b[0m \u001b[0mself\u001b[0m\u001b[1;33m.\u001b[0m\u001b[0mloc\u001b[0m\u001b[1;33m.\u001b[0m\u001b[0m_get_listlike_indexer\u001b[0m\u001b[1;33m(\u001b[0m\u001b[0mkey\u001b[0m\u001b[1;33m,\u001b[0m \u001b[0maxis\u001b[0m\u001b[1;33m=\u001b[0m\u001b[1;36m1\u001b[0m\u001b[1;33m,\u001b[0m \u001b[0mraise_missing\u001b[0m\u001b[1;33m=\u001b[0m\u001b[1;32mTrue\u001b[0m\u001b[1;33m)\u001b[0m\u001b[1;33m[\u001b[0m\u001b[1;36m1\u001b[0m\u001b[1;33m]\u001b[0m\u001b[1;33m\u001b[0m\u001b[1;33m\u001b[0m\u001b[0m\n\u001b[0m\u001b[0;32m   2807\u001b[0m \u001b[1;33m\u001b[0m\u001b[0m\n\u001b[0;32m   2808\u001b[0m         \u001b[1;31m# take() does not accept boolean indexers\u001b[0m\u001b[1;33m\u001b[0m\u001b[1;33m\u001b[0m\u001b[1;33m\u001b[0m\u001b[0m\n",
      "\u001b[1;32mc:\\python\\python37\\lib\\site-packages\\pandas\\core\\indexing.py\u001b[0m in \u001b[0;36m_get_listlike_indexer\u001b[1;34m(self, key, axis, raise_missing)\u001b[0m\n\u001b[0;32m   1551\u001b[0m \u001b[1;33m\u001b[0m\u001b[0m\n\u001b[0;32m   1552\u001b[0m         self._validate_read_indexer(\n\u001b[1;32m-> 1553\u001b[1;33m             \u001b[0mkeyarr\u001b[0m\u001b[1;33m,\u001b[0m \u001b[0mindexer\u001b[0m\u001b[1;33m,\u001b[0m \u001b[0mo\u001b[0m\u001b[1;33m.\u001b[0m\u001b[0m_get_axis_number\u001b[0m\u001b[1;33m(\u001b[0m\u001b[0maxis\u001b[0m\u001b[1;33m)\u001b[0m\u001b[1;33m,\u001b[0m \u001b[0mraise_missing\u001b[0m\u001b[1;33m=\u001b[0m\u001b[0mraise_missing\u001b[0m\u001b[1;33m\u001b[0m\u001b[1;33m\u001b[0m\u001b[0m\n\u001b[0m\u001b[0;32m   1554\u001b[0m         )\n\u001b[0;32m   1555\u001b[0m         \u001b[1;32mreturn\u001b[0m \u001b[0mkeyarr\u001b[0m\u001b[1;33m,\u001b[0m \u001b[0mindexer\u001b[0m\u001b[1;33m\u001b[0m\u001b[1;33m\u001b[0m\u001b[0m\n",
      "\u001b[1;32mc:\\python\\python37\\lib\\site-packages\\pandas\\core\\indexing.py\u001b[0m in \u001b[0;36m_validate_read_indexer\u001b[1;34m(self, key, indexer, axis, raise_missing)\u001b[0m\n\u001b[0;32m   1644\u001b[0m             \u001b[1;32mif\u001b[0m \u001b[1;32mnot\u001b[0m \u001b[1;33m(\u001b[0m\u001b[0mself\u001b[0m\u001b[1;33m.\u001b[0m\u001b[0mname\u001b[0m \u001b[1;33m==\u001b[0m \u001b[1;34m\"loc\"\u001b[0m \u001b[1;32mand\u001b[0m \u001b[1;32mnot\u001b[0m \u001b[0mraise_missing\u001b[0m\u001b[1;33m)\u001b[0m\u001b[1;33m:\u001b[0m\u001b[1;33m\u001b[0m\u001b[1;33m\u001b[0m\u001b[0m\n\u001b[0;32m   1645\u001b[0m                 \u001b[0mnot_found\u001b[0m \u001b[1;33m=\u001b[0m \u001b[0mlist\u001b[0m\u001b[1;33m(\u001b[0m\u001b[0mset\u001b[0m\u001b[1;33m(\u001b[0m\u001b[0mkey\u001b[0m\u001b[1;33m)\u001b[0m \u001b[1;33m-\u001b[0m \u001b[0mset\u001b[0m\u001b[1;33m(\u001b[0m\u001b[0max\u001b[0m\u001b[1;33m)\u001b[0m\u001b[1;33m)\u001b[0m\u001b[1;33m\u001b[0m\u001b[1;33m\u001b[0m\u001b[0m\n\u001b[1;32m-> 1646\u001b[1;33m                 \u001b[1;32mraise\u001b[0m \u001b[0mKeyError\u001b[0m\u001b[1;33m(\u001b[0m\u001b[1;34mf\"{not_found} not in index\"\u001b[0m\u001b[1;33m)\u001b[0m\u001b[1;33m\u001b[0m\u001b[1;33m\u001b[0m\u001b[0m\n\u001b[0m\u001b[0;32m   1647\u001b[0m \u001b[1;33m\u001b[0m\u001b[0m\n\u001b[0;32m   1648\u001b[0m             \u001b[1;31m# we skip the warning on Categorical/Interval\u001b[0m\u001b[1;33m\u001b[0m\u001b[1;33m\u001b[0m\u001b[1;33m\u001b[0m\u001b[0m\n",
      "\u001b[1;31mKeyError\u001b[0m: \"['TOPUP', 'CARD_REFUND', 'REFUND'] not in index\""
     ]
    }
   ],
   "source": [
    "test = test1[features].copy()\n",
    "data = df[features].copy() # features\n",
    "y = df[class_y] # labels"
   ]
  },
  {
   "cell_type": "markdown",
   "metadata": {
    "colab_type": "text",
    "id": "VOQ42gis3Wxh"
   },
   "source": [
    "# Data splitting & Upsampling"
   ]
  },
  {
   "cell_type": "code",
   "execution_count": 76,
   "metadata": {
    "colab": {},
    "colab_type": "code",
    "id": "7_kf0HKcztue"
   },
   "outputs": [],
   "source": [
    "# Split the data\n",
    "x = data[features].copy() # features\n",
    "# y = df[class_y].copy() # labels\n",
    "\n",
    "x_train1 = x.copy()\n",
    "y_train1 = y.copy()\n",
    "x_test = test.copy()\n",
    "\n",
    "# x_train1, x_test, y_train1, y_test = train_test_split(x, y, test_size=0.2)\n",
    "# print(x_test, y_test)\n"
   ]
  },
  {
   "cell_type": "code",
   "execution_count": 77,
   "metadata": {
    "colab": {
     "base_uri": "https://localhost:8080/",
     "height": 266
    },
    "colab_type": "code",
    "executionInfo": {
     "elapsed": 1499,
     "status": "ok",
     "timestamp": 1591269869418,
     "user": {
      "displayName": "Ioanna Kountouri",
      "photoUrl": "",
      "userId": "18315338504972529308"
     },
     "user_tz": -180
    },
    "id": "JUT3zdSY2l2P",
    "outputId": "57850e94-d7cc-4ca7-b9e6-7a5e3ca357c4"
   },
   "outputs": [
    {
     "name": "stdout",
     "output_type": "stream",
     "text": [
      "14394\n",
      "1150\n",
      "13244\n"
     ]
    }
   ],
   "source": [
    "# upsampling\n",
    "df1 = x_train1.copy()\n",
    "df1['plan'] = y_train1.copy()\n",
    "df1_minor = df1[df1.plan==1]\n",
    "df1_major = df1[df1.plan==0]\n",
    "\n",
    "smpl = len(df1_major) - len(df1_minor)\n",
    "print(len(df1_major))\n",
    "print(len(df1_minor))\n",
    "print(smpl)\n",
    "\n",
    "# X = data.drop('y', axis=1).values\n",
    "# y = data['y'].values\n",
    "\n",
    "# bool val to change between separated and non-separated upsampling\n",
    "case = True\n",
    "\n",
    "if case:\n",
    "    smote = SMOTE()\n",
    "    x_train, y_train = smote.fit_resample(x_train1, y_train1)\n",
    "\n",
    "#     x_train = pd.concat( [x_train, y_train], axis=1)\n",
    "#     x_train1 = pd.concat( [x_train1, y_train1], axis=1)\n",
    "else:\n",
    "    smoteenn = SMOTEENN()\n",
    "    # X_us_nn, y_us_nn = enn.fit_resample(x_train1, y_train1)\n",
    "    x_train, y_train = smoteenn.fit_resample(x_train1, y_train1)\n",
    "\n",
    "#     x_train = pd.concat( [x_train, y_train], axis=1)\n",
    "#     x_train1 = pd.concat( [x_train1, y_train1], axis=1)\n",
    "    \n",
    "# print('Dataset size before oversampling:', len(x_train1[x_train1.plan==1]), len(x_train1[x_train1.plan==0]))\n",
    "# print('Dataset size after oversampling: ', len(x_train[x_train.plan==1]), len(x_train[x_train.plan==0]))\n",
    "# x_train.head(5)"
   ]
  },
  {
   "cell_type": "markdown",
   "metadata": {
    "colab_type": "text",
    "id": "M8K1Rjpa3Wxe"
   },
   "source": [
    "# Normalization - Standardization"
   ]
  },
  {
   "cell_type": "code",
   "execution_count": 78,
   "metadata": {
    "colab": {},
    "colab_type": "code",
    "id": "tcI77ZAzvYgn"
   },
   "outputs": [
    {
     "data": {
      "text/plain": [
       "array([[-0.53385997,  0.00646351, -0.87857632, ..., -0.47485097,\n",
       "        -0.31833279,  0.08399549],\n",
       "       [ 1.87315035, -0.49909998, -0.87857632, ..., -0.49614266,\n",
       "        -0.30810013, -0.32952662],\n",
       "       [-0.53385997,  0.41572918,  1.13820505, ...,  3.99108218,\n",
       "        -0.36949608, -0.34891047],\n",
       "       ...,\n",
       "       [-0.53385997, -0.49909998,  1.13820505, ..., -0.49614266,\n",
       "        -0.36949608, -0.34891047],\n",
       "       [ 1.87315035, -0.40280217,  1.13820505, ...,  0.60570258,\n",
       "        -0.36949608, -0.34891047],\n",
       "       [-0.53385997,  0.39165473, -0.87857632, ..., -0.49614266,\n",
       "        -0.33879811, -0.34891047]])"
      ]
     },
     "execution_count": 78,
     "metadata": {},
     "output_type": "execute_result"
    }
   ],
   "source": [
    "# standardizing-normalizing the training-data in order to fit the models\n",
    "# thats the reason we use x_train\n",
    "S_scaler = StandardScaler() # MinMaxScaler()\n",
    "N_scaler = MinMaxScaler()\n",
    "N_features = features\n",
    "# S_scaler.fit(data[['num_contacts']])\n",
    "# data[['num_contacts']] = S_scaler.transform(data[['num_contacts']])\n",
    "\n",
    "S_scaler.fit_transform(x_train)\n",
    "S_scaler.transform(x_test)\n",
    "# data[N_features] = N_scaler.transform(data[N_features])\n",
    "# n_values = preprocessing.normalize(df[N_features])\n",
    "# data[N_features] = n_values\n",
    "# print(n_values)\n",
    "# data.head(5)\n"
   ]
  },
  {
   "cell_type": "markdown",
   "metadata": {
    "colab_type": "text",
    "id": "FLrZOkws3Wxo"
   },
   "source": [
    "# Logistic Regression"
   ]
  },
  {
   "cell_type": "code",
   "execution_count": 79,
   "metadata": {
    "colab": {
     "base_uri": "https://localhost:8080/",
     "height": 210
    },
    "colab_type": "code",
    "executionInfo": {
     "elapsed": 1178,
     "status": "ok",
     "timestamp": 1591269880322,
     "user": {
      "displayName": "Ioanna Kountouri",
      "photoUrl": "",
      "userId": "18315338504972529308"
     },
     "user_tz": -180
    },
    "id": "KY5CJ0OOzXCe",
    "outputId": "ef71a231-c24a-4ffb-95ad-0b17ff29f8ea"
   },
   "outputs": [
    {
     "name": "stderr",
     "output_type": "stream",
     "text": [
      "/home/thanasis/.local/lib/python3.5/site-packages/sklearn/linear_model/_logistic.py:1505: UserWarning: Setting penalty='none' will ignore the C and l1_ratio parameters\n",
      "  \"Setting penalty='none' will ignore the C and l1_ratio \"\n",
      "/home/thanasis/.local/lib/python3.5/site-packages/sklearn/utils/validation.py:760: DataConversionWarning: A column-vector y was passed when a 1d array was expected. Please change the shape of y to (n_samples, ), for example using ravel().\n",
      "  y = column_or_1d(y, warn=True)\n",
      "/home/thanasis/.local/lib/python3.5/site-packages/sklearn/utils/optimize.py:212: ConvergenceWarning: newton-cg failed to converge. Increase the number of iterations.\n",
      "  \"number of iterations.\", ConvergenceWarning)\n",
      "/home/thanasis/.local/lib/python3.5/site-packages/sklearn/linear_model/_logistic.py:1505: UserWarning: Setting penalty='none' will ignore the C and l1_ratio parameters\n",
      "  \"Setting penalty='none' will ignore the C and l1_ratio \"\n",
      "/home/thanasis/.local/lib/python3.5/site-packages/sklearn/utils/validation.py:760: DataConversionWarning: A column-vector y was passed when a 1d array was expected. Please change the shape of y to (n_samples, ), for example using ravel().\n",
      "  y = column_or_1d(y, warn=True)\n",
      "/home/thanasis/.local/lib/python3.5/site-packages/sklearn/utils/optimize.py:212: ConvergenceWarning: newton-cg failed to converge. Increase the number of iterations.\n",
      "  \"number of iterations.\", ConvergenceWarning)\n",
      "/home/thanasis/.local/lib/python3.5/site-packages/sklearn/linear_model/_logistic.py:1505: UserWarning: Setting penalty='none' will ignore the C and l1_ratio parameters\n",
      "  \"Setting penalty='none' will ignore the C and l1_ratio \"\n",
      "/home/thanasis/.local/lib/python3.5/site-packages/sklearn/utils/validation.py:760: DataConversionWarning: A column-vector y was passed when a 1d array was expected. Please change the shape of y to (n_samples, ), for example using ravel().\n",
      "  y = column_or_1d(y, warn=True)\n",
      "/home/thanasis/.local/lib/python3.5/site-packages/sklearn/utils/optimize.py:212: ConvergenceWarning: newton-cg failed to converge. Increase the number of iterations.\n",
      "  \"number of iterations.\", ConvergenceWarning)\n",
      "/home/thanasis/.local/lib/python3.5/site-packages/sklearn/linear_model/_logistic.py:1505: UserWarning: Setting penalty='none' will ignore the C and l1_ratio parameters\n",
      "  \"Setting penalty='none' will ignore the C and l1_ratio \"\n",
      "/home/thanasis/.local/lib/python3.5/site-packages/sklearn/utils/validation.py:760: DataConversionWarning: A column-vector y was passed when a 1d array was expected. Please change the shape of y to (n_samples, ), for example using ravel().\n",
      "  y = column_or_1d(y, warn=True)\n",
      "/home/thanasis/.local/lib/python3.5/site-packages/sklearn/utils/optimize.py:212: ConvergenceWarning: newton-cg failed to converge. Increase the number of iterations.\n",
      "  \"number of iterations.\", ConvergenceWarning)\n",
      "/home/thanasis/.local/lib/python3.5/site-packages/sklearn/linear_model/_logistic.py:1505: UserWarning: Setting penalty='none' will ignore the C and l1_ratio parameters\n",
      "  \"Setting penalty='none' will ignore the C and l1_ratio \"\n",
      "/home/thanasis/.local/lib/python3.5/site-packages/sklearn/utils/validation.py:760: DataConversionWarning: A column-vector y was passed when a 1d array was expected. Please change the shape of y to (n_samples, ), for example using ravel().\n",
      "  y = column_or_1d(y, warn=True)\n",
      "/home/thanasis/.local/lib/python3.5/site-packages/sklearn/utils/optimize.py:212: ConvergenceWarning: newton-cg failed to converge. Increase the number of iterations.\n",
      "  \"number of iterations.\", ConvergenceWarning)\n",
      "/home/thanasis/.local/lib/python3.5/site-packages/sklearn/linear_model/_logistic.py:1505: UserWarning: Setting penalty='none' will ignore the C and l1_ratio parameters\n",
      "  \"Setting penalty='none' will ignore the C and l1_ratio \"\n",
      "/home/thanasis/.local/lib/python3.5/site-packages/sklearn/utils/validation.py:760: DataConversionWarning: A column-vector y was passed when a 1d array was expected. Please change the shape of y to (n_samples, ), for example using ravel().\n",
      "  y = column_or_1d(y, warn=True)\n"
     ]
    },
    {
     "name": "stdout",
     "output_type": "stream",
     "text": [
      "[0.92757902 0.96405002 0.96370267 0.96213306 0.96612819]\n"
     ]
    },
    {
     "name": "stderr",
     "output_type": "stream",
     "text": [
      "/home/thanasis/.local/lib/python3.5/site-packages/sklearn/utils/optimize.py:212: ConvergenceWarning: newton-cg failed to converge. Increase the number of iterations.\n",
      "  \"number of iterations.\", ConvergenceWarning)\n"
     ]
    }
   ],
   "source": [
    "# Logistic Regression\n",
    "log_reg = LogisticRegression(penalty = 'none', C=0.001, solver = 'newton-cg')\n",
    "\n",
    "# cross val\n",
    "scores = (cross_val_score(log_reg, x_train, y_train, cv=5))\n",
    "print(scores)\n",
    "\n",
    "# 2.\n",
    "log_reg.fit(x_train, y_train)\n",
    "\n",
    "# 3.\n",
    "lr_pred = log_reg.predict(x_test)\n",
    "# print(accuracy_score(y_test, lr_pred))\n",
    "# print(classification_report(y_test, lr_pred))"
   ]
  },
  {
   "cell_type": "markdown",
   "metadata": {
    "colab_type": "text",
    "id": "JLlUF0k53Wxt"
   },
   "source": [
    "# Decision Tree"
   ]
  },
  {
   "cell_type": "code",
   "execution_count": 80,
   "metadata": {
    "colab": {
     "base_uri": "https://localhost:8080/",
     "height": 263
    },
    "colab_type": "code",
    "executionInfo": {
     "elapsed": 1737,
     "status": "ok",
     "timestamp": 1591269892019,
     "user": {
      "displayName": "Ioanna Kountouri",
      "photoUrl": "",
      "userId": "18315338504972529308"
     },
     "user_tz": -180
    },
    "id": "U4gUzqfHQukh",
    "outputId": "6ef31638-f15b-4a75-fcc7-c9226d5633f8"
   },
   "outputs": [
    {
     "name": "stderr",
     "output_type": "stream",
     "text": [
      "[Parallel(n_jobs=1)]: Using backend SequentialBackend with 1 concurrent workers.\n"
     ]
    },
    {
     "name": "stdout",
     "output_type": "stream",
     "text": [
      "Fitting 2 folds for each of 24 candidates, totalling 48 fits\n",
      "{'criterion': 'entropy', 'splitter': 'random', 'max_depth': 100}\n"
     ]
    },
    {
     "name": "stderr",
     "output_type": "stream",
     "text": [
      "[Parallel(n_jobs=1)]: Done  48 out of  48 | elapsed:    6.3s finished\n"
     ]
    }
   ],
   "source": [
    "# Grid search for Decision Trees\n",
    "\n",
    "grid = {\n",
    "    'criterion': ['gini', 'entropy'],\n",
    "    'splitter': ['best', 'random'],\n",
    "    'max_depth': [None, 100, 50, 20, 10, 5]\n",
    "}\n",
    "\n",
    "dt = DecisionTreeClassifier()\n",
    "\n",
    "gs = GridSearchCV(dt, grid, cv=2, scoring='accuracy', verbose=1) # scoring accuracy\n",
    "\n",
    "gs.fit(x_train, y_train)\n",
    "\n",
    "print(gs.best_params_) # these are the best parameters for my trainning set\n",
    "\n",
    "dt_best = gs.best_estimator_ # getting the best estimator\n",
    "\n",
    "dt_best_preds = dt_best.predict(x_test) # prediction from the best estimator\n",
    "\n",
    "# print(accuracy_score(y_test, dt_best_preds)) # calculating accuracy score\n",
    "# print(classification_report(y_test, dt_best_preds))"
   ]
  },
  {
   "cell_type": "markdown",
   "metadata": {
    "colab_type": "text",
    "id": "JlNWV_La3Wxv"
   },
   "source": [
    "# K-NN"
   ]
  },
  {
   "cell_type": "code",
   "execution_count": 81,
   "metadata": {
    "colab": {
     "base_uri": "https://localhost:8080/",
     "height": 193
    },
    "colab_type": "code",
    "executionInfo": {
     "elapsed": 624,
     "status": "ok",
     "timestamp": 1591269896312,
     "user": {
      "displayName": "Ioanna Kountouri",
      "photoUrl": "",
      "userId": "18315338504972529308"
     },
     "user_tz": -180
    },
    "id": "Bdaglbm13Wxw",
    "outputId": "61fec252-b37d-4a06-9ad7-cc0a176c72fb"
   },
   "outputs": [
    {
     "name": "stderr",
     "output_type": "stream",
     "text": [
      "/usr/local/lib/python3.5/dist-packages/ipykernel_launcher.py:11: DataConversionWarning: A column-vector y was passed when a 1d array was expected. Please change the shape of y to (n_samples, ), for example using ravel().\n",
      "  # This is added back by InteractiveShellApp.init_path()\n"
     ]
    }
   ],
   "source": [
    "grid = {\n",
    "    'weights': ['uniform', 'distance'],\n",
    "    'n_neighbors': [3, 5],\n",
    "    'algorithm': ['auto', 'ball_tree', 'kd_tree']\n",
    "}\n",
    "\n",
    "knn = KNeighborsClassifier(weights= 'distance', algorithm= 'auto', n_neighbors= 3)\n",
    "\n",
    "# gs = GridSearchCV(knn, grid, cv=5, scoring='f1', verbose=1) # scoring accuracy\n",
    "\n",
    "knn.fit(x_train, y_train)\n",
    "\n",
    "# print(gs.best_params_) # these are the best parameters for my trainning set\n",
    "\n",
    "#dt_best = gs.best_estimator_ # getting the best estimator\n",
    "\n",
    "dt_best_preds = knn.predict(x_test) # dt_best.predict(x_test) # prediction from the best estimator\n",
    "\n",
    "# print(accuracy_score(y_test, dt_best_preds)) # calculating accuracy score\n",
    "# print(classification_report(y_test, dt_best_preds))"
   ]
  },
  {
   "cell_type": "markdown",
   "metadata": {
    "colab_type": "text",
    "id": "mItX9nJV3Wxy"
   },
   "source": [
    "# Support Vector Machine"
   ]
  },
  {
   "cell_type": "code",
   "execution_count": 82,
   "metadata": {
    "colab": {
     "base_uri": "https://localhost:8080/",
     "height": 193
    },
    "colab_type": "code",
    "executionInfo": {
     "elapsed": 7804,
     "status": "ok",
     "timestamp": 1591269910567,
     "user": {
      "displayName": "Ioanna Kountouri",
      "photoUrl": "",
      "userId": "18315338504972529308"
     },
     "user_tz": -180
    },
    "id": "IQ5hRg9N3Wxz",
    "outputId": "e656f06b-712b-45d2-b31a-1d4eca91e998"
   },
   "outputs": [
    {
     "name": "stderr",
     "output_type": "stream",
     "text": [
      "/home/thanasis/.local/lib/python3.5/site-packages/sklearn/utils/validation.py:760: DataConversionWarning: A column-vector y was passed when a 1d array was expected. Please change the shape of y to (n_samples, ), for example using ravel().\n",
      "  y = column_or_1d(y, warn=True)\n"
     ]
    }
   ],
   "source": [
    "# Grid search for SVM\n",
    "\n",
    "grid = {\n",
    "    'kernel': ['linear', 'rbf', 'sigmoid'], # \n",
    "    'gamma': ['scale', 'auto'],\n",
    "    'class_weight': ['balanced', None]\n",
    "}\n",
    "\n",
    "\n",
    "svm = SVC(gamma= 'scale', kernel= 'rbf', class_weight= None) # \n",
    "\n",
    "gs = GridSearchCV(svm, grid, cv=5, scoring='f1', verbose=1) # scoring accuracy\n",
    "\n",
    "svm.fit(x_train, y_train)\n",
    "#print(svm.coef_)\n",
    "#print(features)\n",
    "\n",
    "# print(gs.best_params_) # these are the best parameters for my trainning set\n",
    "\n",
    "# dt_best = gs.best_estimator_ # getting the best estimator\n",
    "\n",
    "dt_best_preds = svm.predict(x_test) # prediction from the best estimator\n",
    "\n",
    "# print(accuracy_score(y_test, dt_best_preds)) # calculating accuracy score\n",
    "# print(classification_report(y_test, dt_best_preds))"
   ]
  },
  {
   "cell_type": "markdown",
   "metadata": {
    "colab_type": "text",
    "id": "2mIA23QL8A9N"
   },
   "source": [
    "# Random Forests"
   ]
  },
  {
   "cell_type": "code",
   "execution_count": 83,
   "metadata": {
    "colab": {
     "base_uri": "https://localhost:8080/",
     "height": 316
    },
    "colab_type": "code",
    "executionInfo": {
     "elapsed": 36322,
     "status": "ok",
     "timestamp": 1591269955032,
     "user": {
      "displayName": "Ioanna Kountouri",
      "photoUrl": "",
      "userId": "18315338504972529308"
     },
     "user_tz": -180
    },
    "id": "8e1CgPaR8EAn",
    "outputId": "067aadd5-7dfe-4695-c376-8dafdb8424eb"
   },
   "outputs": [],
   "source": [
    "def rforest():\n",
    "\n",
    "    var = VarianceThreshold()\n",
    "\n",
    "    rf = RandomForestClassifier(n_estimators=50, n_jobs=-1)\n",
    "    rf.fit(x_train, y_train)\n",
    "    rf.feature_importances_\n",
    "\n",
    "    for c, imp in sorted(zip(features, rf.feature_importances_), key=lambda pair: pair[1], reverse=True):\n",
    "      print('{:20}: {}'.format(c, imp))\n",
    "\n",
    "    rf = RandomForestClassifier(n_estimators = 100, criterion = 'entropy')\n",
    "\n",
    "#     pipe1 = Pipeline([('scaler', S_scaler),\n",
    "#                       ('selector', var),\n",
    "#                       ('model', rf)])\n",
    "\n",
    "#     grid1 = {'selector__threshold': [0, 0.2, 0.4],\n",
    "#              'model__n_estimators': [20, 50, 100]}\n",
    "    \n",
    "    \n",
    "    # threshhold = 0.2, estimator = 100\n",
    "    # clf = GridSearchCV(pipe1, grid1)\n",
    "    rf.fit(x_train, y_train)\n",
    "\n",
    "    # print(rf.best_params_, '\\n')\n",
    "    \n",
    "    # print(classification_report(y_test, rf.predict(x_test)))"
   ]
  },
  {
   "cell_type": "code",
   "execution_count": 84,
   "metadata": {},
   "outputs": [
    {
     "name": "stderr",
     "output_type": "stream",
     "text": [
      "/usr/local/lib/python3.5/dist-packages/ipykernel_launcher.py:6: DataConversionWarning: A column-vector y was passed when a 1d array was expected. Please change the shape of y to (n_samples,), for example using ravel().\n",
      "  \n"
     ]
    },
    {
     "name": "stdout",
     "output_type": "stream",
     "text": [
      "total_amount        : 0.073585611168174\n",
      "INVEST_IN_GOLD      : 0.062420790865745666\n",
      "ATM                 : 0.057764595035187626\n",
      "NO_INITIAL_CARD_USE : 0.05754896525132716\n",
      "number_transactions : 0.05153924391796899\n",
      "EXCHANGE            : 0.05049536661341862\n",
      "avg_amount          : 0.047853437239099766\n",
      "REFUND              : 0.04568836303186118\n",
      "recency             : 0.044044636497151714\n",
      "ONBOARDING_TIPS_ACTIVATED_USERS: 0.03615312769214452\n",
      "BLACK_FRIDAY        : 0.03594999312565367\n",
      "NO_INITIAL_CARD_ORDER: 0.032275633903831556\n",
      "transaction_period  : 0.028055534386265676\n",
      "TRANSFER            : 0.02739676813286264\n",
      "TOPUP               : 0.025099202652980584\n",
      "OTHER               : 0.02489472464414022\n",
      "PROMO               : 0.020724335973997397\n",
      "CARD_REFUND         : 0.019960964004420552\n",
      "LOST_CARD_ORDER     : 0.01991240821528664\n",
      "CARD_PAYMENT        : 0.019050816384282288\n",
      "GBP                 : 0.01885095383160735\n",
      "EUR                 : 0.01808819922955299\n",
      "user_trans_time     : 0.017946087330759107\n",
      "East_Europe_Balkans : 0.017698847147573516\n",
      "user_trans_periodicity: 0.017498080401327512\n",
      "user_active_time    : 0.016543819939195122\n",
      "REENGAGEMENT_ACTIVE_FUNDS: 0.016048677118748342\n",
      "age                 : 0.015647702513184546\n",
      "North_Europe_Scand  : 0.01276315427609823\n",
      "num_contacts        : 0.011335783651546643\n",
      "PROMO_CARD_ORDER    : 0.010515258421415465\n",
      "ENGAGEMENT_SPLIT_BILL_RESTAURANT: 0.007920222051587605\n",
      "Mediteranian_Europe : 0.007778632972215511\n",
      "JOINING_ANNIVERSARY : 0.0070149455452942966\n",
      "MADE_MONEY_REQUEST_NOT_SPLIT_BILL: 0.005811192326109147\n",
      "WELCOME_BACK        : 0.00332736462828796\n",
      "user_settings_crypto_unlocked: 0.0029325361120029884\n",
      "brand               : 0.0027313637794285123\n",
      "CHF                 : 0.002655731153893262\n",
      "Central_Rich_Europe : 0.002379477859545979\n",
      "METAL_RESERVE_PLAN  : 0.0015747290035102968\n",
      "BLUE_TUESDAY        : 0.0013732100987244407\n",
      "TAX                 : 0.0011495118725907017\n",
      "Australia           : 0.0\n"
     ]
    },
    {
     "name": "stderr",
     "output_type": "stream",
     "text": [
      "/usr/local/lib/python3.5/dist-packages/ipykernel_launcher.py:24: DataConversionWarning: A column-vector y was passed when a 1d array was expected. Please change the shape of y to (n_samples,), for example using ravel().\n"
     ]
    }
   ],
   "source": [
    "# calling random forest\n",
    "rforest()"
   ]
  },
  {
   "cell_type": "markdown",
   "metadata": {
    "colab_type": "text",
    "id": "z2xJvsP__vXc"
   },
   "source": [
    "# MLP - Neural Network"
   ]
  },
  {
   "cell_type": "code",
   "execution_count": 85,
   "metadata": {
    "colab": {
     "base_uri": "https://localhost:8080/",
     "height": 1000
    },
    "colab_type": "code",
    "executionInfo": {
     "elapsed": 1785247,
     "status": "ok",
     "timestamp": 1591271749626,
     "user": {
      "displayName": "Ioanna Kountouri",
      "photoUrl": "",
      "userId": "18315338504972529308"
     },
     "user_tz": -180
    },
    "id": "qJajkCgN_ym5",
    "outputId": "8964eae7-ad80-479a-bda9-4c48b3a6310b"
   },
   "outputs": [],
   "source": [
    "def NN():\n",
    "    grid={'activation':['logistic'], # ,'tanh', 'relu'],\n",
    "          'learning_rate_init':[0.0001], # 0.001, 0.01, 0.1],\n",
    "          'momentum':[0.5] # ,0.2,0.3,0.7,0.9]\n",
    "         }\n",
    "\n",
    "    mlp=MLPClassifier() # activation = 'logistic', momentum = 0.5, learning_rate_init = 0.0001\n",
    "    gs=GridSearchCV(mlp,grid,cv=3,scoring='accuracy')\n",
    "\n",
    "    gs_result = gs.fit(x_train,y_train)\n",
    "    print(\"Best: %f using %s\" % (gs_result.best_score_, gs_result.best_params_))\n",
    "    \n",
    "    # activation = relu, learning rate = 0.01, momentum = 0.9\n",
    "    # Best: 0.937278 using {'activation': 'logistic', 'momentum': 0.5, 'learning_rate_init': 0.0001}\n",
    "    mlp_pred = gs.predict(x_test)\n",
    "    \n",
    "    # print(accuracy_score(y_test,mlp_pred))\n",
    "    # print(classification_report(y_test,mlp_pred))\n",
    "    return mlp_pred"
   ]
  },
  {
   "cell_type": "code",
   "execution_count": 86,
   "metadata": {
    "colab": {},
    "colab_type": "code",
    "id": "V0JjVxWq_3dd",
    "scrolled": true
   },
   "outputs": [
    {
     "name": "stderr",
     "output_type": "stream",
     "text": [
      "/home/thanasis/.local/lib/python3.5/site-packages/sklearn/neural_network/_multilayer_perceptron.py:934: DataConversionWarning: A column-vector y was passed when a 1d array was expected. Please change the shape of y to (n_samples, ), for example using ravel().\n",
      "  y = column_or_1d(y, warn=True)\n",
      "/home/thanasis/.local/lib/python3.5/site-packages/sklearn/neural_network/_multilayer_perceptron.py:571: ConvergenceWarning: Stochastic Optimizer: Maximum iterations (200) reached and the optimization hasn't converged yet.\n",
      "  % self.max_iter, ConvergenceWarning)\n",
      "/home/thanasis/.local/lib/python3.5/site-packages/sklearn/neural_network/_multilayer_perceptron.py:934: DataConversionWarning: A column-vector y was passed when a 1d array was expected. Please change the shape of y to (n_samples, ), for example using ravel().\n",
      "  y = column_or_1d(y, warn=True)\n",
      "/home/thanasis/.local/lib/python3.5/site-packages/sklearn/neural_network/_multilayer_perceptron.py:934: DataConversionWarning: A column-vector y was passed when a 1d array was expected. Please change the shape of y to (n_samples, ), for example using ravel().\n",
      "  y = column_or_1d(y, warn=True)\n",
      "/home/thanasis/.local/lib/python3.5/site-packages/sklearn/neural_network/_multilayer_perceptron.py:934: DataConversionWarning: A column-vector y was passed when a 1d array was expected. Please change the shape of y to (n_samples, ), for example using ravel().\n",
      "  y = column_or_1d(y, warn=True)\n"
     ]
    },
    {
     "name": "stdout",
     "output_type": "stream",
     "text": [
      "Best: 0.943449 using {'momentum': 0.5, 'activation': 'logistic', 'learning_rate_init': 0.0001}\n"
     ]
    }
   ],
   "source": [
    "# calling neural networks\n",
    "mlp_pred = NN()"
   ]
  },
  {
   "cell_type": "code",
   "execution_count": 87,
   "metadata": {},
   "outputs": [
    {
     "data": {
      "text/plain": [
       "0    3768\n",
       "1     118\n",
       "Name: plan, dtype: int64"
      ]
     },
     "execution_count": 87,
     "metadata": {},
     "output_type": "execute_result"
    }
   ],
   "source": [
    "results = pd.DataFrame({'user_id': test1['user_id'], 'plan': mlp_pred})\n",
    "results.plan.value_counts()\n"
   ]
  },
  {
   "cell_type": "code",
   "execution_count": 88,
   "metadata": {},
   "outputs": [
    {
     "name": "stdout",
     "output_type": "stream",
     "text": [
      "0.049408131755018014\n",
      "0.07398353062274833\n",
      "3886\n"
     ]
    }
   ],
   "source": [
    "print(192/3886)\n",
    "print(1150/15544)\n",
    "print(len(test1['user_id']))\n",
    "# results.to_csv('../predictions/test_preds.csv', index=False)"
   ]
  },
  {
   "cell_type": "code",
   "execution_count": 89,
   "metadata": {},
   "outputs": [
    {
     "data": {
      "text/plain": [
       "array([0, 0, 0, ..., 0, 1, 0])"
      ]
     },
     "execution_count": 89,
     "metadata": {},
     "output_type": "execute_result"
    }
   ],
   "source": [
    "lr_pred"
   ]
  },
  {
   "cell_type": "code",
   "execution_count": 90,
   "metadata": {},
   "outputs": [],
   "source": [
    "# results.plan"
   ]
  },
  {
   "cell_type": "code",
   "execution_count": 91,
   "metadata": {},
   "outputs": [],
   "source": [
    "notS = []\n",
    "for i in range(len(lr_pred)):\n",
    "    if lr_pred[i] != results.iloc[i, 0]:\n",
    "        notS.append(i)"
   ]
  },
  {
   "cell_type": "code",
   "execution_count": 92,
   "metadata": {},
   "outputs": [
    {
     "data": {
      "text/plain": [
       "0    3783\n",
       "1     103\n",
       "Name: plan, dtype: int64"
      ]
     },
     "execution_count": 92,
     "metadata": {},
     "output_type": "execute_result"
    }
   ],
   "source": [
    "lr_pred[notS]\n",
    "\n",
    "t22 = pd.DataFrame({'plan': lr_pred})\n",
    "t22.plan.value_counts()"
   ]
  },
  {
   "cell_type": "code",
   "execution_count": 93,
   "metadata": {},
   "outputs": [
    {
     "data": {
      "text/plain": [
       "0    3783\n",
       "1     103\n",
       "Name: plan, dtype: int64"
      ]
     },
     "execution_count": 93,
     "metadata": {},
     "output_type": "execute_result"
    }
   ],
   "source": [
    "results1 = pd.DataFrame({'user_id': test1['user_id'], 'plan': lr_pred})\n",
    "results1.plan.value_counts()"
   ]
  },
  {
   "cell_type": "code",
   "execution_count": 94,
   "metadata": {},
   "outputs": [],
   "source": [
    "results1.to_csv('../predictions/test_preds.csv', index=False)"
   ]
  },
  {
   "cell_type": "code",
   "execution_count": null,
   "metadata": {},
   "outputs": [],
   "source": []
  }
 ],
 "metadata": {
  "colab": {
   "collapsed_sections": [],
   "name": "MachineLearning.ipynb",
   "provenance": [],
   "toc_visible": true
  },
  "kernelspec": {
   "display_name": "Python 3",
   "language": "python",
   "name": "python3"
  },
  "language_info": {
   "codemirror_mode": {
    "name": "ipython",
    "version": 3
   },
   "file_extension": ".py",
   "mimetype": "text/x-python",
   "name": "python",
   "nbconvert_exporter": "python",
   "pygments_lexer": "ipython3",
   "version": "3.5.2"
  }
 },
 "nbformat": 4,
 "nbformat_minor": 1
}
