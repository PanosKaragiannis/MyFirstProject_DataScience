{
 "cells": [
  {
   "cell_type": "code",
   "execution_count": 0,
   "metadata": {
    "colab": {},
    "colab_type": "code",
    "id": "xMfshGCokMEH"
   },
   "outputs": [],
   "source": [
    "import pandas as pd\n",
    "import numpy as np\n",
    "import matplotlib.pyplot as plt\n",
    "from matplotlib.pyplot import pie,axis,show\n",
    "import seaborn as sns\n",
    "import random as rd\n",
    "import datetime as dt\n",
    "from termcolor import colored"
   ]
  },
  {
   "cell_type": "code",
   "execution_count": 0,
   "metadata": {
    "colab": {},
    "colab_type": "code",
    "id": "hhrdJs6IkhbP"
   },
   "outputs": [],
   "source": [
    "#my source\n",
    "devices=pd.read_csv('devices.csv')\n",
    "users=pd.read_csv('users.csv')\n",
    "\n",
    "#github source \n",
    "#devices=pd.read_csv('../data/devices.csv')\n",
    "#users=pd.read_csv('../data/users.csv')"
   ]
  },
  {
   "cell_type": "code",
   "execution_count": 237,
   "metadata": {
    "colab": {
     "base_uri": "https://localhost:8080/",
     "height": 52
    },
    "colab_type": "code",
    "id": "WiHaey5SlKSm",
    "outputId": "3f77ff31-88c3-4dd8-9f18-3b33b0f94c63"
   },
   "outputs": [
    {
     "name": "stdout",
     "output_type": "stream",
     "text": [
      "the shape of devices is:  (15544, 2)\n",
      "the shape of users is:  (15544, 12)\n"
     ]
    }
   ],
   "source": [
    "print('the shape of devices is: ',devices.shape)\n",
    "print('the shape of users is: ',users.shape)"
   ]
  },
  {
   "cell_type": "code",
   "execution_count": 238,
   "metadata": {
    "colab": {
     "base_uri": "https://localhost:8080/",
     "height": 190
    },
    "colab_type": "code",
    "id": "kIlsdKLWlPMf",
    "outputId": "3c3f1fde-bf43-4351-ad4e-6969c3ba8522"
   },
   "outputs": [
    {
     "data": {
      "text/html": [
       "<div>\n",
       "<style scoped>\n",
       "    .dataframe tbody tr th:only-of-type {\n",
       "        vertical-align: middle;\n",
       "    }\n",
       "\n",
       "    .dataframe tbody tr th {\n",
       "        vertical-align: top;\n",
       "    }\n",
       "\n",
       "    .dataframe thead th {\n",
       "        text-align: right;\n",
       "    }\n",
       "</style>\n",
       "<table border=\"1\" class=\"dataframe\">\n",
       "  <thead>\n",
       "    <tr style=\"text-align: right;\">\n",
       "      <th></th>\n",
       "      <th>birth_year</th>\n",
       "      <th>country</th>\n",
       "      <th>city</th>\n",
       "      <th>created_date</th>\n",
       "      <th>user_settings_crypto_unlocked</th>\n",
       "      <th>plan</th>\n",
       "      <th>attributes_notifications_marketing_push</th>\n",
       "      <th>attributes_notifications_marketing_email</th>\n",
       "      <th>num_contacts</th>\n",
       "      <th>num_referrals</th>\n",
       "      <th>num_successful_referrals</th>\n",
       "      <th>brand</th>\n",
       "    </tr>\n",
       "    <tr>\n",
       "      <th>user_id</th>\n",
       "      <th></th>\n",
       "      <th></th>\n",
       "      <th></th>\n",
       "      <th></th>\n",
       "      <th></th>\n",
       "      <th></th>\n",
       "      <th></th>\n",
       "      <th></th>\n",
       "      <th></th>\n",
       "      <th></th>\n",
       "      <th></th>\n",
       "      <th></th>\n",
       "    </tr>\n",
       "  </thead>\n",
       "  <tbody>\n",
       "    <tr>\n",
       "      <th>user_0</th>\n",
       "      <td>1992</td>\n",
       "      <td>ES</td>\n",
       "      <td>Madrid</td>\n",
       "      <td>2018-09-10 18:46:42.843855</td>\n",
       "      <td>0</td>\n",
       "      <td>STANDARD</td>\n",
       "      <td>1.0</td>\n",
       "      <td>1.0</td>\n",
       "      <td>3</td>\n",
       "      <td>0</td>\n",
       "      <td>0</td>\n",
       "      <td>Apple</td>\n",
       "    </tr>\n",
       "    <tr>\n",
       "      <th>user_1</th>\n",
       "      <td>1985</td>\n",
       "      <td>LT</td>\n",
       "      <td>Klaipeda</td>\n",
       "      <td>2018-01-11 18:53:10.531146</td>\n",
       "      <td>1</td>\n",
       "      <td>STANDARD</td>\n",
       "      <td>NaN</td>\n",
       "      <td>NaN</td>\n",
       "      <td>75</td>\n",
       "      <td>0</td>\n",
       "      <td>0</td>\n",
       "      <td>Apple</td>\n",
       "    </tr>\n",
       "  </tbody>\n",
       "</table>\n",
       "</div>"
      ],
      "text/plain": [
       "         birth_year country  ... num_successful_referrals  brand\n",
       "user_id                      ...                                \n",
       "user_0         1992      ES  ...                        0  Apple\n",
       "user_1         1985      LT  ...                        0  Apple\n",
       "\n",
       "[2 rows x 12 columns]"
      ]
     },
     "execution_count": 238,
     "metadata": {
      "tags": []
     },
     "output_type": "execute_result"
    }
   ],
   "source": [
    "devices = devices.set_index('user_id')\n",
    "df=pd.merge(users,devices,on='user_id')\n",
    "userdf=df.set_index('user_id')\n",
    "userdf.head(2)"
   ]
  },
  {
   "cell_type": "code",
   "execution_count": 239,
   "metadata": {
    "colab": {
     "base_uri": "https://localhost:8080/",
     "height": 668
    },
    "colab_type": "code",
    "id": "srBtoIKvlU8I",
    "outputId": "a05c2f90-da05-45d4-af67-6528541ad790"
   },
   "outputs": [
    {
     "name": "stdout",
     "output_type": "stream",
     "text": [
      "         birth_year  ...  num_successful_referrals\n",
      "count  15544.000000  ...                   15544.0\n",
      "mean    1983.666624  ...                       0.0\n",
      "std       11.369184  ...                       0.0\n",
      "min     1929.000000  ...                       0.0\n",
      "25%     1977.000000  ...                       0.0\n",
      "50%     1986.000000  ...                       0.0\n",
      "75%     1992.000000  ...                       0.0\n",
      "max     2001.000000  ...                       0.0\n",
      "\n",
      "[8 rows x 7 columns]\n",
      "birth_year                                    int64\n",
      "country                                      object\n",
      "city                                         object\n",
      "created_date                                 object\n",
      "user_settings_crypto_unlocked                 int64\n",
      "plan                                         object\n",
      "attributes_notifications_marketing_push     float64\n",
      "attributes_notifications_marketing_email    float64\n",
      "num_contacts                                  int64\n",
      "num_referrals                                 int64\n",
      "num_successful_referrals                      int64\n",
      "brand                                        object\n",
      "dtype: object\n",
      "birth_year                                     0\n",
      "country                                        0\n",
      "city                                           0\n",
      "created_date                                   0\n",
      "user_settings_crypto_unlocked                  0\n",
      "plan                                           0\n",
      "attributes_notifications_marketing_push     5260\n",
      "attributes_notifications_marketing_email    5260\n",
      "num_contacts                                   0\n",
      "num_referrals                                  0\n",
      "num_successful_referrals                       0\n",
      "brand                                          0\n",
      "dtype: int64\n"
     ]
    }
   ],
   "source": [
    "print(userdf.describe())\n",
    "print(userdf.dtypes)\n",
    "print(userdf.isnull().sum())"
   ]
  },
  {
   "cell_type": "markdown",
   "metadata": {
    "colab_type": "text",
    "id": "j8YdZDrXmAVh"
   },
   "source": [
    "##Encoding of users and devices"
   ]
  },
  {
   "cell_type": "code",
   "execution_count": 240,
   "metadata": {
    "colab": {
     "base_uri": "https://localhost:8080/",
     "height": 105
    },
    "colab_type": "code",
    "id": "Fp6Ou-hLmHuq",
    "outputId": "0576e104-1885-4cce-dde8-cd47e6b317fe"
   },
   "outputs": [
    {
     "name": "stdout",
     "output_type": "stream",
     "text": [
      "Number of customers by plan  \n",
      " STANDARD    14394\n",
      "PAID         1150\n",
      "Name: plan, dtype: int64\n",
      "\u001b[31mRegarding the 15544 users, the 14394 or 92.6% of them are STANDARD and the rest 1150 or 7.3% are PAID\u001b[0m\n"
     ]
    }
   ],
   "source": [
    "# Replace 'SILVER' and 'GOLD' with 'PAID' in order to have two categories of plan: 'STANDARD' and 'PAID'\n",
    "userdf['plan'] = userdf['plan'].str.replace('SILVER', 'PAID')\n",
    "userdf['plan'] = userdf['plan'].str.replace('GOLD', 'PAID')\n",
    "print(\"Number of customers by plan \",\"\\n\" ,userdf['plan'].value_counts())\n",
    "print(colored(\"Regarding the 15544 users, the 14394 or 92.6% of them are STANDARD and the rest 1150 or 7.3% are PAID\",\"red\" ))"
   ]
  },
  {
   "cell_type": "markdown",
   "metadata": {
    "colab_type": "text",
    "id": "uyG5QgANr-3T"
   },
   "source": [
    "### Discovering Email and Push Acceptance"
   ]
  },
  {
   "cell_type": "code",
   "execution_count": 241,
   "metadata": {
    "colab": {
     "base_uri": "https://localhost:8080/",
     "height": 281
    },
    "colab_type": "code",
    "id": "fW_Uk6ZEmMSH",
    "outputId": "94c7228c-b226-468f-aff7-dd5caa19a31b"
   },
   "outputs": [
    {
     "name": "stdout",
     "output_type": "stream",
     "text": [
      "plan                                      PAID  STANDARD\n",
      "attributes_notifications_marketing_email                \n",
      "0.0                                         73      1002\n",
      "1.0                                        757      8452\n",
      "\u001b[31mRegarding the concept about the acceptance of email:\u001b[0m\n",
      "\u001b[34mAbout the 830 paid users: 73 (6.3%) have not accepted, while 757 (65.8%) have accepted\u001b[0m\n",
      "\u001b[32mAbout the 9454 standard users: 1002 (6.9%) have not accepted, while 8452 (58.7%) have accepted\u001b[0m\n",
      "\n",
      "\n",
      "plan                                      PAID  STANDARD\n",
      "attributes_notifications_marketing_email                \n",
      "False                                      830      9454\n",
      "True                                       320      4940\n",
      "\u001b[34mRegarding the paid users, 320 have Nan\u001b[0m\n",
      "\u001b[32mRegarding the standard users, 4940 have Nan\u001b[0m\n"
     ]
    }
   ],
   "source": [
    "print(pd.crosstab(index=userdf['attributes_notifications_marketing_email'],columns=userdf['plan']))\n",
    "print(colored(\"Regarding the concept about the acceptance of email:\",\"red\"))\n",
    "print(colored(\"About the 830 paid users: 73 (6.3%) have not accepted, while 757 (65.8%) have accepted\", \"blue\"))\n",
    "print(colored(\"About the 9454 standard users: 1002 (6.9%) have not accepted, while 8452 (58.7%) have accepted\",\"green\" ))\n",
    "print(\"\\n\")\n",
    "print(pd.crosstab(index=userdf['attributes_notifications_marketing_email'].isnull(),columns=userdf['plan']))\n",
    "print(colored(\"Regarding the paid users, 320 have Nan\",\"blue\"))\n",
    "print(colored(\"Regarding the standard users, 4940 have Nan\",\"green\"))"
   ]
  },
  {
   "cell_type": "code",
   "execution_count": 242,
   "metadata": {
    "colab": {
     "base_uri": "https://localhost:8080/",
     "height": 281
    },
    "colab_type": "code",
    "id": "bfdnviM5sF-r",
    "outputId": "96ba465f-d9a3-45b6-b672-946378642490"
   },
   "outputs": [
    {
     "name": "stdout",
     "output_type": "stream",
     "text": [
      "plan                                     PAID  STANDARD\n",
      "attributes_notifications_marketing_push                \n",
      "0.0                                        46       486\n",
      "1.0                                       784      8968\n",
      "\u001b[31mRegarding the concept about the acceptance of push:\u001b[0m\n",
      "\u001b[34mAbout the 830 paid users:  46 (5.5%) have not accepted, while 784 (94.5%) have accepted\u001b[0m\n",
      "\u001b[32mAbout the 9454 standard users: 486 (5%) have not accepted, while 8968 (95%) have accepted\u001b[0m\n",
      "\n",
      "\n",
      "plan                                     PAID  STANDARD\n",
      "attributes_notifications_marketing_push                \n",
      "False                                     830      9454\n",
      "True                                      320      4940\n",
      "\u001b[34mRegarding the paid users, 320 have Nan\u001b[0m\n",
      "\u001b[32mRegarding the standard users, 4940 have Nan\u001b[0m\n"
     ]
    }
   ],
   "source": [
    "print(pd.crosstab(index=userdf['attributes_notifications_marketing_push'],columns=userdf['plan']))\n",
    "print(colored(\"Regarding the concept about the acceptance of push:\",\"red\"))\n",
    "print(colored(\"About the 830 paid users:  46 (5.5%) have not accepted, while 784 (94.5%) have accepted\", \"blue\"))\n",
    "print(colored(\"About the 9454 standard users: 486 (5%) have not accepted, while 8968 (95%) have accepted\",\"green\" ))\n",
    "print(\"\\n\")\n",
    "print(pd.crosstab(index=userdf['attributes_notifications_marketing_push'].isnull(),columns=userdf['plan']))\n",
    "print(colored(\"Regarding the paid users, 320 have Nan\",\"blue\"))\n",
    "print(colored(\"Regarding the standard users, 4940 have Nan\",\"green\"))"
   ]
  },
  {
   "cell_type": "markdown",
   "metadata": {
    "colab_type": "text",
    "id": "fD3LZRDPrh_3"
   },
   "source": [
    "###Filling Nan values in Email and Push Acceptance"
   ]
  },
  {
   "cell_type": "code",
   "execution_count": 0,
   "metadata": {
    "colab": {},
    "colab_type": "code",
    "id": "SpFx8nsSpUij"
   },
   "outputs": [],
   "source": [
    "##ara tha gemisw posostiaia tis nan times kai tha thewrisw oti apo tous 320 paid xristes me nan oi 292(91.25%) tha dextoun (=1) enw oi 28(8.75%) oxi (=0)\n",
    "##kai oson afora tous standard apo tous 4940 me nan times tha thewrisw tous 4416(90%) oti tha dextoun (=1) enw oi 524(10%) oxi (=0) \n",
    "def mail(vec):\n",
    "  prob=rd.random()\n",
    "  plan, p = vec[0], vec[1]\n",
    "  if plan=='STANDARD' and np.isnan(p):\n",
    "    if prob<0.9:\n",
    "      return 1\n",
    "    else:\n",
    "      return 0\n",
    "  if plan=='PAID' and np.isnan(p):\n",
    "    if prob<0.9125:\n",
    "      return 1\n",
    "    else:\n",
    "      return 0    \n",
    "  return p   "
   ]
  },
  {
   "cell_type": "code",
   "execution_count": 244,
   "metadata": {
    "colab": {
     "base_uri": "https://localhost:8080/",
     "height": 87
    },
    "colab_type": "code",
    "id": "h9b9Tr_8qzxz",
    "outputId": "d691f43e-3322-472b-a872-fe8d9afb5046"
   },
   "outputs": [
    {
     "name": "stdout",
     "output_type": "stream",
     "text": [
      "Number of users that have accepted the email notifications (value 1) and the rest that have not accepted (value 0) \n",
      " 1.0    13922\n",
      "0.0     1622\n",
      "Name: attributes_notifications_marketing_email, dtype: int64\n"
     ]
    }
   ],
   "source": [
    "userdf['attributes_notifications_marketing_email']=userdf[['plan','attributes_notifications_marketing_email']].apply(mail,axis=1)\n",
    "print(\"Number of users that have accepted the email notifications (value 1) and the rest that have not accepted (value 0)\",\"\\n\",userdf['attributes_notifications_marketing_email'].value_counts())"
   ]
  },
  {
   "cell_type": "code",
   "execution_count": 0,
   "metadata": {
    "colab": {},
    "colab_type": "code",
    "id": "2_KWIjHtq3GZ"
   },
   "outputs": [],
   "source": [
    "##ara tha gemisw posostiaia tis nan times kai tha thewrisw oti apo tous 320 paid xristes me nan oi 305(95%) tha dextoun (=1) enw oi 15(5%) oxi (=0)\n",
    "##kai oson afora tous standard apo tous 4940 me nan times tha thewrisw tous 4693(95%) oti tha dextoun (=1) enw oi 247(5%) oxi (=0)\n",
    "def push(vec):\n",
    "  prob=rd.random()\n",
    "  plan, p = vec[0], vec[1]\n",
    "  if plan=='STANDARD' and np.isnan(p):\n",
    "    if prob<0.95:\n",
    "      return 1\n",
    "    else:\n",
    "      return 0\n",
    "  if plan=='PAID' and np.isnan(p):\n",
    "    if prob<0.95:\n",
    "      return 1\n",
    "    else:\n",
    "      return 0    \n",
    "  return p   "
   ]
  },
  {
   "cell_type": "code",
   "execution_count": 246,
   "metadata": {
    "colab": {
     "base_uri": "https://localhost:8080/",
     "height": 87
    },
    "colab_type": "code",
    "id": "tVkemhF7q1IW",
    "outputId": "20a31e1d-e965-4f45-f688-35b1bf224555"
   },
   "outputs": [
    {
     "name": "stdout",
     "output_type": "stream",
     "text": [
      "Number of users that have accepted the push notifications (value 1) and the rest that have not accepted (value 0) \n",
      " 1.0    14757\n",
      "0.0      787\n",
      "Name: attributes_notifications_marketing_push, dtype: int64\n"
     ]
    }
   ],
   "source": [
    "userdf['attributes_notifications_marketing_push']=userdf[['plan','attributes_notifications_marketing_push']].apply(push,axis=1)\n",
    "print(\"Number of users that have accepted the push notifications (value 1) and the rest that have not accepted (value 0)\",\"\\n\",userdf['attributes_notifications_marketing_push'].value_counts())"
   ]
  },
  {
   "cell_type": "code",
   "execution_count": 247,
   "metadata": {
    "colab": {
     "base_uri": "https://localhost:8080/",
     "height": 246
    },
    "colab_type": "code",
    "id": "se4t9NQMtFIE",
    "outputId": "993d266a-5189-42d6-9e3d-6ba84638379f"
   },
   "outputs": [
    {
     "data": {
      "text/plain": [
       "birth_year                                    int64\n",
       "country                                      object\n",
       "city                                         object\n",
       "created_date                                 object\n",
       "user_settings_crypto_unlocked                 int64\n",
       "plan                                         object\n",
       "attributes_notifications_marketing_push     float64\n",
       "attributes_notifications_marketing_email    float64\n",
       "num_contacts                                  int64\n",
       "num_referrals                                 int64\n",
       "num_successful_referrals                      int64\n",
       "brand                                        object\n",
       "dtype: object"
      ]
     },
     "execution_count": 247,
     "metadata": {
      "tags": []
     },
     "output_type": "execute_result"
    }
   ],
   "source": [
    "userdf.dtypes"
   ]
  },
  {
   "cell_type": "markdown",
   "metadata": {
    "colab_type": "text",
    "id": "pVoWN1W0vwVU"
   },
   "source": [
    "###Calculating the age of the users"
   ]
  },
  {
   "cell_type": "code",
   "execution_count": 0,
   "metadata": {
    "colab": {},
    "colab_type": "code",
    "id": "kRO6mpfEv28-"
   },
   "outputs": [],
   "source": [
    "userdf['birth_year'] =2020 - (userdf[['birth_year']]) #transforming birth year\n",
    "userdf.rename(columns={'birth_year':\"age\" }, inplace=True)"
   ]
  },
  {
   "cell_type": "markdown",
   "metadata": {
    "colab_type": "text",
    "id": "ZZVeO_putUGy"
   },
   "source": [
    "###Extracting the info about the month and year created and then make dummies for year"
   ]
  },
  {
   "cell_type": "code",
   "execution_count": 249,
   "metadata": {
    "colab": {
     "base_uri": "https://localhost:8080/",
     "height": 334
    },
    "colab_type": "code",
    "id": "TNs6Pm3LtQiX",
    "outputId": "68a3903f-1c69-417e-8358-d0f1056ad1ef"
   },
   "outputs": [
    {
     "name": "stdout",
     "output_type": "stream",
     "text": [
      "Number of customers by created year  \n",
      " 2018    15494\n",
      "2019       50\n",
      "Name: created_year, dtype: int64\n",
      "Number of customers by created month  \n",
      " 12    1922\n",
      "11    1555\n",
      "10    1454\n",
      "8     1421\n",
      "3     1418\n",
      "9     1407\n",
      "5     1266\n",
      "6     1262\n",
      "7     1237\n",
      "4      957\n",
      "1      937\n",
      "2      708\n",
      "Name: created_month, dtype: int64\n"
     ]
    }
   ],
   "source": [
    "userdf['created_date'] = userdf['created_date'].apply(pd.to_datetime)\n",
    "userdf['created_year']=pd.DatetimeIndex(userdf['created_date']).year\n",
    "userdf['created_month']=pd.DatetimeIndex(userdf['created_date']).month\n",
    "print(\"Number of customers by created year \",\"\\n\" ,userdf['created_year'].value_counts())\n",
    "print(\"Number of customers by created month \",\"\\n\" ,userdf['created_month'].value_counts())"
   ]
  },
  {
   "cell_type": "code",
   "execution_count": 0,
   "metadata": {
    "colab": {},
    "colab_type": "code",
    "id": "_UmxMYsztfit"
   },
   "outputs": [],
   "source": [
    "#Create the two dummies about the years 2018 and 2019\n",
    "userdf=pd.concat([pd.get_dummies(userdf['created_year']), userdf], axis=1)"
   ]
  },
  {
   "cell_type": "code",
   "execution_count": 0,
   "metadata": {
    "colab": {},
    "colab_type": "code",
    "id": "My5aTOjG06B3"
   },
   "outputs": [],
   "source": [
    "userdf.rename(columns={2018:\"year_2018\",2019:\"year_2019\" }, inplace=True)"
   ]
  },
  {
   "cell_type": "markdown",
   "metadata": {
    "colab_type": "text",
    "id": "sdgKxvH2uSqK"
   },
   "source": [
    "###Handling the columns of referrals and the successful referrals"
   ]
  },
  {
   "cell_type": "code",
   "execution_count": 252,
   "metadata": {
    "colab": {
     "base_uri": "https://localhost:8080/",
     "height": 140
    },
    "colab_type": "code",
    "id": "hhD1tF3euN5B",
    "outputId": "3b71eff3-9025-464f-fadf-6a246f41821f"
   },
   "outputs": [
    {
     "name": "stdout",
     "output_type": "stream",
     "text": [
      "The number of total referrals \n",
      " 0    15544\n",
      "Name: num_referrals, dtype: int64\n",
      "The number of total successfull referrals \n",
      " 0    15544\n",
      "Name: num_successful_referrals, dtype: int64\n",
      "\u001b[31mAll the observations about these two attributes have a zero value. Let's think about it... :(\u001b[0m\n"
     ]
    }
   ],
   "source": [
    "print(\"The number of total referrals\", \"\\n\",userdf['num_referrals'].value_counts())\n",
    "print(\"The number of total successfull referrals\", \"\\n\",userdf['num_successful_referrals'].value_counts())\n",
    "print(colored(\"All the observations about these two attributes have a zero value. Let's think about it... :(\", \"red\"))"
   ]
  },
  {
   "cell_type": "markdown",
   "metadata": {
    "colab_type": "text",
    "id": "raDhpwEDwmYJ"
   },
   "source": [
    "###Encoding the plan with 0 the STANDARD and 1 the PAID"
   ]
  },
  {
   "cell_type": "code",
   "execution_count": 0,
   "metadata": {
    "colab": {},
    "colab_type": "code",
    "id": "xBteEj7IviOe"
   },
   "outputs": [],
   "source": [
    "#function to encode plan to 'paid' and 'standard'\n",
    "def change(x):              \n",
    "  if x == 'STANDARD':\n",
    "    return 0\n",
    "  elif x == 'PAID':\n",
    "    return 1"
   ]
  },
  {
   "cell_type": "code",
   "execution_count": 254,
   "metadata": {
    "colab": {
     "base_uri": "https://localhost:8080/",
     "height": 87
    },
    "colab_type": "code",
    "id": "4lpdFh16w4hS",
    "outputId": "f7e3c4e9-78c9-4471-c54b-f469036e4a16"
   },
   "outputs": [
    {
     "name": "stdout",
     "output_type": "stream",
     "text": [
      "The number of paid and standard users \n",
      " 0    14394\n",
      "1     1150\n",
      "Name: plan, dtype: int64\n"
     ]
    }
   ],
   "source": [
    "userdf['plan']=userdf['plan'].apply(change)\n",
    "print(\"The number of paid and standard users\", \"\\n\",userdf['plan'].value_counts())"
   ]
  },
  {
   "cell_type": "markdown",
   "metadata": {
    "colab_type": "text",
    "id": "uoPNlWLCxTJ7"
   },
   "source": [
    "###Handling the brand of mobile phone"
   ]
  },
  {
   "cell_type": "code",
   "execution_count": 255,
   "metadata": {
    "colab": {
     "base_uri": "https://localhost:8080/",
     "height": 166
    },
    "colab_type": "code",
    "id": "Zq-VEGGhxAcC",
    "outputId": "61f5153b-6121-4835-9c88-2ec5cdf850c3"
   },
   "outputs": [
    {
     "data": {
      "text/html": [
       "<div>\n",
       "<style scoped>\n",
       "    .dataframe tbody tr th:only-of-type {\n",
       "        vertical-align: middle;\n",
       "    }\n",
       "\n",
       "    .dataframe tbody tr th {\n",
       "        vertical-align: top;\n",
       "    }\n",
       "\n",
       "    .dataframe thead th {\n",
       "        text-align: right;\n",
       "    }\n",
       "</style>\n",
       "<table border=\"1\" class=\"dataframe\">\n",
       "  <thead>\n",
       "    <tr style=\"text-align: right;\">\n",
       "      <th>plan</th>\n",
       "      <th>0</th>\n",
       "      <th>1</th>\n",
       "    </tr>\n",
       "    <tr>\n",
       "      <th>brand</th>\n",
       "      <th></th>\n",
       "      <th></th>\n",
       "    </tr>\n",
       "  </thead>\n",
       "  <tbody>\n",
       "    <tr>\n",
       "      <th>Android</th>\n",
       "      <td>7346</td>\n",
       "      <td>454</td>\n",
       "    </tr>\n",
       "    <tr>\n",
       "      <th>Apple</th>\n",
       "      <td>7025</td>\n",
       "      <td>687</td>\n",
       "    </tr>\n",
       "    <tr>\n",
       "      <th>Unknown</th>\n",
       "      <td>23</td>\n",
       "      <td>9</td>\n",
       "    </tr>\n",
       "  </tbody>\n",
       "</table>\n",
       "</div>"
      ],
      "text/plain": [
       "plan        0    1\n",
       "brand             \n",
       "Android  7346  454\n",
       "Apple    7025  687\n",
       "Unknown    23    9"
      ]
     },
     "execution_count": 255,
     "metadata": {
      "tags": []
     },
     "output_type": "execute_result"
    }
   ],
   "source": [
    "pd.crosstab(index=userdf['brand'],columns=userdf['plan'])"
   ]
  },
  {
   "cell_type": "code",
   "execution_count": 256,
   "metadata": {
    "colab": {
     "base_uri": "https://localhost:8080/",
     "height": 70
    },
    "colab_type": "code",
    "id": "WM6iAzZFyK6u",
    "outputId": "f6ac7034-7971-4e45-9377-f549bd2c716b"
   },
   "outputs": [
    {
     "data": {
      "text/plain": [
       "Android    7832\n",
       "Apple      7712\n",
       "Name: brand, dtype: int64"
      ]
     },
     "execution_count": 256,
     "metadata": {
      "tags": []
     },
     "output_type": "execute_result"
    }
   ],
   "source": [
    "#Only 32 obs of unknown, so we have to replace it somehow\n",
    "#Replace 'Unknown' with 'Android' in order to have two big categories of brand: 'Android' and 'Apple'\n",
    "userdf['brand'] = userdf['brand'].str.replace('Unknown', 'Android')\n",
    "userdf['brand'].value_counts()"
   ]
  },
  {
   "cell_type": "code",
   "execution_count": 257,
   "metadata": {
    "colab": {
     "base_uri": "https://localhost:8080/",
     "height": 70
    },
    "colab_type": "code",
    "id": "1xzowZxPyiuU",
    "outputId": "202f5d0e-2b97-488c-929f-9df3c6e0c566"
   },
   "outputs": [
    {
     "data": {
      "text/plain": [
       "0    7832\n",
       "1    7712\n",
       "Name: brand, dtype: int64"
      ]
     },
     "execution_count": 257,
     "metadata": {
      "tags": []
     },
     "output_type": "execute_result"
    }
   ],
   "source": [
    "#Now make a dummie about devices, Android=0 and Apple=1\n",
    "brand_dict = {'Android': 0, 'Apple': 1}\n",
    "userdf['brand'] = userdf['brand'].map(brand_dict)\n",
    "userdf['brand'].value_counts()"
   ]
  },
  {
   "cell_type": "markdown",
   "metadata": {
    "colab_type": "text",
    "id": "pSgJHFbOy8Ux"
   },
   "source": [
    "###Handling the countries and cities"
   ]
  },
  {
   "cell_type": "code",
   "execution_count": 258,
   "metadata": {
    "colab": {
     "base_uri": "https://localhost:8080/",
     "height": 158
    },
    "colab_type": "code",
    "id": "EtcGp5l_yztA",
    "outputId": "279d5065-fbac-4e2a-ab83-8bf51d3e8a9c"
   },
   "outputs": [
    {
     "name": "stdout",
     "output_type": "stream",
     "text": [
      "Unique values of countries: \n",
      " ['ES' 'LT' 'IE' 'GB' 'MT' 'FR' 'RO' 'PL' 'AT' 'IT' 'SI' 'CZ' 'BE' 'BG'\n",
      " 'GI' 'CH' 'GG' 'CY' 'LV' 'DE' 'SK' 'GR' 'DK' 'PT' 'LU' 'HR' 'NL' 'NO'\n",
      " 'SE' 'AU' 'IM' 'FI' 'EE' 'JE' 'HU' 'RE' 'IS' 'GP' 'LI' 'MQ']\n",
      "Unique values of cities: \n",
      " ['ES' 'LT' 'IE' 'GB' 'MT' 'FR' 'RO' 'PL' 'AT' 'IT' 'SI' 'CZ' 'BE' 'BG'\n",
      " 'GI' 'CH' 'GG' 'CY' 'LV' 'DE' 'SK' 'GR' 'DK' 'PT' 'LU' 'HR' 'NL' 'NO'\n",
      " 'SE' 'AU' 'IM' 'FI' 'EE' 'JE' 'HU' 'RE' 'IS' 'GP' 'LI' 'MQ']\n"
     ]
    }
   ],
   "source": [
    "print(\"Unique values of countries:\",\"\\n\",userdf['country'].unique())\n",
    "print(\"Unique values of cities:\",\"\\n\",userdf['country'].unique())"
   ]
  },
  {
   "cell_type": "code",
   "execution_count": 0,
   "metadata": {
    "colab": {},
    "colab_type": "code",
    "id": "jQxc-GLFzOAm"
   },
   "outputs": [],
   "source": [
    "#function to cluster the countries\n",
    "def change_country(x):     \n",
    "  if x=='IE' or x=='GB' or x=='AT' or x=='BE' or x=='GG' or x=='LV' or x=='DE' or x=='DK' or x=='LU' or x=='NL' or x=='NO' or x=='SE' or x=='IM' or x=='FI' or x=='JE' or x=='IS':\n",
    "    return 'NorthEurope'\n",
    "  elif x=='MT' or x=='IT' or x=='SI' or x=='BG' or x=='CY' or x=='GR' or x=='HR':\n",
    "    return 'SouthEurope'\n",
    "  elif x=='AU':\n",
    "    return 'Australia'\n",
    "  elif x=='LT' or x=='RO' or x=='PL' or x=='CZ' or x=='SK' or x=='EE' or x=='HU':\n",
    "    return 'EastEurope'\n",
    "  elif x=='ES' or x=='FR' or x=='GI' or x=='CH' or x=='PT' or x=='RE' or x=='GP' or x=='LI' or x=='MQ':\n",
    "    return 'WestEurope'"
   ]
  },
  {
   "cell_type": "code",
   "execution_count": 260,
   "metadata": {
    "colab": {
     "base_uri": "https://localhost:8080/",
     "height": 140
    },
    "colab_type": "code",
    "id": "TZdklK_Lzduk",
    "outputId": "d51cdfe5-dd3d-44b6-b1cf-d728caf5d4c1"
   },
   "outputs": [
    {
     "name": "stdout",
     "output_type": "stream",
     "text": [
      "The number of users per region: \n",
      " NorthEurope    7198\n",
      "EastEurope     3755\n",
      "WestEurope     3375\n",
      "SouthEurope    1212\n",
      "Australia         4\n",
      "Name: country, dtype: int64\n"
     ]
    }
   ],
   "source": [
    "userdf['country']=userdf['country'].apply(change_country)\n",
    "print(\"The number of users per region:\",\"\\n\",userdf['country'].value_counts())"
   ]
  },
  {
   "cell_type": "code",
   "execution_count": 0,
   "metadata": {
    "colab": {},
    "colab_type": "code",
    "id": "GynM-6Vezhwh"
   },
   "outputs": [],
   "source": [
    "#Create dummies of each region\n",
    "userdf=pd.concat([pd.get_dummies(userdf['country']), userdf], axis=1)"
   ]
  },
  {
   "cell_type": "code",
   "execution_count": 262,
   "metadata": {
    "colab": {
     "base_uri": "https://localhost:8080/",
     "height": 236
    },
    "colab_type": "code",
    "id": "7vbJ8S-ozuuU",
    "outputId": "fd4b1622-ee2c-4f41-e744-96c4fbb38f55"
   },
   "outputs": [
    {
     "data": {
      "text/html": [
       "<div>\n",
       "<style scoped>\n",
       "    .dataframe tbody tr th:only-of-type {\n",
       "        vertical-align: middle;\n",
       "    }\n",
       "\n",
       "    .dataframe tbody tr th {\n",
       "        vertical-align: top;\n",
       "    }\n",
       "\n",
       "    .dataframe thead th {\n",
       "        text-align: right;\n",
       "    }\n",
       "</style>\n",
       "<table border=\"1\" class=\"dataframe\">\n",
       "  <thead>\n",
       "    <tr style=\"text-align: right;\">\n",
       "      <th></th>\n",
       "      <th>Australia</th>\n",
       "      <th>EastEurope</th>\n",
       "      <th>NorthEurope</th>\n",
       "      <th>SouthEurope</th>\n",
       "      <th>WestEurope</th>\n",
       "      <th>year_2018</th>\n",
       "      <th>year_2019</th>\n",
       "      <th>age</th>\n",
       "      <th>country</th>\n",
       "      <th>city</th>\n",
       "      <th>created_date</th>\n",
       "      <th>user_settings_crypto_unlocked</th>\n",
       "      <th>plan</th>\n",
       "      <th>attributes_notifications_marketing_push</th>\n",
       "      <th>attributes_notifications_marketing_email</th>\n",
       "      <th>num_contacts</th>\n",
       "      <th>num_referrals</th>\n",
       "      <th>num_successful_referrals</th>\n",
       "      <th>brand</th>\n",
       "      <th>created_year</th>\n",
       "      <th>created_month</th>\n",
       "    </tr>\n",
       "    <tr>\n",
       "      <th>user_id</th>\n",
       "      <th></th>\n",
       "      <th></th>\n",
       "      <th></th>\n",
       "      <th></th>\n",
       "      <th></th>\n",
       "      <th></th>\n",
       "      <th></th>\n",
       "      <th></th>\n",
       "      <th></th>\n",
       "      <th></th>\n",
       "      <th></th>\n",
       "      <th></th>\n",
       "      <th></th>\n",
       "      <th></th>\n",
       "      <th></th>\n",
       "      <th></th>\n",
       "      <th></th>\n",
       "      <th></th>\n",
       "      <th></th>\n",
       "      <th></th>\n",
       "      <th></th>\n",
       "    </tr>\n",
       "  </thead>\n",
       "  <tbody>\n",
       "    <tr>\n",
       "      <th>user_0</th>\n",
       "      <td>0</td>\n",
       "      <td>0</td>\n",
       "      <td>0</td>\n",
       "      <td>0</td>\n",
       "      <td>1</td>\n",
       "      <td>1</td>\n",
       "      <td>0</td>\n",
       "      <td>28</td>\n",
       "      <td>WestEurope</td>\n",
       "      <td>Madrid</td>\n",
       "      <td>2018-09-10 18:46:42.843855</td>\n",
       "      <td>0</td>\n",
       "      <td>0</td>\n",
       "      <td>1.0</td>\n",
       "      <td>1.0</td>\n",
       "      <td>3</td>\n",
       "      <td>0</td>\n",
       "      <td>0</td>\n",
       "      <td>1</td>\n",
       "      <td>2018</td>\n",
       "      <td>9</td>\n",
       "    </tr>\n",
       "    <tr>\n",
       "      <th>user_1</th>\n",
       "      <td>0</td>\n",
       "      <td>1</td>\n",
       "      <td>0</td>\n",
       "      <td>0</td>\n",
       "      <td>0</td>\n",
       "      <td>1</td>\n",
       "      <td>0</td>\n",
       "      <td>35</td>\n",
       "      <td>EastEurope</td>\n",
       "      <td>Klaipeda</td>\n",
       "      <td>2018-01-11 18:53:10.531146</td>\n",
       "      <td>1</td>\n",
       "      <td>0</td>\n",
       "      <td>1.0</td>\n",
       "      <td>1.0</td>\n",
       "      <td>75</td>\n",
       "      <td>0</td>\n",
       "      <td>0</td>\n",
       "      <td>1</td>\n",
       "      <td>2018</td>\n",
       "      <td>1</td>\n",
       "    </tr>\n",
       "    <tr>\n",
       "      <th>user_2</th>\n",
       "      <td>0</td>\n",
       "      <td>0</td>\n",
       "      <td>1</td>\n",
       "      <td>0</td>\n",
       "      <td>0</td>\n",
       "      <td>1</td>\n",
       "      <td>0</td>\n",
       "      <td>24</td>\n",
       "      <td>NorthEurope</td>\n",
       "      <td>Carrickmacross</td>\n",
       "      <td>2018-11-29 17:29:16.879324</td>\n",
       "      <td>0</td>\n",
       "      <td>0</td>\n",
       "      <td>1.0</td>\n",
       "      <td>1.0</td>\n",
       "      <td>71</td>\n",
       "      <td>0</td>\n",
       "      <td>0</td>\n",
       "      <td>1</td>\n",
       "      <td>2018</td>\n",
       "      <td>11</td>\n",
       "    </tr>\n",
       "  </tbody>\n",
       "</table>\n",
       "</div>"
      ],
      "text/plain": [
       "         Australia  EastEurope  NorthEurope  ...  brand  created_year  created_month\n",
       "user_id                                      ...                                    \n",
       "user_0           0           0            0  ...      1          2018              9\n",
       "user_1           0           1            0  ...      1          2018              1\n",
       "user_2           0           0            1  ...      1          2018             11\n",
       "\n",
       "[3 rows x 21 columns]"
      ]
     },
     "execution_count": 262,
     "metadata": {
      "tags": []
     },
     "output_type": "execute_result"
    }
   ],
   "source": [
    "userdf.head(3)"
   ]
  },
  {
   "cell_type": "code",
   "execution_count": 263,
   "metadata": {
    "colab": {
     "base_uri": "https://localhost:8080/",
     "height": 314
    },
    "colab_type": "code",
    "id": "-eakCERF0U2Z",
    "outputId": "dd1a3272-aa03-41ff-a269-07da92a26dc4"
   },
   "outputs": [
    {
     "ename": "FileNotFoundError",
     "evalue": "ignored",
     "output_type": "error",
     "traceback": [
      "\u001b[0;31m---------------------------------------------------------------------------\u001b[0m",
      "\u001b[0;31mFileNotFoundError\u001b[0m                         Traceback (most recent call last)",
      "\u001b[0;32m<ipython-input-263-fe825a65c4c7>\u001b[0m in \u001b[0;36m<module>\u001b[0;34m()\u001b[0m\n\u001b[0;32m----> 1\u001b[0;31m \u001b[0muserdf\u001b[0m\u001b[0;34m.\u001b[0m\u001b[0mto_csv\u001b[0m\u001b[0;34m(\u001b[0m\u001b[0;34m\"../processed_data/users_devices.csv\"\u001b[0m\u001b[0;34m)\u001b[0m\u001b[0;34m\u001b[0m\u001b[0;34m\u001b[0m\u001b[0m\n\u001b[0m",
      "\u001b[0;32m/usr/local/lib/python3.6/dist-packages/pandas/core/generic.py\u001b[0m in \u001b[0;36mto_csv\u001b[0;34m(self, path_or_buf, sep, na_rep, float_format, columns, header, index, index_label, mode, encoding, compression, quoting, quotechar, line_terminator, chunksize, date_format, doublequote, escapechar, decimal)\u001b[0m\n\u001b[1;32m   3202\u001b[0m             \u001b[0mdecimal\u001b[0m\u001b[0;34m=\u001b[0m\u001b[0mdecimal\u001b[0m\u001b[0;34m,\u001b[0m\u001b[0;34m\u001b[0m\u001b[0;34m\u001b[0m\u001b[0m\n\u001b[1;32m   3203\u001b[0m         )\n\u001b[0;32m-> 3204\u001b[0;31m         \u001b[0mformatter\u001b[0m\u001b[0;34m.\u001b[0m\u001b[0msave\u001b[0m\u001b[0;34m(\u001b[0m\u001b[0;34m)\u001b[0m\u001b[0;34m\u001b[0m\u001b[0;34m\u001b[0m\u001b[0m\n\u001b[0m\u001b[1;32m   3205\u001b[0m \u001b[0;34m\u001b[0m\u001b[0m\n\u001b[1;32m   3206\u001b[0m         \u001b[0;32mif\u001b[0m \u001b[0mpath_or_buf\u001b[0m \u001b[0;32mis\u001b[0m \u001b[0;32mNone\u001b[0m\u001b[0;34m:\u001b[0m\u001b[0;34m\u001b[0m\u001b[0;34m\u001b[0m\u001b[0m\n",
      "\u001b[0;32m/usr/local/lib/python3.6/dist-packages/pandas/io/formats/csvs.py\u001b[0m in \u001b[0;36msave\u001b[0;34m(self)\u001b[0m\n\u001b[1;32m    186\u001b[0m                 \u001b[0mself\u001b[0m\u001b[0;34m.\u001b[0m\u001b[0mmode\u001b[0m\u001b[0;34m,\u001b[0m\u001b[0;34m\u001b[0m\u001b[0;34m\u001b[0m\u001b[0m\n\u001b[1;32m    187\u001b[0m                 \u001b[0mencoding\u001b[0m\u001b[0;34m=\u001b[0m\u001b[0mself\u001b[0m\u001b[0;34m.\u001b[0m\u001b[0mencoding\u001b[0m\u001b[0;34m,\u001b[0m\u001b[0;34m\u001b[0m\u001b[0;34m\u001b[0m\u001b[0m\n\u001b[0;32m--> 188\u001b[0;31m                 \u001b[0mcompression\u001b[0m\u001b[0;34m=\u001b[0m\u001b[0mdict\u001b[0m\u001b[0;34m(\u001b[0m\u001b[0mself\u001b[0m\u001b[0;34m.\u001b[0m\u001b[0mcompression_args\u001b[0m\u001b[0;34m,\u001b[0m \u001b[0mmethod\u001b[0m\u001b[0;34m=\u001b[0m\u001b[0mself\u001b[0m\u001b[0;34m.\u001b[0m\u001b[0mcompression\u001b[0m\u001b[0;34m)\u001b[0m\u001b[0;34m,\u001b[0m\u001b[0;34m\u001b[0m\u001b[0;34m\u001b[0m\u001b[0m\n\u001b[0m\u001b[1;32m    189\u001b[0m             )\n\u001b[1;32m    190\u001b[0m             \u001b[0mclose\u001b[0m \u001b[0;34m=\u001b[0m \u001b[0;32mTrue\u001b[0m\u001b[0;34m\u001b[0m\u001b[0;34m\u001b[0m\u001b[0m\n",
      "\u001b[0;32m/usr/local/lib/python3.6/dist-packages/pandas/io/common.py\u001b[0m in \u001b[0;36mget_handle\u001b[0;34m(path_or_buf, mode, encoding, compression, memory_map, is_text)\u001b[0m\n\u001b[1;32m    426\u001b[0m         \u001b[0;32mif\u001b[0m \u001b[0mencoding\u001b[0m\u001b[0;34m:\u001b[0m\u001b[0;34m\u001b[0m\u001b[0;34m\u001b[0m\u001b[0m\n\u001b[1;32m    427\u001b[0m             \u001b[0;31m# Encoding\u001b[0m\u001b[0;34m\u001b[0m\u001b[0;34m\u001b[0m\u001b[0;34m\u001b[0m\u001b[0m\n\u001b[0;32m--> 428\u001b[0;31m             \u001b[0mf\u001b[0m \u001b[0;34m=\u001b[0m \u001b[0mopen\u001b[0m\u001b[0;34m(\u001b[0m\u001b[0mpath_or_buf\u001b[0m\u001b[0;34m,\u001b[0m \u001b[0mmode\u001b[0m\u001b[0;34m,\u001b[0m \u001b[0mencoding\u001b[0m\u001b[0;34m=\u001b[0m\u001b[0mencoding\u001b[0m\u001b[0;34m,\u001b[0m \u001b[0mnewline\u001b[0m\u001b[0;34m=\u001b[0m\u001b[0;34m\"\"\u001b[0m\u001b[0;34m)\u001b[0m\u001b[0;34m\u001b[0m\u001b[0;34m\u001b[0m\u001b[0m\n\u001b[0m\u001b[1;32m    429\u001b[0m         \u001b[0;32melif\u001b[0m \u001b[0mis_text\u001b[0m\u001b[0;34m:\u001b[0m\u001b[0;34m\u001b[0m\u001b[0;34m\u001b[0m\u001b[0m\n\u001b[1;32m    430\u001b[0m             \u001b[0;31m# No explicit encoding\u001b[0m\u001b[0;34m\u001b[0m\u001b[0;34m\u001b[0m\u001b[0;34m\u001b[0m\u001b[0m\n",
      "\u001b[0;31mFileNotFoundError\u001b[0m: [Errno 2] No such file or directory: '../processed_data/users_devices.csv'"
     ]
    }
   ],
   "source": [
    "#if you run it locally\n",
    "userdf.to_csv(\"../processed_data/users_devices.csv\")"
   ]
  },
  {
   "cell_type": "code",
   "execution_count": 0,
   "metadata": {
    "colab": {},
    "colab_type": "code",
    "id": "IwwyzgI_5soZ"
   },
   "outputs": [],
   "source": [
    "#if you run it in colab\n",
    "userdf.to_csv(\"users_devices.csv\")"
   ]
  },
  {
   "cell_type": "code",
   "execution_count": 0,
   "metadata": {
    "colab": {},
    "colab_type": "code",
    "id": "iR7mre3K5vJs"
   },
   "outputs": [],
   "source": []
  }
 ],
 "metadata": {
  "colab": {
   "collapsed_sections": [],
   "name": "users_devices_preprocessing.ipynb",
   "provenance": []
  },
  "kernelspec": {
   "display_name": "Python 3",
   "language": "python",
   "name": "python3"
  },
  "language_info": {
   "codemirror_mode": {
    "name": "ipython",
    "version": 3
   },
   "file_extension": ".py",
   "mimetype": "text/x-python",
   "name": "python",
   "nbconvert_exporter": "python",
   "pygments_lexer": "ipython3",
   "version": "3.6.8"
  }
 },
 "nbformat": 4,
 "nbformat_minor": 1
}
