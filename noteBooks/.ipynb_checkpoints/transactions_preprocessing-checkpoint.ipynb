{
 "cells": [
  {
   "cell_type": "code",
   "execution_count": 5,
   "metadata": {
    "colab": {},
    "colab_type": "code",
    "id": "X0kavlspAx7H"
   },
   "outputs": [],
   "source": [
    "import pandas as pd\n",
    "import numpy as np\n",
    "import matplotlib.pyplot as plt\n",
    "from matplotlib.pyplot import pie,axis,show\n",
    "import seaborn as sns\n",
    "import random as rd\n",
    "import datetime as dt\n",
    "from termcolor import colored\n",
    "from datetime import date\n",
    "from datetime import datetime"
   ]
  },
  {
   "cell_type": "code",
   "execution_count": 6,
   "metadata": {
    "colab": {
     "base_uri": "https://localhost:8080/",
     "height": 738
    },
    "colab_type": "code",
    "executionInfo": {
     "elapsed": 9340,
     "status": "ok",
     "timestamp": 1591131326344,
     "user": {
      "displayName": "Ioanna Kountouri",
      "photoUrl": "",
      "userId": "18315338504972529308"
     },
     "user_tz": -180
    },
    "id": "IjW8BtNUA9O3",
    "outputId": "99ce291a-7fbd-4e1d-840d-eada671892df"
   },
   "outputs": [
    {
     "name": "stdout",
     "output_type": "stream",
     "text": [
      "Shape of the transactions dataset (2181026, 12)\n",
      "Number of null in each column transaction_id                0\n",
      "transactions_type             0\n",
      "transactions_currency         0\n",
      "amount_usd                    0\n",
      "transactions_state            0\n",
      "ea_cardholderpresence    933206\n",
      "ea_merchant_mcc          923975\n",
      "ea_merchant_city         924080\n",
      "ea_merchant_country      924239\n",
      "direction                     0\n",
      "user_id                       0\n",
      "created_date                  0\n",
      "dtype: int64\n",
      "             transaction_id transactions_type transactions_currency  \\\n",
      "238912  transaction_1738912      CARD_PAYMENT                   GBP   \n",
      "63177   transaction_1563177          TRANSFER                   RON   \n",
      "263172  transaction_1063172      CARD_PAYMENT                   EUR   \n",
      "672157  transaction_2172157      CARD_PAYMENT                   EUR   \n",
      "694036  transaction_1494036      CARD_PAYMENT                   GBP   \n",
      "\n",
      "        amount_usd transactions_state ea_cardholderpresence  ea_merchant_mcc  \\\n",
      "238912        9.20          COMPLETED                  TRUE           7523.0   \n",
      "63177         0.90          COMPLETED                   NaN              NaN   \n",
      "263172        6.81          COMPLETED                 FALSE           7911.0   \n",
      "672157       11.91          COMPLETED                  TRUE           4899.0   \n",
      "694036        4.50          COMPLETED                 FALSE           5812.0   \n",
      "\n",
      "       ea_merchant_city ea_merchant_country direction     user_id  \\\n",
      "238912          Bristol                 GBR  OUTBOUND  user_10852   \n",
      "63177               NaN                 NaN  OUTBOUND   user_2917   \n",
      "263172       33bordeaux                 FRA  OUTBOUND  user_13907   \n",
      "672157        Amsterdam                 NLD  OUTBOUND   user_1773   \n",
      "694036       Eastbourne                 GBR  OUTBOUND   user_3297   \n",
      "\n",
      "                      created_date  \n",
      "238912  2019-01-16 17:49:34.079531  \n",
      "63177   2018-12-31 02:52:22.437013  \n",
      "263172  2018-12-31 06:29:22.713264  \n",
      "672157  2019-05-08 11:36:50.277706  \n",
      "694036  2019-03-08 22:49:19.657628  \n",
      "<class 'pandas.core.frame.DataFrame'>\n",
      "Int64Index: 2181026 entries, 0 to 681025\n",
      "Data columns (total 12 columns):\n",
      "transaction_id           object\n",
      "transactions_type        object\n",
      "transactions_currency    object\n",
      "amount_usd               float64\n",
      "transactions_state       object\n",
      "ea_cardholderpresence    object\n",
      "ea_merchant_mcc          float64\n",
      "ea_merchant_city         object\n",
      "ea_merchant_country      object\n",
      "direction                object\n",
      "user_id                  object\n",
      "created_date             object\n",
      "dtypes: float64(2), object(10)\n",
      "memory usage: 216.3+ MB\n"
     ]
    }
   ],
   "source": [
    "t1=pd.read_csv('../data/transactions_1.csv')\n",
    "t2=pd.read_csv('../data/transactions_2.csv')\n",
    "t3=pd.read_csv('../data/transactions_3.csv')\n",
    "# concatenate the 3 datasets into 1 with all transactions\n",
    "trans=pd.concat([t1, t2, t3]) \n",
    "\n",
    "print('Shape of the transactions dataset',trans.shape)\n",
    "print('Number of null in each column',trans.isna().sum())\n",
    "print(trans.sample(5))\n",
    "trans.info()"
   ]
  },
  {
   "cell_type": "code",
   "execution_count": 7,
   "metadata": {
    "colab": {},
    "colab_type": "code",
    "id": "Ym-kGt7PCdc6"
   },
   "outputs": [],
   "source": [
    "trans['created_date'] = pd.to_datetime(trans['created_date'])"
   ]
  },
  {
   "cell_type": "code",
   "execution_count": 8,
   "metadata": {
    "colab": {
     "base_uri": "https://localhost:8080/",
     "height": 351
    },
    "colab_type": "code",
    "executionInfo": {
     "elapsed": 254797,
     "status": "ok",
     "timestamp": 1591131571827,
     "user": {
      "displayName": "Ioanna Kountouri",
      "photoUrl": "",
      "userId": "18315338504972529308"
     },
     "user_tz": -180
    },
    "id": "0nm64g_5jwrc",
    "outputId": "80dea0ac-c535-4c61-851a-4ac60317b662"
   },
   "outputs": [
    {
     "name": "stdout",
     "output_type": "stream",
     "text": [
      "<class 'pandas.core.frame.DataFrame'>\n",
      "Int64Index: 2181026 entries, 0 to 681025\n",
      "Data columns (total 12 columns):\n",
      "transaction_id           object\n",
      "transactions_type        object\n",
      "transactions_currency    object\n",
      "amount_usd               float64\n",
      "transactions_state       object\n",
      "ea_cardholderpresence    object\n",
      "ea_merchant_mcc          float64\n",
      "ea_merchant_city         object\n",
      "ea_merchant_country      object\n",
      "direction                object\n",
      "user_id                  object\n",
      "created_date             datetime64[ns]\n",
      "dtypes: datetime64[ns](1), float64(2), object(9)\n",
      "memory usage: 216.3+ MB\n"
     ]
    }
   ],
   "source": [
    "trans.info()"
   ]
  },
  {
   "cell_type": "code",
   "execution_count": 9,
   "metadata": {
    "colab": {
     "base_uri": "https://localhost:8080/",
     "height": 52
    },
    "colab_type": "code",
    "executionInfo": {
     "elapsed": 255353,
     "status": "ok",
     "timestamp": 1591131572440,
     "user": {
      "displayName": "Ioanna Kountouri",
      "photoUrl": "",
      "userId": "18315338504972529308"
     },
     "user_tz": -180
    },
    "id": "cudnwCcxECi_",
    "outputId": "6e15c2c7-0be2-4a5c-d2ec-0f82d7364735"
   },
   "outputs": [
    {
     "name": "stdout",
     "output_type": "stream",
     "text": [
      "COMPLETED    1916387\n",
      "Name: transactions_state, dtype: int64\n"
     ]
    }
   ],
   "source": [
    "trans=trans[trans.transactions_state=='COMPLETED']\n",
    "print(trans['transactions_state'].value_counts())"
   ]
  },
  {
   "cell_type": "code",
   "execution_count": 10,
   "metadata": {
    "colab": {
     "base_uri": "https://localhost:8080/",
     "height": 193
    },
    "colab_type": "code",
    "executionInfo": {
     "elapsed": 255318,
     "status": "ok",
     "timestamp": 1591131572443,
     "user": {
      "displayName": "Ioanna Kountouri",
      "photoUrl": "",
      "userId": "18315338504972529308"
     },
     "user_tz": -180
    },
    "id": "q6BblQNcEdZl",
    "outputId": "6c9b2893-8bce-403a-f1bb-dfec230f6b35"
   },
   "outputs": [
    {
     "name": "stdout",
     "output_type": "stream",
     "text": [
      "<class 'pandas.core.frame.DataFrame'>\n",
      "Index: 14821 entries, user_0 to user_9999\n",
      "Data columns (total 3 columns):\n",
      "total_amount           14821 non-null float64\n",
      "number_transactions    14821 non-null int64\n",
      "avg_amount             14821 non-null float64\n",
      "dtypes: float64(2), int64(1)\n",
      "memory usage: 463.2+ KB\n"
     ]
    }
   ],
   "source": [
    "trans_grouped = trans.groupby(['user_id'], as_index=True)['amount_usd'].agg(['sum','count','mean'])\n",
    "trans_grouped.rename(columns={'sum':'total_amount', 'count':'number_transactions','mean':'avg_amount'}, inplace=True)\n",
    "trans_grouped.info()"
   ]
  },
  {
   "cell_type": "code",
   "execution_count": 11,
   "metadata": {
    "colab": {},
    "colab_type": "code",
    "id": "mdjMWQDyFUE6"
   },
   "outputs": [],
   "source": [
    "#trans_grouped.to_csv('trans_amount_vol.csv')"
   ]
  },
  {
   "cell_type": "code",
   "execution_count": 12,
   "metadata": {
    "colab": {
     "base_uri": "https://localhost:8080/",
     "height": 34
    },
    "colab_type": "code",
    "executionInfo": {
     "elapsed": 255285,
     "status": "ok",
     "timestamp": 1591131572449,
     "user": {
      "displayName": "Ioanna Kountouri",
      "photoUrl": "",
      "userId": "18315338504972529308"
     },
     "user_tz": -180
    },
    "id": "ZzIE0_EDd0WB",
    "outputId": "f146df6e-6805-4197-9b28-60a0cf5822f8"
   },
   "outputs": [
    {
     "data": {
      "text/plain": [
       "Timestamp('2018-01-01 08:53:48.538709')"
      ]
     },
     "execution_count": 12,
     "metadata": {},
     "output_type": "execute_result"
    }
   ],
   "source": [
    "trans['created_date'].min()"
   ]
  },
  {
   "cell_type": "code",
   "execution_count": 13,
   "metadata": {
    "colab": {
     "base_uri": "https://localhost:8080/",
     "height": 175
    },
    "colab_type": "code",
    "executionInfo": {
     "elapsed": 255694,
     "status": "ok",
     "timestamp": 1591131572870,
     "user": {
      "displayName": "Ioanna Kountouri",
      "photoUrl": "",
      "userId": "18315338504972529308"
     },
     "user_tz": -180
    },
    "id": "HL4W1U9DJ0cg",
    "outputId": "a63d9b2d-e739-4a97-b747-8df1a53cd522"
   },
   "outputs": [
    {
     "name": "stdout",
     "output_type": "stream",
     "text": [
      "<class 'pandas.core.frame.DataFrame'>\n",
      "Index: 14821 entries, user_0 to user_9999\n",
      "Data columns (total 2 columns):\n",
      "first_transaction    14821 non-null datetime64[ns]\n",
      "last_transaction     14821 non-null datetime64[ns]\n",
      "dtypes: datetime64[ns](2)\n",
      "memory usage: 347.4+ KB\n"
     ]
    }
   ],
   "source": [
    "trans_grouped2 = trans.groupby(['user_id'], as_index=True)['created_date'].agg(['min','max'])\n",
    "trans_grouped2.rename(columns={'min':'first_transaction', 'max':'last_transaction'}, inplace=True)\n",
    "trans_grouped2.info()"
   ]
  },
  {
   "cell_type": "code",
   "execution_count": 14,
   "metadata": {
    "colab": {
     "base_uri": "https://localhost:8080/",
     "height": 298
    },
    "colab_type": "code",
    "executionInfo": {
     "elapsed": 255680,
     "status": "ok",
     "timestamp": 1591131572871,
     "user": {
      "displayName": "Ioanna Kountouri",
      "photoUrl": "",
      "userId": "18315338504972529308"
     },
     "user_tz": -180
    },
    "id": "E1tv-wVQcb5H",
    "outputId": "2a40cd12-26b8-42d4-b08e-3a26de420e28"
   },
   "outputs": [
    {
     "name": "stdout",
     "output_type": "stream",
     "text": [
      "                  first_transaction           last_transaction  \\\n",
      "user_id                                                          \n",
      "user_0   2018-09-10 18:54:08.965855 2019-05-10 05:09:13.868855   \n",
      "user_1   2018-02-04 08:28:17.978146 2019-05-04 02:30:11.492146   \n",
      "user_10  2018-06-29 15:38:15.855413 2019-05-11 13:07:42.624413   \n",
      "user_100 2018-12-02 14:23:12.926151 2019-02-24 13:36:50.054151   \n",
      "\n",
      "               transaction_period  \n",
      "user_id                            \n",
      "user_0   241 days 10:15:04.903000  \n",
      "user_1   453 days 18:01:53.514000  \n",
      "user_10  315 days 21:29:26.769000  \n",
      "user_100  83 days 23:13:37.128000  \n",
      "                  first_transaction           last_transaction  \\\n",
      "user_id                                                          \n",
      "user_0   2018-09-10 18:54:08.965855 2019-05-10 05:09:13.868855   \n",
      "user_1   2018-02-04 08:28:17.978146 2019-05-04 02:30:11.492146   \n",
      "user_10  2018-06-29 15:38:15.855413 2019-05-11 13:07:42.624413   \n",
      "user_100 2018-12-02 14:23:12.926151 2019-02-24 13:36:50.054151   \n",
      "\n",
      "          transaction_period  \n",
      "user_id                       \n",
      "user_0                 241.5  \n",
      "user_1                 453.5  \n",
      "user_10                315.5  \n",
      "user_100                83.5  \n"
     ]
    }
   ],
   "source": [
    "trans_grouped2['transaction_period']=(trans_grouped2['last_transaction']-trans_grouped2['first_transaction'])\n",
    "print(trans_grouped2.head(4))\n",
    "trans_grouped2['transaction_period']=trans_grouped2['transaction_period'].dt.days +0.5\n",
    "#['transaction_period'].days\n",
    "print(trans_grouped2.head(4))"
   ]
  },
  {
   "cell_type": "code",
   "execution_count": 15,
   "metadata": {
    "colab": {
     "base_uri": "https://localhost:8080/",
     "height": 225
    },
    "colab_type": "code",
    "executionInfo": {
     "elapsed": 255670,
     "status": "ok",
     "timestamp": 1591131572873,
     "user": {
      "displayName": "Ioanna Kountouri",
      "photoUrl": "",
      "userId": "18315338504972529308"
     },
     "user_tz": -180
    },
    "id": "yFhgT_AWe6DA",
    "outputId": "e8cd6c20-0ca1-4427-a49a-3b355043e89c"
   },
   "outputs": [
    {
     "data": {
      "text/html": [
       "<div>\n",
       "<style scoped>\n",
       "    .dataframe tbody tr th:only-of-type {\n",
       "        vertical-align: middle;\n",
       "    }\n",
       "\n",
       "    .dataframe tbody tr th {\n",
       "        vertical-align: top;\n",
       "    }\n",
       "\n",
       "    .dataframe thead th {\n",
       "        text-align: right;\n",
       "    }\n",
       "</style>\n",
       "<table border=\"1\" class=\"dataframe\">\n",
       "  <thead>\n",
       "    <tr style=\"text-align: right;\">\n",
       "      <th></th>\n",
       "      <th>total_amount</th>\n",
       "      <th>number_transactions</th>\n",
       "      <th>avg_amount</th>\n",
       "      <th>first_transaction</th>\n",
       "      <th>last_transaction</th>\n",
       "      <th>transaction_period</th>\n",
       "    </tr>\n",
       "    <tr>\n",
       "      <th>user_id</th>\n",
       "      <th></th>\n",
       "      <th></th>\n",
       "      <th></th>\n",
       "      <th></th>\n",
       "      <th></th>\n",
       "      <th></th>\n",
       "    </tr>\n",
       "  </thead>\n",
       "  <tbody>\n",
       "    <tr>\n",
       "      <th>user_5026</th>\n",
       "      <td>5878.89</td>\n",
       "      <td>91</td>\n",
       "      <td>64.603187</td>\n",
       "      <td>2018-08-07 04:39:17.782632</td>\n",
       "      <td>2019-04-30 04:46:46.802632</td>\n",
       "      <td>266.5</td>\n",
       "    </tr>\n",
       "    <tr>\n",
       "      <th>user_14685</th>\n",
       "      <td>47.65</td>\n",
       "      <td>2</td>\n",
       "      <td>23.825000</td>\n",
       "      <td>2019-04-13 05:53:18.062003</td>\n",
       "      <td>2019-04-13 05:56:12.706003</td>\n",
       "      <td>0.5</td>\n",
       "    </tr>\n",
       "    <tr>\n",
       "      <th>user_3586</th>\n",
       "      <td>47458.54</td>\n",
       "      <td>18</td>\n",
       "      <td>2636.585556</td>\n",
       "      <td>2018-04-25 22:18:26.330770</td>\n",
       "      <td>2018-08-26 08:46:46.023770</td>\n",
       "      <td>122.5</td>\n",
       "    </tr>\n",
       "    <tr>\n",
       "      <th>user_1625</th>\n",
       "      <td>3320.87</td>\n",
       "      <td>52</td>\n",
       "      <td>63.862885</td>\n",
       "      <td>2018-08-10 02:27:33.446756</td>\n",
       "      <td>2019-05-06 11:13:16.285756</td>\n",
       "      <td>269.5</td>\n",
       "    </tr>\n",
       "    <tr>\n",
       "      <th>user_7175</th>\n",
       "      <td>15743.23</td>\n",
       "      <td>68</td>\n",
       "      <td>231.518088</td>\n",
       "      <td>2018-08-20 07:24:52.372033</td>\n",
       "      <td>2019-03-30 13:15:29.750033</td>\n",
       "      <td>222.5</td>\n",
       "    </tr>\n",
       "  </tbody>\n",
       "</table>\n",
       "</div>"
      ],
      "text/plain": [
       "            total_amount  number_transactions   avg_amount  \\\n",
       "user_id                                                      \n",
       "user_5026        5878.89                   91    64.603187   \n",
       "user_14685         47.65                    2    23.825000   \n",
       "user_3586       47458.54                   18  2636.585556   \n",
       "user_1625        3320.87                   52    63.862885   \n",
       "user_7175       15743.23                   68   231.518088   \n",
       "\n",
       "                    first_transaction           last_transaction  \\\n",
       "user_id                                                            \n",
       "user_5026  2018-08-07 04:39:17.782632 2019-04-30 04:46:46.802632   \n",
       "user_14685 2019-04-13 05:53:18.062003 2019-04-13 05:56:12.706003   \n",
       "user_3586  2018-04-25 22:18:26.330770 2018-08-26 08:46:46.023770   \n",
       "user_1625  2018-08-10 02:27:33.446756 2019-05-06 11:13:16.285756   \n",
       "user_7175  2018-08-20 07:24:52.372033 2019-03-30 13:15:29.750033   \n",
       "\n",
       "            transaction_period  \n",
       "user_id                         \n",
       "user_5026                266.5  \n",
       "user_14685                 0.5  \n",
       "user_3586                122.5  \n",
       "user_1625                269.5  \n",
       "user_7175                222.5  "
      ]
     },
     "execution_count": 15,
     "metadata": {},
     "output_type": "execute_result"
    }
   ],
   "source": [
    "trans_grouped_all = pd.merge(trans_grouped, trans_grouped2, on='user_id', how='left')\n",
    "trans_grouped_all.sample(5)"
   ]
  },
  {
   "cell_type": "code",
   "execution_count": 16,
   "metadata": {
    "colab": {},
    "colab_type": "code",
    "id": "82J_VXS5omKr"
   },
   "outputs": [],
   "source": [
    "#def period(var1):\n",
    " # return (var1[1]/var1[0])\n",
    "#trans_grouped_all['periodicity_trans']=trans_grouped_all[['number_transactions','transaction_period']].apply(period)\n",
    "#trans_grouped_all['periodicity_trans']=trans_grouped_all['transaction_period']/trans_grouped_all['number_transactions']\n",
    "#trans_grouped_all['transactions_perday']=1/trans_grouped_all['periodicity_trans']"
   ]
  },
  {
   "cell_type": "code",
   "execution_count": 17,
   "metadata": {
    "colab": {
     "base_uri": "https://localhost:8080/",
     "height": 195
    },
    "colab_type": "code",
    "executionInfo": {
     "elapsed": 255644,
     "status": "ok",
     "timestamp": 1591131572876,
     "user": {
      "displayName": "Ioanna Kountouri",
      "photoUrl": "",
      "userId": "18315338504972529308"
     },
     "user_tz": -180
    },
    "id": "JMEA9kBdpL2x",
    "outputId": "05e59c64-aa67-43f3-c621-8ce7c03f6a83"
   },
   "outputs": [
    {
     "data": {
      "text/html": [
       "<div>\n",
       "<style scoped>\n",
       "    .dataframe tbody tr th:only-of-type {\n",
       "        vertical-align: middle;\n",
       "    }\n",
       "\n",
       "    .dataframe tbody tr th {\n",
       "        vertical-align: top;\n",
       "    }\n",
       "\n",
       "    .dataframe thead th {\n",
       "        text-align: right;\n",
       "    }\n",
       "</style>\n",
       "<table border=\"1\" class=\"dataframe\">\n",
       "  <thead>\n",
       "    <tr style=\"text-align: right;\">\n",
       "      <th></th>\n",
       "      <th>total_amount</th>\n",
       "      <th>number_transactions</th>\n",
       "      <th>avg_amount</th>\n",
       "      <th>first_transaction</th>\n",
       "      <th>last_transaction</th>\n",
       "      <th>transaction_period</th>\n",
       "    </tr>\n",
       "    <tr>\n",
       "      <th>user_id</th>\n",
       "      <th></th>\n",
       "      <th></th>\n",
       "      <th></th>\n",
       "      <th></th>\n",
       "      <th></th>\n",
       "      <th></th>\n",
       "    </tr>\n",
       "  </thead>\n",
       "  <tbody>\n",
       "    <tr>\n",
       "      <th>user_0</th>\n",
       "      <td>6925.08</td>\n",
       "      <td>520</td>\n",
       "      <td>13.317462</td>\n",
       "      <td>2018-09-10 18:54:08.965855</td>\n",
       "      <td>2019-05-10 05:09:13.868855</td>\n",
       "      <td>241.5</td>\n",
       "    </tr>\n",
       "    <tr>\n",
       "      <th>user_1</th>\n",
       "      <td>12955.54</td>\n",
       "      <td>133</td>\n",
       "      <td>97.410075</td>\n",
       "      <td>2018-02-04 08:28:17.978146</td>\n",
       "      <td>2019-05-04 02:30:11.492146</td>\n",
       "      <td>453.5</td>\n",
       "    </tr>\n",
       "    <tr>\n",
       "      <th>user_10</th>\n",
       "      <td>5438.92</td>\n",
       "      <td>123</td>\n",
       "      <td>44.218862</td>\n",
       "      <td>2018-06-29 15:38:15.855413</td>\n",
       "      <td>2019-05-11 13:07:42.624413</td>\n",
       "      <td>315.5</td>\n",
       "    </tr>\n",
       "    <tr>\n",
       "      <th>user_100</th>\n",
       "      <td>4230.10</td>\n",
       "      <td>55</td>\n",
       "      <td>76.910909</td>\n",
       "      <td>2018-12-02 14:23:12.926151</td>\n",
       "      <td>2019-02-24 13:36:50.054151</td>\n",
       "      <td>83.5</td>\n",
       "    </tr>\n",
       "  </tbody>\n",
       "</table>\n",
       "</div>"
      ],
      "text/plain": [
       "          total_amount  number_transactions  avg_amount  \\\n",
       "user_id                                                   \n",
       "user_0         6925.08                  520   13.317462   \n",
       "user_1        12955.54                  133   97.410075   \n",
       "user_10        5438.92                  123   44.218862   \n",
       "user_100       4230.10                   55   76.910909   \n",
       "\n",
       "                  first_transaction           last_transaction  \\\n",
       "user_id                                                          \n",
       "user_0   2018-09-10 18:54:08.965855 2019-05-10 05:09:13.868855   \n",
       "user_1   2018-02-04 08:28:17.978146 2019-05-04 02:30:11.492146   \n",
       "user_10  2018-06-29 15:38:15.855413 2019-05-11 13:07:42.624413   \n",
       "user_100 2018-12-02 14:23:12.926151 2019-02-24 13:36:50.054151   \n",
       "\n",
       "          transaction_period  \n",
       "user_id                       \n",
       "user_0                 241.5  \n",
       "user_1                 453.5  \n",
       "user_10                315.5  \n",
       "user_100                83.5  "
      ]
     },
     "execution_count": 17,
     "metadata": {},
     "output_type": "execute_result"
    }
   ],
   "source": [
    "trans_grouped_all.head(4)"
   ]
  },
  {
   "cell_type": "code",
   "execution_count": 18,
   "metadata": {
    "colab": {
     "base_uri": "https://localhost:8080/",
     "height": 70
    },
    "colab_type": "code",
    "executionInfo": {
     "elapsed": 255633,
     "status": "ok",
     "timestamp": 1591131572877,
     "user": {
      "displayName": "Ioanna Kountouri",
      "photoUrl": "",
      "userId": "18315338504972529308"
     },
     "user_tz": -180
    },
    "id": "HsXyVEs6pVe0",
    "outputId": "e2f08b66-e3a6-41b3-be7d-36c057f42897"
   },
   "outputs": [
    {
     "name": "stdout",
     "output_type": "stream",
     "text": [
      "Empty DataFrame\n",
      "Columns: [total_amount, number_transactions, avg_amount, first_transaction, last_transaction, transaction_period]\n",
      "Index: []\n"
     ]
    }
   ],
   "source": [
    "print(trans_grouped_all[trans_grouped_all['transaction_period']==0])"
   ]
  },
  {
   "cell_type": "code",
   "execution_count": 19,
   "metadata": {
    "colab": {
     "base_uri": "https://localhost:8080/",
     "height": 140
    },
    "colab_type": "code",
    "executionInfo": {
     "elapsed": 255621,
     "status": "ok",
     "timestamp": 1591131572878,
     "user": {
      "displayName": "Ioanna Kountouri",
      "photoUrl": "",
      "userId": "18315338504972529308"
     },
     "user_tz": -180
    },
    "id": "XC1Ro7w8q9XS",
    "outputId": "16d05e77-8b42-4a17-ed56-ca052f7bea88"
   },
   "outputs": [
    {
     "name": "stdout",
     "output_type": "stream",
     "text": [
      "total_amount                                 9.79\n",
      "number_transactions                             2\n",
      "avg_amount                                  4.895\n",
      "first_transaction      2019-04-08 18:25:04.154064\n",
      "last_transaction       2019-04-08 18:29:17.730064\n",
      "transaction_period                            0.5\n",
      "Name: user_10031, dtype: object\n"
     ]
    }
   ],
   "source": [
    "print(trans_grouped_all.loc['user_10031',:])"
   ]
  },
  {
   "cell_type": "code",
   "execution_count": 20,
   "metadata": {
    "colab": {
     "base_uri": "https://localhost:8080/",
     "height": 34
    },
    "colab_type": "code",
    "executionInfo": {
     "elapsed": 255610,
     "status": "ok",
     "timestamp": 1591131572880,
     "user": {
      "displayName": "Ioanna Kountouri",
      "photoUrl": "",
      "userId": "18315338504972529308"
     },
     "user_tz": -180
    },
    "id": "q1gh-Ss2vOFM",
    "outputId": "b04c5974-29ab-48dd-8a0f-a4b4a7758a30"
   },
   "outputs": [
    {
     "name": "stdout",
     "output_type": "stream",
     "text": [
      "2019-05-15 21:18:22.660896\n"
     ]
    }
   ],
   "source": [
    "print(trans['created_date'].max())"
   ]
  },
  {
   "cell_type": "code",
   "execution_count": 21,
   "metadata": {
    "colab": {},
    "colab_type": "code",
    "id": "GePruj_zxMrz"
   },
   "outputs": [],
   "source": [
    "# trans_grouped_all.to_csv('trans_amount_periods.csv')"
   ]
  },
  {
   "cell_type": "code",
   "execution_count": 23,
   "metadata": {
    "colab": {},
    "colab_type": "code",
    "id": "FrnQVd6ZzrHU"
   },
   "outputs": [],
   "source": [
    "us=pd.read_csv('../processed_data/users_devices.csv')"
   ]
  },
  {
   "cell_type": "code",
   "execution_count": 24,
   "metadata": {
    "colab": {
     "base_uri": "https://localhost:8080/",
     "height": 299
    },
    "colab_type": "code",
    "executionInfo": {
     "elapsed": 607,
     "status": "ok",
     "timestamp": 1591131664119,
     "user": {
      "displayName": "Ioanna Kountouri",
      "photoUrl": "",
      "userId": "18315338504972529308"
     },
     "user_tz": -180
    },
    "id": "PEf3rvhZ1aiO",
    "outputId": "d077ff09-38e7-4c98-8c90-68bb3103f1f4"
   },
   "outputs": [
    {
     "data": {
      "text/html": [
       "<div>\n",
       "<style scoped>\n",
       "    .dataframe tbody tr th:only-of-type {\n",
       "        vertical-align: middle;\n",
       "    }\n",
       "\n",
       "    .dataframe tbody tr th {\n",
       "        vertical-align: top;\n",
       "    }\n",
       "\n",
       "    .dataframe thead th {\n",
       "        text-align: right;\n",
       "    }\n",
       "</style>\n",
       "<table border=\"1\" class=\"dataframe\">\n",
       "  <thead>\n",
       "    <tr style=\"text-align: right;\">\n",
       "      <th></th>\n",
       "      <th>user_id</th>\n",
       "      <th>total_amount</th>\n",
       "      <th>number_transactions</th>\n",
       "      <th>avg_amount</th>\n",
       "      <th>first_transaction</th>\n",
       "      <th>last_transaction</th>\n",
       "      <th>transaction_period</th>\n",
       "      <th>Australia</th>\n",
       "      <th>Central_Rich_Europe</th>\n",
       "      <th>East_Europe_Balkans</th>\n",
       "      <th>...</th>\n",
       "      <th>user_settings_crypto_unlocked</th>\n",
       "      <th>plan</th>\n",
       "      <th>attributes_notifications_marketing_push</th>\n",
       "      <th>attributes_notifications_marketing_email</th>\n",
       "      <th>num_contacts</th>\n",
       "      <th>num_referrals</th>\n",
       "      <th>num_successful_referrals</th>\n",
       "      <th>brand</th>\n",
       "      <th>created_year</th>\n",
       "      <th>created_month</th>\n",
       "    </tr>\n",
       "  </thead>\n",
       "  <tbody>\n",
       "    <tr>\n",
       "      <th>11152</th>\n",
       "      <td>user_6560</td>\n",
       "      <td>3688.38</td>\n",
       "      <td>389</td>\n",
       "      <td>9.481697</td>\n",
       "      <td>2018-07-27 23:51:32.216280</td>\n",
       "      <td>2019-05-10 18:26:53.284280</td>\n",
       "      <td>286.5</td>\n",
       "      <td>0</td>\n",
       "      <td>0</td>\n",
       "      <td>0</td>\n",
       "      <td>...</td>\n",
       "      <td>0</td>\n",
       "      <td>0</td>\n",
       "      <td>0.0</td>\n",
       "      <td>0.0</td>\n",
       "      <td>49</td>\n",
       "      <td>0</td>\n",
       "      <td>0</td>\n",
       "      <td>1</td>\n",
       "      <td>2018</td>\n",
       "      <td>7</td>\n",
       "    </tr>\n",
       "    <tr>\n",
       "      <th>3141</th>\n",
       "      <td>user_12957</td>\n",
       "      <td>54.93</td>\n",
       "      <td>5</td>\n",
       "      <td>10.986000</td>\n",
       "      <td>2018-07-22 12:08:18.351464</td>\n",
       "      <td>2019-03-05 11:44:09.093464</td>\n",
       "      <td>225.5</td>\n",
       "      <td>0</td>\n",
       "      <td>0</td>\n",
       "      <td>0</td>\n",
       "      <td>...</td>\n",
       "      <td>0</td>\n",
       "      <td>0</td>\n",
       "      <td>1.0</td>\n",
       "      <td>1.0</td>\n",
       "      <td>0</td>\n",
       "      <td>0</td>\n",
       "      <td>0</td>\n",
       "      <td>1</td>\n",
       "      <td>2018</td>\n",
       "      <td>7</td>\n",
       "    </tr>\n",
       "    <tr>\n",
       "      <th>11209</th>\n",
       "      <td>user_6613</td>\n",
       "      <td>104.10</td>\n",
       "      <td>23</td>\n",
       "      <td>4.526087</td>\n",
       "      <td>2018-11-27 23:16:36.807772</td>\n",
       "      <td>2019-04-27 20:25:05.893772</td>\n",
       "      <td>150.5</td>\n",
       "      <td>0</td>\n",
       "      <td>0</td>\n",
       "      <td>1</td>\n",
       "      <td>...</td>\n",
       "      <td>0</td>\n",
       "      <td>0</td>\n",
       "      <td>1.0</td>\n",
       "      <td>1.0</td>\n",
       "      <td>22</td>\n",
       "      <td>0</td>\n",
       "      <td>0</td>\n",
       "      <td>0</td>\n",
       "      <td>2018</td>\n",
       "      <td>11</td>\n",
       "    </tr>\n",
       "    <tr>\n",
       "      <th>9639</th>\n",
       "      <td>user_5116</td>\n",
       "      <td>432.55</td>\n",
       "      <td>26</td>\n",
       "      <td>16.636538</td>\n",
       "      <td>2018-03-30 09:00:31.585381</td>\n",
       "      <td>2019-04-19 18:17:33.760381</td>\n",
       "      <td>385.5</td>\n",
       "      <td>0</td>\n",
       "      <td>0</td>\n",
       "      <td>1</td>\n",
       "      <td>...</td>\n",
       "      <td>0</td>\n",
       "      <td>0</td>\n",
       "      <td>1.0</td>\n",
       "      <td>1.0</td>\n",
       "      <td>2</td>\n",
       "      <td>0</td>\n",
       "      <td>0</td>\n",
       "      <td>0</td>\n",
       "      <td>2018</td>\n",
       "      <td>3</td>\n",
       "    </tr>\n",
       "    <tr>\n",
       "      <th>351</th>\n",
       "      <td>user_10327</td>\n",
       "      <td>2772.70</td>\n",
       "      <td>60</td>\n",
       "      <td>46.211667</td>\n",
       "      <td>2018-11-26 23:39:50.133100</td>\n",
       "      <td>2019-05-11 01:50:41.140100</td>\n",
       "      <td>165.5</td>\n",
       "      <td>0</td>\n",
       "      <td>0</td>\n",
       "      <td>0</td>\n",
       "      <td>...</td>\n",
       "      <td>0</td>\n",
       "      <td>1</td>\n",
       "      <td>1.0</td>\n",
       "      <td>1.0</td>\n",
       "      <td>16</td>\n",
       "      <td>0</td>\n",
       "      <td>0</td>\n",
       "      <td>0</td>\n",
       "      <td>2018</td>\n",
       "      <td>11</td>\n",
       "    </tr>\n",
       "  </tbody>\n",
       "</table>\n",
       "<p>5 rows × 28 columns</p>\n",
       "</div>"
      ],
      "text/plain": [
       "          user_id  total_amount  number_transactions  avg_amount  \\\n",
       "11152   user_6560       3688.38                  389    9.481697   \n",
       "3141   user_12957         54.93                    5   10.986000   \n",
       "11209   user_6613        104.10                   23    4.526087   \n",
       "9639    user_5116        432.55                   26   16.636538   \n",
       "351    user_10327       2772.70                   60   46.211667   \n",
       "\n",
       "               first_transaction           last_transaction  \\\n",
       "11152 2018-07-27 23:51:32.216280 2019-05-10 18:26:53.284280   \n",
       "3141  2018-07-22 12:08:18.351464 2019-03-05 11:44:09.093464   \n",
       "11209 2018-11-27 23:16:36.807772 2019-04-27 20:25:05.893772   \n",
       "9639  2018-03-30 09:00:31.585381 2019-04-19 18:17:33.760381   \n",
       "351   2018-11-26 23:39:50.133100 2019-05-11 01:50:41.140100   \n",
       "\n",
       "       transaction_period  Australia  Central_Rich_Europe  \\\n",
       "11152               286.5          0                    0   \n",
       "3141                225.5          0                    0   \n",
       "11209               150.5          0                    0   \n",
       "9639                385.5          0                    0   \n",
       "351                 165.5          0                    0   \n",
       "\n",
       "       East_Europe_Balkans  ...  user_settings_crypto_unlocked  plan  \\\n",
       "11152                    0  ...                              0     0   \n",
       "3141                     0  ...                              0     0   \n",
       "11209                    1  ...                              0     0   \n",
       "9639                     1  ...                              0     0   \n",
       "351                      0  ...                              0     1   \n",
       "\n",
       "       attributes_notifications_marketing_push  \\\n",
       "11152                                      0.0   \n",
       "3141                                       1.0   \n",
       "11209                                      1.0   \n",
       "9639                                       1.0   \n",
       "351                                        1.0   \n",
       "\n",
       "       attributes_notifications_marketing_email  num_contacts num_referrals  \\\n",
       "11152                                       0.0            49             0   \n",
       "3141                                        1.0             0             0   \n",
       "11209                                       1.0            22             0   \n",
       "9639                                        1.0             2             0   \n",
       "351                                         1.0            16             0   \n",
       "\n",
       "      num_successful_referrals brand  created_year  created_month  \n",
       "11152                        0     1          2018              7  \n",
       "3141                         0     1          2018              7  \n",
       "11209                        0     0          2018             11  \n",
       "9639                         0     0          2018              3  \n",
       "351                          0     0          2018             11  \n",
       "\n",
       "[5 rows x 28 columns]"
      ]
     },
     "execution_count": 24,
     "metadata": {},
     "output_type": "execute_result"
    }
   ],
   "source": [
    "data = pd.merge(trans_grouped_all, us, on='user_id', how='left')\n",
    "data.sample(5)"
   ]
  },
  {
   "cell_type": "code",
   "execution_count": 25,
   "metadata": {
    "colab": {},
    "colab_type": "code",
    "id": "tS_uX8L11mxV"
   },
   "outputs": [],
   "source": [
    "# data.to_csv('trans_users_dev.csv')"
   ]
  },
  {
   "cell_type": "code",
   "execution_count": 27,
   "metadata": {
    "colab": {},
    "colab_type": "code",
    "id": "qwbrYeeV1-XN"
   },
   "outputs": [
    {
     "data": {
      "text/html": [
       "<div>\n",
       "<style scoped>\n",
       "    .dataframe tbody tr th:only-of-type {\n",
       "        vertical-align: middle;\n",
       "    }\n",
       "\n",
       "    .dataframe tbody tr th {\n",
       "        vertical-align: top;\n",
       "    }\n",
       "\n",
       "    .dataframe thead th {\n",
       "        text-align: right;\n",
       "    }\n",
       "</style>\n",
       "<table border=\"1\" class=\"dataframe\">\n",
       "  <thead>\n",
       "    <tr style=\"text-align: right;\">\n",
       "      <th>direction</th>\n",
       "      <th>INBOUND</th>\n",
       "      <th>OUTBOUND</th>\n",
       "    </tr>\n",
       "    <tr>\n",
       "      <th>transactions_type</th>\n",
       "      <th></th>\n",
       "      <th></th>\n",
       "    </tr>\n",
       "  </thead>\n",
       "  <tbody>\n",
       "    <tr>\n",
       "      <th>ATM</th>\n",
       "      <td>0</td>\n",
       "      <td>61518</td>\n",
       "    </tr>\n",
       "    <tr>\n",
       "      <th>CARD_PAYMENT</th>\n",
       "      <td>0</td>\n",
       "      <td>999418</td>\n",
       "    </tr>\n",
       "    <tr>\n",
       "      <th>CARD_REFUND</th>\n",
       "      <td>9208</td>\n",
       "      <td>0</td>\n",
       "    </tr>\n",
       "    <tr>\n",
       "      <th>CASHBACK</th>\n",
       "      <td>60278</td>\n",
       "      <td>0</td>\n",
       "    </tr>\n",
       "    <tr>\n",
       "      <th>EXCHANGE</th>\n",
       "      <td>0</td>\n",
       "      <td>124800</td>\n",
       "    </tr>\n",
       "    <tr>\n",
       "      <th>FEE</th>\n",
       "      <td>0</td>\n",
       "      <td>18786</td>\n",
       "    </tr>\n",
       "    <tr>\n",
       "      <th>REFUND</th>\n",
       "      <td>1193</td>\n",
       "      <td>0</td>\n",
       "    </tr>\n",
       "    <tr>\n",
       "      <th>TAX</th>\n",
       "      <td>0</td>\n",
       "      <td>2242</td>\n",
       "    </tr>\n",
       "    <tr>\n",
       "      <th>TOPUP</th>\n",
       "      <td>242621</td>\n",
       "      <td>0</td>\n",
       "    </tr>\n",
       "    <tr>\n",
       "      <th>TRANSFER</th>\n",
       "      <td>36169</td>\n",
       "      <td>360154</td>\n",
       "    </tr>\n",
       "  </tbody>\n",
       "</table>\n",
       "</div>"
      ],
      "text/plain": [
       "direction          INBOUND  OUTBOUND\n",
       "transactions_type                   \n",
       "ATM                      0     61518\n",
       "CARD_PAYMENT             0    999418\n",
       "CARD_REFUND           9208         0\n",
       "CASHBACK             60278         0\n",
       "EXCHANGE                 0    124800\n",
       "FEE                      0     18786\n",
       "REFUND                1193         0\n",
       "TAX                      0      2242\n",
       "TOPUP               242621         0\n",
       "TRANSFER             36169    360154"
      ]
     },
     "execution_count": 27,
     "metadata": {},
     "output_type": "execute_result"
    }
   ],
   "source": [
    "pd.crosstab(trans['transactions_type'], trans['direction'])"
   ]
  },
  {
   "cell_type": "code",
   "execution_count": 50,
   "metadata": {},
   "outputs": [
    {
     "data": {
      "text/html": [
       "<div>\n",
       "<style scoped>\n",
       "    .dataframe tbody tr th:only-of-type {\n",
       "        vertical-align: middle;\n",
       "    }\n",
       "\n",
       "    .dataframe tbody tr th {\n",
       "        vertical-align: top;\n",
       "    }\n",
       "\n",
       "    .dataframe thead th {\n",
       "        text-align: right;\n",
       "    }\n",
       "</style>\n",
       "<table border=\"1\" class=\"dataframe\">\n",
       "  <thead>\n",
       "    <tr style=\"text-align: right;\">\n",
       "      <th></th>\n",
       "      <th>profit</th>\n",
       "    </tr>\n",
       "    <tr>\n",
       "      <th>user_id</th>\n",
       "      <th></th>\n",
       "    </tr>\n",
       "  </thead>\n",
       "  <tbody>\n",
       "    <tr>\n",
       "      <th>user_0</th>\n",
       "      <td>357</td>\n",
       "    </tr>\n",
       "    <tr>\n",
       "      <th>user_1</th>\n",
       "      <td>106</td>\n",
       "    </tr>\n",
       "    <tr>\n",
       "      <th>user_10</th>\n",
       "      <td>71</td>\n",
       "    </tr>\n",
       "    <tr>\n",
       "      <th>user_100</th>\n",
       "      <td>44</td>\n",
       "    </tr>\n",
       "  </tbody>\n",
       "</table>\n",
       "</div>"
      ],
      "text/plain": [
       "          profit\n",
       "user_id         \n",
       "user_0       357\n",
       "user_1       106\n",
       "user_10       71\n",
       "user_100      44"
      ]
     },
     "execution_count": 50,
     "metadata": {},
     "output_type": "execute_result"
    }
   ],
   "source": [
    "trans = trans[trans.direction == 'OUTBOUND']\n",
    "trans_direction = trans.groupby(['user_id'], as_index=True)['direction'].agg(['count'])\n",
    "trans_direction.rename(columns={'count':'profit'}, inplace=True)\n",
    "trans_direction.head(4)\n",
    "\n",
    "# pd.crosstab(index = data['user_id'], columns = trans_direction['profit'])"
   ]
  },
  {
   "cell_type": "code",
   "execution_count": null,
   "metadata": {},
   "outputs": [],
   "source": []
  }
 ],
 "metadata": {
  "colab": {
   "authorship_tag": "ABX9TyOri6H0B32Ea3xR6w3n/6Tx",
   "collapsed_sections": [],
   "name": "transactions.ipynb",
   "provenance": []
  },
  "kernelspec": {
   "display_name": "Python 3",
   "language": "python",
   "name": "python3"
  },
  "language_info": {
   "codemirror_mode": {
    "name": "ipython",
    "version": 3
   },
   "file_extension": ".py",
   "mimetype": "text/x-python",
   "name": "python",
   "nbconvert_exporter": "python",
   "pygments_lexer": "ipython3",
   "version": "3.5.2"
  }
 },
 "nbformat": 4,
 "nbformat_minor": 1
}
