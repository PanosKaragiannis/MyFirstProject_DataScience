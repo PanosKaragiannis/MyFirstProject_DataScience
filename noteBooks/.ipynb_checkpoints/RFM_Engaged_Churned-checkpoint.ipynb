{
 "cells": [
  {
   "cell_type": "markdown",
   "metadata": {
    "colab_type": "text",
    "id": "YIwiOY5mKVJ6"
   },
   "source": [
    "#Customer Segmentation using RFM analysis\n",
    "RFM (Recency, Frequency, Monetary) analysis is a behavior-based approach grouping users into segments. It groups the users on the basis of their previous transactions. \n",
    "\n",
    "Recency (R): Who have made a transaction recently? Number of days since last transaction (the least recency the best score and thus the most engaged users)\n",
    "\n",
    "Frequency (F): Who has made transactions frequently? It means the total number of transactions. ( high frequency means more engaged users)\n",
    "\n",
    "Monetary Value(M): Who have high transaction amount? It means the total money user used in they transactions (high monetary value) \n"
   ]
  },
  {
   "cell_type": "code",
   "execution_count": 0,
   "metadata": {
    "colab": {},
    "colab_type": "code",
    "id": "7sjNToEUByqx"
   },
   "outputs": [],
   "source": [
    "import numpy as np\n",
    "import pandas as pd\n",
    "import matplotlib.pyplot as plt\n",
    "from sklearn.cluster import KMeans\n",
    "from sklearn.metrics import silhouette_score\n",
    "from sklearn.preprocessing import MinMaxScaler, StandardScaler\n",
    "from sklearn import preprocessing\n",
    "import seaborn as sns"
   ]
  },
  {
   "cell_type": "code",
   "execution_count": 116,
   "metadata": {
    "colab": {
     "base_uri": "https://localhost:8080/",
     "height": 34
    },
    "colab_type": "code",
    "executionInfo": {
     "elapsed": 4358,
     "status": "ok",
     "timestamp": 1591394399702,
     "user": {
      "displayName": "Ioanna Kountouri",
      "photoUrl": "",
      "userId": "18315338504972529308"
     },
     "user_tz": -180
    },
    "id": "txudCv6kbvDB",
    "outputId": "d6a57fde-1b50-41d8-c85b-1ea6c02a72dd"
   },
   "outputs": [
    {
     "name": "stdout",
     "output_type": "stream",
     "text": [
      "Requirement already satisfied: squarify in /usr/local/lib/python3.6/dist-packages (0.4.3)\n"
     ]
    }
   ],
   "source": [
    "!pip install squarify"
   ]
  },
  {
   "cell_type": "code",
   "execution_count": 0,
   "metadata": {
    "colab": {},
    "colab_type": "code",
    "id": "81DTlrPSbwXA"
   },
   "outputs": [],
   "source": [
    "import squarify"
   ]
  },
  {
   "cell_type": "code",
   "execution_count": 0,
   "metadata": {
    "colab": {},
    "colab_type": "code",
    "id": "BYYToYiPCCg4"
   },
   "outputs": [],
   "source": [
    "df = pd.read_csv('trans_users_dev1.csv')"
   ]
  },
  {
   "cell_type": "code",
   "execution_count": 119,
   "metadata": {
    "colab": {
     "base_uri": "https://localhost:8080/",
     "height": 844
    },
    "colab_type": "code",
    "executionInfo": {
     "elapsed": 4815,
     "status": "ok",
     "timestamp": 1591394400183,
     "user": {
      "displayName": "Ioanna Kountouri",
      "photoUrl": "",
      "userId": "18315338504972529308"
     },
     "user_tz": -180
    },
    "id": "T4b4mRYcConv",
    "outputId": "5f4276b8-958f-4fc6-e2a6-cb34b00e9eca"
   },
   "outputs": [
    {
     "name": "stdout",
     "output_type": "stream",
     "text": [
      "   Unnamed: 0  Unnamed: 0.1  ... user_trans_time  user_trans_periodicity\n",
      "0           0             0  ...             247                0.001923\n",
      "1           1             1  ...             465                0.007150\n",
      "\n",
      "[2 rows x 34 columns]\n",
      "<class 'pandas.core.frame.DataFrame'>\n",
      "RangeIndex: 14821 entries, 0 to 14820\n",
      "Data columns (total 34 columns):\n",
      " #   Column                                    Non-Null Count  Dtype  \n",
      "---  ------                                    --------------  -----  \n",
      " 0   Unnamed: 0                                14821 non-null  int64  \n",
      " 1   Unnamed: 0.1                              14821 non-null  int64  \n",
      " 2   user_id                                   14821 non-null  object \n",
      " 3   total_amount                              14821 non-null  float64\n",
      " 4   number_transactions                       14821 non-null  int64  \n",
      " 5   avg_amount                                14821 non-null  float64\n",
      " 6   first_transaction                         14821 non-null  object \n",
      " 7   last_transaction                          14821 non-null  object \n",
      " 8   transaction_period                        14821 non-null  float64\n",
      " 9   Australia                                 14821 non-null  int64  \n",
      " 10  EastEurope                                14821 non-null  int64  \n",
      " 11  NorthEurope                               14821 non-null  int64  \n",
      " 12  SouthEurope                               14821 non-null  int64  \n",
      " 13  WestEurope                                14821 non-null  int64  \n",
      " 14  year_2018                                 14821 non-null  int64  \n",
      " 15  year_2019                                 14821 non-null  int64  \n",
      " 16  age                                       14821 non-null  int64  \n",
      " 17  country                                   14821 non-null  object \n",
      " 18  city                                      14821 non-null  object \n",
      " 19  created_date_x                            14821 non-null  object \n",
      " 20  user_settings_crypto_unlocked             14821 non-null  int64  \n",
      " 21  plan                                      14821 non-null  int64  \n",
      " 22  attributes_notifications_marketing_push   14821 non-null  float64\n",
      " 23  attributes_notifications_marketing_email  14821 non-null  float64\n",
      " 24  num_contacts                              14821 non-null  int64  \n",
      " 25  num_referrals                             14821 non-null  int64  \n",
      " 26  num_successful_referrals                  14821 non-null  int64  \n",
      " 27  brand                                     14821 non-null  int64  \n",
      " 28  created_year                              14821 non-null  int64  \n",
      " 29  created_month                             14821 non-null  int64  \n",
      " 30  created_date_y                            14821 non-null  object \n",
      " 31  user_active_time                          14821 non-null  int64  \n",
      " 32  user_trans_time                           14821 non-null  int64  \n",
      " 33  user_trans_periodicity                    14821 non-null  float64\n",
      "dtypes: float64(6), int64(21), object(7)\n",
      "memory usage: 3.8+ MB\n",
      "None\n"
     ]
    }
   ],
   "source": [
    "print(df.head(2))\n",
    "print(df.info())"
   ]
  },
  {
   "cell_type": "code",
   "execution_count": 0,
   "metadata": {
    "colab": {},
    "colab_type": "code",
    "id": "qdGQyKKxEj8R"
   },
   "outputs": [],
   "source": [
    "df['last_transaction'] = pd.to_datetime(df['last_transaction'])"
   ]
  },
  {
   "cell_type": "code",
   "execution_count": 121,
   "metadata": {
    "colab": {
     "base_uri": "https://localhost:8080/",
     "height": 34
    },
    "colab_type": "code",
    "executionInfo": {
     "elapsed": 4802,
     "status": "ok",
     "timestamp": 1591394400186,
     "user": {
      "displayName": "Ioanna Kountouri",
      "photoUrl": "",
      "userId": "18315338504972529308"
     },
     "user_tz": -180
    },
    "id": "e0eTelrLCsc2",
    "outputId": "0b5d0a4a-9c42-49f9-ac6f-3bcbcd433aaf"
   },
   "outputs": [
    {
     "name": "stdout",
     "output_type": "stream",
     "text": [
      "2019-05-15 21:18:22.660896\n"
     ]
    }
   ],
   "source": [
    "print(df['last_transaction'].max())"
   ]
  },
  {
   "cell_type": "code",
   "execution_count": 0,
   "metadata": {
    "colab": {},
    "colab_type": "code",
    "id": "UNRTdutiDk2T"
   },
   "outputs": [],
   "source": [
    "df['recency']=(df['last_transaction'].max()-df['last_transaction']).dt.days"
   ]
  },
  {
   "cell_type": "code",
   "execution_count": 123,
   "metadata": {
    "colab": {
     "base_uri": "https://localhost:8080/",
     "height": 194
    },
    "colab_type": "code",
    "executionInfo": {
     "elapsed": 4792,
     "status": "ok",
     "timestamp": 1591394400187,
     "user": {
      "displayName": "Ioanna Kountouri",
      "photoUrl": "",
      "userId": "18315338504972529308"
     },
     "user_tz": -180
    },
    "id": "XiQFRdw6EMYh",
    "outputId": "249277ff-75d5-40b7-b3da-8f705127f39d"
   },
   "outputs": [
    {
     "name": "stderr",
     "output_type": "stream",
     "text": [
      "/usr/local/lib/python3.6/dist-packages/pandas/core/frame.py:4133: SettingWithCopyWarning: \n",
      "A value is trying to be set on a copy of a slice from a DataFrame\n",
      "\n",
      "See the caveats in the documentation: https://pandas.pydata.org/pandas-docs/stable/user_guide/indexing.html#returning-a-view-versus-a-copy\n",
      "  errors=errors,\n"
     ]
    },
    {
     "data": {
      "text/html": [
       "<div>\n",
       "<style scoped>\n",
       "    .dataframe tbody tr th:only-of-type {\n",
       "        vertical-align: middle;\n",
       "    }\n",
       "\n",
       "    .dataframe tbody tr th {\n",
       "        vertical-align: top;\n",
       "    }\n",
       "\n",
       "    .dataframe thead th {\n",
       "        text-align: right;\n",
       "    }\n",
       "</style>\n",
       "<table border=\"1\" class=\"dataframe\">\n",
       "  <thead>\n",
       "    <tr style=\"text-align: right;\">\n",
       "      <th></th>\n",
       "      <th>user_id</th>\n",
       "      <th>monetary</th>\n",
       "      <th>frequency</th>\n",
       "      <th>recency</th>\n",
       "    </tr>\n",
       "  </thead>\n",
       "  <tbody>\n",
       "    <tr>\n",
       "      <th>0</th>\n",
       "      <td>user_0</td>\n",
       "      <td>6925.08</td>\n",
       "      <td>520</td>\n",
       "      <td>5</td>\n",
       "    </tr>\n",
       "    <tr>\n",
       "      <th>1</th>\n",
       "      <td>user_1</td>\n",
       "      <td>12955.54</td>\n",
       "      <td>133</td>\n",
       "      <td>11</td>\n",
       "    </tr>\n",
       "  </tbody>\n",
       "</table>\n",
       "</div>"
      ],
      "text/plain": [
       "  user_id  monetary  frequency  recency\n",
       "0  user_0   6925.08        520        5\n",
       "1  user_1  12955.54        133       11"
      ]
     },
     "execution_count": 123,
     "metadata": {
      "tags": []
     },
     "output_type": "execute_result"
    }
   ],
   "source": [
    "df1=df[['user_id', 'total_amount', 'number_transactions','recency']]\n",
    "df1.rename(columns={'total_amount':'monetary', 'number_transactions':'frequency'}, inplace=True)\n",
    "df1.head(2)"
   ]
  },
  {
   "cell_type": "code",
   "execution_count": 124,
   "metadata": {
    "colab": {
     "base_uri": "https://localhost:8080/",
     "height": 606
    },
    "colab_type": "code",
    "executionInfo": {
     "elapsed": 5336,
     "status": "ok",
     "timestamp": 1591394400739,
     "user": {
      "displayName": "Ioanna Kountouri",
      "photoUrl": "",
      "userId": "18315338504972529308"
     },
     "user_tz": -180
    },
    "id": "IaivvpQDJuZH",
    "outputId": "d4de6073-18e2-481b-f9df-c04e8203988c"
   },
   "outputs": [
    {
     "data": {
      "image/png": "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\n",
      "text/plain": [
       "<Figure size 864x720 with 3 Axes>"
      ]
     },
     "metadata": {
      "needs_background": "light",
      "tags": []
     },
     "output_type": "display_data"
    }
   ],
   "source": [
    "# Plot RFM distributions\n",
    "plt.figure(figsize=(12,10))\n",
    "# Plot distribution of recency\n",
    "plt.subplot(3, 1, 1); sns.distplot(df1['recency'])\n",
    "# Plot distribution of frequency\n",
    "plt.subplot(3, 1, 2); sns.distplot(df1['frequency'])\n",
    "# Plot distribution of monetary value\n",
    "plt.subplot(3, 1, 3); sns.distplot(df1['monetary'])\n",
    "\n",
    "plt.show()"
   ]
  },
  {
   "cell_type": "code",
   "execution_count": 125,
   "metadata": {
    "colab": {
     "base_uri": "https://localhost:8080/",
     "height": 87
    },
    "colab_type": "code",
    "executionInfo": {
     "elapsed": 5324,
     "status": "ok",
     "timestamp": 1591394400740,
     "user": {
      "displayName": "Ioanna Kountouri",
      "photoUrl": "",
      "userId": "18315338504972529308"
     },
     "user_tz": -180
    },
    "id": "bgQdE2TYMjte",
    "outputId": "79456ac1-e2da-4531-9253-a34ff758e314"
   },
   "outputs": [
    {
     "name": "stdout",
     "output_type": "stream",
     "text": [
      "      monetary  frequency  recency\n",
      "0.25    386.64       13.0      7.0\n",
      "0.50   2155.30       50.0     19.0\n",
      "0.75   6928.31      144.0    101.0 <class 'pandas.core.frame.DataFrame'>\n"
     ]
    }
   ],
   "source": [
    "quartiles = df1.quantile(q=[0.25,0.50,0.75])\n",
    "print(quartiles, type(quartiles))"
   ]
  },
  {
   "cell_type": "code",
   "execution_count": 126,
   "metadata": {
    "colab": {
     "base_uri": "https://localhost:8080/",
     "height": 703
    },
    "colab_type": "code",
    "executionInfo": {
     "elapsed": 5638,
     "status": "ok",
     "timestamp": 1591394401070,
     "user": {
      "displayName": "Ioanna Kountouri",
      "photoUrl": "",
      "userId": "18315338504972529308"
     },
     "user_tz": -180
    },
    "id": "okKg7LFLFDZf",
    "outputId": "c7311744-8761-4ea4-b498-df988bb8069d"
   },
   "outputs": [
    {
     "name": "stdout",
     "output_type": "stream",
     "text": [
      "     user_id  monetary  frequency  recency r_quartile f_quartile m_quartile\n",
      "0     user_0   6925.08        520        5          1          1          2\n",
      "1     user_1  12955.54        133       11          2          2          1\n",
      "2    user_10   5438.92        123        4          1          2          2\n",
      "3   user_100   4230.10         55       80          3          2          2\n",
      "4  user_1000    843.12         43       10          2          3          3\n",
      "<class 'pandas.core.frame.DataFrame'>\n",
      "RangeIndex: 14821 entries, 0 to 14820\n",
      "Data columns (total 7 columns):\n",
      " #   Column      Non-Null Count  Dtype   \n",
      "---  ------      --------------  -----   \n",
      " 0   user_id     14821 non-null  object  \n",
      " 1   monetary    14821 non-null  float64 \n",
      " 2   frequency   14821 non-null  int64   \n",
      " 3   recency     14821 non-null  int64   \n",
      " 4   r_quartile  14821 non-null  category\n",
      " 5   f_quartile  14821 non-null  category\n",
      " 6   m_quartile  14821 non-null  category\n",
      "dtypes: category(3), float64(1), int64(2), object(1)\n",
      "memory usage: 507.3+ KB\n",
      "None\n"
     ]
    },
    {
     "name": "stderr",
     "output_type": "stream",
     "text": [
      "/usr/local/lib/python3.6/dist-packages/ipykernel_launcher.py:1: SettingWithCopyWarning: \n",
      "A value is trying to be set on a copy of a slice from a DataFrame.\n",
      "Try using .loc[row_indexer,col_indexer] = value instead\n",
      "\n",
      "See the caveats in the documentation: https://pandas.pydata.org/pandas-docs/stable/user_guide/indexing.html#returning-a-view-versus-a-copy\n",
      "  \"\"\"Entry point for launching an IPython kernel.\n",
      "/usr/local/lib/python3.6/dist-packages/ipykernel_launcher.py:2: SettingWithCopyWarning: \n",
      "A value is trying to be set on a copy of a slice from a DataFrame.\n",
      "Try using .loc[row_indexer,col_indexer] = value instead\n",
      "\n",
      "See the caveats in the documentation: https://pandas.pydata.org/pandas-docs/stable/user_guide/indexing.html#returning-a-view-versus-a-copy\n",
      "  \n",
      "/usr/local/lib/python3.6/dist-packages/ipykernel_launcher.py:3: SettingWithCopyWarning: \n",
      "A value is trying to be set on a copy of a slice from a DataFrame.\n",
      "Try using .loc[row_indexer,col_indexer] = value instead\n",
      "\n",
      "See the caveats in the documentation: https://pandas.pydata.org/pandas-docs/stable/user_guide/indexing.html#returning-a-view-versus-a-copy\n",
      "  This is separate from the ipykernel package so we can avoid doing imports until\n"
     ]
    }
   ],
   "source": [
    "df1['r_quartile'] = pd.qcut(df1['recency'], 4, ['1','2','3','4'])\n",
    "df1['f_quartile'] = pd.qcut(df1['frequency'], 4, ['4','3','2','1'])\n",
    "df1['m_quartile'] = pd.qcut(df1['monetary'], 4, ['4','3','2','1'])\n",
    "\n",
    "print(df1.head(5))\n",
    "print(df1.info())"
   ]
  },
  {
   "cell_type": "markdown",
   "metadata": {
    "colab_type": "text",
    "id": "ysOA6_55eUTT"
   },
   "source": [
    "##Calculate the RFM Score by concatenate the 3 columns"
   ]
  },
  {
   "cell_type": "markdown",
   "metadata": {
    "colab_type": "text",
    "id": "w6slcHwyel3x"
   },
   "source": [
    "Here, each of the three variables(Recency, Frequency, and Monetary) consists of four equal groups, which creates 64 (4x4x4) different customer segments."
   ]
  },
  {
   "cell_type": "code",
   "execution_count": 127,
   "metadata": {
    "colab": {
     "base_uri": "https://localhost:8080/",
     "height": 301
    },
    "colab_type": "code",
    "executionInfo": {
     "elapsed": 5627,
     "status": "ok",
     "timestamp": 1591394401071,
     "user": {
      "displayName": "Ioanna Kountouri",
      "photoUrl": "",
      "userId": "18315338504972529308"
     },
     "user_tz": -180
    },
    "id": "2aICmu4mGXRW",
    "outputId": "d4968045-a702-454c-8c65-c3af79bdecd4"
   },
   "outputs": [
    {
     "name": "stderr",
     "output_type": "stream",
     "text": [
      "/usr/local/lib/python3.6/dist-packages/ipykernel_launcher.py:1: SettingWithCopyWarning: \n",
      "A value is trying to be set on a copy of a slice from a DataFrame.\n",
      "Try using .loc[row_indexer,col_indexer] = value instead\n",
      "\n",
      "See the caveats in the documentation: https://pandas.pydata.org/pandas-docs/stable/user_guide/indexing.html#returning-a-view-versus-a-copy\n",
      "  \"\"\"Entry point for launching an IPython kernel.\n"
     ]
    },
    {
     "data": {
      "text/html": [
       "<div>\n",
       "<style scoped>\n",
       "    .dataframe tbody tr th:only-of-type {\n",
       "        vertical-align: middle;\n",
       "    }\n",
       "\n",
       "    .dataframe tbody tr th {\n",
       "        vertical-align: top;\n",
       "    }\n",
       "\n",
       "    .dataframe thead th {\n",
       "        text-align: right;\n",
       "    }\n",
       "</style>\n",
       "<table border=\"1\" class=\"dataframe\">\n",
       "  <thead>\n",
       "    <tr style=\"text-align: right;\">\n",
       "      <th></th>\n",
       "      <th>user_id</th>\n",
       "      <th>monetary</th>\n",
       "      <th>frequency</th>\n",
       "      <th>recency</th>\n",
       "      <th>r_quartile</th>\n",
       "      <th>f_quartile</th>\n",
       "      <th>m_quartile</th>\n",
       "      <th>RFM_Score</th>\n",
       "    </tr>\n",
       "  </thead>\n",
       "  <tbody>\n",
       "    <tr>\n",
       "      <th>0</th>\n",
       "      <td>user_0</td>\n",
       "      <td>6925.08</td>\n",
       "      <td>520</td>\n",
       "      <td>5</td>\n",
       "      <td>1</td>\n",
       "      <td>1</td>\n",
       "      <td>2</td>\n",
       "      <td>112</td>\n",
       "    </tr>\n",
       "    <tr>\n",
       "      <th>1</th>\n",
       "      <td>user_1</td>\n",
       "      <td>12955.54</td>\n",
       "      <td>133</td>\n",
       "      <td>11</td>\n",
       "      <td>2</td>\n",
       "      <td>2</td>\n",
       "      <td>1</td>\n",
       "      <td>221</td>\n",
       "    </tr>\n",
       "    <tr>\n",
       "      <th>2</th>\n",
       "      <td>user_10</td>\n",
       "      <td>5438.92</td>\n",
       "      <td>123</td>\n",
       "      <td>4</td>\n",
       "      <td>1</td>\n",
       "      <td>2</td>\n",
       "      <td>2</td>\n",
       "      <td>122</td>\n",
       "    </tr>\n",
       "    <tr>\n",
       "      <th>3</th>\n",
       "      <td>user_100</td>\n",
       "      <td>4230.10</td>\n",
       "      <td>55</td>\n",
       "      <td>80</td>\n",
       "      <td>3</td>\n",
       "      <td>2</td>\n",
       "      <td>2</td>\n",
       "      <td>322</td>\n",
       "    </tr>\n",
       "    <tr>\n",
       "      <th>4</th>\n",
       "      <td>user_1000</td>\n",
       "      <td>843.12</td>\n",
       "      <td>43</td>\n",
       "      <td>10</td>\n",
       "      <td>2</td>\n",
       "      <td>3</td>\n",
       "      <td>3</td>\n",
       "      <td>233</td>\n",
       "    </tr>\n",
       "  </tbody>\n",
       "</table>\n",
       "</div>"
      ],
      "text/plain": [
       "     user_id  monetary  frequency  ...  f_quartile m_quartile RFM_Score\n",
       "0     user_0   6925.08        520  ...           1          2       112\n",
       "1     user_1  12955.54        133  ...           2          1       221\n",
       "2    user_10   5438.92        123  ...           2          2       122\n",
       "3   user_100   4230.10         55  ...           2          2       322\n",
       "4  user_1000    843.12         43  ...           3          3       233\n",
       "\n",
       "[5 rows x 8 columns]"
      ]
     },
     "execution_count": 127,
     "metadata": {
      "tags": []
     },
     "output_type": "execute_result"
    }
   ],
   "source": [
    "df1['RFM_Score'] = df1.r_quartile.astype(str)+ df1.f_quartile.astype(str) + df1.m_quartile.astype(str)\n",
    "df1.head()"
   ]
  },
  {
   "cell_type": "code",
   "execution_count": 128,
   "metadata": {
    "colab": {
     "base_uri": "https://localhost:8080/",
     "height": 228
    },
    "colab_type": "code",
    "executionInfo": {
     "elapsed": 5620,
     "status": "ok",
     "timestamp": 1591394401072,
     "user": {
      "displayName": "Ioanna Kountouri",
      "photoUrl": "",
      "userId": "18315338504972529308"
     },
     "user_tz": -180
    },
    "id": "rvtQofFXHIKB",
    "outputId": "9241895a-7ebc-4695-cded-0ec4c39a7741"
   },
   "outputs": [
    {
     "name": "stdout",
     "output_type": "stream",
     "text": [
      "444    2057\n",
      "111    1589\n",
      "344     719\n",
      "333     701\n",
      "211     618\n",
      "       ... \n",
      "424       4\n",
      "141       2\n",
      "114       2\n",
      "314       1\n",
      "241       1\n",
      "Name: RFM_Score, Length: 62, dtype: int64\n"
     ]
    }
   ],
   "source": [
    "print(df1['RFM_Score'].value_counts())\n",
    "#print(df1.groupby('RFM_Score').agg('RFM_Score').value_counts())"
   ]
  },
  {
   "cell_type": "code",
   "execution_count": 129,
   "metadata": {
    "colab": {
     "base_uri": "https://localhost:8080/",
     "height": 362
    },
    "colab_type": "code",
    "executionInfo": {
     "elapsed": 6399,
     "status": "ok",
     "timestamp": 1591394401859,
     "user": {
      "displayName": "Ioanna Kountouri",
      "photoUrl": "",
      "userId": "18315338504972529308"
     },
     "user_tz": -180
    },
    "id": "ewvq741jV36b",
    "outputId": "ccd5ae5e-52e8-4e7b-b6a4-3721e6ed6207"
   },
   "outputs": [
    {
     "data": {
      "text/plain": [
       "<matplotlib.axes._subplots.AxesSubplot at 0x7fb0fe06fac8>"
      ]
     },
     "execution_count": 129,
     "metadata": {
      "tags": []
     },
     "output_type": "execute_result"
    },
    {
     "data": {
      "image/png": "iVBORw0KGgoAAAANSUhEUgAABCEAAAFHCAYAAACf51YeAAAABHNCSVQICAgIfAhkiAAAAAlwSFlzAAALEgAACxIB0t1+/AAAADh0RVh0U29mdHdhcmUAbWF0cGxvdGxpYiB2ZXJzaW9uMy4yLjEsIGh0dHA6Ly9tYXRwbG90bGliLm9yZy+j8jraAAAgAElEQVR4nO3de7gkZX0n8O8PRuJ4RYWgAXGM8mBQI6MIJCYb74JRYaPxURNFg5JVRs3qekt213jLxexq1kXdEGXV3NAYs5IEROItupEgOlxEQhwvBFxUFLzF0QR894+u0fZwLj1zeqqr+3w+z9PPVL/1/t7+1XtO1en+TXVVtdYCAAAAsLftM+sEAAAAgI1BEQIAAADohSIEAAAA0AtFCAAAAKAXihAAAABALxQhAAAAgF5smnUCe+qAAw5oW7ZsmXUaAAAAwJiPf/zjX2mtHbjcurktQmzZsiUXXnjhrNMAAAAAxlTVlSut83UMAAAAoBeKEAAAAEAvFCEAAACAXihCAAAAAL1QhAAAAAB6oQgBAAAA9EIRAgAAAOiFIgQAAADQC0UIAAAAoBeKEAAAAEAvFCEAAACAXmyadQIAMG7z1m2rrt+5/bSeMgEAYNqcCQEAAAD0QhECAAAA6IUiBAAAANALRQgAAACgF4oQAAAAQC8UIQAAAIBeKEIAAAAAvVCEAAAAAHqhCAEAAAD0QhECAAAA6IUiBAAAANALRQgAAACgF4oQAAAAQC8UIQAAAIBeKEIAAAAAvVCEAAAAAHqhCAEAAAD0QhECAAAA6IUiBAAAANALRQgAAACgF4oQAAAAQC8UIQAAAIBeKEIAAAAAvVCEAAAAAHoxcRGiqvatqu1V9dfd87tW1T9U1Y6qentV7de1/0j3fEe3fsvYGC/p2q+oqkeMtR/Xte2oqhdPb/MAAACAodidMyGem+Tysee/m+S1rbW7J7k+ycld+8lJru/aX9v1S1UdkeQJSe6Z5Lgkb+gKG/smeX2S45MckeSJXV8AAABggUxUhKiqQ5L8fJI3dc8ryYOTvLPr8tYkJ3bLJ3TP061/SNf/hCRntta+21r7XJIdSY7uHjtaa59trf1rkjO7vgAAAMACmfRMiN9P8sIk3+ue3yHJ11prN3TPr05ycLd8cJKrkqRb//Wu//fbl8Ss1A4AAAAskDWLEFX1qCRfbq19vId81srllKq6sKouvPbaa2edDgAAALAbJjkT4gFJHlNVn8/oqxIPTvI/kuxfVZu6Pock+UK3/IUkd06Sbv1tk3x1vH1JzErtN9FaO721dlRr7agDDzxwgtQBAACAoVizCNFae0lr7ZDW2paMLiz5/tbaLyX5QJLHdd1OSvLubvms7nm69e9vrbWu/Qnd3TPumuSwJBck+ViSw7q7bezXvcZZU9k6AAAAYDA2rd1lRS9KcmZVvTLJ9iRv7trfnOSPqmpHkusyKiqktXZZVb0jyaeS3JDk1NbajUlSVduSnJtk3yRntNYuW0deAAAAwADtVhGitfbBJB/slj+b0Z0tlvb5TpJfXCH+VUletUz72UnO3p1cAAAAgPky6d0xAAAAANZFEQIAAADohSIEAAAA0AtFCAAAAKAXihAAAABALxQhAAAAgF4oQgAAAAC9UIQAAAAAeqEIAQAAAPRCEQIAAADohSIEAAAA0AtFCAAAAKAXihAAAABALxQhAAAAgF4oQgAAAAC9UIQAAAAAeqEIAQAAAPRCEQIAAADohSIEAAAA0AtFCAAAAKAXihAAAABALxQhAAAAgF4oQgAAAAC9UIQAAAAAeqEIAQAAAPRCEQIAAADohSIEAAAA0ItNs04AYJo2b9226vqd20/rKRMAAGApZ0IAAAAAvVCEAAAAAHqhCAEAAAD0QhECAAAA6IUiBAAAANALRQgAAACgF4oQAAAAQC8UIQAAAIBeKEIAAAAAvVCEAAAAAHqhCAEAAAD0QhECAAAA6IUiBAAAANALRQgAAACgF4oQAAAAQC8UIQAAAIBeKEIAAAAAvVCEAAAAAHqhCAEAAAD0QhECAAAA6IUiBAAAANCLNYsQVXXzqrqgqi6uqsuq6mVd+12r6h+qakdVvb2q9uvaf6R7vqNbv2VsrJd07VdU1SPG2o/r2nZU1Yunv5kAAADArE1yJsR3kzy4tXafJEcmOa6qjk3yu0le21q7e5Lrk5zc9T85yfVd+2u7fqmqI5I8Ick9kxyX5A1VtW9V7Zvk9UmOT3JEkid2fQEAAIAFsmmtDq21luRb3dObdY+W5MFJntS1vzXJbyZ5Y5ITuuUkeWeS06qquvYzW2vfTfK5qtqR5Oiu347W2meTpKrO7Pp+anc2ZPPWbauu37n9tN0ZDgAAAJiyNYsQSdKdrfDxJHfP6KyFzyT5Wmvthq7L1UkO7pYPTnJVkrTWbqiqrye5Q9d+/tiw4zFXLWk/ZoU8TklySpIceuihk6QOAAAAM+M/zH/YRBembK3d2Fo7MskhGZ29cI+9mtXKeZzeWjuqtXbUgQceOIsUAAAAgD20W3fHaK19LckHkvxUkv2rateZFIck+UK3/IUkd06Sbv1tk3x1vH1JzErtAAAAwAKZ5O4YB1bV/t3y5iQPS3J5RsWIx3XdTkry7m75rO55uvXv764rcVaSJ3R3z7hrksOSXJDkY0kO6+62sV9GF688axobBwAAAAzHJNeEuFOSt3bXhdgnyTtaa39dVZ9KcmZVvTLJ9iRv7vq/OckfdReevC6jokJaa5dV1TsyuuDkDUlOba3dmCRVtS3JuUn2TXJGa+2yqW0hAAAAMAiT3B3jkiRbl2n/bH5wd4vx9u8k+cUVxnpVklct0352krMnyBcAAACYU7t1TQgAAACAPaUIAQAAAPRCEQIAAADohSIEAAAA0AtFCAAAAKAXihAAAABALxQhAAAAgF5smnUCAACw1Oat29bss3P7aT1kAsA0ORMCAAAA6IUiBAAAANALRQgAAACgF4oQAAAAQC8UIQAAAIBeKEIAAAAAvVCEAAAAAHqhCAEAAAD0QhECAAAA6IUiBAAAANALRQgAAACgF4oQAAAAQC8UIQAAAIBeKEIAAAAAvVCEAAAAAHqhCAEAAAD0QhECAAAA6IUiBAAAANALRQgAAACgF4oQAAAAQC82zToBAH5g89Zta/bZuf20HjIBAIDpcyYEAAAA0AtFCAAAAKAXihAAAABALxQhAAAAgF4oQgAAAAC9UIQAAAAAeqEIAQAAAPRCEQIAAADohSIEAAAA0ItNs04ApmXz1m2rrt+5/bSeMgEAAGA5zoQAAAAAeqEIAQAAAPRCEQIAAADohSIEAAAA0AsXplwQa12UMXFhRgAAAGbLmRAAAABALxQhAAAAgF4oQgAAAAC9UIQAAAAAerFmEaKq7lxVH6iqT1XVZVX13K799lV1XlV9uvv3dl17VdXrqmpHVV1SVfcdG+ukrv+nq+qksfb7VdWlXczrqqr2xsYCAAAAszPJmRA3JHl+a+2IJMcmObWqjkjy4iTva60dluR93fMkOT7JYd3jlCRvTEZFiyQvTXJMkqOTvHRX4aLr84yxuOPWv2kAAADAkKxZhGitXdNa+0S3/M0klyc5OMkJSd7adXtrkhO75ROSvK2NnJ9k/6q6U5JHJDmvtXZda+36JOclOa5bd5vW2vmttZbkbWNjAQAAAAtit64JUVVbkmxN8g9JDmqtXdOt+mKSg7rlg5NcNRZ2dde2WvvVy7QDAAAAC2TTpB2r6lZJ/iLJr7XWvjF+2YbWWquqthfyW5rDKRl9xSOHHnro3n45AACYmc1bt626fuf203rKBGB6JipCVNXNMipA/Elr7V1d85eq6k6ttWu6r1R8uWv/QpI7j4Uf0rV9IckDl7R/sGs/ZJn+N9FaOz3J6Uly1FFH7fWiBwDArPgACsAimuTuGJXkzUkub629ZmzVWUl23eHipCTvHmt/SneXjGOTfL372sa5SR5eVbfrLkj58CTnduu+UVXHdq/1lLGxAAAAgAUxyZkQD0jy5CSXVtVFXduvJ/mdJO+oqpOTXJnk8d26s5M8MsmOJN9O8rQkaa1dV1WvSPKxrt/LW2vXdcvPSvKWJJuTnNM9AAAAgAWyZhGitfaRJLXC6ocs078lOXWFsc5IcsYy7RcmuddauQAAAADza7fujgEAAACwpxQhAAAAgF4oQgAAAAC9UIQAAAAAeqEIAQAAAPRCEQIAAADohSIEAAAA0AtFCAAAAKAXihAAAABALzbNOgEAgKU2b9226vqd20/rKRMAYJqcCQEAAAD0QhECAAAA6IUiBAAAANALRQgAAACgF4oQAAAAQC8UIQAAAIBeKEIAAAAAvdg06wQAAACWs3nrtlXX79x+Wk+ZsKfW+hkmfo4bjTMhAAAAgF4oQgAAAAC9UIQAAAAAeqEIAQAAAPRCEQIAAADohSIEAAAA0AtFCAAAAKAXihAAAABALxQhAAAAgF4oQgAAAAC9UIQAAAAAeqEIAQAAAPRCEQIAAADoxaZZJwAAALCoNm/dtur6ndtP6ykTGAZnQgAAAAC9UIQAAAAAeqEIAQAAAPRCEQIAAADohSIEAAAA0AtFCAAAAKAXihAAAABALxQhAAAAgF4oQgAAAAC9UIQAAAAAeqEIAQAAAPRCEQIAAADohSIEAAAA0AtFCAAAAKAXihAAAABALxQhAAAAgF5smnUCwPRs3rpt1fU7t5/WUyYAAAA3teaZEFV1RlV9uao+OdZ2+6o6r6o+3f17u669qup1VbWjqi6pqvuOxZzU9f90VZ001n6/qrq0i3ldVdW0NxIAAACYvUm+jvGWJMctaXtxkve11g5L8r7ueZIcn+Sw7nFKkjcmo6JFkpcmOSbJ0Uleuqtw0fV5xljc0tcCAAAAFsCaRYjW2t8luW5J8wlJ3totvzXJiWPtb2sj5yfZv6rulOQRSc5rrV3XWrs+yXlJjuvW3aa1dn5rrSV529hYAAAAwALZ0wtTHtRau6Zb/mKSg7rlg5NcNdbv6q5ttfarl2lfVlWdUlUXVtWF11577R6mDgAAAMzCuu+O0Z3B0KaQyySvdXpr7ajW2lEHHnhgHy8JAAAATMmeFiG+1H2VIt2/X+7av5DkzmP9DunaVms/ZJl2AAAAYMHsaRHirCS77nBxUpJ3j7U/pbtLxrFJvt59bePcJA+vqtt1F6R8eJJzu3XfqKpju7tiPGVsLAAAAGCBbFqrQ1X9WZIHJjmgqq7O6C4Xv5PkHVV1cpIrkzy+6352kkcm2ZHk20meliStteuq6hVJPtb1e3lrbdfFLp+V0R04Nic5p3sAAAAAC2bNIkRr7YkrrHrIMn1bklNXGOeMJGcs035hknutlQcAAAAw39Z9YUoAAACASShCAAAAAL1QhAAAAAB6oQgBAAAA9EIRAgAAAOiFIgQAAADQC0UIAAAAoBeKEAAAAEAvNs06AQDgh23eum3V9Tu3n9ZTJgAA0+VMCAAAAKAXihAAAABALxQhAAAAgF4oQgAAAAC9UIQAAAAAeqEIAQAAAPRCEQIAAADohSIEAAAA0AtFCAAAAKAXihAAAABALxQhAAAAgF4oQgAAAAC9UIQAAAAAeqEIAQAAAPRCEQIAAADohSIEAAAA0ItNs05gKDZv3bbq+p3bT+spEwBgvfxdBxLHAhgiRQiAMd6sAADA3qMIAXyfD+AAAMDepAgBAAtGQZHE7wEAw6QIwfd5swKLwb4MAIvD33UWjSIEdNY6wCcO8jAP7MsAAMOlCAEAAAADtWj/waIIAQDAQtrop7Ev2gcXNq6Nvi8vmn1mnQAAAACwMShCAAAAAL1QhAAAAAB6oQgBAAAA9EIRAgAAAOiFIgQAAADQC0UIAAAAoBeKEAAAAEAvFCEAAACAXmyadQKLYvPWbauu37n9tJ4yAQDWy991IFn7WJA4HsDuUoQAmCIfXAAAYGWKEEyND1+wGOzLQOJYAIvCvszQKEIAwBLesAHA4vB3fVgUIWCKHOAAYHH4uw4wfYoQwNS4eBMsBvsysItCDCyGIe3Lg7lFZ1UdV1VXVNWOqnrxrPMBAAAApmsQRYiq2jfJ65Mcn+SIJE+sqiNmmxUAAAAwTUP5OsbRSXa01j6bJFV1ZpITknxqplnRqyGdIjQr5oBF4PfYHOArLYn9ABaFfdkcTNtQihAHJ7lq7PnVSY6ZUS4z4RcbRuwLsBjsy2A/SMwBLIpp7svVWltvPutWVY9Lclxr7end8ycnOaa1tm1Jv1OSnNI9PTzJFasMe0CSr6wjrY0eP4Qc5j1+CDnMe/wQcpj3+CHkMO/xQ8hh3uOHkMO8xw8hh3mPH0IO8x4/hBzmPX4IOcx7/BBymPf4PnK4S2vtwGXXtNZm/kjyU0nOHXv+kiQvWeeYF4pf989lrrdh1vFDyGHe44eQw7zHDyGHeY8fQg7zHj+EHOY9fgg5zHv8EHKY9/gh5DDv8UPIYd7jh5DDvMfPOodBXJgyyceSHFZVd62q/ZI8IclZM84JAAAAmKJBXBOitXZDVW1Lcm6SfZOc0Vq7bMZpAQAAAFM0iCJEkrTWzk5y9hSHPF38us06h3mPH0IO8x4/hBzmPX4IOcx7/BBymPf4IeQw7/FDyGHe44eQw7zHDyGHeY8fQg7zHj+EHOY9fqY5DOLClAAAAMDiG8o1IQAAAIAFpwgBAAAA9EIRAgAAAOiFIgSwIVTVPXaj782WaTtgwth9qmqfbnm/qrpvVd1+8kxXHLeX/Lu+U92GqnrWnsYuGedW0xhnD153Gj+/x0wpl7mcg2ltfzfWhp6DWW1/99qDmIN5VlX3nXUOszatOZjXY8HYOPblObbR9+X1bv/CFyHm9YPHtN60d2Nt6DlwkDcHnfdO8FoPqqqrk1xTVe+tqi27GX9ikmuSfKGqTkjy4SS/l+SSqnr0HmW9e6+/rvy7Mda1DVX1vCWP5yd5+a7nk+Swik9N8Pr3rqrzq+qqqjq9qm43tu6CCeIfUFWXV9VlVXVMVZ2X5GPdeD81SZJV9QtLHo9Ncvqu55OMsYrBz8Fe3v7EHKy5/V0OCzsHVXXpBH3uXFVnVtWHq+rXx9/fVNX/mfB17lFV51TV31TV3arqLVX1taq6oKp+YoL4+y553C/JWVW1tdb5Br6POVjv9ndj7LU5yBwcC2adf9dvQ+/LQ/89noc52BvbP5hbdO5F701y6GodqupBSf4oyc2r6hNJTmmtfX4sftXJrdGb9j9I8r2q+g9Jfj3Jt5IcXlXPbK391RrxS9+YV5KXVNXNk6S19prV4iew0efgU1lj+7sc7p3kD5McnOScJC9qrV3frbugtXb0GvEPSPKmJN9L8itJXpnkx6tqvySPb619dI34pQfySvL6qtqUJK21d621DatYcw7Wu/1dv5nOQVW9bqVVSfZfK/8kr07yiNbaZVX1uCTnVdWTW2vnd2Os5aVJ7pNkc5KLk9y/tXZFVd0lyV8kWWs/mHX+696GJC/L6HbLl4295r5Jbj3Jiy9zLPj+qiSTFNPemOQ3k5yf5OlJPlJVj2mtfSbJTYqsy3htksd3r/U3SU5srX2k+yP7P5M8YIIx3p7k3CRfzg/m4JZJHp2kJVnr93je52Bd25+YgylsfzL/c7DSh5tKcscJ8j8jo2PW+UlOTvKhqnp0a+2rSe4yQXwyuv3c72U0B+9P8qIkT0vyqCSnJXnIGvEXdq//3bG2OyR5TUZz8ODVggcwB+vd/mT9czDXx4IB5J/Yl4fwezzvc7Cu7V/OQhQhBvDGfaZv2hNz4A2bP3SdpyV5fn74ILnLEyfIf7/W2mVJ0lp7Z1VdnuRdVfWi7vXX1Fr7YpJU1T+31q7o2q6s7iyhoeffxa5nG+6Z5L9n9HN7WWvt21V1UmvtZRO+/G9l9IfyhmXWTfL6t26tvadb/m9V9fEk76mqJ2eyObhZa+3SJKmqa1trH0mS1tonqmrzBPFJ8tNJfifJx1prb+zGemBr7WkTxs/7HKx3+xNzsN7tT+Z/Dt6e5E9WyPXmE8Qf2Fr7X93ys6vql5P8XY3Orpv0eHjrXf+JUlWvaK2d2bX/VVVNckz7xSTPSfLq1to53Tifa609aMLXn/UcrHf7k/XPwbwfC2adf2JfHsLv8bzPwXq3/6Zaa3P/SPLNJKckOWmZx1cmiL94yfN7JrkiyYlJPjFB/Pax5U8uWTdJ/KFJ/jzJ7ya5Rdf2WXMw+Rwk+U6SV2RUDFn6+NqEYyydgwcl+XSSY/dgDi7fgzm4f5L3JXnmWNvn+pqD9W7/QObg/Ul+eoV1a46TUaX3jkvaDklyUZJvTrL9Sfbplo8ea9936X4xxPynsQ1j/U9I8n+TPG439+W/T3K/FdZdNUH8xUluu6TtJ7vf5a9OEj+2fOKSdbuz/fskeW6SDyQ5eqPNwXq23xysf/sXZA4+nuRe6/gduCzJzZe0PTTJjiTXTJjDJWPLz9rDObhVRgX6P8/ovc7czME0tn8KczDXx4JZ5z+Nbej6ze2+PJDf47mfg/Vs/7LjrSd4KI/M+QePsf579KbdHHjDNo05WO/2D2QObp+uiLUnj+6Afp9l2m+b5DcmiL//0j8SXfuWJL889PynsQ1LYm6Z0f8A/d1uxByeUcV/uXUHTRD/pCTHLtN+aJI/nCD+Mcv9DJLcLckL9+Bn8mNJ3rGbv8eHJzlgEeZgT7bfHKx/PxjgHBy8B3Pws0kOXWHdURPE/8ckP7dM+9Yk502Yw68mudUy7XdP8vu7OQdbM/q7du28zME0t38dczDXx4L17svrzX8a27AkZu725YH8Hi/MHOzJ9i/3qG6wuVajC999p7X27T2Mf2hGE3nxkvbbJtnWWnvVGvH3T3Jpa+07S9q3JPmZ1tof70Yut8zolPhjWmv/bjfiNvQcVNXhSa5rrV27zLqDWmtfmmCMJ2V0UD1/SfuhSf5La+0Za8Q/JsnfLv0ZVNXdkjy2tfbqCTZlV8yPJfn9jA5MPz5hzOEZFQu+ssy6Nedgvdvf9Z3pHMCiqqofba19eY7jJzoOwyKrqsrotOhvzDqXWTEHLIKN/ns8le1fTwXDw8Nj2I8kPzrL+CnlMNH/+k0wzjlDj09ymyS/ndFFYp+0ZN0b9nb8EHLI6AJNb0zy+owuevSbSS7N6H9e7jT0+FXGuGQ3crj9kscdknw+ye2S3H4O42+/O/ETjH/6osdndBbhr2b0FbsHLFn3nyd8nXWNMYD4WyR5YZIXZPSd6acmOSuja1jd5H/0ph2/l3I4aXdzWGbMf1rn799M46c1RjfOwu/LC3IsmOm+vJeOBRt+X15v/EKcCbGaqjqntXb8osdX1W2SvCSjr1Cc01r707F1b2itrXq7ywWIv2NG1z74XpL/muTZSR6b5PIkz22tXbNa/DTG2Evxv5DkHyeMX3orzMroO2hbk1Rr7bq9Gb+XckiST+xG/Ep3cakkf91au9PA4/8io6+/nJ/R3UX+LaMP8t+tqk+01ta6S8264oeQQ1W9J6OLmt4yo9NQ/yTJn2Z0fZqHttZOGHL8lHL4XpIrlzQfkuTqJK2tcWbQvMd3Y6x0a9/K6Gtfhyx4/JsyetN7QZInJ/lQa+153bpJ9+V1jTGA+HckuSqjC14fntHf0rdndGr5HVtrT96b8UPIoaq+mR9cdG7XxZpvkeTbGe1Ltxly/JRymPW+ONN9eUGOBbPej4ZwLJjrfXkax4KbjLkIRYgBfHCYaXw3xqw/OMw6fggfHGYdP4QPDrP+8HNjkg/lBwfIcce21la9CvQA4i9qrR059vw3kjwyoz9y502wH6wrfgg5VNX21trWbvmfW2uHjq37obGHGD+lHJ6f5GFJXtB+cEXzz7XW7rrWay9CfNf/xoyOBeP7UuueH9xa22/B4y9prf1kt7wpyRuSHJDRXXLO3/X7tTfHGED8Ra21I6uqklyT0VlErXt+8a6x91b8EHKo0Z3P9s9oX/pS17Y7++JM46eUw6z3xZnuywtyLJj1fjSEY8Fc78vTOBbcRFvHaRRDeSS5MaMLM35gmcfORY/vxrhoyfPfyOgCj3fIZHclmPf48bsy/PNqY++tMQYQ//wk70ly77G2z02y7dOIH0IOST6Z5LAV1k1ycc5Zx1+e7gKvY21PzeiqyFfu7fgh5JAfvrjpK5esu3To8VMc45CMrkD9moxuVby7F3ac9/hPZ+WLeE2yL817/D8u0/bSjP4ufnrCOVzXGAOIv2hs+Ywl6y7e2/EDyuF+Gb1HfE5GF27e3X1ppvHrHWMA++JM9+UFORbMdD8awrGg6zfX+/I0jgU/NN56gofyyOw/OMw0vus36w8Os46f+QeHWcd3/Wb6wWHWOWR0V5XDV1h34hzEvzqjs16Wth+Xyf7Qryt+CDkkeXlWvoLzO4ceP60xxmIek9EZYl/cnbh5j09yapa500u37tkbIP6Pkxy3TPvTk/zbhHO4rjEGEP+mFfajuyX5yN6OH0oOXf99Mnrj/+Ek/2/SuKHEr2eMAeyLM92XF+RYMNP9aAjHgrH+c70vT+NY8P2x1hM8lEdm/8FhpvFdv1l/cJh1/Mw/OMw6fknMTD94zDKHJPdI8pClc5ll/oDOWfzxfcQPIYcB/wwmip92Dhl9B/VeGym+63t0kvt3y0ckeV6SR4qfLH4IOeyl+J9P93XivR0/hByWxP9sRteM2tM57D1+WmMsGe9texorfhg57IrfnX1xSPHrHSPJnTK6o92evvZcx7e2MS5M+bTW2v/eqPFDyGHe44eQw57EV9XmJHdrrX1yFvGzyKGqnpPR/1pcnuTIjC7o+e5u3STXFpl1/LOTbJtV/BBymPf4KeUw69/DmcZ3/V6a5Pgkm5Kcl+SYjL6i+LAk57a1bxu9oeOHkMO8xw8hh2Xij07ywXmJn1IOZy1tSvKgjE4LT2vtMeJXN+sc5j1+L+WQJA/eKPHLWk8FYx4eWfLd+o0WP4Qc5j1+CDnMe3xfOWR0K8VbdctbklyY0QegZOyaG+KHm8O8xw8hh3mPHxtj34yuvv2NJLfp2jcnuUS8OTSHw4+fUg7bM/o6wAOT/Fz37zXd8s+Jn+hnMNfbMOv4KeXwiY0cv9xjUxZAVV2y0qokBy16/BBymPf4IeQw7/EDyWGf1tq3kqS19vmqeleWk2YAAARiSURBVGCSd1bVXboxxA8/h3mPH0IO8x6fJDe01m5M8u2q+kxr7RvdeDtrdBcd8cPPYd7jh5DDvMdPY4z7JXluRhcsf0Fr7aKq2tla+9CEr7/R44eQw7zHT2OMozZ4/E0sRBEiow8nj0hy/ZL2SvL3GyB+CDnMe/wQcpj3+CHk8KWqOrK1dlGStNa+VVWPSnJGknuLn8isc5j3+CHkMO/xSfKvVXWL1tq3M3rzlySpqtsmmeSDy0aPH0IO8x4/hBzmPX7dY7TWvpfktVX1592/X8pufH7Z6PFDyGHe44eQw7zHrzTo3D+SvDnJz6yw7k8XPX4IOcx7/BBymPf4IeSQ0Z017rjCugeIn+hnONfbMOv4IeQw7/Fdvx9Zof2AjN3CV/xwc5j3+CHkMO/x0xpjSdzPJ/mt3Y0TP5wc5j1+CDnMe3xrG+DClAAAAMAw7DPrBAAAAICNQRECAAAA6IUiBAAAANALRQgAYEVVdWNVXVRVn6yqv6qq/bv2LVW1s1u367FfVT21qlpVPXRsjBO7tset8jqPqqrtVXVxVX2qqn61j+0DAPqlCAEArGZna+3I1tq9klyX5NSxdZ/p1u16/GvXfmmSJ4z1e2KSi1d6gaq6WZLTkzy6tXafJFuTfHA9SdeI9zkAMDD+OAMAk/pokoMn6PfhJEdX1c2q6lZJ7p7kolX63zqje45/NUlaa99trV2RJFV1UFX9ZXeGxMVV9dNd+/O6szM+WVW/1rVtqaorquptST6Z5M5V9YKq+lhVXVJVL9vTDQcApkMRAgBYU1Xtm+QhSc4aa77b2FcxXj/W3pL8bZJHJDlhScxNtNau6/pcWVV/VlW/NHYWw+uSfKg7Q+K+SS6rqvsleVqSY5Icm+QZVbW1639Ykje01u6Z5PDu+dFJjkxyv6r6d3s4BQDAFChCAACr2VxVFyX5YpKDkpw3tm786xinLok7M6OvZDwhyZ+t9SKttadnVOS4IMl/SnJGt+rBSd7Y9bmxtfb1JD+T5C9ba//SWvtWkncl+dmu/5WttfO75Yd3j+1JPpHkHhkVJQCAGVGEAABWs7O1dmSSuySp/PA1IVbUWrsgyb2THNBa+6cJYy5trb02ycOSPHYP8/2XseVK8ttjhZK7t9bevIfjAgBToAgBAKyptfbtJM9J8vyq2jRh2IuT/PpanarqVlX1wLGmI5Nc2S2/L8kzu377VtVtM7rmxIlVdYuqumWSf9+1LXVukl/prkuRqjq4qn50wtwBgL1g0jcRAMAG11rbXlWXZHS3i+U+9C/tf86EQ1eSF1bVHyTZmdHZDE/t1j03yelVdXKSG5M8s7X20ap6S0Zf3UiSN3W5bVny+u+tqp9I8tGqSpJvJfnlJF+eMC8AYMqqtTbrHAAAAIANwNcxAAAAgF74OgYA0Juq+sskd13S/KLW2rmzyAcA6JevYwAAAAC98HUMAAAAoBeKEAAAAEAvFCEAAACAXihCAAAAAL1QhAAAAAB68f8BZkI+E7TqFucAAAAASUVORK5CYII=\n",
      "text/plain": [
       "<Figure size 1296x360 with 1 Axes>"
      ]
     },
     "metadata": {
      "needs_background": "light",
      "tags": []
     },
     "output_type": "display_data"
    }
   ],
   "source": [
    "# Plot RFM groups relative to monetary value\n",
    "plt.figure(figsize=(18,5))\n",
    "df1.groupby('RFM_Score').agg('monetary').mean().plot(kind='bar', colormap='Blues_r')"
   ]
  },
  {
   "cell_type": "code",
   "execution_count": 130,
   "metadata": {
    "colab": {
     "base_uri": "https://localhost:8080/",
     "height": 362
    },
    "colab_type": "code",
    "executionInfo": {
     "elapsed": 6875,
     "status": "ok",
     "timestamp": 1591394402345,
     "user": {
      "displayName": "Ioanna Kountouri",
      "photoUrl": "",
      "userId": "18315338504972529308"
     },
     "user_tz": -180
    },
    "id": "EAqpNoUNXLT7",
    "outputId": "76f955f5-b4d1-4f6c-af0e-db39b7547dfc"
   },
   "outputs": [
    {
     "data": {
      "text/plain": [
       "<matplotlib.axes._subplots.AxesSubplot at 0x7fb0fe686c88>"
      ]
     },
     "execution_count": 130,
     "metadata": {
      "tags": []
     },
     "output_type": "execute_result"
    },
    {
     "data": {
      "image/png": "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\n",
      "text/plain": [
       "<Figure size 1296x360 with 1 Axes>"
      ]
     },
     "metadata": {
      "needs_background": "light",
      "tags": []
     },
     "output_type": "display_data"
    }
   ],
   "source": [
    "# Plot RFM groups in relation to frequency\n",
    "plt.figure(figsize=(18,5))\n",
    "df1.groupby('RFM_Score').agg('frequency').mean().plot(kind='bar', colormap='summer')"
   ]
  },
  {
   "cell_type": "code",
   "execution_count": 131,
   "metadata": {
    "colab": {
     "base_uri": "https://localhost:8080/",
     "height": 362
    },
    "colab_type": "code",
    "executionInfo": {
     "elapsed": 7697,
     "status": "ok",
     "timestamp": 1591394403176,
     "user": {
      "displayName": "Ioanna Kountouri",
      "photoUrl": "",
      "userId": "18315338504972529308"
     },
     "user_tz": -180
    },
    "id": "H4QV_jR1XktQ",
    "outputId": "2887c028-5f14-4f40-9500-02e82a8a7edc"
   },
   "outputs": [
    {
     "data": {
      "text/plain": [
       "<matplotlib.axes._subplots.AxesSubplot at 0x7fb0fdc35ba8>"
      ]
     },
     "execution_count": 131,
     "metadata": {
      "tags": []
     },
     "output_type": "execute_result"
    },
    {
     "data": {
      "image/png": "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\n",
      "text/plain": [
       "<Figure size 1296x360 with 1 Axes>"
      ]
     },
     "metadata": {
      "needs_background": "light",
      "tags": []
     },
     "output_type": "display_data"
    }
   ],
   "source": [
    "# Plot RFM groups in relation to recency\n",
    "plt.figure(figsize=(18,5))\n",
    "df1.groupby('RFM_Score').agg('recency').mean().plot(kind='bar', colormap='Spectral')"
   ]
  },
  {
   "cell_type": "code",
   "execution_count": 132,
   "metadata": {
    "colab": {
     "base_uri": "https://localhost:8080/",
     "height": 122
    },
    "colab_type": "code",
    "executionInfo": {
     "elapsed": 11123,
     "status": "ok",
     "timestamp": 1591394406609,
     "user": {
      "displayName": "Ioanna Kountouri",
      "photoUrl": "",
      "userId": "18315338504972529308"
     },
     "user_tz": -180
    },
    "id": "WJt9JnPBX2h-",
    "outputId": "affa9c31-f205-4354-95fe-82b7104a01b8"
   },
   "outputs": [
    {
     "name": "stderr",
     "output_type": "stream",
     "text": [
      "/usr/local/lib/python3.6/dist-packages/ipykernel_launcher.py:10: SettingWithCopyWarning: \n",
      "A value is trying to be set on a copy of a slice from a DataFrame.\n",
      "Try using .loc[row_indexer,col_indexer] = value instead\n",
      "\n",
      "See the caveats in the documentation: https://pandas.pydata.org/pandas-docs/stable/user_guide/indexing.html#returning-a-view-versus-a-copy\n",
      "  # Remove the CWD from sys.path while we load stuff.\n"
     ]
    }
   ],
   "source": [
    "# Define rfm_level function\n",
    "def rfm_level(df):\n",
    "    if df['RFM_Score']=='111' or df['RFM_Score']=='112' or df['RFM_Score']=='113' or df['RFM_Score']=='121' or df['RFM_Score']=='122' or df['RFM_Score']=='123' or df['RFM_Score']=='131' or df['RFM_Score']=='211' or df['RFM_Score']=='212' or df['RFM_Score']=='213' or df['RFM_Score']=='221' or df['RFM_Score']=='222' or df['RFM_Score']=='223' or df['RFM_Score']=='231':\n",
    "        return 'Engaged Users'\n",
    "    else:\n",
    "        return 'Churned Users'\n",
    "\n",
    "\n",
    "# Create a new variable RFM_Level\n",
    "df1['RFM_Level'] = df1.apply(rfm_level, axis=1)\n",
    "# Print the header with top 5 rows to the console\n",
    "#df1"
   ]
  },
  {
   "cell_type": "code",
   "execution_count": 133,
   "metadata": {
    "colab": {
     "base_uri": "https://localhost:8080/",
     "height": 105
    },
    "colab_type": "code",
    "executionInfo": {
     "elapsed": 11118,
     "status": "ok",
     "timestamp": 1591394406610,
     "user": {
      "displayName": "Ioanna Kountouri",
      "photoUrl": "",
      "userId": "18315338504972529308"
     },
     "user_tz": -180
    },
    "id": "7tMFetdjaQzH",
    "outputId": "4be5b44a-2f38-498e-e039-5500e0286b8c"
   },
   "outputs": [
    {
     "name": "stdout",
     "output_type": "stream",
     "text": [
      "              recency frequency monetary      \n",
      "                 mean      mean     mean count\n",
      "RFM_Level                                     \n",
      "Churned Users   113.1      40.1   2705.2  9105\n",
      "Engaged Users     7.6     271.4  17322.7  5716\n"
     ]
    }
   ],
   "source": [
    "# Calculate average values for each RFM_Level, and return a size of each segment \n",
    "rfm_level_agg = df1.groupby('RFM_Level').agg({\n",
    "    'recency': 'mean',\n",
    "    'frequency': 'mean',\n",
    "    'monetary': ['mean', 'count']\n",
    "}).round(1)\n",
    "# Print the aggregated dataset\n",
    "print(rfm_level_agg)"
   ]
  },
  {
   "cell_type": "markdown",
   "metadata": {
    "colab_type": "text",
    "id": "oUgIxQCmOY1j"
   },
   "source": [
    "## Calculating the RFM score by adding the three parameters\n",
    "RFM Score = r + f + m"
   ]
  },
  {
   "cell_type": "code",
   "execution_count": 134,
   "metadata": {
    "colab": {
     "base_uri": "https://localhost:8080/",
     "height": 334
    },
    "colab_type": "code",
    "executionInfo": {
     "elapsed": 11109,
     "status": "ok",
     "timestamp": 1591394406611,
     "user": {
      "displayName": "Ioanna Kountouri",
      "photoUrl": "",
      "userId": "18315338504972529308"
     },
     "user_tz": -180
    },
    "id": "94nxoul8PlwH",
    "outputId": "eb3cdf2e-7c8a-42a2-b89c-a7f8ccb768e2"
   },
   "outputs": [
    {
     "name": "stderr",
     "output_type": "stream",
     "text": [
      "/usr/local/lib/python3.6/dist-packages/ipykernel_launcher.py:1: SettingWithCopyWarning: \n",
      "A value is trying to be set on a copy of a slice from a DataFrame.\n",
      "Try using .loc[row_indexer,col_indexer] = value instead\n",
      "\n",
      "See the caveats in the documentation: https://pandas.pydata.org/pandas-docs/stable/user_guide/indexing.html#returning-a-view-versus-a-copy\n",
      "  \"\"\"Entry point for launching an IPython kernel.\n",
      "/usr/local/lib/python3.6/dist-packages/ipykernel_launcher.py:2: SettingWithCopyWarning: \n",
      "A value is trying to be set on a copy of a slice from a DataFrame.\n",
      "Try using .loc[row_indexer,col_indexer] = value instead\n",
      "\n",
      "See the caveats in the documentation: https://pandas.pydata.org/pandas-docs/stable/user_guide/indexing.html#returning-a-view-versus-a-copy\n",
      "  \n",
      "/usr/local/lib/python3.6/dist-packages/ipykernel_launcher.py:3: SettingWithCopyWarning: \n",
      "A value is trying to be set on a copy of a slice from a DataFrame.\n",
      "Try using .loc[row_indexer,col_indexer] = value instead\n",
      "\n",
      "See the caveats in the documentation: https://pandas.pydata.org/pandas-docs/stable/user_guide/indexing.html#returning-a-view-versus-a-copy\n",
      "  This is separate from the ipykernel package so we can avoid doing imports until\n"
     ]
    }
   ],
   "source": [
    "df1['r_quartile']=df1['r_quartile'].astype(int)\n",
    "df1['f_quartile']=df1['f_quartile'].astype(int)\n",
    "df1['m_quartile']=df1['m_quartile'].astype(int)\n",
    "#print(df1.info())"
   ]
  },
  {
   "cell_type": "code",
   "execution_count": 135,
   "metadata": {
    "colab": {
     "base_uri": "https://localhost:8080/",
     "height": 562
    },
    "colab_type": "code",
    "executionInfo": {
     "elapsed": 11102,
     "status": "ok",
     "timestamp": 1591394406612,
     "user": {
      "displayName": "Ioanna Kountouri",
      "photoUrl": "",
      "userId": "18315338504972529308"
     },
     "user_tz": -180
    },
    "id": "ldBkkh_oIff2",
    "outputId": "430608d6-41cc-4107-802a-59677d714879"
   },
   "outputs": [
    {
     "name": "stdout",
     "output_type": "stream",
     "text": [
      "<class 'pandas.core.frame.DataFrame'>\n",
      "RangeIndex: 14821 entries, 0 to 14820\n",
      "Data columns (total 10 columns):\n",
      " #   Column           Non-Null Count  Dtype  \n",
      "---  ------           --------------  -----  \n",
      " 0   user_id          14821 non-null  object \n",
      " 1   monetary         14821 non-null  float64\n",
      " 2   frequency        14821 non-null  int64  \n",
      " 3   recency          14821 non-null  int64  \n",
      " 4   r_quartile       14821 non-null  int64  \n",
      " 5   f_quartile       14821 non-null  int64  \n",
      " 6   m_quartile       14821 non-null  int64  \n",
      " 7   RFM_Score        14821 non-null  object \n",
      " 8   RFM_Level        14821 non-null  object \n",
      " 9   total_RFM_Score  14821 non-null  int64  \n",
      "dtypes: float64(1), int64(6), object(3)\n",
      "memory usage: 1.1+ MB\n",
      "     user_id  monetary  frequency  ...  RFM_Score      RFM_Level  total_RFM_Score\n",
      "0     user_0   6925.08        520  ...        112  Engaged Users                4\n",
      "1     user_1  12955.54        133  ...        221  Engaged Users                5\n",
      "2    user_10   5438.92        123  ...        122  Engaged Users                5\n",
      "3   user_100   4230.10         55  ...        322  Churned Users                7\n",
      "4  user_1000    843.12         43  ...        233  Churned Users                8\n",
      "\n",
      "[5 rows x 10 columns] None\n"
     ]
    },
    {
     "name": "stderr",
     "output_type": "stream",
     "text": [
      "/usr/local/lib/python3.6/dist-packages/ipykernel_launcher.py:2: SettingWithCopyWarning: \n",
      "A value is trying to be set on a copy of a slice from a DataFrame.\n",
      "Try using .loc[row_indexer,col_indexer] = value instead\n",
      "\n",
      "See the caveats in the documentation: https://pandas.pydata.org/pandas-docs/stable/user_guide/indexing.html#returning-a-view-versus-a-copy\n",
      "  \n"
     ]
    }
   ],
   "source": [
    "#Calculating the total_RFM_Score\n",
    "df1['total_RFM_Score'] = df1['r_quartile'] + df1['f_quartile'] +df1['m_quartile']\n",
    "print(df1.head(), df1.info())"
   ]
  },
  {
   "cell_type": "markdown",
   "metadata": {
    "colab_type": "text",
    "id": "u96Wv90XReVx"
   },
   "source": [
    "Τhe most engaged customers are classified in the group with total_RFM_Score=3, while the most churned customers in the group with total_RFM_Score=12 "
   ]
  },
  {
   "cell_type": "code",
   "execution_count": 136,
   "metadata": {
    "colab": {
     "base_uri": "https://localhost:8080/",
     "height": 301
    },
    "colab_type": "code",
    "executionInfo": {
     "elapsed": 11097,
     "status": "ok",
     "timestamp": 1591394406613,
     "user": {
      "displayName": "Ioanna Kountouri",
      "photoUrl": "",
      "userId": "18315338504972529308"
     },
     "user_tz": -180
    },
    "id": "8vqp7e-dQT6J",
    "outputId": "1804ca73-d8b4-4b16-e9c6-b77da9ef16c9"
   },
   "outputs": [
    {
     "data": {
      "text/plain": [
       "<matplotlib.axes._subplots.AxesSubplot at 0x7fb0fe655ef0>"
      ]
     },
     "execution_count": 136,
     "metadata": {
      "tags": []
     },
     "output_type": "execute_result"
    },
    {
     "data": {
      "image/png": "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\n",
      "text/plain": [
       "<Figure size 432x288 with 1 Axes>"
      ]
     },
     "metadata": {
      "needs_background": "light",
      "tags": []
     },
     "output_type": "display_data"
    }
   ],
   "source": [
    "# The group with score=3 has the highest average of total transacted amount\n",
    "# Maybe more engaged users in groups 3-6, and more churned in groups 7-12.\n",
    "df1.groupby('total_RFM_Score').agg('monetary').mean().plot(kind='bar', colormap='Blues_r')"
   ]
  },
  {
   "cell_type": "code",
   "execution_count": 137,
   "metadata": {
    "colab": {
     "base_uri": "https://localhost:8080/",
     "height": 301
    },
    "colab_type": "code",
    "executionInfo": {
     "elapsed": 11689,
     "status": "ok",
     "timestamp": 1591394407219,
     "user": {
      "displayName": "Ioanna Kountouri",
      "photoUrl": "",
      "userId": "18315338504972529308"
     },
     "user_tz": -180
    },
    "id": "uFn9s98ZP6Os",
    "outputId": "33f93902-2b8c-4e21-8a00-7d10abeaa0ee"
   },
   "outputs": [
    {
     "data": {
      "text/plain": [
       "<matplotlib.axes._subplots.AxesSubplot at 0x7fb0fe622048>"
      ]
     },
     "execution_count": 137,
     "metadata": {
      "tags": []
     },
     "output_type": "execute_result"
    },
    {
     "data": {
      "image/png": "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\n",
      "text/plain": [
       "<Figure size 432x288 with 1 Axes>"
      ]
     },
     "metadata": {
      "needs_background": "light",
      "tags": []
     },
     "output_type": "display_data"
    }
   ],
   "source": [
    "# The group with score=3 has the highest average of number of transactions and more specifically above 500\n",
    "# Maybe more engaged users in groups 3-6, and more churned in groups 7-12.\n",
    "df1.groupby('total_RFM_Score').agg('frequency').mean().plot(kind='bar', colormap='summer')"
   ]
  },
  {
   "cell_type": "code",
   "execution_count": 138,
   "metadata": {
    "colab": {
     "base_uri": "https://localhost:8080/",
     "height": 302
    },
    "colab_type": "code",
    "executionInfo": {
     "elapsed": 11680,
     "status": "ok",
     "timestamp": 1591394407220,
     "user": {
      "displayName": "Ioanna Kountouri",
      "photoUrl": "",
      "userId": "18315338504972529308"
     },
     "user_tz": -180
    },
    "id": "nVhXR7FCRqmg",
    "outputId": "619b51dc-7153-4eab-fc6b-aa65b33a4939"
   },
   "outputs": [
    {
     "data": {
      "text/plain": [
       "<matplotlib.axes._subplots.AxesSubplot at 0x7fb0fe682c18>"
      ]
     },
     "execution_count": 138,
     "metadata": {
      "tags": []
     },
     "output_type": "execute_result"
    },
    {
     "data": {
      "image/png": "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\n",
      "text/plain": [
       "<Figure size 432x288 with 1 Axes>"
      ]
     },
     "metadata": {
      "needs_background": "light",
      "tags": []
     },
     "output_type": "display_data"
    }
   ],
   "source": [
    "# The group with score=3 has the lowest average of days from their last transaction, which means that group 3 has made a transaction recently\n",
    "# Group 3 did their last transaction 1-10 days ago\n",
    "# Maybe more engaged users in groups 3-6, and more churned in groups 7-12.\n",
    "df1.groupby('total_RFM_Score').agg('recency').mean().plot(kind='bar', colormap='Spectral')"
   ]
  },
  {
   "cell_type": "code",
   "execution_count": 139,
   "metadata": {
    "colab": {
     "base_uri": "https://localhost:8080/",
     "height": 210
    },
    "colab_type": "code",
    "executionInfo": {
     "elapsed": 11667,
     "status": "ok",
     "timestamp": 1591394407220,
     "user": {
      "displayName": "Ioanna Kountouri",
      "photoUrl": "",
      "userId": "18315338504972529308"
     },
     "user_tz": -180
    },
    "id": "qfcm1yd5dN95",
    "outputId": "4dfbe4b5-b23c-49dc-e342-44c0ba51768e"
   },
   "outputs": [
    {
     "name": "stdout",
     "output_type": "stream",
     "text": [
      "              recency frequency monetary      \n",
      "                 mean      mean     mean count\n",
      "RFM_Level_v2                                  \n",
      "Churned Users   114.8      28.8   1737.7  8709\n",
      "Engaged Users    12.0     272.5  17754.2  6112\n"
     ]
    },
    {
     "name": "stderr",
     "output_type": "stream",
     "text": [
      "/usr/local/lib/python3.6/dist-packages/ipykernel_launcher.py:8: SettingWithCopyWarning: \n",
      "A value is trying to be set on a copy of a slice from a DataFrame.\n",
      "Try using .loc[row_indexer,col_indexer] = value instead\n",
      "\n",
      "See the caveats in the documentation: https://pandas.pydata.org/pandas-docs/stable/user_guide/indexing.html#returning-a-view-versus-a-copy\n",
      "  \n"
     ]
    }
   ],
   "source": [
    "# Define rfm_level function\n",
    "def rfm_level(df):\n",
    "    if df['total_RFM_Score'] <= 6:\n",
    "        return 'Engaged Users'\n",
    "    else:\n",
    "        return 'Churned Users'\n",
    "# Create a new variable RFM_Level\n",
    "df1['RFM_Level_v2'] = df1.apply(rfm_level, axis=1)\n",
    "\n",
    "# Calculate average values for each RFM_Level, and return a size of each segment \n",
    "rfm_level_agg = df1.groupby('RFM_Level_v2').agg({\n",
    "    'recency': 'mean',\n",
    "    'frequency': 'mean',\n",
    "    'monetary': ['mean', 'count']\n",
    "}).round(1)\n",
    "# Print the aggregated dataset\n",
    "print(rfm_level_agg)"
   ]
  },
  {
   "cell_type": "markdown",
   "metadata": {
    "colab_type": "text",
    "id": "1Llqo7Dje7T5"
   },
   "source": [
    "##How do the two scores differ regarding their results?"
   ]
  },
  {
   "cell_type": "code",
   "execution_count": 140,
   "metadata": {
    "colab": {
     "base_uri": "https://localhost:8080/",
     "height": 136
    },
    "colab_type": "code",
    "executionInfo": {
     "elapsed": 11654,
     "status": "ok",
     "timestamp": 1591394407221,
     "user": {
      "displayName": "Ioanna Kountouri",
      "photoUrl": "",
      "userId": "18315338504972529308"
     },
     "user_tz": -180
    },
    "id": "2Afz7i06dXDk",
    "outputId": "754294d5-5842-4a60-fedc-d4d8ba91423e"
   },
   "outputs": [
    {
     "data": {
      "text/html": [
       "<div>\n",
       "<style scoped>\n",
       "    .dataframe tbody tr th:only-of-type {\n",
       "        vertical-align: middle;\n",
       "    }\n",
       "\n",
       "    .dataframe tbody tr th {\n",
       "        vertical-align: top;\n",
       "    }\n",
       "\n",
       "    .dataframe thead th {\n",
       "        text-align: right;\n",
       "    }\n",
       "</style>\n",
       "<table border=\"1\" class=\"dataframe\">\n",
       "  <thead>\n",
       "    <tr style=\"text-align: right;\">\n",
       "      <th>RFM_Level_v2</th>\n",
       "      <th>Churned Users</th>\n",
       "      <th>Engaged Users</th>\n",
       "    </tr>\n",
       "    <tr>\n",
       "      <th>RFM_Level</th>\n",
       "      <th></th>\n",
       "      <th></th>\n",
       "    </tr>\n",
       "  </thead>\n",
       "  <tbody>\n",
       "    <tr>\n",
       "      <th>Churned Users</th>\n",
       "      <td>8369</td>\n",
       "      <td>736</td>\n",
       "    </tr>\n",
       "    <tr>\n",
       "      <th>Engaged Users</th>\n",
       "      <td>340</td>\n",
       "      <td>5376</td>\n",
       "    </tr>\n",
       "  </tbody>\n",
       "</table>\n",
       "</div>"
      ],
      "text/plain": [
       "RFM_Level_v2   Churned Users  Engaged Users\n",
       "RFM_Level                                  \n",
       "Churned Users           8369            736\n",
       "Engaged Users            340           5376"
      ]
     },
     "execution_count": 140,
     "metadata": {
      "tags": []
     },
     "output_type": "execute_result"
    }
   ],
   "source": [
    "pd.crosstab(df1['RFM_Level'], df1['RFM_Level_v2'])"
   ]
  },
  {
   "cell_type": "code",
   "execution_count": 0,
   "metadata": {
    "colab": {},
    "colab_type": "code",
    "id": "mbkujSwhdlKG"
   },
   "outputs": [],
   "source": []
  }
 ],
 "metadata": {
  "colab": {
   "authorship_tag": "ABX9TyPAEHK6aTOzr4vF58rbDJz1",
   "collapsed_sections": [],
   "name": "RFM_Engaged_Churned.ipynb",
   "provenance": [],
   "toc_visible": true
  },
  "kernelspec": {
   "display_name": "Python 3",
   "language": "python",
   "name": "python3"
  },
  "language_info": {
   "codemirror_mode": {
    "name": "ipython",
    "version": 3
   },
   "file_extension": ".py",
   "mimetype": "text/x-python",
   "name": "python",
   "nbconvert_exporter": "python",
   "pygments_lexer": "ipython3",
<<<<<<< HEAD
   "version": "3.7.7"
=======
   "version": "3.5.2"
>>>>>>> 5f84e05287407d6ec9e0e6df3315d23e7c5cc010
  }
 },
 "nbformat": 4,
 "nbformat_minor": 1
}
