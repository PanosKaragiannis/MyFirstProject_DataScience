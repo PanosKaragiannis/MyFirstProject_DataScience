{
 "cells": [
  {
   "cell_type": "code",
   "execution_count": 0,
   "metadata": {
    "colab": {},
    "colab_type": "code",
    "id": "xjOIIltf09C1"
   },
   "outputs": [],
   "source": [
    "import pandas as pd\n",
    "import numpy as np\n",
    "import matplotlib.pyplot as plt\n",
    "from matplotlib.pyplot import pie,axis,show\n",
    "import seaborn as sns\n",
    "import random as rd\n"
   ]
  },
  {
   "cell_type": "code",
   "execution_count": 306,
   "metadata": {
    "colab": {
     "base_uri": "https://localhost:8080/",
     "height": 34
    },
    "colab_type": "code",
    "id": "nnAXUUwLrPm_",
    "outputId": "8b656b74-6fac-4d19-bbe5-1874708bee88"
   },
   "outputs": [
    {
     "data": {
      "text/plain": [
       "'/content'"
      ]
     },
     "execution_count": 306,
     "metadata": {
      "tags": []
     },
     "output_type": "execute_result"
    }
   ],
   "source": [
    "pwd"
   ]
  },
  {
   "cell_type": "code",
   "execution_count": 0,
   "metadata": {
    "colab": {},
    "colab_type": "code",
    "id": "ixk2y42F2R70"
   },
   "outputs": [],
   "source": [
    "devices=pd.read_csv('/content/devices.csv')\n",
    "notifications=pd.read_csv('/content/notifications.csv')\n",
    "users=pd.read_csv('/content/users.csv')"
   ]
  },
  {
   "cell_type": "code",
   "execution_count": 308,
   "metadata": {
    "colab": {
     "base_uri": "https://localhost:8080/",
     "height": 34
    },
    "colab_type": "code",
    "id": "51ahkUd2mpnT",
    "outputId": "129401cd-8945-4821-bc94-248c9201ea97"
   },
   "outputs": [
    {
     "name": "stdout",
     "output_type": "stream",
     "text": [
      "Drive already mounted at /content/drive; to attempt to forcibly remount, call drive.mount(\"/content/drive\", force_remount=True).\n"
     ]
    }
   ],
   "source": [
    "from google.colab import drive\n",
    "drive.mount('/content/drive')"
   ]
  },
  {
   "cell_type": "code",
   "execution_count": 309,
   "metadata": {
    "colab": {
     "base_uri": "https://localhost:8080/",
     "height": 67
    },
    "colab_type": "code",
    "id": "MLHTND3A3tWp",
    "outputId": "72b1dc98-cea9-4b58-9495-1b8c758da503"
   },
   "outputs": [
    {
     "name": "stdout",
     "output_type": "stream",
     "text": [
      "the shape of devices is:  (15544, 2)\n",
      "the shape of notifications is:  (97704, 5)\n",
      "the shape of users is:  (15544, 12)\n"
     ]
    }
   ],
   "source": [
    "print('the shape of devices is: ',devices.shape)\n",
    "print('the shape of notifications is: ',notifications.shape)\n",
    "print('the shape of users is: ',users.shape)"
   ]
  },
  {
   "cell_type": "code",
   "execution_count": 0,
   "metadata": {
    "colab": {},
    "colab_type": "code",
    "id": "sK0jdEWw8IKy"
   },
   "outputs": [],
   "source": [
    "devices = devices.set_index('user_id')"
   ]
  },
  {
   "cell_type": "code",
   "execution_count": 0,
   "metadata": {
    "colab": {},
    "colab_type": "code",
    "id": "dqEYR0ifcGbf"
   },
   "outputs": [],
   "source": [
    "df=pd.merge(users,devices,on='user_id')"
   ]
  },
  {
   "cell_type": "code",
   "execution_count": 0,
   "metadata": {
    "colab": {},
    "colab_type": "code",
    "id": "JZ0Kz6-gdEj-"
   },
   "outputs": [],
   "source": [
    "userdf=df.set_index('user_id')"
   ]
  },
  {
   "cell_type": "code",
   "execution_count": 313,
   "metadata": {
    "colab": {
     "base_uri": "https://localhost:8080/",
     "height": 190
    },
    "colab_type": "code",
    "id": "aoiW0MgRdFJO",
    "outputId": "f2af90c7-0285-4aaa-9d5b-c6638772c20e"
   },
   "outputs": [
    {
     "data": {
      "text/html": [
       "<div>\n",
       "<style scoped>\n",
       "    .dataframe tbody tr th:only-of-type {\n",
       "        vertical-align: middle;\n",
       "    }\n",
       "\n",
       "    .dataframe tbody tr th {\n",
       "        vertical-align: top;\n",
       "    }\n",
       "\n",
       "    .dataframe thead th {\n",
       "        text-align: right;\n",
       "    }\n",
       "</style>\n",
       "<table border=\"1\" class=\"dataframe\">\n",
       "  <thead>\n",
       "    <tr style=\"text-align: right;\">\n",
       "      <th></th>\n",
       "      <th>birth_year</th>\n",
       "      <th>country</th>\n",
       "      <th>city</th>\n",
       "      <th>created_date</th>\n",
       "      <th>user_settings_crypto_unlocked</th>\n",
       "      <th>plan</th>\n",
       "      <th>attributes_notifications_marketing_push</th>\n",
       "      <th>attributes_notifications_marketing_email</th>\n",
       "      <th>num_contacts</th>\n",
       "      <th>num_referrals</th>\n",
       "      <th>num_successful_referrals</th>\n",
       "      <th>brand</th>\n",
       "    </tr>\n",
       "    <tr>\n",
       "      <th>user_id</th>\n",
       "      <th></th>\n",
       "      <th></th>\n",
       "      <th></th>\n",
       "      <th></th>\n",
       "      <th></th>\n",
       "      <th></th>\n",
       "      <th></th>\n",
       "      <th></th>\n",
       "      <th></th>\n",
       "      <th></th>\n",
       "      <th></th>\n",
       "      <th></th>\n",
       "    </tr>\n",
       "  </thead>\n",
       "  <tbody>\n",
       "    <tr>\n",
       "      <th>user_0</th>\n",
       "      <td>1992</td>\n",
       "      <td>ES</td>\n",
       "      <td>Madrid</td>\n",
       "      <td>2018-09-10 18:46:42.843855</td>\n",
       "      <td>0</td>\n",
       "      <td>STANDARD</td>\n",
       "      <td>1.0</td>\n",
       "      <td>1.0</td>\n",
       "      <td>3</td>\n",
       "      <td>0</td>\n",
       "      <td>0</td>\n",
       "      <td>Apple</td>\n",
       "    </tr>\n",
       "    <tr>\n",
       "      <th>user_1</th>\n",
       "      <td>1985</td>\n",
       "      <td>LT</td>\n",
       "      <td>Klaipeda</td>\n",
       "      <td>2018-01-11 18:53:10.531146</td>\n",
       "      <td>1</td>\n",
       "      <td>STANDARD</td>\n",
       "      <td>NaN</td>\n",
       "      <td>NaN</td>\n",
       "      <td>75</td>\n",
       "      <td>0</td>\n",
       "      <td>0</td>\n",
       "      <td>Apple</td>\n",
       "    </tr>\n",
       "  </tbody>\n",
       "</table>\n",
       "</div>"
      ],
      "text/plain": [
       "         birth_year country  ... num_successful_referrals  brand\n",
       "user_id                      ...                                \n",
       "user_0         1992      ES  ...                        0  Apple\n",
       "user_1         1985      LT  ...                        0  Apple\n",
       "\n",
       "[2 rows x 12 columns]"
      ]
     },
     "execution_count": 313,
     "metadata": {
      "tags": []
     },
     "output_type": "execute_result"
    }
   ],
   "source": [
    "userdf.head(2)"
   ]
  },
  {
   "cell_type": "code",
   "execution_count": 314,
   "metadata": {
    "colab": {
     "base_uri": "https://localhost:8080/",
     "height": 304
    },
    "colab_type": "code",
    "id": "RIVow3xt3IXC",
    "outputId": "f163b421-ff6e-44ad-df7c-178c20d01d04"
   },
   "outputs": [
    {
     "data": {
      "text/html": [
       "<div>\n",
       "<style scoped>\n",
       "    .dataframe tbody tr th:only-of-type {\n",
       "        vertical-align: middle;\n",
       "    }\n",
       "\n",
       "    .dataframe tbody tr th {\n",
       "        vertical-align: top;\n",
       "    }\n",
       "\n",
       "    .dataframe thead th {\n",
       "        text-align: right;\n",
       "    }\n",
       "</style>\n",
       "<table border=\"1\" class=\"dataframe\">\n",
       "  <thead>\n",
       "    <tr style=\"text-align: right;\">\n",
       "      <th></th>\n",
       "      <th>birth_year</th>\n",
       "      <th>user_settings_crypto_unlocked</th>\n",
       "      <th>attributes_notifications_marketing_push</th>\n",
       "      <th>attributes_notifications_marketing_email</th>\n",
       "      <th>num_contacts</th>\n",
       "      <th>num_referrals</th>\n",
       "      <th>num_successful_referrals</th>\n",
       "    </tr>\n",
       "  </thead>\n",
       "  <tbody>\n",
       "    <tr>\n",
       "      <th>count</th>\n",
       "      <td>15544.000000</td>\n",
       "      <td>15544.000000</td>\n",
       "      <td>10284.000000</td>\n",
       "      <td>10284.000000</td>\n",
       "      <td>15544.000000</td>\n",
       "      <td>15544.0</td>\n",
       "      <td>15544.0</td>\n",
       "    </tr>\n",
       "    <tr>\n",
       "      <th>mean</th>\n",
       "      <td>1983.666624</td>\n",
       "      <td>0.182385</td>\n",
       "      <td>0.948269</td>\n",
       "      <td>0.895469</td>\n",
       "      <td>17.874228</td>\n",
       "      <td>0.0</td>\n",
       "      <td>0.0</td>\n",
       "    </tr>\n",
       "    <tr>\n",
       "      <th>std</th>\n",
       "      <td>11.369184</td>\n",
       "      <td>0.386174</td>\n",
       "      <td>0.221494</td>\n",
       "      <td>0.305963</td>\n",
       "      <td>47.549929</td>\n",
       "      <td>0.0</td>\n",
       "      <td>0.0</td>\n",
       "    </tr>\n",
       "    <tr>\n",
       "      <th>min</th>\n",
       "      <td>1929.000000</td>\n",
       "      <td>0.000000</td>\n",
       "      <td>0.000000</td>\n",
       "      <td>0.000000</td>\n",
       "      <td>0.000000</td>\n",
       "      <td>0.0</td>\n",
       "      <td>0.0</td>\n",
       "    </tr>\n",
       "    <tr>\n",
       "      <th>25%</th>\n",
       "      <td>1977.000000</td>\n",
       "      <td>0.000000</td>\n",
       "      <td>1.000000</td>\n",
       "      <td>1.000000</td>\n",
       "      <td>0.000000</td>\n",
       "      <td>0.0</td>\n",
       "      <td>0.0</td>\n",
       "    </tr>\n",
       "    <tr>\n",
       "      <th>50%</th>\n",
       "      <td>1986.000000</td>\n",
       "      <td>0.000000</td>\n",
       "      <td>1.000000</td>\n",
       "      <td>1.000000</td>\n",
       "      <td>5.000000</td>\n",
       "      <td>0.0</td>\n",
       "      <td>0.0</td>\n",
       "    </tr>\n",
       "    <tr>\n",
       "      <th>75%</th>\n",
       "      <td>1992.000000</td>\n",
       "      <td>0.000000</td>\n",
       "      <td>1.000000</td>\n",
       "      <td>1.000000</td>\n",
       "      <td>19.000000</td>\n",
       "      <td>0.0</td>\n",
       "      <td>0.0</td>\n",
       "    </tr>\n",
       "    <tr>\n",
       "      <th>max</th>\n",
       "      <td>2001.000000</td>\n",
       "      <td>1.000000</td>\n",
       "      <td>1.000000</td>\n",
       "      <td>1.000000</td>\n",
       "      <td>2918.000000</td>\n",
       "      <td>0.0</td>\n",
       "      <td>0.0</td>\n",
       "    </tr>\n",
       "  </tbody>\n",
       "</table>\n",
       "</div>"
      ],
      "text/plain": [
       "         birth_year  ...  num_successful_referrals\n",
       "count  15544.000000  ...                   15544.0\n",
       "mean    1983.666624  ...                       0.0\n",
       "std       11.369184  ...                       0.0\n",
       "min     1929.000000  ...                       0.0\n",
       "25%     1977.000000  ...                       0.0\n",
       "50%     1986.000000  ...                       0.0\n",
       "75%     1992.000000  ...                       0.0\n",
       "max     2001.000000  ...                       0.0\n",
       "\n",
       "[8 rows x 7 columns]"
      ]
     },
     "execution_count": 314,
     "metadata": {
      "tags": []
     },
     "output_type": "execute_result"
    }
   ],
   "source": [
    "userdf.describe()"
   ]
  },
  {
   "cell_type": "code",
   "execution_count": 315,
   "metadata": {
    "colab": {
     "base_uri": "https://localhost:8080/",
     "height": 235
    },
    "colab_type": "code",
    "id": "OdfePktr31Jc",
    "outputId": "48d8e9ec-ff0b-4918-dc5c-f098f7397d86"
   },
   "outputs": [
    {
     "data": {
      "text/plain": [
       "birth_year                                    int64\n",
       "country                                      object\n",
       "city                                         object\n",
       "created_date                                 object\n",
       "user_settings_crypto_unlocked                 int64\n",
       "plan                                         object\n",
       "attributes_notifications_marketing_push     float64\n",
       "attributes_notifications_marketing_email    float64\n",
       "num_contacts                                  int64\n",
       "num_referrals                                 int64\n",
       "num_successful_referrals                      int64\n",
       "brand                                        object\n",
       "dtype: object"
      ]
     },
     "execution_count": 315,
     "metadata": {
      "tags": []
     },
     "output_type": "execute_result"
    }
   ],
   "source": [
    "userdf.dtypes"
   ]
  },
  {
   "cell_type": "code",
   "execution_count": 316,
   "metadata": {
    "colab": {
     "base_uri": "https://localhost:8080/",
     "height": 235
    },
    "colab_type": "code",
    "id": "g-V-dQJbeAB0",
    "outputId": "b9f1dbfd-635c-4f88-9936-64057fd332b4"
   },
   "outputs": [
    {
     "data": {
      "text/plain": [
       "birth_year                                     0\n",
       "country                                        0\n",
       "city                                           0\n",
       "created_date                                   0\n",
       "user_settings_crypto_unlocked                  0\n",
       "plan                                           0\n",
       "attributes_notifications_marketing_push     5260\n",
       "attributes_notifications_marketing_email    5260\n",
       "num_contacts                                   0\n",
       "num_referrals                                  0\n",
       "num_successful_referrals                       0\n",
       "brand                                          0\n",
       "dtype: int64"
      ]
     },
     "execution_count": 316,
     "metadata": {
      "tags": []
     },
     "output_type": "execute_result"
    }
   ],
   "source": [
    "userdf.isnull().sum()"
   ]
  },
  {
   "cell_type": "code",
   "execution_count": 317,
   "metadata": {
    "colab": {
     "base_uri": "https://localhost:8080/",
     "height": 84
    },
    "colab_type": "code",
    "id": "VjX6ILkgtPbA",
    "outputId": "6fc19bca-75a7-4295-fd71-95f91df29bad"
   },
   "outputs": [
    {
     "name": "stdout",
     "output_type": "stream",
     "text": [
      "Number of customers by plan  \n",
      " STANDARD    14394\n",
      "PAID         1150\n",
      "Name: plan, dtype: int64\n"
     ]
    }
   ],
   "source": [
    "# Replace 'SILVER' and 'GOLD' with 'PAID' in order to have two categories of plan: 'STANDARD' and 'PAID'\n",
    "userdf['plan'] = userdf['plan'].str.replace('SILVER', 'PAID')\n",
    "userdf['plan'] = userdf['plan'].str.replace('GOLD', 'PAID')\n",
    "print(\"Number of customers by plan \",\"\\n\" ,userdf['plan'].value_counts())"
   ]
  },
  {
   "cell_type": "markdown",
   "metadata": {
    "colab_type": "text",
    "id": "Rl6ir3m7nx8X"
   },
   "source": [
    "filling the NANS in email\n"
   ]
  },
  {
   "cell_type": "code",
   "execution_count": 318,
   "metadata": {
    "colab": {
     "base_uri": "https://localhost:8080/",
     "height": 67
    },
    "colab_type": "code",
    "id": "QwZ_HL0_f7cL",
    "outputId": "99b77210-9670-4401-b56f-55c8d02e95cf"
   },
   "outputs": [
    {
     "data": {
      "text/plain": [
       "STANDARD    14394\n",
       "PAID         1150\n",
       "Name: plan, dtype: int64"
      ]
     },
     "execution_count": 318,
     "metadata": {
      "tags": []
     },
     "output_type": "execute_result"
    }
   ],
   "source": [
    "# apo tous 15544 xrhstes oi 14394 (92.6%) einai standard, kai oi upoloipoi 1150 (7.3%) einai paid\n",
    "userdf['plan'].value_counts()"
   ]
  },
  {
   "cell_type": "code",
   "execution_count": 319,
   "metadata": {
    "colab": {
     "base_uri": "https://localhost:8080/",
     "height": 136
    },
    "colab_type": "code",
    "id": "_imV-cbtdPve",
    "outputId": "03e347b2-929a-464f-81d7-51b40ae18a4e"
   },
   "outputs": [
    {
     "data": {
      "text/html": [
       "<div>\n",
       "<style scoped>\n",
       "    .dataframe tbody tr th:only-of-type {\n",
       "        vertical-align: middle;\n",
       "    }\n",
       "\n",
       "    .dataframe tbody tr th {\n",
       "        vertical-align: top;\n",
       "    }\n",
       "\n",
       "    .dataframe thead th {\n",
       "        text-align: right;\n",
       "    }\n",
       "</style>\n",
       "<table border=\"1\" class=\"dataframe\">\n",
       "  <thead>\n",
       "    <tr style=\"text-align: right;\">\n",
       "      <th>plan</th>\n",
       "      <th>PAID</th>\n",
       "      <th>STANDARD</th>\n",
       "    </tr>\n",
       "    <tr>\n",
       "      <th>attributes_notifications_marketing_email</th>\n",
       "      <th></th>\n",
       "      <th></th>\n",
       "    </tr>\n",
       "  </thead>\n",
       "  <tbody>\n",
       "    <tr>\n",
       "      <th>0.0</th>\n",
       "      <td>73</td>\n",
       "      <td>1002</td>\n",
       "    </tr>\n",
       "    <tr>\n",
       "      <th>1.0</th>\n",
       "      <td>757</td>\n",
       "      <td>8452</td>\n",
       "    </tr>\n",
       "  </tbody>\n",
       "</table>\n",
       "</div>"
      ],
      "text/plain": [
       "plan                                      PAID  STANDARD\n",
       "attributes_notifications_marketing_email                \n",
       "0.0                                         73      1002\n",
       "1.0                                        757      8452"
      ]
     },
     "execution_count": 319,
     "metadata": {
      "tags": []
     },
     "output_type": "execute_result"
    }
   ],
   "source": [
    "#oson afora to an exoun dextei na dexontai mail\n",
    "#oson afora tous 830 paid xrhstes: oi 73 (6.3%) den exoun dextei \n",
    "                             # oi 757 (65.8%) exoun dextei\n",
    "#oson afora tous 9454 standard xrhstes: oi 1002 (6.9%) den exoun dextei \n",
    "                             # oi 8452 (58.7%) exoun dextei\n",
    "pd.crosstab(index=userdf['attributes_notifications_marketing_email'],columns=userdf['plan'])"
   ]
  },
  {
   "cell_type": "code",
   "execution_count": 320,
   "metadata": {
    "colab": {
     "base_uri": "https://localhost:8080/",
     "height": 136
    },
    "colab_type": "code",
    "id": "_FOaEiqsdP2A",
    "outputId": "19f5dbc7-e122-43ac-8485-85ea18c31a37"
   },
   "outputs": [
    {
     "data": {
      "text/html": [
       "<div>\n",
       "<style scoped>\n",
       "    .dataframe tbody tr th:only-of-type {\n",
       "        vertical-align: middle;\n",
       "    }\n",
       "\n",
       "    .dataframe tbody tr th {\n",
       "        vertical-align: top;\n",
       "    }\n",
       "\n",
       "    .dataframe thead th {\n",
       "        text-align: right;\n",
       "    }\n",
       "</style>\n",
       "<table border=\"1\" class=\"dataframe\">\n",
       "  <thead>\n",
       "    <tr style=\"text-align: right;\">\n",
       "      <th>plan</th>\n",
       "      <th>PAID</th>\n",
       "      <th>STANDARD</th>\n",
       "    </tr>\n",
       "    <tr>\n",
       "      <th>attributes_notifications_marketing_email</th>\n",
       "      <th></th>\n",
       "      <th></th>\n",
       "    </tr>\n",
       "  </thead>\n",
       "  <tbody>\n",
       "    <tr>\n",
       "      <th>False</th>\n",
       "      <td>830</td>\n",
       "      <td>9454</td>\n",
       "    </tr>\n",
       "    <tr>\n",
       "      <th>True</th>\n",
       "      <td>320</td>\n",
       "      <td>4940</td>\n",
       "    </tr>\n",
       "  </tbody>\n",
       "</table>\n",
       "</div>"
      ],
      "text/plain": [
       "plan                                      PAID  STANDARD\n",
       "attributes_notifications_marketing_email                \n",
       "False                                      830      9454\n",
       "True                                       320      4940"
      ]
     },
     "execution_count": 320,
     "metadata": {
      "tags": []
     },
     "output_type": "execute_result"
    }
   ],
   "source": [
    "#parathrw oti 320 xrhstes oi opoioi einai paid exoun timi nan kai epishs 4940 xrhstes standard exoun epishs timh nan\n",
    "pd.crosstab(index=userdf['attributes_notifications_marketing_email'].isnull(),columns=userdf['plan'])"
   ]
  },
  {
   "cell_type": "code",
   "execution_count": 0,
   "metadata": {
    "colab": {},
    "colab_type": "code",
    "id": "lOs7Q1d2dPsO"
   },
   "outputs": [],
   "source": [
    "##ara tha gemisw posostiaia tis nan times kai tha thewrisw oti apo tous 320 paid xristes me nan oi 292(91.25%) tha dextoun (=1) enw oi 28(8.75%) oxi (=0)\n",
    "##kai oson afora tous standard apo tous 4940 me nan times tha thewrisw tous 4416(90%) oti tha dextoun (=1) enw oi 524(10%) oxi (=0) "
   ]
  },
  {
   "cell_type": "code",
   "execution_count": 0,
   "metadata": {
    "colab": {},
    "colab_type": "code",
    "id": "WnhVLPfMvX15"
   },
   "outputs": [],
   "source": [
    "def mail(vec):\n",
    "  prob=rd.random()\n",
    "  plan, p = vec[0], vec[1]\n",
    "  if plan=='STANDARD' and np.isnan(p):\n",
    "    if prob<0.9:\n",
    "      return 1\n",
    "    else:\n",
    "      return 0\n",
    "  if plan=='PAID' and np.isnan(p):\n",
    "    if prob<0.9125:\n",
    "      return 1\n",
    "    else:\n",
    "      return 0    \n",
    "  return p   "
   ]
  },
  {
   "cell_type": "code",
   "execution_count": 0,
   "metadata": {
    "colab": {},
    "colab_type": "code",
    "id": "jF5sO3U9toKo"
   },
   "outputs": [],
   "source": [
    "userdf['attributes_notifications_marketing_email']=userdf[['plan','attributes_notifications_marketing_email']].apply(mail,axis=1)"
   ]
  },
  {
   "cell_type": "code",
   "execution_count": 324,
   "metadata": {
    "colab": {
     "base_uri": "https://localhost:8080/",
     "height": 67
    },
    "colab_type": "code",
    "id": "5hnMHTO0t0tU",
    "outputId": "d3d41da2-0016-4b42-c9ae-4d4c146db18a"
   },
   "outputs": [
    {
     "data": {
      "text/plain": [
       "1.0    13951\n",
       "0.0     1593\n",
       "Name: attributes_notifications_marketing_email, dtype: int64"
      ]
     },
     "execution_count": 324,
     "metadata": {
      "tags": []
     },
     "output_type": "execute_result"
    }
   ],
   "source": [
    "userdf['attributes_notifications_marketing_email'].value_counts()"
   ]
  },
  {
   "cell_type": "markdown",
   "metadata": {
    "colab_type": "text",
    "id": "CVsTQJbEpTV9"
   },
   "source": [
    "filling the NANS in push"
   ]
  },
  {
   "cell_type": "code",
   "execution_count": 325,
   "metadata": {
    "colab": {
     "base_uri": "https://localhost:8080/",
     "height": 67
    },
    "colab_type": "code",
    "id": "Rj7t5dG3p0-7",
    "outputId": "3ade1474-7ad5-4622-c779-fbb9e7ec3b05"
   },
   "outputs": [
    {
     "data": {
      "text/plain": [
       "STANDARD    14394\n",
       "PAID         1150\n",
       "Name: plan, dtype: int64"
      ]
     },
     "execution_count": 325,
     "metadata": {
      "tags": []
     },
     "output_type": "execute_result"
    }
   ],
   "source": [
    "# apo tous 15544 xrhstes oi 14394 (92.6%) einai standard, kai oi upoloipoi 1150 (7.3%) einai paid\n",
    "userdf['plan'].value_counts()"
   ]
  },
  {
   "cell_type": "code",
   "execution_count": 326,
   "metadata": {
    "colab": {
     "base_uri": "https://localhost:8080/",
     "height": 136
    },
    "colab_type": "code",
    "id": "mQk_CUErpRgw",
    "outputId": "c9c80e24-c12d-4478-f653-12f2b4e1c322"
   },
   "outputs": [
    {
     "data": {
      "text/html": [
       "<div>\n",
       "<style scoped>\n",
       "    .dataframe tbody tr th:only-of-type {\n",
       "        vertical-align: middle;\n",
       "    }\n",
       "\n",
       "    .dataframe tbody tr th {\n",
       "        vertical-align: top;\n",
       "    }\n",
       "\n",
       "    .dataframe thead th {\n",
       "        text-align: right;\n",
       "    }\n",
       "</style>\n",
       "<table border=\"1\" class=\"dataframe\">\n",
       "  <thead>\n",
       "    <tr style=\"text-align: right;\">\n",
       "      <th>plan</th>\n",
       "      <th>PAID</th>\n",
       "      <th>STANDARD</th>\n",
       "    </tr>\n",
       "    <tr>\n",
       "      <th>attributes_notifications_marketing_push</th>\n",
       "      <th></th>\n",
       "      <th></th>\n",
       "    </tr>\n",
       "  </thead>\n",
       "  <tbody>\n",
       "    <tr>\n",
       "      <th>0.0</th>\n",
       "      <td>46</td>\n",
       "      <td>486</td>\n",
       "    </tr>\n",
       "    <tr>\n",
       "      <th>1.0</th>\n",
       "      <td>784</td>\n",
       "      <td>8968</td>\n",
       "    </tr>\n",
       "  </tbody>\n",
       "</table>\n",
       "</div>"
      ],
      "text/plain": [
       "plan                                     PAID  STANDARD\n",
       "attributes_notifications_marketing_push                \n",
       "0.0                                        46       486\n",
       "1.0                                       784      8968"
      ]
     },
     "execution_count": 326,
     "metadata": {
      "tags": []
     },
     "output_type": "execute_result"
    }
   ],
   "source": [
    "#oson afora to an exoun dextei na dexontai push notifications\n",
    "#oson afora tous 830 paid xrhstes: oi 46 (5.5%) den exoun dextei \n",
    "                             # oi 784 (94.5%) exoun dextei\n",
    "#oson afora tous 9454 standard xrhstes: oi 486 (5%) den exoun dextei \n",
    "                             # oi 8968 (95%) exoun dextei\n",
    "pd.crosstab(index=userdf['attributes_notifications_marketing_push'],columns=userdf['plan'])"
   ]
  },
  {
   "cell_type": "code",
   "execution_count": 327,
   "metadata": {
    "colab": {
     "base_uri": "https://localhost:8080/",
     "height": 136
    },
    "colab_type": "code",
    "id": "bLuh4dcbpRqp",
    "outputId": "94219d07-34f6-4df2-cabc-1523ae21b409"
   },
   "outputs": [
    {
     "data": {
      "text/html": [
       "<div>\n",
       "<style scoped>\n",
       "    .dataframe tbody tr th:only-of-type {\n",
       "        vertical-align: middle;\n",
       "    }\n",
       "\n",
       "    .dataframe tbody tr th {\n",
       "        vertical-align: top;\n",
       "    }\n",
       "\n",
       "    .dataframe thead th {\n",
       "        text-align: right;\n",
       "    }\n",
       "</style>\n",
       "<table border=\"1\" class=\"dataframe\">\n",
       "  <thead>\n",
       "    <tr style=\"text-align: right;\">\n",
       "      <th>plan</th>\n",
       "      <th>PAID</th>\n",
       "      <th>STANDARD</th>\n",
       "    </tr>\n",
       "    <tr>\n",
       "      <th>attributes_notifications_marketing_push</th>\n",
       "      <th></th>\n",
       "      <th></th>\n",
       "    </tr>\n",
       "  </thead>\n",
       "  <tbody>\n",
       "    <tr>\n",
       "      <th>False</th>\n",
       "      <td>830</td>\n",
       "      <td>9454</td>\n",
       "    </tr>\n",
       "    <tr>\n",
       "      <th>True</th>\n",
       "      <td>320</td>\n",
       "      <td>4940</td>\n",
       "    </tr>\n",
       "  </tbody>\n",
       "</table>\n",
       "</div>"
      ],
      "text/plain": [
       "plan                                     PAID  STANDARD\n",
       "attributes_notifications_marketing_push                \n",
       "False                                     830      9454\n",
       "True                                      320      4940"
      ]
     },
     "execution_count": 327,
     "metadata": {
      "tags": []
     },
     "output_type": "execute_result"
    }
   ],
   "source": [
    "#parathrw oti 320 xrhstes oi opoioi einai paid exoun timi nan kai epishs 4940 xrhstes standard exoun epishs timh nan\n",
    "pd.crosstab(index=userdf['attributes_notifications_marketing_push'].isnull(),columns=userdf['plan'])"
   ]
  },
  {
   "cell_type": "code",
   "execution_count": 0,
   "metadata": {
    "colab": {},
    "colab_type": "code",
    "id": "fYxRKAQXpRn4"
   },
   "outputs": [],
   "source": [
    "##ara tha gemisw posostiaia tis nan times kai tha thewrisw oti apo tous 320 paid xristes me nan oi 305(95%) tha dextoun (=1) enw oi 15(5%) oxi (=0)\n",
    "##kai oson afora tous standard apo tous 4940 me nan times tha thewrisw tous 4693(95%) oti tha dextoun (=1) enw oi 247(5%) oxi (=0)"
   ]
  },
  {
   "cell_type": "code",
   "execution_count": 0,
   "metadata": {
    "colab": {},
    "colab_type": "code",
    "id": "AwVecoUyeDch"
   },
   "outputs": [],
   "source": [
    "def push(vec):\n",
    "  prob=rd.random()\n",
    "  plan, p = vec[0], vec[1]\n",
    "  if plan=='STANDARD' and np.isnan(p):\n",
    "    if prob<0.95:\n",
    "      return 1\n",
    "    else:\n",
    "      return 0\n",
    "  if plan=='PAID' and np.isnan(p):\n",
    "    if prob<0.95:\n",
    "      return 1\n",
    "    else:\n",
    "      return 0    \n",
    "  return p   "
   ]
  },
  {
   "cell_type": "code",
   "execution_count": 0,
   "metadata": {
    "colab": {},
    "colab_type": "code",
    "id": "ok2AUwC9WAW9"
   },
   "outputs": [],
   "source": [
    "userdf['attributes_notifications_marketing_push']=userdf[['plan','attributes_notifications_marketing_push']].apply(push,axis=1)"
   ]
  },
  {
   "cell_type": "code",
   "execution_count": 332,
   "metadata": {
    "colab": {
     "base_uri": "https://localhost:8080/",
     "height": 67
    },
    "colab_type": "code",
    "id": "3eSz38BWWAQg",
    "outputId": "67c6867b-9972-4ecc-c91d-4928211eed3a"
   },
   "outputs": [
    {
     "data": {
      "text/plain": [
       "1.0    14755\n",
       "0.0      789\n",
       "Name: attributes_notifications_marketing_push, dtype: int64"
      ]
     },
     "execution_count": 332,
     "metadata": {
      "tags": []
     },
     "output_type": "execute_result"
    }
   ],
   "source": [
    "userdf['attributes_notifications_marketing_push'].value_counts()"
   ]
  },
  {
   "cell_type": "code",
   "execution_count": 333,
   "metadata": {
    "colab": {
     "base_uri": "https://localhost:8080/",
     "height": 235
    },
    "colab_type": "code",
    "id": "B_EZ6D9Uop6O",
    "outputId": "bc5765e3-17be-43d0-eaf9-0a4509ad237e"
   },
   "outputs": [
    {
     "data": {
      "text/plain": [
       "birth_year                                    int64\n",
       "country                                      object\n",
       "city                                         object\n",
       "created_date                                 object\n",
       "user_settings_crypto_unlocked                 int64\n",
       "plan                                         object\n",
       "attributes_notifications_marketing_push     float64\n",
       "attributes_notifications_marketing_email    float64\n",
       "num_contacts                                  int64\n",
       "num_referrals                                 int64\n",
       "num_successful_referrals                      int64\n",
       "brand                                        object\n",
       "dtype: object"
      ]
     },
     "execution_count": 333,
     "metadata": {
      "tags": []
     },
     "output_type": "execute_result"
    }
   ],
   "source": [
    "userdf.dtypes"
   ]
  },
  {
   "cell_type": "markdown",
   "metadata": {
    "colab_type": "text",
    "id": "ARUTcjwTs_xM"
   },
   "source": [
    "more data analysis"
   ]
  },
  {
   "cell_type": "code",
   "execution_count": 334,
   "metadata": {
    "colab": {
     "base_uri": "https://localhost:8080/",
     "height": 50
    },
    "colab_type": "code",
    "id": "VbgF8ss7eEBD",
    "outputId": "735fd0d4-9abd-4007-dae2-fdd898bf9fb3"
   },
   "outputs": [
    {
     "data": {
      "text/plain": [
       "0    15544\n",
       "Name: num_referrals, dtype: int64"
      ]
     },
     "execution_count": 334,
     "metadata": {
      "tags": []
     },
     "output_type": "execute_result"
    }
   ],
   "source": [
    "userdf['num_referrals'].value_counts()"
   ]
  },
  {
   "cell_type": "code",
   "execution_count": 335,
   "metadata": {
    "colab": {
     "base_uri": "https://localhost:8080/",
     "height": 50
    },
    "colab_type": "code",
    "id": "WwBQP0nEtMBE",
    "outputId": "9f5de234-5162-46b6-fefb-0a00fc9de3ef"
   },
   "outputs": [
    {
     "data": {
      "text/plain": [
       "0    15544\n",
       "Name: num_successful_referrals, dtype: int64"
      ]
     },
     "execution_count": 335,
     "metadata": {
      "tags": []
     },
     "output_type": "execute_result"
    }
   ],
   "source": [
    "userdf['num_successful_referrals'].value_counts()"
   ]
  },
  {
   "cell_type": "code",
   "execution_count": 0,
   "metadata": {
    "colab": {},
    "colab_type": "code",
    "id": "K3RcSp0stMGE"
   },
   "outputs": [],
   "source": [
    "# i notice that both of the above columns have the same value so i can't take valuable information from them so:\n",
    "userdf=userdf.drop('num_referrals',axis=1)"
   ]
  },
  {
   "cell_type": "code",
   "execution_count": 0,
   "metadata": {
    "colab": {},
    "colab_type": "code",
    "id": "j_7Y82JLtMKa"
   },
   "outputs": [],
   "source": [
    "userdf=userdf.drop('num_successful_referrals',axis=1)"
   ]
  },
  {
   "cell_type": "code",
   "execution_count": 0,
   "metadata": {
    "colab": {},
    "colab_type": "code",
    "id": "WolBwz-ItMOk"
   },
   "outputs": [],
   "source": [
    "def change(x):              #function to encode plan to 'paid' and 'standard'\n",
    "  if x == 'STANDARD':\n",
    "    return 0\n",
    "  elif x == 'SILVER':\n",
    "    return 1\n",
    "  else:\n",
    "    return 1"
   ]
  },
  {
   "cell_type": "code",
   "execution_count": 339,
   "metadata": {
    "colab": {
     "base_uri": "https://localhost:8080/",
     "height": 166
    },
    "colab_type": "code",
    "id": "Wh8_P_w7tL-G",
    "outputId": "0b33c111-d9b4-46e1-9005-51caa45f2816"
   },
   "outputs": [
    {
     "data": {
      "text/html": [
       "<div>\n",
       "<style scoped>\n",
       "    .dataframe tbody tr th:only-of-type {\n",
       "        vertical-align: middle;\n",
       "    }\n",
       "\n",
       "    .dataframe tbody tr th {\n",
       "        vertical-align: top;\n",
       "    }\n",
       "\n",
       "    .dataframe thead th {\n",
       "        text-align: right;\n",
       "    }\n",
       "</style>\n",
       "<table border=\"1\" class=\"dataframe\">\n",
       "  <thead>\n",
       "    <tr style=\"text-align: right;\">\n",
       "      <th>plan</th>\n",
       "      <th>PAID</th>\n",
       "      <th>STANDARD</th>\n",
       "    </tr>\n",
       "    <tr>\n",
       "      <th>brand</th>\n",
       "      <th></th>\n",
       "      <th></th>\n",
       "    </tr>\n",
       "  </thead>\n",
       "  <tbody>\n",
       "    <tr>\n",
       "      <th>Android</th>\n",
       "      <td>454</td>\n",
       "      <td>7346</td>\n",
       "    </tr>\n",
       "    <tr>\n",
       "      <th>Apple</th>\n",
       "      <td>687</td>\n",
       "      <td>7025</td>\n",
       "    </tr>\n",
       "    <tr>\n",
       "      <th>Unknown</th>\n",
       "      <td>9</td>\n",
       "      <td>23</td>\n",
       "    </tr>\n",
       "  </tbody>\n",
       "</table>\n",
       "</div>"
      ],
      "text/plain": [
       "plan     PAID  STANDARD\n",
       "brand                  \n",
       "Android   454      7346\n",
       "Apple     687      7025\n",
       "Unknown     9        23"
      ]
     },
     "execution_count": 339,
     "metadata": {
      "tags": []
     },
     "output_type": "execute_result"
    }
   ],
   "source": [
    "pd.crosstab(index=userdf['brand'],columns=userdf['plan'])"
   ]
  },
  {
   "cell_type": "code",
   "execution_count": 0,
   "metadata": {
    "colab": {},
    "colab_type": "code",
    "id": "SNLOorsByTTY"
   },
   "outputs": [],
   "source": [
    "def changebrand(x):       #function to encode brand into Apple and Android\n",
    "  if x=='Apple':\n",
    "    return 1\n",
    "  else:\n",
    "    return 0"
   ]
  },
  {
   "cell_type": "code",
   "execution_count": 0,
   "metadata": {
    "colab": {},
    "colab_type": "code",
    "id": "rQ7HbUCXyTQF"
   },
   "outputs": [],
   "source": [
    "userdf['birth_year'] =2020 - (userdf[['birth_year']]) #transforming birth year"
   ]
  },
  {
   "cell_type": "code",
   "execution_count": 342,
   "metadata": {
    "colab": {
     "base_uri": "https://localhost:8080/",
     "height": 84
    },
    "colab_type": "code",
    "id": "Jsm3ES5jvchn",
    "outputId": "daf09b2a-3290-496b-aa01-9488fb1cf1a2"
   },
   "outputs": [
    {
     "data": {
      "text/plain": [
       "array(['ES', 'LT', 'IE', 'GB', 'MT', 'FR', 'RO', 'PL', 'AT', 'IT', 'SI',\n",
       "       'CZ', 'BE', 'BG', 'GI', 'CH', 'GG', 'CY', 'LV', 'DE', 'SK', 'GR',\n",
       "       'DK', 'PT', 'LU', 'HR', 'NL', 'NO', 'SE', 'AU', 'IM', 'FI', 'EE',\n",
       "       'JE', 'HU', 'RE', 'IS', 'GP', 'LI', 'MQ'], dtype=object)"
      ]
     },
     "execution_count": 342,
     "metadata": {
      "tags": []
     },
     "output_type": "execute_result"
    }
   ],
   "source": [
    "userdf['country'].unique()"
   ]
  },
  {
   "cell_type": "code",
   "execution_count": 0,
   "metadata": {
    "colab": {},
    "colab_type": "code",
    "id": "vNmhvfI6-daO"
   },
   "outputs": [],
   "source": [
    "def change_country(x):     #function to cluster the countries\n",
    "  if x=='IE' or x=='GB' or x=='AT' or x=='BE' or x=='GG' or x=='LV' or x=='DE' or x=='DK' or x=='LU' or x=='NL' or x=='NO' or x=='SE' or x=='IM' or x=='FI' or x=='JE' or x=='IS':\n",
    "    return 'NorthEurope'\n",
    "  elif x=='MT' or x=='IT' or x=='SI' or x=='BG' or x=='CY' or x=='GR' or x=='HR':\n",
    "    return 'SouthEurope'\n",
    "  elif x=='AU':\n",
    "    return 'Australia'\n",
    "  elif x=='LT' or x=='RO' or x=='PL' or x=='CZ' or x=='SK' or x=='EE' or x=='HU':\n",
    "    return 'EastEurope'\n",
    "  elif x=='ES' or x=='FR' or x=='GI' or x=='CH' or x=='PT' or x=='RE' or x=='GP' or x=='LI' or x=='MQ':\n",
    "    return 'WestEurope'"
   ]
  },
  {
   "cell_type": "code",
   "execution_count": 0,
   "metadata": {
    "colab": {},
    "colab_type": "code",
    "id": "R59h6JK4vu0Z"
   },
   "outputs": [],
   "source": [
    "userdf['country']=userdf['country'].apply(change_country)"
   ]
  },
  {
   "cell_type": "code",
   "execution_count": 366,
   "metadata": {
    "colab": {
     "base_uri": "https://localhost:8080/",
     "height": 118
    },
    "colab_type": "code",
    "id": "htQKTFY0v1lc",
    "outputId": "5f3429f3-0e6e-4738-e2bb-65b6c7af67b3"
   },
   "outputs": [
    {
     "data": {
      "text/plain": [
       "NorthEurope    7198\n",
       "EastEurope     3755\n",
       "WestEurope     3375\n",
       "SouthEurope    1212\n",
       "Australia         4\n",
       "Name: country, dtype: int64"
      ]
     },
     "execution_count": 366,
     "metadata": {
      "tags": []
     },
     "output_type": "execute_result"
    }
   ],
   "source": [
    "userdf['country'].value_counts()"
   ]
  },
  {
   "cell_type": "code",
   "execution_count": 0,
   "metadata": {
    "colab": {},
    "colab_type": "code",
    "id": "mrC0NrReAh8z"
   },
   "outputs": [],
   "source": [
    "userdf=userdf.drop('city',axis=1)"
   ]
  },
  {
   "cell_type": "code",
   "execution_count": 346,
   "metadata": {
    "colab": {
     "base_uri": "https://localhost:8080/",
     "height": 280
    },
    "colab_type": "code",
    "id": "L9rM4WKa06dH",
    "outputId": "ada3f62a-c68b-4e00-8c37-b44faeaa3e13"
   },
   "outputs": [
    {
     "data": {
      "image/png": "[encoded data removed]",
      "text/plain": [
       "<Figure size 432x288 with 1 Axes>"
      ]
     },
     "metadata": {
      "needs_background": "light",
      "tags": []
     },
     "output_type": "display_data"
    }
   ],
   "source": [
    "ax=sns.boxplot(x=userdf.num_contacts)\n",
    "plt.show()"
   ]
  },
  {
   "cell_type": "code",
   "execution_count": 347,
   "metadata": {
    "colab": {
     "base_uri": "https://localhost:8080/",
     "height": 280
    },
    "colab_type": "code",
    "id": "QCVouPqv8Yp5",
    "outputId": "be9e6f08-aca2-419b-bd4f-fb7eb444c37b"
   },
   "outputs": [
    {
     "data": {
      "image/png": "[encoded data removed]",
      "text/plain": [
       "<Figure size 432x288 with 1 Axes>"
      ]
     },
     "metadata": {
      "needs_background": "light",
      "tags": []
     },
     "output_type": "display_data"
    }
   ],
   "source": [
    "ax=sns.boxplot(x=userdf.birth_year)\n",
    "plt.show()"
   ]
  },
  {
   "cell_type": "code",
   "execution_count": 348,
   "metadata": {
    "colab": {
     "base_uri": "https://localhost:8080/",
     "height": 391
    },
    "colab_type": "code",
    "id": "hVB1BIPHBag0",
    "outputId": "250f39b9-fdea-40e2-d2fb-156915f30ebc"
   },
   "outputs": [
    {
     "data": {
      "text/plain": [
       "<matplotlib.collections.PathCollection at 0x7faee4435160>"
      ]
     },
     "execution_count": 348,
     "metadata": {
      "tags": []
     },
     "output_type": "execute_result"
    },
    {
     "data": {
      "image/png": "[encoded data removed]",
      "text/plain": [
       "<Figure size 720x432 with 1 Axes>"
      ]
     },
     "metadata": {
      "needs_background": "light",
      "tags": []
     },
     "output_type": "display_data"
    }
   ],
   "source": [
    "plt.figure(figsize=(10,6))\n",
    "ax=plt.subplot(1,1,1)\n",
    "ax.scatter(userdf['num_contacts'],userdf['plan'])"
   ]
  },
  {
   "cell_type": "code",
   "execution_count": 349,
   "metadata": {
    "colab": {
     "base_uri": "https://localhost:8080/",
     "height": 702
    },
    "colab_type": "code",
    "id": "eQDlb1RMhrFm",
    "outputId": "ae069af7-7950-4925-a200-1657e4046da0"
   },
   "outputs": [
    {
     "data": {
      "image/png": "[encoded data removed]",
      "text/plain": [
       "<Figure size 720x576 with 2 Axes>"
      ]
     },
     "metadata": {
      "needs_background": "light",
      "tags": []
     },
     "output_type": "display_data"
    }
   ],
   "source": [
    "mask = np.zeros_like(userdf.corr(), dtype=np.bool) \n",
    "mask[np.triu_indices_from(mask)] = True \n",
    "f, ax = plt.subplots(figsize=(10, 8))\n",
    "plt.title('Pearson Correlation Matrix',fontsize=25)\n",
    "\n",
    " \n",
    "\n",
    "sns.heatmap(userdf.corr(),linewidths=0.25,vmax=1.0,square=True,cmap=\"GnBu\", \n",
    "            linecolor='w',annot=True,mask=mask,cbar_kws={\"shrink\": .75});"
   ]
  },
  {
   "cell_type": "code",
   "execution_count": 350,
   "metadata": {
    "colab": {
     "base_uri": "https://localhost:8080/",
     "height": 352
    },
    "colab_type": "code",
    "id": "s7_hYQERhrTs",
    "outputId": "d87fbda6-50c2-45aa-8816-b4717fe53e71"
   },
   "outputs": [
    {
     "data": {
      "text/plain": [
       "<matplotlib.axes._subplots.AxesSubplot at 0x7faee40d7f28>"
      ]
     },
     "execution_count": 350,
     "metadata": {
      "tags": []
     },
     "output_type": "execute_result"
    },
    {
     "data": {
      "image/png": "[encoded data removed]",
      "text/plain": [
       "<Figure size 360x360 with 2 Axes>"
      ]
     },
     "metadata": {
      "needs_background": "light",
      "tags": []
     },
     "output_type": "display_data"
    }
   ],
   "source": [
    "plt.figure(figsize=(5,5))\n",
    "sns.heatmap(userdf.groupby(['plan','user_settings_crypto_unlocked']).birth_year.count().unstack(),annot=True,fmt='.0f')"
   ]
  },
  {
   "cell_type": "code",
   "execution_count": 0,
   "metadata": {
    "colab": {},
    "colab_type": "code",
    "id": "BDGa0jDrhrY9"
   },
   "outputs": [],
   "source": []
  },
  {
   "cell_type": "code",
   "execution_count": 0,
   "metadata": {
    "colab": {},
    "colab_type": "code",
    "id": "1qy_h6tlhrcs"
   },
   "outputs": [],
   "source": []
  },
  {
   "cell_type": "code",
   "execution_count": 0,
   "metadata": {
    "colab": {},
    "colab_type": "code",
    "id": "vnIDnY-aDu8o"
   },
   "outputs": [],
   "source": [
    "from scipy.stats import pearsonr\n",
    "import matplotlib.pyplot as plt\n",
    "\n",
    "def corrfunc(x,y,ax=None,**kws):\n",
    "  r,_=pearsonr(x,y)\n",
    "  ax=ax or plt.gca()\n",
    "  rho='\\u03C1'\n",
    "  ax.annotate(f'{rho} = {r:.2f}', xy=(.1, .9), xycoords=ax.transAxes)"
   ]
  },
  {
   "cell_type": "code",
   "execution_count": 352,
   "metadata": {
    "colab": {
     "base_uri": "https://localhost:8080/",
     "height": 927
    },
    "colab_type": "code",
    "id": "icxf103ACGJ2",
    "outputId": "29b077bd-8e35-4dde-afeb-5c9affdd4c4f"
   },
   "outputs": [
    {
     "data": {
      "image/png": "[encoded data removed]",
      "text/plain": [
       "<Figure size 991x900 with 30 Axes>"
      ]
     },
     "metadata": {
      "needs_background": "light",
      "tags": []
     },
     "output_type": "display_data"
    }
   ],
   "source": [
    "ax=sns.pairplot(userdf,hue='plan')\n",
    "ax.map_lower(corrfunc)\n",
    "plt.show()"
   ]
  },
  {
   "cell_type": "code",
   "execution_count": 0,
   "metadata": {
    "colab": {},
    "colab_type": "code",
    "id": "U3h36YerQcaZ"
   },
   "outputs": [],
   "source": [
    "x=userdf.drop('country',axis=1)"
   ]
  },
  {
   "cell_type": "code",
   "execution_count": 0,
   "metadata": {
    "colab": {},
    "colab_type": "code",
    "id": "ofad157-SvmZ"
   },
   "outputs": [],
   "source": [
    "def changebrand(x):\n",
    "  if x=='Apple':\n",
    "    return 1\n",
    "  else:\n",
    "    return 0"
   ]
  },
  {
   "cell_type": "code",
   "execution_count": 0,
   "metadata": {
    "colab": {},
    "colab_type": "code",
    "id": "AjKzVrr7Svwv"
   },
   "outputs": [],
   "source": [
    "x['brand']=x['brand'].apply(changebrand)"
   ]
  },
  {
   "cell_type": "code",
   "execution_count": 356,
   "metadata": {
    "colab": {
     "base_uri": "https://localhost:8080/",
     "height": 190
    },
    "colab_type": "code",
    "id": "ZzR6ZC6IWNNh",
    "outputId": "e6bcae4a-ad05-40e0-f632-609d2f8d42b9"
   },
   "outputs": [
    {
     "data": {
      "text/html": [
       "<div>\n",
       "<style scoped>\n",
       "    .dataframe tbody tr th:only-of-type {\n",
       "        vertical-align: middle;\n",
       "    }\n",
       "\n",
       "    .dataframe tbody tr th {\n",
       "        vertical-align: top;\n",
       "    }\n",
       "\n",
       "    .dataframe thead th {\n",
       "        text-align: right;\n",
       "    }\n",
       "</style>\n",
       "<table border=\"1\" class=\"dataframe\">\n",
       "  <thead>\n",
       "    <tr style=\"text-align: right;\">\n",
       "      <th></th>\n",
       "      <th>birth_year</th>\n",
       "      <th>created_date</th>\n",
       "      <th>user_settings_crypto_unlocked</th>\n",
       "      <th>plan</th>\n",
       "      <th>attributes_notifications_marketing_push</th>\n",
       "      <th>attributes_notifications_marketing_email</th>\n",
       "      <th>num_contacts</th>\n",
       "      <th>brand</th>\n",
       "    </tr>\n",
       "    <tr>\n",
       "      <th>user_id</th>\n",
       "      <th></th>\n",
       "      <th></th>\n",
       "      <th></th>\n",
       "      <th></th>\n",
       "      <th></th>\n",
       "      <th></th>\n",
       "      <th></th>\n",
       "      <th></th>\n",
       "    </tr>\n",
       "  </thead>\n",
       "  <tbody>\n",
       "    <tr>\n",
       "      <th>user_0</th>\n",
       "      <td>28</td>\n",
       "      <td>2018-09-10 18:46:42.843855</td>\n",
       "      <td>0</td>\n",
       "      <td>STANDARD</td>\n",
       "      <td>1.0</td>\n",
       "      <td>1.0</td>\n",
       "      <td>3</td>\n",
       "      <td>1</td>\n",
       "    </tr>\n",
       "    <tr>\n",
       "      <th>user_1</th>\n",
       "      <td>35</td>\n",
       "      <td>2018-01-11 18:53:10.531146</td>\n",
       "      <td>1</td>\n",
       "      <td>STANDARD</td>\n",
       "      <td>1.0</td>\n",
       "      <td>0.0</td>\n",
       "      <td>75</td>\n",
       "      <td>1</td>\n",
       "    </tr>\n",
       "  </tbody>\n",
       "</table>\n",
       "</div>"
      ],
      "text/plain": [
       "         birth_year                created_date  ...  num_contacts brand\n",
       "user_id                                          ...                    \n",
       "user_0           28  2018-09-10 18:46:42.843855  ...             3     1\n",
       "user_1           35  2018-01-11 18:53:10.531146  ...            75     1\n",
       "\n",
       "[2 rows x 8 columns]"
      ]
     },
     "execution_count": 356,
     "metadata": {
      "tags": []
     },
     "output_type": "execute_result"
    }
   ],
   "source": [
    "x.head(2)"
   ]
  },
  {
   "cell_type": "code",
   "execution_count": 0,
   "metadata": {
    "colab": {},
    "colab_type": "code",
    "id": "v_6RZIjuSu4B"
   },
   "outputs": [],
   "source": [
    "x=x.drop('created_date',axis=1)\n",
    "         "
   ]
  },
  {
   "cell_type": "code",
   "execution_count": 358,
   "metadata": {
    "colab": {
     "base_uri": "https://localhost:8080/",
     "height": 126
    },
    "colab_type": "code",
    "id": "giO7WaloVk48",
    "outputId": "13e03920-008e-45b9-91cc-b9dc0b9267c9"
   },
   "outputs": [
    {
     "data": {
      "text/html": [
       "<div>\n",
       "<style scoped>\n",
       "    .dataframe tbody tr th:only-of-type {\n",
       "        vertical-align: middle;\n",
       "    }\n",
       "\n",
       "    .dataframe tbody tr th {\n",
       "        vertical-align: top;\n",
       "    }\n",
       "\n",
       "    .dataframe thead th {\n",
       "        text-align: right;\n",
       "    }\n",
       "</style>\n",
       "<table border=\"1\" class=\"dataframe\">\n",
       "  <thead>\n",
       "    <tr style=\"text-align: right;\">\n",
       "      <th></th>\n",
       "      <th>birth_year</th>\n",
       "      <th>user_settings_crypto_unlocked</th>\n",
       "      <th>plan</th>\n",
       "      <th>attributes_notifications_marketing_push</th>\n",
       "      <th>attributes_notifications_marketing_email</th>\n",
       "      <th>num_contacts</th>\n",
       "      <th>brand</th>\n",
       "    </tr>\n",
       "    <tr>\n",
       "      <th>user_id</th>\n",
       "      <th></th>\n",
       "      <th></th>\n",
       "      <th></th>\n",
       "      <th></th>\n",
       "      <th></th>\n",
       "      <th></th>\n",
       "      <th></th>\n",
       "    </tr>\n",
       "  </thead>\n",
       "  <tbody>\n",
       "    <tr>\n",
       "      <th>user_0</th>\n",
       "      <td>28</td>\n",
       "      <td>0</td>\n",
       "      <td>STANDARD</td>\n",
       "      <td>1.0</td>\n",
       "      <td>1.0</td>\n",
       "      <td>3</td>\n",
       "      <td>1</td>\n",
       "    </tr>\n",
       "  </tbody>\n",
       "</table>\n",
       "</div>"
      ],
      "text/plain": [
       "         birth_year  user_settings_crypto_unlocked  ... num_contacts  brand\n",
       "user_id                                             ...                    \n",
       "user_0           28                              0  ...            3      1\n",
       "\n",
       "[1 rows x 7 columns]"
      ]
     },
     "execution_count": 358,
     "metadata": {
      "tags": []
     },
     "output_type": "execute_result"
    }
   ],
   "source": [
    "x.head(1)"
   ]
  },
  {
   "cell_type": "code",
   "execution_count": 359,
   "metadata": {
    "colab": {
     "base_uri": "https://localhost:8080/",
     "height": 619
    },
    "colab_type": "code",
    "id": "dCDfdGRfYzhJ",
    "outputId": "c188b3d7-9414-4786-a6f5-0293cd29a954"
   },
   "outputs": [
    {
     "data": {
      "text/html": [
       "<div>\n",
       "<style scoped>\n",
       "    .dataframe tbody tr th:only-of-type {\n",
       "        vertical-align: middle;\n",
       "    }\n",
       "\n",
       "    .dataframe tbody tr th {\n",
       "        vertical-align: top;\n",
       "    }\n",
       "\n",
       "    .dataframe thead th {\n",
       "        text-align: right;\n",
       "    }\n",
       "</style>\n",
       "<table border=\"1\" class=\"dataframe\">\n",
       "  <thead>\n",
       "    <tr style=\"text-align: right;\">\n",
       "      <th></th>\n",
       "      <th>birth_year</th>\n",
       "      <th>country</th>\n",
       "      <th>created_date</th>\n",
       "      <th>user_settings_crypto_unlocked</th>\n",
       "      <th>plan</th>\n",
       "      <th>attributes_notifications_marketing_push</th>\n",
       "      <th>attributes_notifications_marketing_email</th>\n",
       "      <th>num_contacts</th>\n",
       "      <th>brand</th>\n",
       "    </tr>\n",
       "    <tr>\n",
       "      <th>user_id</th>\n",
       "      <th></th>\n",
       "      <th></th>\n",
       "      <th></th>\n",
       "      <th></th>\n",
       "      <th></th>\n",
       "      <th></th>\n",
       "      <th></th>\n",
       "      <th></th>\n",
       "      <th></th>\n",
       "    </tr>\n",
       "  </thead>\n",
       "  <tbody>\n",
       "    <tr>\n",
       "      <th>user_0</th>\n",
       "      <td>28</td>\n",
       "      <td>ES</td>\n",
       "      <td>2018-09-10 18:46:42.843855</td>\n",
       "      <td>0</td>\n",
       "      <td>STANDARD</td>\n",
       "      <td>1.0</td>\n",
       "      <td>1.0</td>\n",
       "      <td>3</td>\n",
       "      <td>Apple</td>\n",
       "    </tr>\n",
       "    <tr>\n",
       "      <th>user_1</th>\n",
       "      <td>35</td>\n",
       "      <td>LT</td>\n",
       "      <td>2018-01-11 18:53:10.531146</td>\n",
       "      <td>1</td>\n",
       "      <td>STANDARD</td>\n",
       "      <td>1.0</td>\n",
       "      <td>0.0</td>\n",
       "      <td>75</td>\n",
       "      <td>Apple</td>\n",
       "    </tr>\n",
       "    <tr>\n",
       "      <th>user_2</th>\n",
       "      <td>24</td>\n",
       "      <td>IE</td>\n",
       "      <td>2018-11-29 17:29:16.879324</td>\n",
       "      <td>0</td>\n",
       "      <td>STANDARD</td>\n",
       "      <td>1.0</td>\n",
       "      <td>1.0</td>\n",
       "      <td>71</td>\n",
       "      <td>Apple</td>\n",
       "    </tr>\n",
       "    <tr>\n",
       "      <th>user_3</th>\n",
       "      <td>39</td>\n",
       "      <td>IE</td>\n",
       "      <td>2018-02-17 11:58:08.319664</td>\n",
       "      <td>0</td>\n",
       "      <td>STANDARD</td>\n",
       "      <td>1.0</td>\n",
       "      <td>1.0</td>\n",
       "      <td>219</td>\n",
       "      <td>Apple</td>\n",
       "    </tr>\n",
       "    <tr>\n",
       "      <th>user_4</th>\n",
       "      <td>28</td>\n",
       "      <td>GB</td>\n",
       "      <td>2018-01-08 18:40:21.097856</td>\n",
       "      <td>0</td>\n",
       "      <td>STANDARD</td>\n",
       "      <td>1.0</td>\n",
       "      <td>1.0</td>\n",
       "      <td>0</td>\n",
       "      <td>Apple</td>\n",
       "    </tr>\n",
       "    <tr>\n",
       "      <th>...</th>\n",
       "      <td>...</td>\n",
       "      <td>...</td>\n",
       "      <td>...</td>\n",
       "      <td>...</td>\n",
       "      <td>...</td>\n",
       "      <td>...</td>\n",
       "      <td>...</td>\n",
       "      <td>...</td>\n",
       "      <td>...</td>\n",
       "    </tr>\n",
       "    <tr>\n",
       "      <th>user_15539</th>\n",
       "      <td>23</td>\n",
       "      <td>PL</td>\n",
       "      <td>2018-08-05 05:56:40.787458</td>\n",
       "      <td>0</td>\n",
       "      <td>STANDARD</td>\n",
       "      <td>1.0</td>\n",
       "      <td>1.0</td>\n",
       "      <td>0</td>\n",
       "      <td>Android</td>\n",
       "    </tr>\n",
       "    <tr>\n",
       "      <th>user_15540</th>\n",
       "      <td>35</td>\n",
       "      <td>PL</td>\n",
       "      <td>2018-03-29 12:19:05.567779</td>\n",
       "      <td>0</td>\n",
       "      <td>STANDARD</td>\n",
       "      <td>1.0</td>\n",
       "      <td>1.0</td>\n",
       "      <td>0</td>\n",
       "      <td>Apple</td>\n",
       "    </tr>\n",
       "    <tr>\n",
       "      <th>user_15541</th>\n",
       "      <td>42</td>\n",
       "      <td>GB</td>\n",
       "      <td>2018-07-13 15:56:50.339746</td>\n",
       "      <td>0</td>\n",
       "      <td>STANDARD</td>\n",
       "      <td>1.0</td>\n",
       "      <td>1.0</td>\n",
       "      <td>16</td>\n",
       "      <td>Android</td>\n",
       "    </tr>\n",
       "    <tr>\n",
       "      <th>user_15542</th>\n",
       "      <td>43</td>\n",
       "      <td>IE</td>\n",
       "      <td>2018-01-07 15:53:43.719983</td>\n",
       "      <td>0</td>\n",
       "      <td>PAID</td>\n",
       "      <td>1.0</td>\n",
       "      <td>1.0</td>\n",
       "      <td>44</td>\n",
       "      <td>Apple</td>\n",
       "    </tr>\n",
       "    <tr>\n",
       "      <th>user_15543</th>\n",
       "      <td>26</td>\n",
       "      <td>GB</td>\n",
       "      <td>2018-08-18 12:17:02.086815</td>\n",
       "      <td>1</td>\n",
       "      <td>STANDARD</td>\n",
       "      <td>1.0</td>\n",
       "      <td>1.0</td>\n",
       "      <td>8</td>\n",
       "      <td>Android</td>\n",
       "    </tr>\n",
       "  </tbody>\n",
       "</table>\n",
       "<p>15544 rows × 9 columns</p>\n",
       "</div>"
      ],
      "text/plain": [
       "            birth_year country  ... num_contacts    brand\n",
       "user_id                         ...                      \n",
       "user_0              28      ES  ...            3    Apple\n",
       "user_1              35      LT  ...           75    Apple\n",
       "user_2              24      IE  ...           71    Apple\n",
       "user_3              39      IE  ...          219    Apple\n",
       "user_4              28      GB  ...            0    Apple\n",
       "...                ...     ...  ...          ...      ...\n",
       "user_15539          23      PL  ...            0  Android\n",
       "user_15540          35      PL  ...            0    Apple\n",
       "user_15541          42      GB  ...           16  Android\n",
       "user_15542          43      IE  ...           44    Apple\n",
       "user_15543          26      GB  ...            8  Android\n",
       "\n",
       "[15544 rows x 9 columns]"
      ]
     },
     "execution_count": 359,
     "metadata": {
      "tags": []
     },
     "output_type": "execute_result"
    }
   ],
   "source": [
    "userdf"
   ]
  },
  {
   "cell_type": "code",
   "execution_count": 0,
   "metadata": {
    "colab": {},
    "colab_type": "code",
    "id": "2m6Ff4nTyM4V"
   },
   "outputs": [],
   "source": []
  }
 ],
 "metadata": {
  "colab": {
   "collapsed_sections": [],
   "name": "ergasia_data_detection_new_1.ipynb",
   "provenance": []
  },
  "kernelspec": {
   "display_name": "Python 3",
   "language": "python",
   "name": "python3"
  },
  "language_info": {
   "codemirror_mode": {
    "name": "ipython",
    "version": 3
   },
   "file_extension": ".py",
   "mimetype": "text/x-python",
   "name": "python",
   "nbconvert_exporter": "python",
   "pygments_lexer": "ipython3",
   "version": "3.6.8"
  }
 },
 "nbformat": 4,
 "nbformat_minor": 1
}
