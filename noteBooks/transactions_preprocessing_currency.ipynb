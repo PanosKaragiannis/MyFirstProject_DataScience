{
  "nbformat": 4,
  "nbformat_minor": 0,
  "metadata": {
    "colab": {
      "name": "transactions_preprocessing_currency.ipynb",
      "provenance": [],
      "collapsed_sections": []
    },
    "kernelspec": {
      "display_name": "Python 3",
      "language": "python",
      "name": "python3"
    },
    "language_info": {
      "codemirror_mode": {
        "name": "ipython",
        "version": 3
      },
      "file_extension": ".py",
      "mimetype": "text/x-python",
      "name": "python",
      "nbconvert_exporter": "python",
      "pygments_lexer": "ipython3",
      "version": "3.5.2"
    }
  },
  "cells": [
    {
      "cell_type": "code",
      "metadata": {
        "colab_type": "code",
        "id": "X0kavlspAx7H",
        "colab": {}
      },
      "source": [
        "import pandas as pd\n",
        "import numpy as np\n",
        "import matplotlib.pyplot as plt\n",
        "from matplotlib.pyplot import pie,axis,show\n",
        "import seaborn as sns\n",
        "import random as rd\n",
        "import datetime as dt\n",
        "from termcolor import colored\n",
        "from datetime import date\n",
        "from datetime import datetime"
      ],
      "execution_count": 0,
      "outputs": []
    },
    {
      "cell_type": "code",
      "metadata": {
        "colab_type": "code",
        "id": "IjW8BtNUA9O3",
        "outputId": "ecfe5baa-52c7-4791-c557-81f445ad2f74",
        "colab": {
          "base_uri": "https://localhost:8080/",
          "height": 706
        }
      },
      "source": [
        "t1=pd.read_csv('transactions_1.csv')\n",
        "t2=pd.read_csv('transactions_2.csv')\n",
        "t3=pd.read_csv('transactions_3.csv')\n",
        "# concatenate the 3 datasets into 1 with all transactions\n",
        "trans=pd.concat([t1, t2, t3]) \n",
        "\n",
        "print('Shape of the transactions dataset',trans.shape)\n",
        "print('Number of null in each column',trans.isna().sum())\n",
        "print(trans.sample(5))\n",
        "trans.info()"
      ],
      "execution_count": 0,
      "outputs": [
        {
          "output_type": "stream",
          "text": [
            "Shape of the transactions dataset (2181026, 12)\n",
            "Number of null in each column transaction_id                0\n",
            "transactions_type             0\n",
            "transactions_currency         0\n",
            "amount_usd                    0\n",
            "transactions_state            0\n",
            "ea_cardholderpresence    933206\n",
            "ea_merchant_mcc          923975\n",
            "ea_merchant_city         924080\n",
            "ea_merchant_country      924239\n",
            "direction                     0\n",
            "user_id                       0\n",
            "created_date                  0\n",
            "dtype: int64\n",
            "             transaction_id  ...                created_date\n",
            "238022  transaction_1738022  ...  2019-01-13 12:45:45.015943\n",
            "272541  transaction_1772541  ...  2019-04-13 02:42:32.211458\n",
            "16855   transaction_1516855  ...  2019-03-12 13:26:04.110782\n",
            "669231   transaction_669231  ...  2018-07-20 14:55:13.883536\n",
            "228279  transaction_1028279  ...  2019-04-13 07:38:24.017545\n",
            "\n",
            "[5 rows x 12 columns]\n",
            "<class 'pandas.core.frame.DataFrame'>\n",
            "Int64Index: 2181026 entries, 0 to 681025\n",
            "Data columns (total 12 columns):\n",
            " #   Column                 Dtype  \n",
            "---  ------                 -----  \n",
            " 0   transaction_id         object \n",
            " 1   transactions_type      object \n",
            " 2   transactions_currency  object \n",
            " 3   amount_usd             float64\n",
            " 4   transactions_state     object \n",
            " 5   ea_cardholderpresence  object \n",
            " 6   ea_merchant_mcc        float64\n",
            " 7   ea_merchant_city       object \n",
            " 8   ea_merchant_country    object \n",
            " 9   direction              object \n",
            " 10  user_id                object \n",
            " 11  created_date           object \n",
            "dtypes: float64(2), object(10)\n",
            "memory usage: 216.3+ MB\n"
          ],
          "name": "stdout"
        }
      ]
    },
    {
      "cell_type": "code",
      "metadata": {
        "id": "5mptIyRYfUGD",
        "colab_type": "code",
        "outputId": "b0e4e08a-75ac-4e03-a830-8a216c5a0624",
        "colab": {
          "base_uri": "https://localhost:8080/",
          "height": 160
        }
      },
      "source": [
        "trans.head(2)"
      ],
      "execution_count": 0,
      "outputs": [
        {
          "output_type": "execute_result",
          "data": {
            "text/html": [
              "<div>\n",
              "<style scoped>\n",
              "    .dataframe tbody tr th:only-of-type {\n",
              "        vertical-align: middle;\n",
              "    }\n",
              "\n",
              "    .dataframe tbody tr th {\n",
              "        vertical-align: top;\n",
              "    }\n",
              "\n",
              "    .dataframe thead th {\n",
              "        text-align: right;\n",
              "    }\n",
              "</style>\n",
              "<table border=\"1\" class=\"dataframe\">\n",
              "  <thead>\n",
              "    <tr style=\"text-align: right;\">\n",
              "      <th></th>\n",
              "      <th>transaction_id</th>\n",
              "      <th>transactions_type</th>\n",
              "      <th>transactions_currency</th>\n",
              "      <th>amount_usd</th>\n",
              "      <th>transactions_state</th>\n",
              "      <th>ea_cardholderpresence</th>\n",
              "      <th>ea_merchant_mcc</th>\n",
              "      <th>ea_merchant_city</th>\n",
              "      <th>ea_merchant_country</th>\n",
              "      <th>direction</th>\n",
              "      <th>user_id</th>\n",
              "      <th>created_date</th>\n",
              "    </tr>\n",
              "  </thead>\n",
              "  <tbody>\n",
              "    <tr>\n",
              "      <th>0</th>\n",
              "      <td>transaction_0</td>\n",
              "      <td>TRANSFER</td>\n",
              "      <td>AED</td>\n",
              "      <td>4.55</td>\n",
              "      <td>COMPLETED</td>\n",
              "      <td>NaN</td>\n",
              "      <td>NaN</td>\n",
              "      <td>NaN</td>\n",
              "      <td>NaN</td>\n",
              "      <td>OUTBOUND</td>\n",
              "      <td>user_4368</td>\n",
              "      <td>2018-04-03 03:34:21.784487</td>\n",
              "    </tr>\n",
              "    <tr>\n",
              "      <th>1</th>\n",
              "      <td>transaction_1</td>\n",
              "      <td>CARD_PAYMENT</td>\n",
              "      <td>AED</td>\n",
              "      <td>15.50</td>\n",
              "      <td>COMPLETED</td>\n",
              "      <td>FALSE</td>\n",
              "      <td>4111.0</td>\n",
              "      <td>Dubai</td>\n",
              "      <td>ARE</td>\n",
              "      <td>OUTBOUND</td>\n",
              "      <td>user_2355</td>\n",
              "      <td>2019-03-19 06:15:59.537032</td>\n",
              "    </tr>\n",
              "  </tbody>\n",
              "</table>\n",
              "</div>"
            ],
            "text/plain": [
              "  transaction_id transactions_type  ...    user_id                created_date\n",
              "0  transaction_0          TRANSFER  ...  user_4368  2018-04-03 03:34:21.784487\n",
              "1  transaction_1      CARD_PAYMENT  ...  user_2355  2019-03-19 06:15:59.537032\n",
              "\n",
              "[2 rows x 12 columns]"
            ]
          },
          "metadata": {
            "tags": []
          },
          "execution_count": 133
        }
      ]
    },
    {
      "cell_type": "code",
      "metadata": {
        "colab_type": "code",
        "id": "Ym-kGt7PCdc6",
        "colab": {}
      },
      "source": [
        "trans['created_date'] = pd.to_datetime(trans['created_date'])"
      ],
      "execution_count": 0,
      "outputs": []
    },
    {
      "cell_type": "code",
      "metadata": {
        "colab_type": "code",
        "id": "0nm64g_5jwrc",
        "outputId": "95bf1b26-486c-4843-b62e-e7c868d95b50",
        "colab": {
          "base_uri": "https://localhost:8080/",
          "height": 248
        }
      },
      "source": [
        "sums = trans.amount_usd.groupby(trans.transactions_currency).sum()\n",
        "axis('equal');\n",
        "pie(sums, labels=sums.index);\n",
        "show()"
      ],
      "execution_count": 0,
      "outputs": [
        {
          "output_type": "display_data",
          "data": {
            "image/png": "[encoded data removed]",
            "text/plain": [
              "<Figure size 432x288 with 1 Axes>"
            ]
          },
          "metadata": {
            "tags": []
          }
        }
      ]
    },
    {
      "cell_type": "code",
      "metadata": {
        "id": "o_dw-XlwcuG6",
        "colab_type": "code",
        "colab": {}
      },
      "source": [
        "def change_currency(cur):\n",
        "  if cur == 'CHF':\n",
        "    return 'CHF'\n",
        "  elif cur == 'GBP':\n",
        "    return 'GBP'\n",
        "  elif cur == 'EUR':\n",
        "    return 'EUR'\n",
        "  else:\n",
        "    return 'OTHER'"
      ],
      "execution_count": 0,
      "outputs": []
    },
    {
      "cell_type": "code",
      "metadata": {
        "id": "jB3z6wjJcuBv",
        "colab_type": "code",
        "outputId": "cafa83c8-c21b-4aed-d365-219962f94dbb",
        "colab": {
          "base_uri": "https://localhost:8080/",
          "height": 101
        }
      },
      "source": [
        "trans['transactions_currency'] = trans['transactions_currency'].apply(change_currency)\n",
        "trans['transactions_currency'].value_counts()"
      ],
      "execution_count": 0,
      "outputs": [
        {
          "output_type": "execute_result",
          "data": {
            "text/plain": [
              "EUR      931327\n",
              "GBP      702488\n",
              "OTHER    515920\n",
              "CHF       31291\n",
              "Name: transactions_currency, dtype: int64"
            ]
          },
          "metadata": {
            "tags": []
          },
          "execution_count": 137
        }
      ]
    },
    {
      "cell_type": "code",
      "metadata": {
        "id": "Oj4yJLaymRyT",
        "colab_type": "code",
        "outputId": "2481839a-1257-4204-c060-77929c764daa",
        "colab": {
          "base_uri": "https://localhost:8080/",
          "height": 160
        }
      },
      "source": [
        "trans = pd.concat([pd.get_dummies(trans['transactions_currency']), trans], axis=1)\n",
        "trans.head(2)"
      ],
      "execution_count": 0,
      "outputs": [
        {
          "output_type": "execute_result",
          "data": {
            "text/html": [
              "<div>\n",
              "<style scoped>\n",
              "    .dataframe tbody tr th:only-of-type {\n",
              "        vertical-align: middle;\n",
              "    }\n",
              "\n",
              "    .dataframe tbody tr th {\n",
              "        vertical-align: top;\n",
              "    }\n",
              "\n",
              "    .dataframe thead th {\n",
              "        text-align: right;\n",
              "    }\n",
              "</style>\n",
              "<table border=\"1\" class=\"dataframe\">\n",
              "  <thead>\n",
              "    <tr style=\"text-align: right;\">\n",
              "      <th></th>\n",
              "      <th>CHF</th>\n",
              "      <th>EUR</th>\n",
              "      <th>GBP</th>\n",
              "      <th>OTHER</th>\n",
              "      <th>transaction_id</th>\n",
              "      <th>transactions_type</th>\n",
              "      <th>transactions_currency</th>\n",
              "      <th>amount_usd</th>\n",
              "      <th>transactions_state</th>\n",
              "      <th>ea_cardholderpresence</th>\n",
              "      <th>ea_merchant_mcc</th>\n",
              "      <th>ea_merchant_city</th>\n",
              "      <th>ea_merchant_country</th>\n",
              "      <th>direction</th>\n",
              "      <th>user_id</th>\n",
              "      <th>created_date</th>\n",
              "    </tr>\n",
              "  </thead>\n",
              "  <tbody>\n",
              "    <tr>\n",
              "      <th>0</th>\n",
              "      <td>0</td>\n",
              "      <td>0</td>\n",
              "      <td>0</td>\n",
              "      <td>1</td>\n",
              "      <td>transaction_0</td>\n",
              "      <td>TRANSFER</td>\n",
              "      <td>OTHER</td>\n",
              "      <td>4.55</td>\n",
              "      <td>COMPLETED</td>\n",
              "      <td>NaN</td>\n",
              "      <td>NaN</td>\n",
              "      <td>NaN</td>\n",
              "      <td>NaN</td>\n",
              "      <td>OUTBOUND</td>\n",
              "      <td>user_4368</td>\n",
              "      <td>2018-04-03 03:34:21.784487</td>\n",
              "    </tr>\n",
              "    <tr>\n",
              "      <th>1</th>\n",
              "      <td>0</td>\n",
              "      <td>0</td>\n",
              "      <td>0</td>\n",
              "      <td>1</td>\n",
              "      <td>transaction_1</td>\n",
              "      <td>CARD_PAYMENT</td>\n",
              "      <td>OTHER</td>\n",
              "      <td>15.50</td>\n",
              "      <td>COMPLETED</td>\n",
              "      <td>FALSE</td>\n",
              "      <td>4111.0</td>\n",
              "      <td>Dubai</td>\n",
              "      <td>ARE</td>\n",
              "      <td>OUTBOUND</td>\n",
              "      <td>user_2355</td>\n",
              "      <td>2019-03-19 06:15:59.537032</td>\n",
              "    </tr>\n",
              "  </tbody>\n",
              "</table>\n",
              "</div>"
            ],
            "text/plain": [
              "   CHF  EUR  GBP  ...  direction    user_id               created_date\n",
              "0    0    0    0  ...   OUTBOUND  user_4368 2018-04-03 03:34:21.784487\n",
              "1    0    0    0  ...   OUTBOUND  user_2355 2019-03-19 06:15:59.537032\n",
              "\n",
              "[2 rows x 16 columns]"
            ]
          },
          "metadata": {
            "tags": []
          },
          "execution_count": 138
        }
      ]
    },
    {
      "cell_type": "code",
      "metadata": {
        "id": "x-ysI_itjsiH",
        "colab_type": "code",
        "outputId": "e97f819b-4f8a-43fb-9e07-c83a585d3482",
        "colab": {
          "base_uri": "https://localhost:8080/",
          "height": 177
        }
      },
      "source": [
        "df = pd.merge(us, trans, on='user_id', how='inner')\n",
        "df.head(2)"
      ],
      "execution_count": 0,
      "outputs": [
        {
          "output_type": "execute_result",
          "data": {
            "text/html": [
              "<div>\n",
              "<style scoped>\n",
              "    .dataframe tbody tr th:only-of-type {\n",
              "        vertical-align: middle;\n",
              "    }\n",
              "\n",
              "    .dataframe tbody tr th {\n",
              "        vertical-align: top;\n",
              "    }\n",
              "\n",
              "    .dataframe thead th {\n",
              "        text-align: right;\n",
              "    }\n",
              "</style>\n",
              "<table border=\"1\" class=\"dataframe\">\n",
              "  <thead>\n",
              "    <tr style=\"text-align: right;\">\n",
              "      <th></th>\n",
              "      <th>Unnamed: 0</th>\n",
              "      <th>Unnamed: 0.1</th>\n",
              "      <th>user_id</th>\n",
              "      <th>total_amount</th>\n",
              "      <th>number_transactions</th>\n",
              "      <th>avg_amount</th>\n",
              "      <th>first_transaction</th>\n",
              "      <th>last_transaction</th>\n",
              "      <th>transaction_period</th>\n",
              "      <th>Australia</th>\n",
              "      <th>EastEurope</th>\n",
              "      <th>NorthEurope</th>\n",
              "      <th>SouthEurope</th>\n",
              "      <th>WestEurope</th>\n",
              "      <th>year_2018</th>\n",
              "      <th>year_2019</th>\n",
              "      <th>age</th>\n",
              "      <th>country</th>\n",
              "      <th>city</th>\n",
              "      <th>created_date_x</th>\n",
              "      <th>user_settings_crypto_unlocked</th>\n",
              "      <th>plan</th>\n",
              "      <th>attributes_notifications_marketing_push</th>\n",
              "      <th>attributes_notifications_marketing_email</th>\n",
              "      <th>num_contacts</th>\n",
              "      <th>num_referrals</th>\n",
              "      <th>num_successful_referrals</th>\n",
              "      <th>brand</th>\n",
              "      <th>created_year</th>\n",
              "      <th>created_month</th>\n",
              "      <th>created_date_y</th>\n",
              "      <th>user_active_time</th>\n",
              "      <th>user_trans_time</th>\n",
              "      <th>user_trans_periodicity</th>\n",
              "      <th>CHF</th>\n",
              "      <th>EUR</th>\n",
              "      <th>GBP</th>\n",
              "      <th>OTHER</th>\n",
              "      <th>transaction_id</th>\n",
              "      <th>transactions_type</th>\n",
              "      <th>transactions_currency</th>\n",
              "      <th>amount_usd</th>\n",
              "      <th>transactions_state</th>\n",
              "      <th>ea_cardholderpresence</th>\n",
              "      <th>ea_merchant_mcc</th>\n",
              "      <th>ea_merchant_city</th>\n",
              "      <th>ea_merchant_country</th>\n",
              "      <th>direction</th>\n",
              "      <th>created_date</th>\n",
              "    </tr>\n",
              "  </thead>\n",
              "  <tbody>\n",
              "    <tr>\n",
              "      <th>0</th>\n",
              "      <td>0</td>\n",
              "      <td>0</td>\n",
              "      <td>user_0</td>\n",
              "      <td>6925.08</td>\n",
              "      <td>520</td>\n",
              "      <td>13.317462</td>\n",
              "      <td>2018-09-10 18:54:08.965855</td>\n",
              "      <td>2019-05-10 05:09:13.868855</td>\n",
              "      <td>241.5</td>\n",
              "      <td>0</td>\n",
              "      <td>0</td>\n",
              "      <td>0</td>\n",
              "      <td>0</td>\n",
              "      <td>1</td>\n",
              "      <td>1</td>\n",
              "      <td>0</td>\n",
              "      <td>28</td>\n",
              "      <td>WestEurope</td>\n",
              "      <td>Madrid</td>\n",
              "      <td>2018-09-10 18:46:42.843855</td>\n",
              "      <td>0</td>\n",
              "      <td>0</td>\n",
              "      <td>1.0</td>\n",
              "      <td>1.0</td>\n",
              "      <td>3</td>\n",
              "      <td>0</td>\n",
              "      <td>0</td>\n",
              "      <td>1</td>\n",
              "      <td>2018</td>\n",
              "      <td>9</td>\n",
              "      <td>2018-09-10 18:46:42.843855</td>\n",
              "      <td>247</td>\n",
              "      <td>247</td>\n",
              "      <td>0.001923</td>\n",
              "      <td>0</td>\n",
              "      <td>1</td>\n",
              "      <td>0</td>\n",
              "      <td>0</td>\n",
              "      <td>transaction_1651480</td>\n",
              "      <td>TOPUP</td>\n",
              "      <td>EUR</td>\n",
              "      <td>0.85</td>\n",
              "      <td>FAILED</td>\n",
              "      <td>NaN</td>\n",
              "      <td>NaN</td>\n",
              "      <td>NaN</td>\n",
              "      <td>NaN</td>\n",
              "      <td>INBOUND</td>\n",
              "      <td>2018-09-10 19:09:54.750855</td>\n",
              "    </tr>\n",
              "    <tr>\n",
              "      <th>1</th>\n",
              "      <td>0</td>\n",
              "      <td>0</td>\n",
              "      <td>user_0</td>\n",
              "      <td>6925.08</td>\n",
              "      <td>520</td>\n",
              "      <td>13.317462</td>\n",
              "      <td>2018-09-10 18:54:08.965855</td>\n",
              "      <td>2019-05-10 05:09:13.868855</td>\n",
              "      <td>241.5</td>\n",
              "      <td>0</td>\n",
              "      <td>0</td>\n",
              "      <td>0</td>\n",
              "      <td>0</td>\n",
              "      <td>1</td>\n",
              "      <td>1</td>\n",
              "      <td>0</td>\n",
              "      <td>28</td>\n",
              "      <td>WestEurope</td>\n",
              "      <td>Madrid</td>\n",
              "      <td>2018-09-10 18:46:42.843855</td>\n",
              "      <td>0</td>\n",
              "      <td>0</td>\n",
              "      <td>1.0</td>\n",
              "      <td>1.0</td>\n",
              "      <td>3</td>\n",
              "      <td>0</td>\n",
              "      <td>0</td>\n",
              "      <td>1</td>\n",
              "      <td>2018</td>\n",
              "      <td>9</td>\n",
              "      <td>2018-09-10 18:46:42.843855</td>\n",
              "      <td>247</td>\n",
              "      <td>247</td>\n",
              "      <td>0.001923</td>\n",
              "      <td>0</td>\n",
              "      <td>1</td>\n",
              "      <td>0</td>\n",
              "      <td>0</td>\n",
              "      <td>transaction_1652009</td>\n",
              "      <td>CARD_PAYMENT</td>\n",
              "      <td>EUR</td>\n",
              "      <td>47.74</td>\n",
              "      <td>DECLINED</td>\n",
              "      <td>FALSE</td>\n",
              "      <td>7011.0</td>\n",
              "      <td>Valencia</td>\n",
              "      <td>ESP</td>\n",
              "      <td>OUTBOUND</td>\n",
              "      <td>2018-09-30 19:31:53.900855</td>\n",
              "    </tr>\n",
              "  </tbody>\n",
              "</table>\n",
              "</div>"
            ],
            "text/plain": [
              "   Unnamed: 0  Unnamed: 0.1  ... direction               created_date\n",
              "0           0             0  ...   INBOUND 2018-09-10 19:09:54.750855\n",
              "1           0             0  ...  OUTBOUND 2018-09-30 19:31:53.900855\n",
              "\n",
              "[2 rows x 49 columns]"
            ]
          },
          "metadata": {
            "tags": []
          },
          "execution_count": 139
        }
      ]
    },
    {
      "cell_type": "code",
      "metadata": {
        "id": "-UWPugTOnytT",
        "colab_type": "code",
        "outputId": "83b7533c-4974-4a9b-dc13-eddfdc09b3a3",
        "colab": {
          "base_uri": "https://localhost:8080/",
          "height": 160
        }
      },
      "source": [
        "trans.head(2)"
      ],
      "execution_count": 0,
      "outputs": [
        {
          "output_type": "execute_result",
          "data": {
            "text/html": [
              "<div>\n",
              "<style scoped>\n",
              "    .dataframe tbody tr th:only-of-type {\n",
              "        vertical-align: middle;\n",
              "    }\n",
              "\n",
              "    .dataframe tbody tr th {\n",
              "        vertical-align: top;\n",
              "    }\n",
              "\n",
              "    .dataframe thead th {\n",
              "        text-align: right;\n",
              "    }\n",
              "</style>\n",
              "<table border=\"1\" class=\"dataframe\">\n",
              "  <thead>\n",
              "    <tr style=\"text-align: right;\">\n",
              "      <th></th>\n",
              "      <th>CHF</th>\n",
              "      <th>EUR</th>\n",
              "      <th>GBP</th>\n",
              "      <th>OTHER</th>\n",
              "      <th>transaction_id</th>\n",
              "      <th>transactions_type</th>\n",
              "      <th>transactions_currency</th>\n",
              "      <th>amount_usd</th>\n",
              "      <th>transactions_state</th>\n",
              "      <th>ea_cardholderpresence</th>\n",
              "      <th>ea_merchant_mcc</th>\n",
              "      <th>ea_merchant_city</th>\n",
              "      <th>ea_merchant_country</th>\n",
              "      <th>direction</th>\n",
              "      <th>user_id</th>\n",
              "      <th>created_date</th>\n",
              "    </tr>\n",
              "  </thead>\n",
              "  <tbody>\n",
              "    <tr>\n",
              "      <th>0</th>\n",
              "      <td>0</td>\n",
              "      <td>0</td>\n",
              "      <td>0</td>\n",
              "      <td>1</td>\n",
              "      <td>transaction_0</td>\n",
              "      <td>TRANSFER</td>\n",
              "      <td>OTHER</td>\n",
              "      <td>4.55</td>\n",
              "      <td>COMPLETED</td>\n",
              "      <td>NaN</td>\n",
              "      <td>NaN</td>\n",
              "      <td>NaN</td>\n",
              "      <td>NaN</td>\n",
              "      <td>OUTBOUND</td>\n",
              "      <td>user_4368</td>\n",
              "      <td>2018-04-03 03:34:21.784487</td>\n",
              "    </tr>\n",
              "    <tr>\n",
              "      <th>1</th>\n",
              "      <td>0</td>\n",
              "      <td>0</td>\n",
              "      <td>0</td>\n",
              "      <td>1</td>\n",
              "      <td>transaction_1</td>\n",
              "      <td>CARD_PAYMENT</td>\n",
              "      <td>OTHER</td>\n",
              "      <td>15.50</td>\n",
              "      <td>COMPLETED</td>\n",
              "      <td>FALSE</td>\n",
              "      <td>4111.0</td>\n",
              "      <td>Dubai</td>\n",
              "      <td>ARE</td>\n",
              "      <td>OUTBOUND</td>\n",
              "      <td>user_2355</td>\n",
              "      <td>2019-03-19 06:15:59.537032</td>\n",
              "    </tr>\n",
              "  </tbody>\n",
              "</table>\n",
              "</div>"
            ],
            "text/plain": [
              "   CHF  EUR  GBP  ...  direction    user_id               created_date\n",
              "0    0    0    0  ...   OUTBOUND  user_4368 2018-04-03 03:34:21.784487\n",
              "1    0    0    0  ...   OUTBOUND  user_2355 2019-03-19 06:15:59.537032\n",
              "\n",
              "[2 rows x 16 columns]"
            ]
          },
          "metadata": {
            "tags": []
          },
          "execution_count": 140
        }
      ]
    },
    {
      "cell_type": "code",
      "metadata": {
        "id": "ThfiJRBBjsom",
        "colab_type": "code",
        "outputId": "a6f95084-0d43-43af-d6b0-e9fd3a6641d3",
        "colab": {
          "base_uri": "https://localhost:8080/",
          "height": 195
        }
      },
      "source": [
        "pd.crosstab(df['transactions_currency'],df['plan'])"
      ],
      "execution_count": 0,
      "outputs": [
        {
          "output_type": "execute_result",
          "data": {
            "text/html": [
              "<div>\n",
              "<style scoped>\n",
              "    .dataframe tbody tr th:only-of-type {\n",
              "        vertical-align: middle;\n",
              "    }\n",
              "\n",
              "    .dataframe tbody tr th {\n",
              "        vertical-align: top;\n",
              "    }\n",
              "\n",
              "    .dataframe thead th {\n",
              "        text-align: right;\n",
              "    }\n",
              "</style>\n",
              "<table border=\"1\" class=\"dataframe\">\n",
              "  <thead>\n",
              "    <tr style=\"text-align: right;\">\n",
              "      <th>plan</th>\n",
              "      <th>0</th>\n",
              "      <th>1</th>\n",
              "    </tr>\n",
              "    <tr>\n",
              "      <th>transactions_currency</th>\n",
              "      <th></th>\n",
              "      <th></th>\n",
              "    </tr>\n",
              "  </thead>\n",
              "  <tbody>\n",
              "    <tr>\n",
              "      <th>CHF</th>\n",
              "      <td>19360</td>\n",
              "      <td>11926</td>\n",
              "    </tr>\n",
              "    <tr>\n",
              "      <th>EUR</th>\n",
              "      <td>737902</td>\n",
              "      <td>192956</td>\n",
              "    </tr>\n",
              "    <tr>\n",
              "      <th>GBP</th>\n",
              "      <td>539675</td>\n",
              "      <td>162713</td>\n",
              "    </tr>\n",
              "    <tr>\n",
              "      <th>OTHER</th>\n",
              "      <td>388185</td>\n",
              "      <td>127639</td>\n",
              "    </tr>\n",
              "  </tbody>\n",
              "</table>\n",
              "</div>"
            ],
            "text/plain": [
              "plan                        0       1\n",
              "transactions_currency                \n",
              "CHF                     19360   11926\n",
              "EUR                    737902  192956\n",
              "GBP                    539675  162713\n",
              "OTHER                  388185  127639"
            ]
          },
          "metadata": {
            "tags": []
          },
          "execution_count": 141
        }
      ]
    },
    {
      "cell_type": "code",
      "metadata": {
        "id": "yHqam3NCjsmU",
        "colab_type": "code",
        "colab": {}
      },
      "source": [
        ""
      ],
      "execution_count": 0,
      "outputs": []
    },
    {
      "cell_type": "code",
      "metadata": {
        "colab_type": "code",
        "id": "cudnwCcxECi_",
        "outputId": "746b8896-6bfe-42b7-fac6-62cf499b6822",
        "colab": {
          "base_uri": "https://localhost:8080/",
          "height": 50
        }
      },
      "source": [
        "trans=trans[trans.transactions_state=='COMPLETED']\n",
        "print(trans['transactions_state'].value_counts())"
      ],
      "execution_count": 0,
      "outputs": [
        {
          "output_type": "stream",
          "text": [
            "COMPLETED    1916387\n",
            "Name: transactions_state, dtype: int64\n"
          ],
          "name": "stdout"
        }
      ]
    },
    {
      "cell_type": "code",
      "metadata": {
        "colab_type": "code",
        "id": "q6BblQNcEdZl",
        "outputId": "338d438e-7748-483d-ba9c-0970367ab7b6",
        "colab": {
          "base_uri": "https://localhost:8080/",
          "height": 185
        }
      },
      "source": [
        "trans_grouped = trans.groupby(['user_id'], as_index=True)['amount_usd'].agg(['sum','count','mean'])\n",
        "trans_grouped.rename(columns={'sum':'total_amount', 'count':'number_transactions','mean':'avg_amount'}, inplace=True)\n",
        "trans_grouped.info()"
      ],
      "execution_count": 0,
      "outputs": [
        {
          "output_type": "stream",
          "text": [
            "<class 'pandas.core.frame.DataFrame'>\n",
            "Index: 14821 entries, user_0 to user_9999\n",
            "Data columns (total 3 columns):\n",
            " #   Column               Non-Null Count  Dtype  \n",
            "---  ------               --------------  -----  \n",
            " 0   total_amount         14821 non-null  float64\n",
            " 1   number_transactions  14821 non-null  int64  \n",
            " 2   avg_amount           14821 non-null  float64\n",
            "dtypes: float64(2), int64(1)\n",
            "memory usage: 463.2+ KB\n"
          ],
          "name": "stdout"
        }
      ]
    },
    {
      "cell_type": "code",
      "metadata": {
        "colab_type": "code",
        "id": "mdjMWQDyFUE6",
        "colab": {}
      },
      "source": [
        "#trans_grouped.to_csv('trans_amount_vol.csv')"
      ],
      "execution_count": 0,
      "outputs": []
    },
    {
      "cell_type": "code",
      "metadata": {
        "colab_type": "code",
        "id": "ZzIE0_EDd0WB",
        "outputId": "ebfe8cf9-76b0-42d3-e47a-e4f88361bbf5",
        "colab": {
          "base_uri": "https://localhost:8080/",
          "height": 34
        }
      },
      "source": [
        "trans['created_date'].min()"
      ],
      "execution_count": 0,
      "outputs": [
        {
          "output_type": "execute_result",
          "data": {
            "text/plain": [
              "Timestamp('2018-01-01 08:53:48.538709')"
            ]
          },
          "metadata": {
            "tags": []
          },
          "execution_count": 145
        }
      ]
    },
    {
      "cell_type": "code",
      "metadata": {
        "colab_type": "code",
        "id": "HL4W1U9DJ0cg",
        "outputId": "a336414e-678d-4c62-b6ef-c5c0ab2116e4",
        "colab": {
          "base_uri": "https://localhost:8080/",
          "height": 168
        }
      },
      "source": [
        "trans_grouped2 = trans.groupby(['user_id'], as_index=True)['created_date'].agg(['min','max'])\n",
        "trans_grouped2.rename(columns={'min':'first_transaction', 'max':'last_transaction'}, inplace=True)\n",
        "trans_grouped2.info()"
      ],
      "execution_count": 0,
      "outputs": [
        {
          "output_type": "stream",
          "text": [
            "<class 'pandas.core.frame.DataFrame'>\n",
            "Index: 14821 entries, user_0 to user_9999\n",
            "Data columns (total 2 columns):\n",
            " #   Column             Non-Null Count  Dtype         \n",
            "---  ------             --------------  -----         \n",
            " 0   first_transaction  14821 non-null  datetime64[ns]\n",
            " 1   last_transaction   14821 non-null  datetime64[ns]\n",
            "dtypes: datetime64[ns](2)\n",
            "memory usage: 347.4+ KB\n"
          ],
          "name": "stdout"
        }
      ]
    },
    {
      "cell_type": "code",
      "metadata": {
        "id": "hgLWPsNK5Xcb",
        "colab_type": "code",
        "outputId": "47579086-a954-44c3-ff0b-2331d18fe835",
        "colab": {
          "base_uri": "https://localhost:8080/",
          "height": 136
        }
      },
      "source": [
        "trans_grouped2.head(2)"
      ],
      "execution_count": 0,
      "outputs": [
        {
          "output_type": "execute_result",
          "data": {
            "text/html": [
              "<div>\n",
              "<style scoped>\n",
              "    .dataframe tbody tr th:only-of-type {\n",
              "        vertical-align: middle;\n",
              "    }\n",
              "\n",
              "    .dataframe tbody tr th {\n",
              "        vertical-align: top;\n",
              "    }\n",
              "\n",
              "    .dataframe thead th {\n",
              "        text-align: right;\n",
              "    }\n",
              "</style>\n",
              "<table border=\"1\" class=\"dataframe\">\n",
              "  <thead>\n",
              "    <tr style=\"text-align: right;\">\n",
              "      <th></th>\n",
              "      <th>first_transaction</th>\n",
              "      <th>last_transaction</th>\n",
              "    </tr>\n",
              "    <tr>\n",
              "      <th>user_id</th>\n",
              "      <th></th>\n",
              "      <th></th>\n",
              "    </tr>\n",
              "  </thead>\n",
              "  <tbody>\n",
              "    <tr>\n",
              "      <th>user_0</th>\n",
              "      <td>2018-09-10 18:54:08.965855</td>\n",
              "      <td>2019-05-10 05:09:13.868855</td>\n",
              "    </tr>\n",
              "    <tr>\n",
              "      <th>user_1</th>\n",
              "      <td>2018-02-04 08:28:17.978146</td>\n",
              "      <td>2019-05-04 02:30:11.492146</td>\n",
              "    </tr>\n",
              "  </tbody>\n",
              "</table>\n",
              "</div>"
            ],
            "text/plain": [
              "                 first_transaction           last_transaction\n",
              "user_id                                                      \n",
              "user_0  2018-09-10 18:54:08.965855 2019-05-10 05:09:13.868855\n",
              "user_1  2018-02-04 08:28:17.978146 2019-05-04 02:30:11.492146"
            ]
          },
          "metadata": {
            "tags": []
          },
          "execution_count": 147
        }
      ]
    },
    {
      "cell_type": "code",
      "metadata": {
        "id": "1xzFe5W_4JWw",
        "colab_type": "code",
        "outputId": "1ee8b436-4ee9-422e-b272-dc0607426ee6",
        "colab": {
          "base_uri": "https://localhost:8080/",
          "height": 70
        }
      },
      "source": [
        "trans_grouped_currency = trans.groupby(['user_id'], as_index=True)['CHF','EUR','GBP','OTHER'].agg('sum')"
      ],
      "execution_count": 0,
      "outputs": [
        {
          "output_type": "stream",
          "text": [
            "/usr/local/lib/python3.6/dist-packages/ipykernel_launcher.py:1: FutureWarning: Indexing with multiple keys (implicitly converted to a tuple of keys) will be deprecated, use a list instead.\n",
            "  \"\"\"Entry point for launching an IPython kernel.\n"
          ],
          "name": "stderr"
        }
      ]
    },
    {
      "cell_type": "code",
      "metadata": {
        "id": "jMFXsEAz430_",
        "colab_type": "code",
        "outputId": "3c47282e-6315-456f-d2a8-97a96f2d3255",
        "colab": {
          "base_uri": "https://localhost:8080/",
          "height": 136
        }
      },
      "source": [
        "trans_grouped_currency.head(2)"
      ],
      "execution_count": 0,
      "outputs": [
        {
          "output_type": "execute_result",
          "data": {
            "text/html": [
              "<div>\n",
              "<style scoped>\n",
              "    .dataframe tbody tr th:only-of-type {\n",
              "        vertical-align: middle;\n",
              "    }\n",
              "\n",
              "    .dataframe tbody tr th {\n",
              "        vertical-align: top;\n",
              "    }\n",
              "\n",
              "    .dataframe thead th {\n",
              "        text-align: right;\n",
              "    }\n",
              "</style>\n",
              "<table border=\"1\" class=\"dataframe\">\n",
              "  <thead>\n",
              "    <tr style=\"text-align: right;\">\n",
              "      <th></th>\n",
              "      <th>CHF</th>\n",
              "      <th>EUR</th>\n",
              "      <th>GBP</th>\n",
              "      <th>OTHER</th>\n",
              "    </tr>\n",
              "    <tr>\n",
              "      <th>user_id</th>\n",
              "      <th></th>\n",
              "      <th></th>\n",
              "      <th></th>\n",
              "      <th></th>\n",
              "    </tr>\n",
              "  </thead>\n",
              "  <tbody>\n",
              "    <tr>\n",
              "      <th>user_0</th>\n",
              "      <td>0.0</td>\n",
              "      <td>25.0</td>\n",
              "      <td>0.0</td>\n",
              "      <td>495.0</td>\n",
              "    </tr>\n",
              "    <tr>\n",
              "      <th>user_1</th>\n",
              "      <td>0.0</td>\n",
              "      <td>133.0</td>\n",
              "      <td>0.0</td>\n",
              "      <td>0.0</td>\n",
              "    </tr>\n",
              "  </tbody>\n",
              "</table>\n",
              "</div>"
            ],
            "text/plain": [
              "         CHF    EUR  GBP  OTHER\n",
              "user_id                        \n",
              "user_0   0.0   25.0  0.0  495.0\n",
              "user_1   0.0  133.0  0.0    0.0"
            ]
          },
          "metadata": {
            "tags": []
          },
          "execution_count": 157
        }
      ]
    },
    {
      "cell_type": "code",
      "metadata": {
        "colab_type": "code",
        "id": "E1tv-wVQcb5H",
        "outputId": "29eb62eb-1739-43d4-c088-2ea125135950",
        "colab": {
          "base_uri": "https://localhost:8080/",
          "height": 286
        }
      },
      "source": [
        "trans_grouped2['transaction_period']=(trans_grouped2['last_transaction']-trans_grouped2['first_transaction'])\n",
        "print(trans_grouped2.head(4))\n",
        "trans_grouped2['transaction_period']=trans_grouped2['transaction_period'].dt.days +0.5\n",
        "#['transaction_period'].days\n",
        "print(trans_grouped2.head(4))"
      ],
      "execution_count": 0,
      "outputs": [
        {
          "output_type": "stream",
          "text": [
            "                  first_transaction  ...       transaction_period\n",
            "user_id                              ...                         \n",
            "user_0   2018-09-10 18:54:08.965855  ... 241 days 10:15:04.903000\n",
            "user_1   2018-02-04 08:28:17.978146  ... 453 days 18:01:53.514000\n",
            "user_10  2018-06-29 15:38:15.855413  ... 315 days 21:29:26.769000\n",
            "user_100 2018-12-02 14:23:12.926151  ...  83 days 23:13:37.128000\n",
            "\n",
            "[4 rows x 3 columns]\n",
            "                  first_transaction  ... transaction_period\n",
            "user_id                              ...                   \n",
            "user_0   2018-09-10 18:54:08.965855  ...              241.5\n",
            "user_1   2018-02-04 08:28:17.978146  ...              453.5\n",
            "user_10  2018-06-29 15:38:15.855413  ...              315.5\n",
            "user_100 2018-12-02 14:23:12.926151  ...               83.5\n",
            "\n",
            "[4 rows x 3 columns]\n"
          ],
          "name": "stdout"
        }
      ]
    },
    {
      "cell_type": "code",
      "metadata": {
        "colab_type": "code",
        "id": "yFhgT_AWe6DA",
        "outputId": "08301305-8379-4d04-e62d-24b58b9a69bf",
        "colab": {
          "base_uri": "https://localhost:8080/",
          "height": 225
        }
      },
      "source": [
        "trans_grouped_all = pd.merge(trans_grouped, trans_grouped2, on='user_id', how='inner')\n",
        "trans_grouped_all.sample(5)"
      ],
      "execution_count": 0,
      "outputs": [
        {
          "output_type": "execute_result",
          "data": {
            "text/html": [
              "<div>\n",
              "<style scoped>\n",
              "    .dataframe tbody tr th:only-of-type {\n",
              "        vertical-align: middle;\n",
              "    }\n",
              "\n",
              "    .dataframe tbody tr th {\n",
              "        vertical-align: top;\n",
              "    }\n",
              "\n",
              "    .dataframe thead th {\n",
              "        text-align: right;\n",
              "    }\n",
              "</style>\n",
              "<table border=\"1\" class=\"dataframe\">\n",
              "  <thead>\n",
              "    <tr style=\"text-align: right;\">\n",
              "      <th></th>\n",
              "      <th>total_amount</th>\n",
              "      <th>number_transactions</th>\n",
              "      <th>avg_amount</th>\n",
              "      <th>first_transaction</th>\n",
              "      <th>last_transaction</th>\n",
              "      <th>transaction_period</th>\n",
              "    </tr>\n",
              "    <tr>\n",
              "      <th>user_id</th>\n",
              "      <th></th>\n",
              "      <th></th>\n",
              "      <th></th>\n",
              "      <th></th>\n",
              "      <th></th>\n",
              "      <th></th>\n",
              "    </tr>\n",
              "  </thead>\n",
              "  <tbody>\n",
              "    <tr>\n",
              "      <th>user_13663</th>\n",
              "      <td>1141.18</td>\n",
              "      <td>35</td>\n",
              "      <td>32.605143</td>\n",
              "      <td>2018-02-28 04:10:59.050089</td>\n",
              "      <td>2019-03-02 08:59:38.173089</td>\n",
              "      <td>367.5</td>\n",
              "    </tr>\n",
              "    <tr>\n",
              "      <th>user_10443</th>\n",
              "      <td>9780.12</td>\n",
              "      <td>227</td>\n",
              "      <td>43.084229</td>\n",
              "      <td>2018-08-23 14:58:25.245929</td>\n",
              "      <td>2019-05-07 12:23:15.178929</td>\n",
              "      <td>256.5</td>\n",
              "    </tr>\n",
              "    <tr>\n",
              "      <th>user_7838</th>\n",
              "      <td>3243.96</td>\n",
              "      <td>79</td>\n",
              "      <td>41.062785</td>\n",
              "      <td>2018-03-12 04:27:19.762191</td>\n",
              "      <td>2019-01-18 21:36:59.767191</td>\n",
              "      <td>312.5</td>\n",
              "    </tr>\n",
              "    <tr>\n",
              "      <th>user_10022</th>\n",
              "      <td>5757.73</td>\n",
              "      <td>219</td>\n",
              "      <td>26.291005</td>\n",
              "      <td>2018-03-31 22:51:40.792260</td>\n",
              "      <td>2019-05-08 10:06:07.164260</td>\n",
              "      <td>402.5</td>\n",
              "    </tr>\n",
              "    <tr>\n",
              "      <th>user_12857</th>\n",
              "      <td>7409.77</td>\n",
              "      <td>433</td>\n",
              "      <td>17.112633</td>\n",
              "      <td>2018-09-10 00:20:49.934832</td>\n",
              "      <td>2019-03-29 02:48:04.773832</td>\n",
              "      <td>200.5</td>\n",
              "    </tr>\n",
              "  </tbody>\n",
              "</table>\n",
              "</div>"
            ],
            "text/plain": [
              "            total_amount  ...  transaction_period\n",
              "user_id                   ...                    \n",
              "user_13663       1141.18  ...               367.5\n",
              "user_10443       9780.12  ...               256.5\n",
              "user_7838        3243.96  ...               312.5\n",
              "user_10022       5757.73  ...               402.5\n",
              "user_12857       7409.77  ...               200.5\n",
              "\n",
              "[5 rows x 6 columns]"
            ]
          },
          "metadata": {
            "tags": []
          },
          "execution_count": 159
        }
      ]
    },
    {
      "cell_type": "code",
      "metadata": {
        "colab_type": "code",
        "id": "82J_VXS5omKr",
        "colab": {}
      },
      "source": [
        "#def period(var1):\n",
        " # return (var1[1]/var1[0])\n",
        "#trans_grouped_all['periodicity_trans']=trans_grouped_all[['number_transactions','transaction_period']].apply(period)\n",
        "#trans_grouped_all['periodicity_trans']=trans_grouped_all['transaction_period']/trans_grouped_all['number_transactions']\n",
        "#trans_grouped_all['transactions_perday']=1/trans_grouped_all['periodicity_trans']"
      ],
      "execution_count": 0,
      "outputs": []
    },
    {
      "cell_type": "code",
      "metadata": {
        "id": "1g9QJs945o2t",
        "colab_type": "code",
        "colab": {}
      },
      "source": [
        "trans_grouped_all_currency=pd.merge(trans_grouped_all, trans_grouped_currency, on='user_id', how='inner')"
      ],
      "execution_count": 0,
      "outputs": []
    },
    {
      "cell_type": "code",
      "metadata": {
        "colab_type": "code",
        "id": "JMEA9kBdpL2x",
        "outputId": "f15a5d50-5a76-46f9-e8e8-9a54cb74e638",
        "colab": {
          "base_uri": "https://localhost:8080/",
          "height": 262
        }
      },
      "source": [
        "trans_grouped_all_currency.head(4)"
      ],
      "execution_count": 0,
      "outputs": [
        {
          "output_type": "execute_result",
          "data": {
            "text/html": [
              "<div>\n",
              "<style scoped>\n",
              "    .dataframe tbody tr th:only-of-type {\n",
              "        vertical-align: middle;\n",
              "    }\n",
              "\n",
              "    .dataframe tbody tr th {\n",
              "        vertical-align: top;\n",
              "    }\n",
              "\n",
              "    .dataframe thead th {\n",
              "        text-align: right;\n",
              "    }\n",
              "</style>\n",
              "<table border=\"1\" class=\"dataframe\">\n",
              "  <thead>\n",
              "    <tr style=\"text-align: right;\">\n",
              "      <th></th>\n",
              "      <th>total_amount</th>\n",
              "      <th>number_transactions</th>\n",
              "      <th>avg_amount</th>\n",
              "      <th>first_transaction</th>\n",
              "      <th>last_transaction</th>\n",
              "      <th>transaction_period</th>\n",
              "      <th>CHF</th>\n",
              "      <th>EUR</th>\n",
              "      <th>GBP</th>\n",
              "      <th>OTHER</th>\n",
              "    </tr>\n",
              "    <tr>\n",
              "      <th>user_id</th>\n",
              "      <th></th>\n",
              "      <th></th>\n",
              "      <th></th>\n",
              "      <th></th>\n",
              "      <th></th>\n",
              "      <th></th>\n",
              "      <th></th>\n",
              "      <th></th>\n",
              "      <th></th>\n",
              "      <th></th>\n",
              "    </tr>\n",
              "  </thead>\n",
              "  <tbody>\n",
              "    <tr>\n",
              "      <th>user_0</th>\n",
              "      <td>6925.08</td>\n",
              "      <td>520</td>\n",
              "      <td>13.317462</td>\n",
              "      <td>2018-09-10 18:54:08.965855</td>\n",
              "      <td>2019-05-10 05:09:13.868855</td>\n",
              "      <td>241.5</td>\n",
              "      <td>0.0</td>\n",
              "      <td>25.0</td>\n",
              "      <td>0.0</td>\n",
              "      <td>495.0</td>\n",
              "    </tr>\n",
              "    <tr>\n",
              "      <th>user_1</th>\n",
              "      <td>12955.54</td>\n",
              "      <td>133</td>\n",
              "      <td>97.410075</td>\n",
              "      <td>2018-02-04 08:28:17.978146</td>\n",
              "      <td>2019-05-04 02:30:11.492146</td>\n",
              "      <td>453.5</td>\n",
              "      <td>0.0</td>\n",
              "      <td>133.0</td>\n",
              "      <td>0.0</td>\n",
              "      <td>0.0</td>\n",
              "    </tr>\n",
              "    <tr>\n",
              "      <th>user_10</th>\n",
              "      <td>5438.92</td>\n",
              "      <td>123</td>\n",
              "      <td>44.218862</td>\n",
              "      <td>2018-06-29 15:38:15.855413</td>\n",
              "      <td>2019-05-11 13:07:42.624413</td>\n",
              "      <td>315.5</td>\n",
              "      <td>0.0</td>\n",
              "      <td>122.0</td>\n",
              "      <td>0.0</td>\n",
              "      <td>1.0</td>\n",
              "    </tr>\n",
              "    <tr>\n",
              "      <th>user_100</th>\n",
              "      <td>4230.10</td>\n",
              "      <td>55</td>\n",
              "      <td>76.910909</td>\n",
              "      <td>2018-12-02 14:23:12.926151</td>\n",
              "      <td>2019-02-24 13:36:50.054151</td>\n",
              "      <td>83.5</td>\n",
              "      <td>0.0</td>\n",
              "      <td>55.0</td>\n",
              "      <td>0.0</td>\n",
              "      <td>0.0</td>\n",
              "    </tr>\n",
              "  </tbody>\n",
              "</table>\n",
              "</div>"
            ],
            "text/plain": [
              "          total_amount  number_transactions  avg_amount  ...    EUR  GBP  OTHER\n",
              "user_id                                                  ...                   \n",
              "user_0         6925.08                  520   13.317462  ...   25.0  0.0  495.0\n",
              "user_1        12955.54                  133   97.410075  ...  133.0  0.0    0.0\n",
              "user_10        5438.92                  123   44.218862  ...  122.0  0.0    1.0\n",
              "user_100       4230.10                   55   76.910909  ...   55.0  0.0    0.0\n",
              "\n",
              "[4 rows x 10 columns]"
            ]
          },
          "metadata": {
            "tags": []
          },
          "execution_count": 162
        }
      ]
    },
    {
      "cell_type": "code",
      "metadata": {
        "colab_type": "code",
        "id": "HsXyVEs6pVe0",
        "outputId": "8e42b98e-ff07-40a0-f0bc-a94dfb4b0b6c",
        "colab": {
          "base_uri": "https://localhost:8080/",
          "height": 67
        }
      },
      "source": [
        "print(trans_grouped_all_currency[trans_grouped_all_currency['transaction_period']==0])"
      ],
      "execution_count": 0,
      "outputs": [
        {
          "output_type": "stream",
          "text": [
            "Empty DataFrame\n",
            "Columns: [total_amount, number_transactions, avg_amount, first_transaction, last_transaction, transaction_period, CHF, EUR, GBP, OTHER]\n",
            "Index: []\n"
          ],
          "name": "stdout"
        }
      ]
    },
    {
      "cell_type": "code",
      "metadata": {
        "colab_type": "code",
        "id": "XC1Ro7w8q9XS",
        "outputId": "d296faa9-b8c3-49e6-e9f3-2bb0a39faa28",
        "colab": {
          "base_uri": "https://localhost:8080/",
          "height": 202
        }
      },
      "source": [
        "print(trans_grouped_all_currency.loc['user_10031',:])"
      ],
      "execution_count": 0,
      "outputs": [
        {
          "output_type": "stream",
          "text": [
            "total_amount                                 9.79\n",
            "number_transactions                             2\n",
            "avg_amount                                  4.895\n",
            "first_transaction      2019-04-08 18:25:04.154064\n",
            "last_transaction       2019-04-08 18:29:17.730064\n",
            "transaction_period                            0.5\n",
            "CHF                                             0\n",
            "EUR                                             2\n",
            "GBP                                             0\n",
            "OTHER                                           0\n",
            "Name: user_10031, dtype: object\n"
          ],
          "name": "stdout"
        }
      ]
    },
    {
      "cell_type": "code",
      "metadata": {
        "colab_type": "code",
        "id": "q1gh-Ss2vOFM",
        "outputId": "a7cc9995-f8c8-4d06-a225-cd737cdee9f5",
        "colab": {
          "base_uri": "https://localhost:8080/",
          "height": 34
        }
      },
      "source": [
        "print(trans['created_date'].max())"
      ],
      "execution_count": 0,
      "outputs": [
        {
          "output_type": "stream",
          "text": [
            "2019-05-15 21:18:22.660896\n"
          ],
          "name": "stdout"
        }
      ]
    },
    {
      "cell_type": "code",
      "metadata": {
        "colab_type": "code",
        "id": "GePruj_zxMrz",
        "colab": {}
      },
      "source": [
        "# trans_grouped_all.to_csv('trans_amount_periods.csv')"
      ],
      "execution_count": 0,
      "outputs": []
    },
    {
      "cell_type": "code",
      "metadata": {
        "colab_type": "code",
        "id": "FrnQVd6ZzrHU",
        "colab": {}
      },
      "source": [
        "us=pd.read_csv('trans_users_dev1.csv')"
      ],
      "execution_count": 0,
      "outputs": []
    },
    {
      "cell_type": "code",
      "metadata": {
        "id": "56a4lNjDi8AF",
        "colab_type": "code",
        "outputId": "1f352110-fcb1-43c9-c9b7-cd162b556c91",
        "colab": {
          "base_uri": "https://localhost:8080/",
          "height": 177
        }
      },
      "source": [
        "us.head(2)"
      ],
      "execution_count": 0,
      "outputs": [
        {
          "output_type": "execute_result",
          "data": {
            "text/html": [
              "<div>\n",
              "<style scoped>\n",
              "    .dataframe tbody tr th:only-of-type {\n",
              "        vertical-align: middle;\n",
              "    }\n",
              "\n",
              "    .dataframe tbody tr th {\n",
              "        vertical-align: top;\n",
              "    }\n",
              "\n",
              "    .dataframe thead th {\n",
              "        text-align: right;\n",
              "    }\n",
              "</style>\n",
              "<table border=\"1\" class=\"dataframe\">\n",
              "  <thead>\n",
              "    <tr style=\"text-align: right;\">\n",
              "      <th></th>\n",
              "      <th>Unnamed: 0</th>\n",
              "      <th>Unnamed: 0.1</th>\n",
              "      <th>user_id</th>\n",
              "      <th>total_amount</th>\n",
              "      <th>number_transactions</th>\n",
              "      <th>avg_amount</th>\n",
              "      <th>first_transaction</th>\n",
              "      <th>last_transaction</th>\n",
              "      <th>transaction_period</th>\n",
              "      <th>Australia</th>\n",
              "      <th>EastEurope</th>\n",
              "      <th>NorthEurope</th>\n",
              "      <th>SouthEurope</th>\n",
              "      <th>WestEurope</th>\n",
              "      <th>year_2018</th>\n",
              "      <th>year_2019</th>\n",
              "      <th>age</th>\n",
              "      <th>country</th>\n",
              "      <th>city</th>\n",
              "      <th>created_date_x</th>\n",
              "      <th>user_settings_crypto_unlocked</th>\n",
              "      <th>plan</th>\n",
              "      <th>attributes_notifications_marketing_push</th>\n",
              "      <th>attributes_notifications_marketing_email</th>\n",
              "      <th>num_contacts</th>\n",
              "      <th>num_referrals</th>\n",
              "      <th>num_successful_referrals</th>\n",
              "      <th>brand</th>\n",
              "      <th>created_year</th>\n",
              "      <th>created_month</th>\n",
              "      <th>created_date_y</th>\n",
              "      <th>user_active_time</th>\n",
              "      <th>user_trans_time</th>\n",
              "      <th>user_trans_periodicity</th>\n",
              "    </tr>\n",
              "  </thead>\n",
              "  <tbody>\n",
              "    <tr>\n",
              "      <th>0</th>\n",
              "      <td>0</td>\n",
              "      <td>0</td>\n",
              "      <td>user_0</td>\n",
              "      <td>6925.08</td>\n",
              "      <td>520</td>\n",
              "      <td>13.317462</td>\n",
              "      <td>2018-09-10 18:54:08.965855</td>\n",
              "      <td>2019-05-10 05:09:13.868855</td>\n",
              "      <td>241.5</td>\n",
              "      <td>0</td>\n",
              "      <td>0</td>\n",
              "      <td>0</td>\n",
              "      <td>0</td>\n",
              "      <td>1</td>\n",
              "      <td>1</td>\n",
              "      <td>0</td>\n",
              "      <td>28</td>\n",
              "      <td>WestEurope</td>\n",
              "      <td>Madrid</td>\n",
              "      <td>2018-09-10 18:46:42.843855</td>\n",
              "      <td>0</td>\n",
              "      <td>0</td>\n",
              "      <td>1.0</td>\n",
              "      <td>1.0</td>\n",
              "      <td>3</td>\n",
              "      <td>0</td>\n",
              "      <td>0</td>\n",
              "      <td>1</td>\n",
              "      <td>2018</td>\n",
              "      <td>9</td>\n",
              "      <td>2018-09-10 18:46:42.843855</td>\n",
              "      <td>247</td>\n",
              "      <td>247</td>\n",
              "      <td>0.001923</td>\n",
              "    </tr>\n",
              "    <tr>\n",
              "      <th>1</th>\n",
              "      <td>1</td>\n",
              "      <td>1</td>\n",
              "      <td>user_1</td>\n",
              "      <td>12955.54</td>\n",
              "      <td>133</td>\n",
              "      <td>97.410075</td>\n",
              "      <td>2018-02-04 08:28:17.978146</td>\n",
              "      <td>2019-05-04 02:30:11.492146</td>\n",
              "      <td>453.5</td>\n",
              "      <td>0</td>\n",
              "      <td>1</td>\n",
              "      <td>0</td>\n",
              "      <td>0</td>\n",
              "      <td>0</td>\n",
              "      <td>1</td>\n",
              "      <td>0</td>\n",
              "      <td>35</td>\n",
              "      <td>EastEurope</td>\n",
              "      <td>Klaipeda</td>\n",
              "      <td>2018-01-11 18:53:10.531146</td>\n",
              "      <td>1</td>\n",
              "      <td>0</td>\n",
              "      <td>1.0</td>\n",
              "      <td>1.0</td>\n",
              "      <td>75</td>\n",
              "      <td>0</td>\n",
              "      <td>0</td>\n",
              "      <td>1</td>\n",
              "      <td>2018</td>\n",
              "      <td>1</td>\n",
              "      <td>2018-01-11 18:53:10.531146</td>\n",
              "      <td>489</td>\n",
              "      <td>465</td>\n",
              "      <td>0.007150</td>\n",
              "    </tr>\n",
              "  </tbody>\n",
              "</table>\n",
              "</div>"
            ],
            "text/plain": [
              "   Unnamed: 0  Unnamed: 0.1  ... user_trans_time  user_trans_periodicity\n",
              "0           0             0  ...             247                0.001923\n",
              "1           1             1  ...             465                0.007150\n",
              "\n",
              "[2 rows x 34 columns]"
            ]
          },
          "metadata": {
            "tags": []
          },
          "execution_count": 167
        }
      ]
    },
    {
      "cell_type": "code",
      "metadata": {
        "colab_type": "code",
        "id": "PEf3rvhZ1aiO",
        "outputId": "e36bb781-9c3d-4de1-a64d-ceed16b6a790",
        "colab": {
          "base_uri": "https://localhost:8080/",
          "height": 316
        }
      },
      "source": [
        "data = pd.merge(trans_grouped_all_currency, us, on='user_id', how='inner')\n",
        "data.sample(5)"
      ],
      "execution_count": 0,
      "outputs": [
        {
          "output_type": "execute_result",
          "data": {
            "text/html": [
              "<div>\n",
              "<style scoped>\n",
              "    .dataframe tbody tr th:only-of-type {\n",
              "        vertical-align: middle;\n",
              "    }\n",
              "\n",
              "    .dataframe tbody tr th {\n",
              "        vertical-align: top;\n",
              "    }\n",
              "\n",
              "    .dataframe thead th {\n",
              "        text-align: right;\n",
              "    }\n",
              "</style>\n",
              "<table border=\"1\" class=\"dataframe\">\n",
              "  <thead>\n",
              "    <tr style=\"text-align: right;\">\n",
              "      <th></th>\n",
              "      <th>user_id</th>\n",
              "      <th>total_amount_x</th>\n",
              "      <th>number_transactions_x</th>\n",
              "      <th>avg_amount_x</th>\n",
              "      <th>first_transaction_x</th>\n",
              "      <th>last_transaction_x</th>\n",
              "      <th>transaction_period_x</th>\n",
              "      <th>CHF</th>\n",
              "      <th>EUR</th>\n",
              "      <th>GBP</th>\n",
              "      <th>OTHER</th>\n",
              "      <th>Unnamed: 0</th>\n",
              "      <th>Unnamed: 0.1</th>\n",
              "      <th>total_amount_y</th>\n",
              "      <th>number_transactions_y</th>\n",
              "      <th>avg_amount_y</th>\n",
              "      <th>first_transaction_y</th>\n",
              "      <th>last_transaction_y</th>\n",
              "      <th>transaction_period_y</th>\n",
              "      <th>Australia</th>\n",
              "      <th>EastEurope</th>\n",
              "      <th>NorthEurope</th>\n",
              "      <th>SouthEurope</th>\n",
              "      <th>WestEurope</th>\n",
              "      <th>year_2018</th>\n",
              "      <th>year_2019</th>\n",
              "      <th>age</th>\n",
              "      <th>country</th>\n",
              "      <th>city</th>\n",
              "      <th>created_date_x</th>\n",
              "      <th>user_settings_crypto_unlocked</th>\n",
              "      <th>plan</th>\n",
              "      <th>attributes_notifications_marketing_push</th>\n",
              "      <th>attributes_notifications_marketing_email</th>\n",
              "      <th>num_contacts</th>\n",
              "      <th>num_referrals</th>\n",
              "      <th>num_successful_referrals</th>\n",
              "      <th>brand</th>\n",
              "      <th>created_year</th>\n",
              "      <th>created_month</th>\n",
              "      <th>created_date_y</th>\n",
              "      <th>user_active_time</th>\n",
              "      <th>user_trans_time</th>\n",
              "      <th>user_trans_periodicity</th>\n",
              "    </tr>\n",
              "  </thead>\n",
              "  <tbody>\n",
              "    <tr>\n",
              "      <th>11415</th>\n",
              "      <td>user_6803</td>\n",
              "      <td>24.99</td>\n",
              "      <td>3</td>\n",
              "      <td>8.330000</td>\n",
              "      <td>2018-07-16 10:22:50.535357</td>\n",
              "      <td>2018-07-16 10:30:27.938357</td>\n",
              "      <td>0.5</td>\n",
              "      <td>0.0</td>\n",
              "      <td>0.0</td>\n",
              "      <td>3.0</td>\n",
              "      <td>0.0</td>\n",
              "      <td>11415</td>\n",
              "      <td>11415</td>\n",
              "      <td>24.99</td>\n",
              "      <td>3</td>\n",
              "      <td>8.330000</td>\n",
              "      <td>2018-07-16 10:22:50.535357</td>\n",
              "      <td>2018-07-16 10:30:27.938357</td>\n",
              "      <td>0.5</td>\n",
              "      <td>0</td>\n",
              "      <td>0</td>\n",
              "      <td>1</td>\n",
              "      <td>0</td>\n",
              "      <td>0</td>\n",
              "      <td>1</td>\n",
              "      <td>0</td>\n",
              "      <td>57</td>\n",
              "      <td>NorthEurope</td>\n",
              "      <td>Godalming</td>\n",
              "      <td>2018-07-16 10:02:14.708357</td>\n",
              "      <td>0</td>\n",
              "      <td>0</td>\n",
              "      <td>1.0</td>\n",
              "      <td>1.0</td>\n",
              "      <td>28</td>\n",
              "      <td>0</td>\n",
              "      <td>0</td>\n",
              "      <td>0</td>\n",
              "      <td>2018</td>\n",
              "      <td>7</td>\n",
              "      <td>2018-07-16 10:02:14.708357</td>\n",
              "      <td>303</td>\n",
              "      <td>303</td>\n",
              "      <td>0.333333</td>\n",
              "    </tr>\n",
              "    <tr>\n",
              "      <th>9400</th>\n",
              "      <td>user_4886</td>\n",
              "      <td>27458.92</td>\n",
              "      <td>270</td>\n",
              "      <td>101.699704</td>\n",
              "      <td>2018-06-08 17:06:12.797826</td>\n",
              "      <td>2019-05-10 12:23:48.374826</td>\n",
              "      <td>335.5</td>\n",
              "      <td>0.0</td>\n",
              "      <td>186.0</td>\n",
              "      <td>6.0</td>\n",
              "      <td>78.0</td>\n",
              "      <td>9400</td>\n",
              "      <td>9400</td>\n",
              "      <td>27458.92</td>\n",
              "      <td>270</td>\n",
              "      <td>101.699704</td>\n",
              "      <td>2018-06-08 17:06:12.797826</td>\n",
              "      <td>2019-05-10 12:23:48.374826</td>\n",
              "      <td>335.5</td>\n",
              "      <td>0</td>\n",
              "      <td>0</td>\n",
              "      <td>1</td>\n",
              "      <td>0</td>\n",
              "      <td>0</td>\n",
              "      <td>1</td>\n",
              "      <td>0</td>\n",
              "      <td>54</td>\n",
              "      <td>NorthEurope</td>\n",
              "      <td>Luxembourg</td>\n",
              "      <td>2018-06-08 17:01:05.268826</td>\n",
              "      <td>1</td>\n",
              "      <td>1</td>\n",
              "      <td>1.0</td>\n",
              "      <td>1.0</td>\n",
              "      <td>6</td>\n",
              "      <td>0</td>\n",
              "      <td>0</td>\n",
              "      <td>1</td>\n",
              "      <td>2018</td>\n",
              "      <td>6</td>\n",
              "      <td>2018-06-08 17:01:05.268826</td>\n",
              "      <td>341</td>\n",
              "      <td>341</td>\n",
              "      <td>0.003704</td>\n",
              "    </tr>\n",
              "    <tr>\n",
              "      <th>13921</th>\n",
              "      <td>user_9152</td>\n",
              "      <td>20828.41</td>\n",
              "      <td>449</td>\n",
              "      <td>46.388441</td>\n",
              "      <td>2018-07-04 11:07:27.122772</td>\n",
              "      <td>2019-01-28 06:46:11.870772</td>\n",
              "      <td>207.5</td>\n",
              "      <td>0.0</td>\n",
              "      <td>210.0</td>\n",
              "      <td>239.0</td>\n",
              "      <td>0.0</td>\n",
              "      <td>13921</td>\n",
              "      <td>13921</td>\n",
              "      <td>20828.41</td>\n",
              "      <td>449</td>\n",
              "      <td>46.388441</td>\n",
              "      <td>2018-07-04 11:07:27.122772</td>\n",
              "      <td>2019-01-28 06:46:11.870772</td>\n",
              "      <td>207.5</td>\n",
              "      <td>0</td>\n",
              "      <td>0</td>\n",
              "      <td>0</td>\n",
              "      <td>0</td>\n",
              "      <td>1</td>\n",
              "      <td>1</td>\n",
              "      <td>0</td>\n",
              "      <td>23</td>\n",
              "      <td>WestEurope</td>\n",
              "      <td>Bois-Guillaume</td>\n",
              "      <td>2018-06-28 06:10:14.506772</td>\n",
              "      <td>0</td>\n",
              "      <td>0</td>\n",
              "      <td>1.0</td>\n",
              "      <td>1.0</td>\n",
              "      <td>6</td>\n",
              "      <td>0</td>\n",
              "      <td>0</td>\n",
              "      <td>1</td>\n",
              "      <td>2018</td>\n",
              "      <td>6</td>\n",
              "      <td>2018-06-28 06:10:14.506772</td>\n",
              "      <td>321</td>\n",
              "      <td>315</td>\n",
              "      <td>0.002186</td>\n",
              "    </tr>\n",
              "    <tr>\n",
              "      <th>5164</th>\n",
              "      <td>user_14851</td>\n",
              "      <td>14.18</td>\n",
              "      <td>5</td>\n",
              "      <td>2.836000</td>\n",
              "      <td>2018-11-28 06:03:39.378913</td>\n",
              "      <td>2019-01-12 05:11:50.428913</td>\n",
              "      <td>44.5</td>\n",
              "      <td>0.0</td>\n",
              "      <td>5.0</td>\n",
              "      <td>0.0</td>\n",
              "      <td>0.0</td>\n",
              "      <td>5164</td>\n",
              "      <td>5164</td>\n",
              "      <td>14.18</td>\n",
              "      <td>5</td>\n",
              "      <td>2.836000</td>\n",
              "      <td>2018-11-28 06:03:39.378913</td>\n",
              "      <td>2019-01-12 05:11:50.428913</td>\n",
              "      <td>44.5</td>\n",
              "      <td>0</td>\n",
              "      <td>0</td>\n",
              "      <td>0</td>\n",
              "      <td>0</td>\n",
              "      <td>1</td>\n",
              "      <td>1</td>\n",
              "      <td>0</td>\n",
              "      <td>37</td>\n",
              "      <td>WestEurope</td>\n",
              "      <td>Bâgé-le-Châtel</td>\n",
              "      <td>2018-11-28 06:00:46.369913</td>\n",
              "      <td>0</td>\n",
              "      <td>0</td>\n",
              "      <td>1.0</td>\n",
              "      <td>1.0</td>\n",
              "      <td>3</td>\n",
              "      <td>0</td>\n",
              "      <td>0</td>\n",
              "      <td>1</td>\n",
              "      <td>2018</td>\n",
              "      <td>11</td>\n",
              "      <td>2018-11-28 06:00:46.369913</td>\n",
              "      <td>168</td>\n",
              "      <td>168</td>\n",
              "      <td>0.200000</td>\n",
              "    </tr>\n",
              "    <tr>\n",
              "      <th>3595</th>\n",
              "      <td>user_13388</td>\n",
              "      <td>2541.26</td>\n",
              "      <td>65</td>\n",
              "      <td>39.096308</td>\n",
              "      <td>2018-06-08 11:33:31.851747</td>\n",
              "      <td>2019-02-08 13:44:06.792747</td>\n",
              "      <td>245.5</td>\n",
              "      <td>0.0</td>\n",
              "      <td>65.0</td>\n",
              "      <td>0.0</td>\n",
              "      <td>0.0</td>\n",
              "      <td>3595</td>\n",
              "      <td>3595</td>\n",
              "      <td>2541.26</td>\n",
              "      <td>65</td>\n",
              "      <td>39.096308</td>\n",
              "      <td>2018-06-08 11:33:31.851747</td>\n",
              "      <td>2019-02-08 13:44:06.792747</td>\n",
              "      <td>245.5</td>\n",
              "      <td>0</td>\n",
              "      <td>0</td>\n",
              "      <td>1</td>\n",
              "      <td>0</td>\n",
              "      <td>0</td>\n",
              "      <td>1</td>\n",
              "      <td>0</td>\n",
              "      <td>26</td>\n",
              "      <td>NorthEurope</td>\n",
              "      <td>Hollywood</td>\n",
              "      <td>2018-05-30 14:46:13.045747</td>\n",
              "      <td>0</td>\n",
              "      <td>0</td>\n",
              "      <td>1.0</td>\n",
              "      <td>1.0</td>\n",
              "      <td>26</td>\n",
              "      <td>0</td>\n",
              "      <td>0</td>\n",
              "      <td>1</td>\n",
              "      <td>2018</td>\n",
              "      <td>5</td>\n",
              "      <td>2018-05-30 14:46:13.045747</td>\n",
              "      <td>350</td>\n",
              "      <td>341</td>\n",
              "      <td>0.014989</td>\n",
              "    </tr>\n",
              "  </tbody>\n",
              "</table>\n",
              "</div>"
            ],
            "text/plain": [
              "          user_id  total_amount_x  ...  user_trans_time  user_trans_periodicity\n",
              "11415   user_6803           24.99  ...              303                0.333333\n",
              "9400    user_4886        27458.92  ...              341                0.003704\n",
              "13921   user_9152        20828.41  ...              315                0.002186\n",
              "5164   user_14851           14.18  ...              168                0.200000\n",
              "3595   user_13388         2541.26  ...              341                0.014989\n",
              "\n",
              "[5 rows x 44 columns]"
            ]
          },
          "metadata": {
            "tags": []
          },
          "execution_count": 168
        }
      ]
    },
    {
      "cell_type": "code",
      "metadata": {
        "colab_type": "code",
        "id": "tS_uX8L11mxV",
        "colab": {}
      },
      "source": [
        "data.to_csv('trans_users_dev_currency.csv')"
      ],
      "execution_count": 0,
      "outputs": []
    },
    {
      "cell_type": "code",
      "metadata": {
        "id": "s_r1o-r7X3Vx",
        "colab_type": "code",
        "outputId": "ea6dead1-e5fa-44e3-e243-4b3ba3ef12f7",
        "colab": {
          "base_uri": "https://localhost:8080/",
          "height": 195
        }
      },
      "source": [
        "trans = trans[trans.direction == 'OUTBOUND']\n",
        "trans_direction = trans.groupby(['user_id'], as_index=True)['direction'].agg(['count'])\n",
        "trans_direction.rename(columns={'count':'profit'}, inplace=True)\n",
        "trans_direction.head(4)\n",
        "\n",
        "# pd.crosstab(index = data['user_id'], columns = trans_direction['profit'])"
      ],
      "execution_count": 0,
      "outputs": [
        {
          "output_type": "execute_result",
          "data": {
            "text/html": [
              "<div>\n",
              "<style scoped>\n",
              "    .dataframe tbody tr th:only-of-type {\n",
              "        vertical-align: middle;\n",
              "    }\n",
              "\n",
              "    .dataframe tbody tr th {\n",
              "        vertical-align: top;\n",
              "    }\n",
              "\n",
              "    .dataframe thead th {\n",
              "        text-align: right;\n",
              "    }\n",
              "</style>\n",
              "<table border=\"1\" class=\"dataframe\">\n",
              "  <thead>\n",
              "    <tr style=\"text-align: right;\">\n",
              "      <th></th>\n",
              "      <th>profit</th>\n",
              "    </tr>\n",
              "    <tr>\n",
              "      <th>user_id</th>\n",
              "      <th></th>\n",
              "    </tr>\n",
              "  </thead>\n",
              "  <tbody>\n",
              "    <tr>\n",
              "      <th>user_0</th>\n",
              "      <td>357</td>\n",
              "    </tr>\n",
              "    <tr>\n",
              "      <th>user_1</th>\n",
              "      <td>106</td>\n",
              "    </tr>\n",
              "    <tr>\n",
              "      <th>user_10</th>\n",
              "      <td>71</td>\n",
              "    </tr>\n",
              "    <tr>\n",
              "      <th>user_100</th>\n",
              "      <td>44</td>\n",
              "    </tr>\n",
              "  </tbody>\n",
              "</table>\n",
              "</div>"
            ],
            "text/plain": [
              "          profit\n",
              "user_id         \n",
              "user_0       357\n",
              "user_1       106\n",
              "user_10       71\n",
              "user_100      44"
            ]
          },
          "metadata": {
            "tags": []
          },
          "execution_count": 104
        }
      ]
    },
    {
      "cell_type": "code",
      "metadata": {
        "id": "p-1DUChq2Wmk",
        "colab_type": "code",
        "colab": {}
      },
      "source": [
        ""
      ],
      "execution_count": 0,
      "outputs": []
    }
  ]
}