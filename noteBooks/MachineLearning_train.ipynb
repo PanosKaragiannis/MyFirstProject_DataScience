{
 "cells": [
  {
   "cell_type": "code",
   "execution_count": 35,
   "metadata": {
    "colab": {
     "base_uri": "https://localhost:8080/",
     "height": 107
    },
    "colab_type": "code",
    "executionInfo": {
     "elapsed": 1598,
     "status": "ok",
     "timestamp": 1591269833414,
     "user": {
      "displayName": "Ioanna Kountouri",
      "photoUrl": "",
      "userId": "18315338504972529308"
     },
     "user_tz": -180
    },
    "id": "nhnYb1lHtZBi",
    "outputId": "6b2f0a51-d70b-4c82-ed52-4f7638083f33"
   },
   "outputs": [],
   "source": [
    "import numpy as np\n",
    "import pandas as pd\n",
    "from sklearn.linear_model import LogisticRegression\n",
    "from sklearn.tree import DecisionTreeClassifier\n",
    "from sklearn.metrics import accuracy_score, classification_report\n",
    "from sklearn.model_selection import train_test_split, cross_val_score\n",
    "from sklearn.neighbors import KNeighborsClassifier\n",
    "from sklearn.svm import SVC\n",
    "from sklearn.preprocessing import MinMaxScaler, StandardScaler # Normalization - Standardization\n",
    "from sklearn import preprocessing\n",
    "from sklearn.utils import resample\n",
    "from sklearn.model_selection import GridSearchCV\n",
    "from sklearn.neural_network import MLPClassifier\n",
    "from imblearn.over_sampling import SMOTE\n",
    "from imblearn.combine import SMOTEENN\n",
    "import matplotlib.pyplot as plt\n",
    "from sklearn.feature_selection import VarianceThreshold\n",
    "from sklearn.ensemble import RandomForestClassifier\n",
    "from imblearn.pipeline import Pipeline"
   ]
  },
  {
   "cell_type": "code",
   "execution_count": 36,
   "metadata": {
    "colab": {
     "base_uri": "https://localhost:8080/",
     "height": 333
    },
    "colab_type": "code",
    "collapsed": true,
    "executionInfo": {
     "elapsed": 648,
     "status": "ok",
     "timestamp": 1591269860991,
     "user": {
      "displayName": "Ioanna Kountouri",
      "photoUrl": "",
      "userId": "18315338504972529308"
     },
     "user_tz": -180
    },
    "id": "Va2SSOfothS6",
    "outputId": "d787ab35-aed1-40fe-b8d0-8f6340994653"
   },
   "outputs": [
    {
     "name": "stdout",
     "output_type": "stream",
     "text": [
      "<class 'pandas.core.frame.DataFrame'>\n",
      "RangeIndex: 15544 entries, 0 to 15543\n",
      "Data columns (total 57 columns):\n",
      "Unnamed: 0                                  15544 non-null int64\n",
      "Australia                                   15544 non-null int64\n",
      "Central_Rich_Europe                         15544 non-null int64\n",
      "East_Europe_Balkans                         15544 non-null int64\n",
      "Mediteranian_Europe                         15544 non-null int64\n",
      "North_Europe_Scand                          15544 non-null int64\n",
      "user_id                                     15544 non-null object\n",
      "birth_year                                  15544 non-null int64\n",
      "country                                     15544 non-null object\n",
      "city                                        15544 non-null object\n",
      "created_date                                15544 non-null object\n",
      "user_settings_crypto_unlocked               15544 non-null int64\n",
      "plan                                        15544 non-null int64\n",
      "attributes_notifications_marketing_push     15544 non-null float64\n",
      "attributes_notifications_marketing_email    15544 non-null float64\n",
      "num_contacts                                15544 non-null int64\n",
      "num_referrals                               15544 non-null int64\n",
      "num_successful_referrals                    15544 non-null int64\n",
      "brand                                       15544 non-null int64\n",
      "age                                         15544 non-null int64\n",
      "total_amount                                15544 non-null float64\n",
      "number_transactions                         15544 non-null float64\n",
      "avg_amount                                  15544 non-null float64\n",
      "first_transaction                           15544 non-null object\n",
      "last_transaction                            15544 non-null object\n",
      "transaction_period                          15544 non-null float64\n",
      "user_active_time                            15544 non-null int64\n",
      "user_trans_time                             15544 non-null float64\n",
      "user_trans_periodicity                      15544 non-null float64\n",
      "recency                                     15544 non-null float64\n",
      "ATM                                         15544 non-null float64\n",
      "CARD_PAYMENT                                15544 non-null float64\n",
      "CARD_REFUND                                 15544 non-null float64\n",
      "EXCHANGE                                    15544 non-null float64\n",
      "REFUND                                      15544 non-null float64\n",
      "TAX                                         15544 non-null float64\n",
      "TOPUP                                       15544 non-null float64\n",
      "TRANSFER                                    15544 non-null float64\n",
      "CHF                                         15544 non-null float64\n",
      "EUR                                         15544 non-null float64\n",
      "GBP                                         15544 non-null float64\n",
      "OTHER                                       15544 non-null float64\n",
      "BLACK_FRIDAY                                15544 non-null float64\n",
      "BLUE_TUESDAY                                15544 non-null float64\n",
      "ENGAGEMENT_SPLIT_BILL_RESTAURANT            15544 non-null float64\n",
      "INVEST_IN_GOLD                              15544 non-null float64\n",
      "JOINING_ANNIVERSARY                         15544 non-null float64\n",
      "LOST_CARD_ORDER                             15544 non-null float64\n",
      "MADE_MONEY_REQUEST_NOT_SPLIT_BILL           15544 non-null float64\n",
      "METAL_RESERVE_PLAN                          15544 non-null float64\n",
      "NO_INITIAL_CARD_ORDER                       15544 non-null float64\n",
      "NO_INITIAL_CARD_USE                         15544 non-null float64\n",
      "ONBOARDING_TIPS_ACTIVATED_USERS             15544 non-null float64\n",
      "PROMO                                       15544 non-null float64\n",
      "PROMO_CARD_ORDER                            15544 non-null float64\n",
      "REENGAGEMENT_ACTIVE_FUNDS                   15544 non-null float64\n",
      "WELCOME_BACK                                15544 non-null float64\n",
      "dtypes: float64(36), int64(15), object(6)\n",
      "memory usage: 6.8+ MB\n"
     ]
    }
   ],
   "source": [
    "# Define the path of the data set\n",
    "df = pd.read_csv('../processed_data/training_data.csv')\n",
    "test1 = pd.read_csv('../processed_data/testing_data.csv')\n",
    "\n",
    "df.info()"
   ]
  },
  {
   "cell_type": "code",
   "execution_count": 37,
   "metadata": {},
   "outputs": [],
   "source": [
    "features = ['user_settings_crypto_unlocked', 'num_contacts', 'brand', 'age', 'total_amount', 'number_transactions','avg_amount',\n",
    "            'transaction_period', 'user_active_time', 'user_trans_time', 'user_trans_periodicity', 'recency',\n",
    "            'ATM', 'CARD_PAYMENT', 'CARD_REFUND', 'EXCHANGE', 'REFUND', 'TAX', 'TOPUP', 'TRANSFER',\n",
    "           'BLACK_FRIDAY', 'BLUE_TUESDAY', 'ENGAGEMENT_SPLIT_BILL_RESTAURANT', 'INVEST_IN_GOLD', 'JOINING_ANNIVERSARY',\n",
    "          'LOST_CARD_ORDER', 'MADE_MONEY_REQUEST_NOT_SPLIT_BILL', 'METAL_RESERVE_PLAN', 'NO_INITIAL_CARD_ORDER',\n",
    "          'NO_INITIAL_CARD_USE', 'ONBOARDING_TIPS_ACTIVATED_USERS', 'PROMO', 'PROMO_CARD_ORDER', 'REENGAGEMENT_ACTIVE_FUNDS',\n",
    "          'WELCOME_BACK',\n",
    "           'Australia', 'Central_Rich_Europe', 'East_Europe_Balkans', 'Mediteranian_Europe', 'North_Europe_Scand',\n",
    "           'CHF', 'EUR', 'GBP', 'OTHER']\n",
    "            \n",
    "types = ['ATM', 'CARD_PAYMENT', 'CARD_REFUND', 'EXCHANGE', 'REFUND', 'TAX', 'TOPUP', 'TRANSFER']\n",
    "status = ['BLACK_FRIDAY', 'BLUE_TUESDAY', 'ENGAGEMENT_SPLIT_BILL_RESTAURANT', 'INVEST_IN_GOLD', 'JOINING_ANNIVERSARY',\n",
    "          'LOST_CARD_ORDER', 'MADE_MONEY_REQUEST_NOT_SPLIT_BILL', 'METAL_RESERVE_PLAN', 'NO_INITIAL_CARD_ORDER',\n",
    "          'NO_INITIAL_CARD_USE', 'ONBOARDING_TIPS_ACTIVATED_USERS', 'PROMO', 'PROMO_CARD_ORDER', 'REENGAGEMENT_ACTIVE_FUNDS',\n",
    "          'WELCOME_BACK'] \n",
    "\n",
    "countries = ['Australia', 'Central_Rich_Europe', 'East_Europe_Balkans', 'Mediteranian_Europe', 'North_Europe_Scand']\n",
    "\n",
    "currency = ['CHF', 'EUR', 'GBP', 'OTHER']\n",
    "            \n",
    "class_y = ['plan']"
   ]
  },
  {
   "cell_type": "code",
   "execution_count": 38,
   "metadata": {
    "colab": {},
    "colab_type": "code",
    "id": "CtUKYt4QvRVF"
   },
   "outputs": [],
   "source": [
    "test = test1[features].copy()\n",
    "data = df[features].copy() # features\n",
    "y = df[class_y] # labels"
   ]
  },
  {
   "cell_type": "markdown",
   "metadata": {
    "colab_type": "text",
    "id": "VOQ42gis3Wxh"
   },
   "source": [
    "# Data splitting & Upsampling"
   ]
  },
  {
   "cell_type": "code",
   "execution_count": 39,
   "metadata": {
    "colab": {},
    "colab_type": "code",
    "id": "7_kf0HKcztue"
   },
   "outputs": [],
   "source": [
    "# Split the data\n",
    "x = data[features].copy() # features\n",
    "y = df[class_y].copy() # labels\n",
    "\n",
    "# x_train1 = x.copy()\n",
    "# y_train1 = y.copy()\n",
    "# x_test = test.copy()\n",
    "\n",
    "x_train1, x_test, y_train1, y_test = train_test_split(x, y, test_size=0.2)\n",
    "# print(x_test, y_test)\n"
   ]
  },
  {
   "cell_type": "code",
   "execution_count": 40,
   "metadata": {
    "colab": {
     "base_uri": "https://localhost:8080/",
     "height": 266
    },
    "colab_type": "code",
    "executionInfo": {
     "elapsed": 1499,
     "status": "ok",
     "timestamp": 1591269869418,
     "user": {
      "displayName": "Ioanna Kountouri",
      "photoUrl": "",
      "userId": "18315338504972529308"
     },
     "user_tz": -180
    },
    "id": "JUT3zdSY2l2P",
    "outputId": "57850e94-d7cc-4ca7-b9e6-7a5e3ca357c4"
   },
   "outputs": [
    {
     "name": "stdout",
     "output_type": "stream",
     "text": [
      "11518\n",
      "917\n",
      "10601\n"
     ]
    }
   ],
   "source": [
    "# upsampling\n",
    "df1 = x_train1.copy()\n",
    "df1['plan'] = y_train1.copy()\n",
    "df1_minor = df1[df1.plan==1]\n",
    "df1_major = df1[df1.plan==0]\n",
    "\n",
    "smpl = len(df1_major) - len(df1_minor)\n",
    "print(len(df1_major))\n",
    "print(len(df1_minor))\n",
    "print(smpl)\n",
    "\n",
    "# X = data.drop('y', axis=1).values\n",
    "# y = data['y'].values\n",
    "\n",
    "# bool val to change between separated and non-separated upsampling\n",
    "case = True\n",
    "\n",
    "if case:\n",
    "    smote = SMOTE()\n",
    "    x_train, y_train = smote.fit_resample(x_train1, y_train1)\n",
    "\n",
    "#     x_train = pd.concat( [x_train, y_train], axis=1)\n",
    "#     x_train1 = pd.concat( [x_train1, y_train1], axis=1)\n",
    "else:\n",
    "    smoteenn = SMOTEENN()\n",
    "    # X_us_nn, y_us_nn = enn.fit_resample(x_train1, y_train1)\n",
    "    x_train, y_train = smoteenn.fit_resample(x_train1, y_train1)\n",
    "\n",
    "#     x_train = pd.concat( [x_train, y_train], axis=1)\n",
    "#     x_train1 = pd.concat( [x_train1, y_train1], axis=1)\n",
    "    \n",
    "# print('Dataset size before oversampling:', len(x_train1[x_train1.plan==1]), len(x_train1[x_train1.plan==0]))\n",
    "# print('Dataset size after oversampling: ', len(x_train[x_train.plan==1]), len(x_train[x_train.plan==0]))\n",
    "# x_train.head(5)"
   ]
  },
  {
   "cell_type": "markdown",
   "metadata": {
    "colab_type": "text",
    "id": "M8K1Rjpa3Wxe"
   },
   "source": [
    "# Normalization - Standardization"
   ]
  },
  {
   "cell_type": "code",
   "execution_count": 41,
   "metadata": {
    "colab": {},
    "colab_type": "code",
    "id": "tcI77ZAzvYgn"
   },
   "outputs": [
    {
     "data": {
      "text/plain": [
       "array([[-0.54108906, -0.39938813,  1.16422473, ..., -0.45556553,\n",
       "        -0.36796872, -0.34504793],\n",
       "       [-0.54108906, -0.39938813,  1.16422473, ..., -0.50574063,\n",
       "        -0.36796872, -0.26902615],\n",
       "       [-0.54108906, -0.37613425,  1.16422473, ..., -0.50574063,\n",
       "        -0.36796872, -0.351959  ],\n",
       "       ...,\n",
       "       [ 1.84812459, -0.14359544, -0.8589407 , ..., -0.1433649 ,\n",
       "        -0.33782943, -0.31049258],\n",
       "       [-0.54108906,  0.2982283 ,  1.16422473, ..., -0.32734027,\n",
       "        -0.36796872, -0.33122579],\n",
       "       [-0.54108906, -0.39938813, -0.8589407 , ..., -0.50574063,\n",
       "        -0.36796872, -0.17918222]])"
      ]
     },
     "execution_count": 41,
     "metadata": {},
     "output_type": "execute_result"
    }
   ],
   "source": [
    "# standardizing-normalizing the training-data in order to fit the models\n",
    "# thats the reason we use x_train\n",
    "S_scaler = StandardScaler() # MinMaxScaler()\n",
    "N_scaler = MinMaxScaler()\n",
    "N_features = features\n",
    "# S_scaler.fit(data[['num_contacts']])\n",
    "# data[['num_contacts']] = S_scaler.transform(data[['num_contacts']])\n",
    "\n",
    "S_scaler.fit_transform(x_train)\n",
    "S_scaler.transform(x_test)\n",
    "# data[N_features] = N_scaler.transform(data[N_features])\n",
    "# n_values = preprocessing.normalize(df[N_features])\n",
    "# data[N_features] = n_values\n",
    "# print(n_values)\n",
    "# data.head(5)\n"
   ]
  },
  {
   "cell_type": "markdown",
   "metadata": {
    "colab_type": "text",
    "id": "FLrZOkws3Wxo"
   },
   "source": [
    "# Logistic Regression"
   ]
  },
  {
   "cell_type": "code",
   "execution_count": 42,
   "metadata": {
    "colab": {
     "base_uri": "https://localhost:8080/",
     "height": 210
    },
    "colab_type": "code",
    "executionInfo": {
     "elapsed": 1178,
     "status": "ok",
     "timestamp": 1591269880322,
     "user": {
      "displayName": "Ioanna Kountouri",
      "photoUrl": "",
      "userId": "18315338504972529308"
     },
     "user_tz": -180
    },
    "id": "KY5CJ0OOzXCe",
    "outputId": "ef71a231-c24a-4ffb-95ad-0b17ff29f8ea"
   },
   "outputs": [
    {
     "name": "stderr",
     "output_type": "stream",
     "text": [
      "/home/thanasis/.local/lib/python3.5/site-packages/sklearn/linear_model/_logistic.py:1505: UserWarning: Setting penalty='none' will ignore the C and l1_ratio parameters\n",
      "  \"Setting penalty='none' will ignore the C and l1_ratio \"\n",
      "/home/thanasis/.local/lib/python3.5/site-packages/sklearn/utils/validation.py:760: DataConversionWarning: A column-vector y was passed when a 1d array was expected. Please change the shape of y to (n_samples, ), for example using ravel().\n",
      "  y = column_or_1d(y, warn=True)\n",
      "/home/thanasis/.local/lib/python3.5/site-packages/sklearn/utils/optimize.py:212: ConvergenceWarning: newton-cg failed to converge. Increase the number of iterations.\n",
      "  \"number of iterations.\", ConvergenceWarning)\n",
      "/home/thanasis/.local/lib/python3.5/site-packages/sklearn/linear_model/_logistic.py:1505: UserWarning: Setting penalty='none' will ignore the C and l1_ratio parameters\n",
      "  \"Setting penalty='none' will ignore the C and l1_ratio \"\n",
      "/home/thanasis/.local/lib/python3.5/site-packages/sklearn/utils/validation.py:760: DataConversionWarning: A column-vector y was passed when a 1d array was expected. Please change the shape of y to (n_samples, ), for example using ravel().\n",
      "  y = column_or_1d(y, warn=True)\n",
      "/home/thanasis/.local/lib/python3.5/site-packages/sklearn/utils/optimize.py:212: ConvergenceWarning: newton-cg failed to converge. Increase the number of iterations.\n",
      "  \"number of iterations.\", ConvergenceWarning)\n",
      "/home/thanasis/.local/lib/python3.5/site-packages/sklearn/linear_model/_logistic.py:1505: UserWarning: Setting penalty='none' will ignore the C and l1_ratio parameters\n",
      "  \"Setting penalty='none' will ignore the C and l1_ratio \"\n",
      "/home/thanasis/.local/lib/python3.5/site-packages/sklearn/utils/validation.py:760: DataConversionWarning: A column-vector y was passed when a 1d array was expected. Please change the shape of y to (n_samples, ), for example using ravel().\n",
      "  y = column_or_1d(y, warn=True)\n",
      "/home/thanasis/.local/lib/python3.5/site-packages/sklearn/utils/optimize.py:212: ConvergenceWarning: newton-cg failed to converge. Increase the number of iterations.\n",
      "  \"number of iterations.\", ConvergenceWarning)\n",
      "/home/thanasis/.local/lib/python3.5/site-packages/sklearn/linear_model/_logistic.py:1505: UserWarning: Setting penalty='none' will ignore the C and l1_ratio parameters\n",
      "  \"Setting penalty='none' will ignore the C and l1_ratio \"\n",
      "/home/thanasis/.local/lib/python3.5/site-packages/sklearn/utils/validation.py:760: DataConversionWarning: A column-vector y was passed when a 1d array was expected. Please change the shape of y to (n_samples, ), for example using ravel().\n",
      "  y = column_or_1d(y, warn=True)\n",
      "/home/thanasis/.local/lib/python3.5/site-packages/sklearn/utils/optimize.py:212: ConvergenceWarning: newton-cg failed to converge. Increase the number of iterations.\n",
      "  \"number of iterations.\", ConvergenceWarning)\n",
      "/home/thanasis/.local/lib/python3.5/site-packages/sklearn/linear_model/_logistic.py:1505: UserWarning: Setting penalty='none' will ignore the C and l1_ratio parameters\n",
      "  \"Setting penalty='none' will ignore the C and l1_ratio \"\n",
      "/home/thanasis/.local/lib/python3.5/site-packages/sklearn/utils/validation.py:760: DataConversionWarning: A column-vector y was passed when a 1d array was expected. Please change the shape of y to (n_samples, ), for example using ravel().\n",
      "  y = column_or_1d(y, warn=True)\n",
      "/home/thanasis/.local/lib/python3.5/site-packages/sklearn/utils/optimize.py:212: ConvergenceWarning: newton-cg failed to converge. Increase the number of iterations.\n",
      "  \"number of iterations.\", ConvergenceWarning)\n",
      "/home/thanasis/.local/lib/python3.5/site-packages/sklearn/linear_model/_logistic.py:1505: UserWarning: Setting penalty='none' will ignore the C and l1_ratio parameters\n",
      "  \"Setting penalty='none' will ignore the C and l1_ratio \"\n",
      "/home/thanasis/.local/lib/python3.5/site-packages/sklearn/utils/validation.py:760: DataConversionWarning: A column-vector y was passed when a 1d array was expected. Please change the shape of y to (n_samples, ), for example using ravel().\n",
      "  y = column_or_1d(y, warn=True)\n"
     ]
    },
    {
     "name": "stdout",
     "output_type": "stream",
     "text": [
      "[0.921875   0.96375081 0.96635555 0.96353375 0.96071196]\n",
      "0.9636539080090061\n",
      "              precision    recall  f1-score   support\n",
      "\n",
      "           0       0.98      0.98      0.98      2876\n",
      "           1       0.77      0.74      0.75       233\n",
      "\n",
      "    accuracy                           0.96      3109\n",
      "   macro avg       0.87      0.86      0.87      3109\n",
      "weighted avg       0.96      0.96      0.96      3109\n",
      "\n"
     ]
    },
    {
     "name": "stderr",
     "output_type": "stream",
     "text": [
      "/home/thanasis/.local/lib/python3.5/site-packages/sklearn/utils/optimize.py:212: ConvergenceWarning: newton-cg failed to converge. Increase the number of iterations.\n",
      "  \"number of iterations.\", ConvergenceWarning)\n"
     ]
    }
   ],
   "source": [
    "# Logistic Regression\n",
    "log_reg = LogisticRegression(penalty = 'none', C=0.001, solver = 'newton-cg') \n",
    "\n",
    "# cross val\n",
    "scores = (cross_val_score(log_reg, x_train, y_train, cv=5))\n",
    "print(scores)\n",
    "\n",
    "# 2.\n",
    "log_reg.fit(x_train, y_train)\n",
    "\n",
    "# 3.\n",
    "lr_pred = log_reg.predict(x_test)\n",
    "print(accuracy_score(y_test, lr_pred))\n",
    "print(classification_report(y_test, lr_pred))"
   ]
  },
  {
   "cell_type": "markdown",
   "metadata": {
    "colab_type": "text",
    "id": "JLlUF0k53Wxt"
   },
   "source": [
    "# Decision Tree"
   ]
  },
  {
   "cell_type": "code",
   "execution_count": 43,
   "metadata": {
    "colab": {
     "base_uri": "https://localhost:8080/",
     "height": 263
    },
    "colab_type": "code",
    "executionInfo": {
     "elapsed": 1737,
     "status": "ok",
     "timestamp": 1591269892019,
     "user": {
      "displayName": "Ioanna Kountouri",
      "photoUrl": "",
      "userId": "18315338504972529308"
     },
     "user_tz": -180
    },
    "id": "U4gUzqfHQukh",
    "outputId": "6ef31638-f15b-4a75-fcc7-c9226d5633f8"
   },
   "outputs": [
    {
     "name": "stderr",
     "output_type": "stream",
     "text": [
      "[Parallel(n_jobs=1)]: Using backend SequentialBackend with 1 concurrent workers.\n"
     ]
    },
    {
     "name": "stdout",
     "output_type": "stream",
     "text": [
      "Fitting 2 folds for each of 24 candidates, totalling 48 fits\n"
     ]
    },
    {
     "name": "stderr",
     "output_type": "stream",
     "text": [
      "[Parallel(n_jobs=1)]: Done  48 out of  48 | elapsed:    5.0s finished\n"
     ]
    },
    {
     "name": "stdout",
     "output_type": "stream",
     "text": [
      "{'splitter': 'best', 'criterion': 'entropy', 'max_depth': 20}\n",
      "0.9022193631392731\n",
      "              precision    recall  f1-score   support\n",
      "\n",
      "           0       0.95      0.94      0.95      2876\n",
      "           1       0.37      0.45      0.41       233\n",
      "\n",
      "    accuracy                           0.90      3109\n",
      "   macro avg       0.66      0.69      0.68      3109\n",
      "weighted avg       0.91      0.90      0.91      3109\n",
      "\n"
     ]
    }
   ],
   "source": [
    "# Grid search for Decision Trees\n",
    "\n",
    "grid = {\n",
    "    'criterion': ['gini', 'entropy'],\n",
    "    'splitter': ['best', 'random'],\n",
    "    'max_depth': [None, 100, 50, 20, 10, 5]\n",
    "}\n",
    "\n",
    "dt = DecisionTreeClassifier()\n",
    "\n",
    "gs = GridSearchCV(dt, grid, cv=2, scoring='accuracy', verbose=1) # scoring accuracy\n",
    "\n",
    "gs.fit(x_train, y_train)\n",
    "\n",
    "print(gs.best_params_) # these are the best parameters for my trainning set\n",
    "\n",
    "dt_best = gs.best_estimator_ # getting the best estimator\n",
    "\n",
    "dt_best_preds = dt_best.predict(x_test) # prediction from the best estimator\n",
    "\n",
    "print(accuracy_score(y_test, dt_best_preds)) # calculating accuracy score\n",
    "print(classification_report(y_test, dt_best_preds))"
   ]
  },
  {
   "cell_type": "markdown",
   "metadata": {
    "colab_type": "text",
    "id": "JlNWV_La3Wxv"
   },
   "source": [
    "# K-NN"
   ]
  },
  {
   "cell_type": "code",
   "execution_count": 44,
   "metadata": {
    "colab": {
     "base_uri": "https://localhost:8080/",
     "height": 193
    },
    "colab_type": "code",
    "executionInfo": {
     "elapsed": 624,
     "status": "ok",
     "timestamp": 1591269896312,
     "user": {
      "displayName": "Ioanna Kountouri",
      "photoUrl": "",
      "userId": "18315338504972529308"
     },
     "user_tz": -180
    },
    "id": "Bdaglbm13Wxw",
    "outputId": "61fec252-b37d-4a06-9ad7-cc0a176c72fb"
   },
   "outputs": [
    {
     "name": "stderr",
     "output_type": "stream",
     "text": [
      "/usr/local/lib/python3.5/dist-packages/ipykernel_launcher.py:11: DataConversionWarning: A column-vector y was passed when a 1d array was expected. Please change the shape of y to (n_samples, ), for example using ravel().\n",
      "  # This is added back by InteractiveShellApp.init_path()\n"
     ]
    },
    {
     "name": "stdout",
     "output_type": "stream",
     "text": [
      "0.7992923769700868\n",
      "              precision    recall  f1-score   support\n",
      "\n",
      "           0       0.95      0.83      0.88      2876\n",
      "           1       0.18      0.45      0.25       233\n",
      "\n",
      "    accuracy                           0.80      3109\n",
      "   macro avg       0.56      0.64      0.57      3109\n",
      "weighted avg       0.89      0.80      0.84      3109\n",
      "\n"
     ]
    }
   ],
   "source": [
    "grid = {\n",
    "    'weights': ['uniform', 'distance'],\n",
    "    'n_neighbors': [3, 5],\n",
    "    'algorithm': ['auto', 'ball_tree', 'kd_tree']\n",
    "}\n",
    "\n",
    "knn = KNeighborsClassifier(weights= 'distance', algorithm= 'auto', n_neighbors= 3)\n",
    "\n",
    "# gs = GridSearchCV(knn, grid, cv=5, scoring='f1', verbose=1) # scoring accuracy\n",
    "\n",
    "knn.fit(x_train, y_train)\n",
    "\n",
    "# print(gs.best_params_) # these are the best parameters for my trainning set\n",
    "\n",
    "#dt_best = gs.best_estimator_ # getting the best estimator\n",
    "\n",
    "dt_best_preds = knn.predict(x_test) # dt_best.predict(x_test) # prediction from the best estimator\n",
    "\n",
    "print(accuracy_score(y_test, dt_best_preds)) # calculating accuracy score\n",
    "print(classification_report(y_test, dt_best_preds))"
   ]
  },
  {
   "cell_type": "markdown",
   "metadata": {
    "colab_type": "text",
    "id": "mItX9nJV3Wxy"
   },
   "source": [
    "# Support Vector Machine"
   ]
  },
  {
   "cell_type": "code",
   "execution_count": 45,
   "metadata": {
    "colab": {
     "base_uri": "https://localhost:8080/",
     "height": 193
    },
    "colab_type": "code",
    "executionInfo": {
     "elapsed": 7804,
     "status": "ok",
     "timestamp": 1591269910567,
     "user": {
      "displayName": "Ioanna Kountouri",
      "photoUrl": "",
      "userId": "18315338504972529308"
     },
     "user_tz": -180
    },
    "id": "IQ5hRg9N3Wxz",
    "outputId": "e656f06b-712b-45d2-b31a-1d4eca91e998"
   },
   "outputs": [
    {
     "name": "stderr",
     "output_type": "stream",
     "text": [
      "/home/thanasis/.local/lib/python3.5/site-packages/sklearn/utils/validation.py:760: DataConversionWarning: A column-vector y was passed when a 1d array was expected. Please change the shape of y to (n_samples, ), for example using ravel().\n",
      "  y = column_or_1d(y, warn=True)\n"
     ]
    },
    {
     "name": "stdout",
     "output_type": "stream",
     "text": [
      "0.8092634287552267\n",
      "              precision    recall  f1-score   support\n",
      "\n",
      "           0       0.97      0.82      0.89      2876\n",
      "           1       0.23      0.65      0.34       233\n",
      "\n",
      "    accuracy                           0.81      3109\n",
      "   macro avg       0.60      0.74      0.61      3109\n",
      "weighted avg       0.91      0.81      0.85      3109\n",
      "\n"
     ]
    }
   ],
   "source": [
    "# Grid search for SVM\n",
    "\n",
    "grid = {\n",
    "    'kernel': ['linear', 'rbf', 'sigmoid'], # \n",
    "    'gamma': ['scale', 'auto'],\n",
    "    'class_weight': ['balanced', None]\n",
    "}\n",
    "\n",
    "\n",
    "svm = SVC(gamma= 'scale', kernel= 'rbf', class_weight= None) # \n",
    "\n",
    "gs = GridSearchCV(svm, grid, cv=5, scoring='f1', verbose=1) # scoring accuracy\n",
    "\n",
    "svm.fit(x_train, y_train)\n",
    "#print(svm.coef_)\n",
    "#print(features)\n",
    "\n",
    "# print(gs.best_params_) # these are the best parameters for my trainning set\n",
    "\n",
    "# dt_best = gs.best_estimator_ # getting the best estimator\n",
    "\n",
    "dt_best_preds = svm.predict(x_test) # prediction from the best estimator\n",
    "\n",
    "print(accuracy_score(y_test, dt_best_preds)) # calculating accuracy score\n",
    "print(classification_report(y_test, dt_best_preds))"
   ]
  },
  {
   "cell_type": "markdown",
   "metadata": {
    "colab_type": "text",
    "id": "2mIA23QL8A9N"
   },
   "source": [
    "# Random Forests"
   ]
  },
  {
   "cell_type": "code",
   "execution_count": 46,
   "metadata": {
    "colab": {
     "base_uri": "https://localhost:8080/",
     "height": 316
    },
    "colab_type": "code",
    "executionInfo": {
     "elapsed": 36322,
     "status": "ok",
     "timestamp": 1591269955032,
     "user": {
      "displayName": "Ioanna Kountouri",
      "photoUrl": "",
      "userId": "18315338504972529308"
     },
     "user_tz": -180
    },
    "id": "8e1CgPaR8EAn",
    "outputId": "067aadd5-7dfe-4695-c376-8dafdb8424eb"
   },
   "outputs": [],
   "source": [
    "def rforest():\n",
    "\n",
    "    var = VarianceThreshold()\n",
    "\n",
    "    rf = RandomForestClassifier(n_estimators=50, n_jobs=-1)\n",
    "    rf.fit(x_train, y_train)\n",
    "    rf.feature_importances_\n",
    "\n",
    "    for c, imp in sorted(zip(features, rf.feature_importances_), key=lambda pair: pair[1], reverse=True):\n",
    "      print('{:20}: {}'.format(c, imp))\n",
    "\n",
    "    rf = RandomForestClassifier(n_estimators = 100, criterion = 'entropy')\n",
    "\n",
    "#     pipe1 = Pipeline([('scaler', S_scaler),\n",
    "#                       ('selector', var),\n",
    "#                       ('model', rf)])\n",
    "\n",
    "#     grid1 = {'selector__threshold': [0, 0.2, 0.4],\n",
    "#              'model__n_estimators': [20, 50, 100]}\n",
    "    \n",
    "    \n",
    "    # threshhold = 0.2, estimator = 100\n",
    "    # clf = GridSearchCV(pipe1, grid1)\n",
    "    rf.fit(x_train, y_train)\n",
    "\n",
    "    # print(rf.best_params_, '\\n')\n",
    "    \n",
    "    print(classification_report(y_test, rf.predict(x_test)))"
   ]
  },
  {
   "cell_type": "code",
   "execution_count": 47,
   "metadata": {},
   "outputs": [
    {
     "name": "stderr",
     "output_type": "stream",
     "text": [
      "/usr/local/lib/python3.5/dist-packages/ipykernel_launcher.py:6: DataConversionWarning: A column-vector y was passed when a 1d array was expected. Please change the shape of y to (n_samples,), for example using ravel().\n",
      "  \n"
     ]
    },
    {
     "name": "stdout",
     "output_type": "stream",
     "text": [
      "avg_amount          : 0.07796607145189703\n",
      "NO_INITIAL_CARD_USE : 0.06567497767983208\n",
      "EXCHANGE            : 0.056873934392978914\n",
      "total_amount        : 0.05604934522765119\n",
      "number_transactions : 0.05602192562955115\n",
      "INVEST_IN_GOLD      : 0.05153267218180202\n",
      "recency             : 0.04805941275404258\n",
      "ATM                 : 0.046334933594220966\n",
      "REFUND              : 0.03999498864993613\n",
      "ONBOARDING_TIPS_ACTIVATED_USERS: 0.0387371747175758\n",
      "BLACK_FRIDAY        : 0.03328763709727322\n",
      "NO_INITIAL_CARD_ORDER: 0.032854878223601634\n",
      "CARD_REFUND         : 0.032591255493380177\n",
      "CARD_PAYMENT        : 0.02831606344163533\n",
      "transaction_period  : 0.024681380655984953\n",
      "TRANSFER            : 0.02245807425020543\n",
      "REENGAGEMENT_ACTIVE_FUNDS: 0.022365291271397792\n",
      "GBP                 : 0.020868822246297516\n",
      "OTHER               : 0.02068017132798836\n",
      "PROMO               : 0.019687574841133086\n",
      "user_trans_time     : 0.018243481740660573\n",
      "East_Europe_Balkans : 0.016107339288859095\n",
      "user_active_time    : 0.015979099065683493\n",
      "TOPUP               : 0.015872571317975488\n",
      "age                 : 0.014892308483640121\n",
      "EUR                 : 0.01450312246713769\n",
      "LOST_CARD_ORDER     : 0.014469509737761012\n",
      "user_trans_periodicity: 0.01380814344380717\n",
      "North_Europe_Scand  : 0.011529082837294641\n",
      "num_contacts        : 0.011253075330758621\n",
      "PROMO_CARD_ORDER    : 0.009633300184092938\n",
      "JOINING_ANNIVERSARY : 0.009068442092035492\n",
      "Mediteranian_Europe : 0.007829878501094385\n",
      "MADE_MONEY_REQUEST_NOT_SPLIT_BILL: 0.006270166728813888\n",
      "ENGAGEMENT_SPLIT_BILL_RESTAURANT: 0.00602847331289342\n",
      "WELCOME_BACK        : 0.0034654768147668546\n",
      "user_settings_crypto_unlocked: 0.00337731109999621\n",
      "CHF                 : 0.0029902937633693376\n",
      "brand               : 0.0029707073156087704\n",
      "Central_Rich_Europe : 0.0027181760451538187\n",
      "BLUE_TUESDAY        : 0.001593382352287758\n",
      "TAX                 : 0.0011808800902859491\n",
      "METAL_RESERVE_PLAN  : 0.0011791928576380824\n",
      "Australia           : 0.0\n"
     ]
    },
    {
     "name": "stderr",
     "output_type": "stream",
     "text": [
      "/usr/local/lib/python3.5/dist-packages/ipykernel_launcher.py:24: DataConversionWarning: A column-vector y was passed when a 1d array was expected. Please change the shape of y to (n_samples,), for example using ravel().\n"
     ]
    },
    {
     "name": "stdout",
     "output_type": "stream",
     "text": [
      "              precision    recall  f1-score   support\n",
      "\n",
      "           0       0.95      0.99      0.97      2876\n",
      "           1       0.68      0.33      0.44       233\n",
      "\n",
      "    accuracy                           0.94      3109\n",
      "   macro avg       0.81      0.66      0.71      3109\n",
      "weighted avg       0.93      0.94      0.93      3109\n",
      "\n"
     ]
    }
   ],
   "source": [
    "# calling random forest\n",
    "rforest()"
   ]
  },
  {
   "cell_type": "markdown",
   "metadata": {
    "colab_type": "text",
    "id": "z2xJvsP__vXc"
   },
   "source": [
    "# MLP - Neural Network"
   ]
  },
  {
   "cell_type": "code",
   "execution_count": 54,
   "metadata": {
    "colab": {
     "base_uri": "https://localhost:8080/",
     "height": 1000
    },
    "colab_type": "code",
    "executionInfo": {
     "elapsed": 1785247,
     "status": "ok",
     "timestamp": 1591271749626,
     "user": {
      "displayName": "Ioanna Kountouri",
      "photoUrl": "",
      "userId": "18315338504972529308"
     },
     "user_tz": -180
    },
    "id": "qJajkCgN_ym5",
    "outputId": "8964eae7-ad80-479a-bda9-4c48b3a6310b"
   },
   "outputs": [],
   "source": [
    "def NN():\n",
    "    grid={'activation':['logistic'], # ,'tanh', 'relu'],\n",
    "          'learning_rate_init':[0.0001], # 0.001, 0.01, 0.1],\n",
    "          'momentum':[0.5], # ,0.2,0.3,0.7,0.9],\n",
    "          'hidden_layer_sizes': (300,)\n",
    "         }\n",
    "\n",
    "    mlp=MLPClassifier() # activation = 'logistic', momentum = 0.5, learning_rate_init = 0.0001\n",
    "    gs=GridSearchCV(mlp, grid, cv=2, scoring = 'accuracy')\n",
    "\n",
    "    gs_result = gs.fit(x_train,y_train)\n",
    "    print(\"Best: %f using %s\" % (gs_result.best_score_, gs_result.best_params_))\n",
    "    \n",
    "    # activation = relu, learning rate = 0.01, momentum = 0.9\n",
    "    # Best: 0.937278 using {'learning_rate_init': 0.0001, 'momentum': 0.5, 'hidden_layer_sizes': 300, 'activation': 'logistic'}\n",
    "    mlp_pred = gs.predict(x_test)\n",
    "    \n",
    "    print(accuracy_score(y_test,mlp_pred))\n",
    "    print(classification_report(y_test,mlp_pred))\n",
    "    return mlp_pred"
   ]
  },
  {
   "cell_type": "code",
   "execution_count": 55,
   "metadata": {
    "colab": {},
    "colab_type": "code",
    "id": "V0JjVxWq_3dd",
    "scrolled": true
   },
   "outputs": [
    {
     "name": "stderr",
     "output_type": "stream",
     "text": [
      "/home/thanasis/.local/lib/python3.5/site-packages/sklearn/neural_network/_multilayer_perceptron.py:934: DataConversionWarning: A column-vector y was passed when a 1d array was expected. Please change the shape of y to (n_samples, ), for example using ravel().\n",
      "  y = column_or_1d(y, warn=True)\n",
      "/home/thanasis/.local/lib/python3.5/site-packages/sklearn/neural_network/_multilayer_perceptron.py:934: DataConversionWarning: A column-vector y was passed when a 1d array was expected. Please change the shape of y to (n_samples, ), for example using ravel().\n",
      "  y = column_or_1d(y, warn=True)\n",
      "/home/thanasis/.local/lib/python3.5/site-packages/sklearn/neural_network/_multilayer_perceptron.py:571: ConvergenceWarning: Stochastic Optimizer: Maximum iterations (200) reached and the optimization hasn't converged yet.\n",
      "  % self.max_iter, ConvergenceWarning)\n",
      "/home/thanasis/.local/lib/python3.5/site-packages/sklearn/neural_network/_multilayer_perceptron.py:934: DataConversionWarning: A column-vector y was passed when a 1d array was expected. Please change the shape of y to (n_samples, ), for example using ravel().\n",
      "  y = column_or_1d(y, warn=True)\n"
     ]
    },
    {
     "name": "stdout",
     "output_type": "stream",
     "text": [
      "Best: 0.949036 using {'learning_rate_init': 0.0001, 'momentum': 0.5, 'hidden_layer_sizes': 300, 'activation': 'logistic'}\n",
      "0.9575426182052107\n",
      "              precision    recall  f1-score   support\n",
      "\n",
      "           0       0.97      0.98      0.98      2876\n",
      "           1       0.73      0.68      0.71       233\n",
      "\n",
      "    accuracy                           0.96      3109\n",
      "   macro avg       0.85      0.83      0.84      3109\n",
      "weighted avg       0.96      0.96      0.96      3109\n",
      "\n"
     ]
    }
   ],
   "source": [
    "# calling neural networks\n",
    "mlp_pred = NN()"
   ]
  },
  {
   "cell_type": "markdown",
   "metadata": {},
   "source": [
    "              precision    recall  f1-score   support\n",
    "\n",
    "           0       0.98      0.98      0.98      2876\n",
    "           1       0.77      0.74      0.75       233\n",
    "\n",
    "    accuracy                           0.96      3109\n",
    "   macro avg       0.87      0.86      0.87      3109\n",
    "weighted avg       0.96      0.96      0.96      3109\n"
   ]
  }
 ],
 "metadata": {
  "colab": {
   "collapsed_sections": [],
   "name": "MachineLearning.ipynb",
   "provenance": [],
   "toc_visible": true
  },
  "kernelspec": {
   "display_name": "Python 3",
   "language": "python",
   "name": "python3"
  },
  "language_info": {
   "codemirror_mode": {
    "name": "ipython",
    "version": 3
   },
   "file_extension": ".py",
   "mimetype": "text/x-python",
   "name": "python",
   "nbconvert_exporter": "python",
   "pygments_lexer": "ipython3",
   "version": "3.7.7"
  }
 },
 "nbformat": 4,
 "nbformat_minor": 1
}
